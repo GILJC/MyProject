{
 "cells": [
  {
   "cell_type": "code",
   "execution_count": 1,
   "id": "146fd08c-a9d7-4786-aab6-6d12bdfbd5b4",
   "metadata": {},
   "outputs": [],
   "source": [
    "import random"
   ]
  },
  {
   "cell_type": "code",
   "execution_count": 2,
   "id": "3ef12d51-3d68-4ceb-a687-19e953e82ad5",
   "metadata": {},
   "outputs": [
    {
     "name": "stdout",
     "output_type": "stream",
     "text": [
      "0.22722229949780515\n",
      "0.2148417981903551\n",
      "0.21529595052040507\n",
      "0.3694511984312422\n",
      "0.05106949461014865\n"
     ]
    }
   ],
   "source": [
    "for i in range(5):\n",
    "    print(random.random())"
   ]
  },
  {
   "cell_type": "code",
   "execution_count": 12,
   "id": "0baa1108-13c8-4ab4-8620-c2e5e5274dc8",
   "metadata": {},
   "outputs": [],
   "source": [
    "# 그런데 여기다가 seed값을 줄 수 있음.\n",
    "random.seed(10)"
   ]
  },
  {
   "cell_type": "code",
   "execution_count": 13,
   "id": "2a3464da-69b1-4cb0-a946-adc7a39d6ef7",
   "metadata": {},
   "outputs": [
    {
     "name": "stdout",
     "output_type": "stream",
     "text": [
      "9\n",
      "0\n",
      "6\n",
      "7\n",
      "9\n"
     ]
    }
   ],
   "source": [
    "for _ in range(5):\n",
    "    print(random.randrange(10))"
   ]
  },
  {
   "cell_type": "code",
   "execution_count": null,
   "id": "1ed04d20-a92b-4cde-8444-abc27614eaed",
   "metadata": {},
   "outputs": [],
   "source": [
    "# 내부적으로 구현한 random은 함수.\n",
    "# 동일한 입력값이 들어가면 동일한 출력값이 나옴.\n",
    "# 그걸 방지하기위해, 입력 시간, host ID등을 조합해서 -> 항상 다른값이 나옴\n",
    "# 그걸 고정하기 위해, seed값을 사용."
   ]
  }
 ],
 "metadata": {
  "kernelspec": {
   "display_name": "Python 3 (ipykernel)",
   "language": "python",
   "name": "python3"
  },
  "language_info": {
   "codemirror_mode": {
    "name": "ipython",
    "version": 3
   },
   "file_extension": ".py",
   "mimetype": "text/x-python",
   "name": "python",
   "nbconvert_exporter": "python",
   "pygments_lexer": "ipython3",
   "version": "3.8.11"
  }
 },
 "nbformat": 4,
 "nbformat_minor": 5
}
