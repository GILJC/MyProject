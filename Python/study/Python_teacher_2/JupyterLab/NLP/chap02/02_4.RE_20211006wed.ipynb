{
 "cells": [
  {
   "cell_type": "code",
   "execution_count": 1,
   "id": "5caf8e89-ee1f-4f09-bf5a-ae7e0a5b4272",
   "metadata": {},
   "outputs": [],
   "source": [
    "# 자연어 처리\n",
    "# 책 97p\n",
    "# re\n",
    "# re는 파이썬 정규 표현식(Regular Expression) 라이브러리다.\n",
    "\n",
    "# 얘는 기본임.\n",
    "# 얘는 할 줄 알아야 함"
   ]
  },
  {
   "cell_type": "code",
   "execution_count": 2,
   "id": "70ccb946-cc3c-4686-a404-2eaa8cbc67fc",
   "metadata": {},
   "outputs": [],
   "source": [
    "# 어떤 문자열의 패턴을 쉽게 찾을 수 있게 해주는 것"
   ]
  },
  {
   "cell_type": "code",
   "execution_count": 3,
   "id": "783d5e73-c39d-4671-ac1e-4fada6032af6",
   "metadata": {},
   "outputs": [],
   "source": [
    "# ex) 회원 가입하는 홈페이지 만드는데,\n",
    "# 전화번호 쓰는 칸이 있어.\n",
    "# 우리나라 앞쪽의 3자리가 010, 011, 016, 017, 018, 019 등으로 한정되어있음\n",
    "# 그러니 088, 099등 없는 번호가 오면 걸러내야함\n",
    "\n",
    "# 중간 번호도, 5자리나, alphabet이 들어가는걸 걸러내야함\n",
    "\n",
    "# 이메일도 유요한 이메일인지 검증해야 함.\n",
    "\n",
    "# 최소한 어떤 id가 존재하고 @가 존재, 그 다음 호스트 명이 존재해야함\n",
    "# 호스트명은 최소한 하나의 점이 포함된 것이지.\n",
    "\n",
    "# 그러한 패턴을 어떻게 찾을 것인가.\n",
    "\n",
    "# 이러한 패턴을 찾게 도와주는게 Regular Expression\n"
   ]
  },
  {
   "cell_type": "code",
   "execution_count": 4,
   "id": "eef1a019-3e15-44f9-8d63-bc2dddb5b323",
   "metadata": {},
   "outputs": [],
   "source": [
    "# re 사용할때, 처음은 대문자로 사용함."
   ]
  },
  {
   "cell_type": "markdown",
   "id": "9a1658a2-6165-407e-9ed2-2b0393d52819",
   "metadata": {},
   "source": [
    "### 대괄호([]) 사이의 문자와 매칭하라는 의미\n",
    "- 대괄호 사이의 문자는 기본적으로 OR 조합\n",
    "- 예를 들면 [abc]이런 식으로 있으면,  해당 텍스트에 a 또는 b 또는 c 라는 문자가 있는지 검사\n",
    "- ex) [Tt]om Tom 또는 tom을 찾음"
   ]
  },
  {
   "cell_type": "code",
   "execution_count": 5,
   "id": "b96eddae-b950-4064-bf72-6c12169f4373",
   "metadata": {},
   "outputs": [],
   "source": [
    "# 실제 실습을 해보자"
   ]
  },
  {
   "cell_type": "code",
   "execution_count": 6,
   "id": "59cb9f2b-8bbb-4498-b033-950cd47070db",
   "metadata": {},
   "outputs": [],
   "source": [
    "import re"
   ]
  },
  {
   "cell_type": "code",
   "execution_count": 8,
   "id": "8c1b305d-1bb0-4b18-938a-4d58d4ddbcee",
   "metadata": {},
   "outputs": [
    {
     "name": "stdout",
     "output_type": "stream",
     "text": [
      "<re.Match object; span=(0, 3), match='Tom'>\n"
     ]
    }
   ],
   "source": [
    "# 사용방법은 언어마다 다르겠지.\n",
    "# 파이썬에선 이렇게 사용함\n",
    "p = re.compile(r'[Tt]om') \n",
    "# <- regular expression문자라는걸 알려주기 위해 r 을 씀\n",
    "\n",
    "# 맞추기 위해 문장을 넣어줌\n",
    "result = p.match('Tom is a student')\n",
    "print(result)\n",
    "\n",
    "# >>>\n",
    "# <re.Match object; span=(0, 3), match='Tom'>"
   ]
  },
  {
   "cell_type": "code",
   "execution_count": 10,
   "id": "cef86c41-00fe-4270-8e9b-974b8011b74c",
   "metadata": {},
   "outputs": [
    {
     "name": "stdout",
     "output_type": "stream",
     "text": [
      "None\n"
     ]
    }
   ],
   "source": [
    "result = p.match('My name is Tom')\n",
    "print(result)\n",
    "\n",
    "# 앞에 Tom이나 tom으로 시작하는걸 찾는건데,\n",
    "# 앞에 다른게 있으므로\n",
    "# 얘는 못찾음"
   ]
  },
  {
   "cell_type": "code",
   "execution_count": 11,
   "id": "6f351314-e1f6-4ac6-84d7-a6ca502b59dd",
   "metadata": {},
   "outputs": [
    {
     "name": "stdout",
     "output_type": "stream",
     "text": [
      "None\n"
     ]
    }
   ],
   "source": [
    "# compile 하고 찾는게 나눠져있으니 번거로움\n",
    "# 한번에 쓸 수 있음\n",
    "\n",
    "result = re.match(r'[A-Za-z][0-9]', '12345')  # r은 안적어줘도 되는데,\n",
    "# 확실하게 적어주자.\n",
    "print(result)\n",
    "\n",
    "# 첫글자가 대문자 A부터 Z까지 오거나 소문자 a-z사이에서 하나 와야함\n",
    "# , 2번째는 첫글자가 0~9사이에 와야함\n",
    "# 그런데 들어오는 문자는 문자가 없고 숫자뿐.\n",
    "# 그래서 안됨"
   ]
  },
  {
   "cell_type": "code",
   "execution_count": 13,
   "id": "d7002586-446f-4cad-89c3-d9ec2c66d92e",
   "metadata": {},
   "outputs": [
    {
     "name": "stdout",
     "output_type": "stream",
     "text": [
      "<re.Match object; span=(0, 2), match='k1'>\n"
     ]
    }
   ],
   "source": [
    "result = re.match(r'[A-Za-z][0-9]', 'k12345')\n",
    "print(result)\n",
    "# 이러면 됨 (앞에 알파벳 1글자 나옴)"
   ]
  },
  {
   "cell_type": "code",
   "execution_count": 14,
   "id": "37444b83-1a82-4547-ab4a-9a02990ba32b",
   "metadata": {},
   "outputs": [
    {
     "name": "stdout",
     "output_type": "stream",
     "text": [
      "None\n"
     ]
    }
   ],
   "source": [
    "result = re.match(r'[A-Za-z][0-9]', 'ka12345')\n",
    "print(result)\n",
    "# 앞에 알파벳 2글자 나와서 안됨"
   ]
  },
  {
   "cell_type": "code",
   "execution_count": null,
   "id": "305d52bb-c5c5-41a1-9d07-7ab24e913efe",
   "metadata": {},
   "outputs": [],
   "source": []
  },
  {
   "cell_type": "markdown",
   "id": "4f506268-1283-47fa-b854-d503228498d3",
   "metadata": {},
   "source": [
    "### 반복 메타 문자\n",
    "- 휴대폰 번호  \n",
    "- 위의 방식으로 휴대전화 번호 매칭 방법  \n",
    "[0-9][0-9][0-9]-[0-9][0-9][0-9][0-9]-[0-9][0-9][0-9][0-9]"
   ]
  },
  {
   "cell_type": "code",
   "execution_count": 15,
   "id": "feee8738-deec-4e3e-b0ed-4a01f7799280",
   "metadata": {},
   "outputs": [],
   "source": [
    "# 3자리 - 4자리 - 4자리\n",
    "# 휴대폰 번호 매칭하려면 이렇게 해야 함"
   ]
  },
  {
   "cell_type": "code",
   "execution_count": 16,
   "id": "ed5608f1-ceda-4f33-871b-aa5da8dcf190",
   "metadata": {},
   "outputs": [],
   "source": [
    "# 여기서 반복하는 방법을 제공함"
   ]
  },
  {
   "cell_type": "markdown",
   "id": "563a0bd1-7c80-4f6d-84e1-add1a1e08625",
   "metadata": {},
   "source": [
    "- '+' 한 개 이상 출현  \n",
    "- [0-9]+-[0-9]+-[0-9]+  \n",
    "하지만 여전히 문제, 기존 3-3-4 자리 사용하는 번호도 존재"
   ]
  },
  {
   "cell_type": "code",
   "execution_count": 17,
   "id": "3b3ee8fd-0b10-44b6-a730-ded6a0df5e0c",
   "metadata": {},
   "outputs": [],
   "source": [
    "# 한개 이상 나올때 + 쓸 수 있음\n",
    "# 0-9까지 1개 이상 나오게 하고,\n",
    "# 짝대기  -\n",
    "\n",
    "# 0-9까지 1개 이상 나오게 하고,\n",
    "# 짝대기  -\n",
    "\n",
    "# # 0-9까지 1개 이상 나옴."
   ]
  },
  {
   "cell_type": "markdown",
   "id": "593cee27-f533-4340-9447-8341a4873020",
   "metadata": {},
   "source": [
    "- {} 는 반복 회수를 지정  \n",
    "- {0,} - 0번 이상 출현  \n",
    "- {1,} - 1번 이상 출현  \n",
    "- {1,3} - 1번에서 3번까지 출현\n",
    "- 위 휴대전화 번호를 아래와 같이 변경  \n",
    "- [0-9]{3}-[0-9]{3,4}-[0-9]{4}"
   ]
  },
  {
   "cell_type": "code",
   "execution_count": 18,
   "id": "686d9bcf-d4fd-4b42-8f63-07e1dec3e868",
   "metadata": {},
   "outputs": [],
   "source": [
    "# 위를 이용하여 휴대전화 번호를 매칭 가능\n",
    "# 그런데 문제가 또있음.\n",
    "# 010~019 까지만 들어와야 함"
   ]
  },
  {
   "cell_type": "markdown",
   "id": "4dfbc3df-d881-4ff1-99b6-59d340e7cc59",
   "metadata": {},
   "source": [
    "- 국번은 010, 011, 019, 017, 018, 016 존재  \n",
    "- 01[016789]-[0-9]{3,4}-[0-9]{4}"
   ]
  },
  {
   "cell_type": "code",
   "execution_count": 19,
   "id": "bab90b6f-361b-4aa3-b2ac-a4196a575962",
   "metadata": {},
   "outputs": [],
   "source": [
    "# 이제 test"
   ]
  },
  {
   "cell_type": "code",
   "execution_count": 20,
   "id": "11cf3790-9a56-4363-b5ce-8ac720254dbd",
   "metadata": {},
   "outputs": [
    {
     "name": "stdout",
     "output_type": "stream",
     "text": [
      "<re.Match object; span=(0, 13), match='010-1234-9875'>\n"
     ]
    }
   ],
   "source": [
    "p = re.compile(r'01[016789]-[0-9]{3,4}-[0-9]{4}')\n",
    "\n",
    "result = p.match('010-1234-9875')\n",
    "print(result)"
   ]
  },
  {
   "cell_type": "code",
   "execution_count": 21,
   "id": "2b5fcf53-6b97-4694-8c60-eeda7b084c48",
   "metadata": {},
   "outputs": [
    {
     "name": "stdout",
     "output_type": "stream",
     "text": [
      "None\n"
     ]
    }
   ],
   "source": [
    "# 안되는 경우\n",
    "result = p.match('010-1234-9y75')\n",
    "print(result)"
   ]
  },
  {
   "cell_type": "code",
   "execution_count": 22,
   "id": "439d0491-9ac3-4785-9875-955081727175",
   "metadata": {},
   "outputs": [
    {
     "name": "stdout",
     "output_type": "stream",
     "text": [
      "None\n"
     ]
    }
   ],
   "source": [
    "result = p.match('015-1234-9875')\n",
    "print(result)"
   ]
  },
  {
   "cell_type": "code",
   "execution_count": null,
   "id": "c824012f-1cda-4a7a-849b-25ac8e9131a8",
   "metadata": {},
   "outputs": [],
   "source": []
  },
  {
   "cell_type": "markdown",
   "id": "21d83d12-0904-4f74-8e49-9673c54effd7",
   "metadata": {},
   "source": [
    "### '*' 0번 이상 반복"
   ]
  },
  {
   "cell_type": "code",
   "execution_count": 23,
   "id": "a7662b99-f875-4135-8f47-fe686a5f7c15",
   "metadata": {},
   "outputs": [],
   "source": [
    "# 별표(*) 는 0번 이상 반복의 의미가 있음"
   ]
  },
  {
   "cell_type": "code",
   "execution_count": 24,
   "id": "f20013d5-3d12-4553-81be-0737d64533a0",
   "metadata": {},
   "outputs": [
    {
     "name": "stdout",
     "output_type": "stream",
     "text": [
      "<re.Match object; span=(0, 7), match='abc3def'>\n"
     ]
    }
   ],
   "source": [
    "# ex)\n",
    "p = re.compile(r'abc[0-9]*def')\n",
    "\n",
    "result = p.match('abc3def')\n",
    "print(result)"
   ]
  },
  {
   "cell_type": "code",
   "execution_count": 25,
   "id": "45a07002-0cdd-4a01-aa71-0c283287d217",
   "metadata": {},
   "outputs": [
    {
     "name": "stdout",
     "output_type": "stream",
     "text": [
      "<re.Match object; span=(0, 9), match='abc456def'>\n"
     ]
    }
   ],
   "source": [
    "result = p.match('abc456def')\n",
    "print(result)"
   ]
  },
  {
   "cell_type": "code",
   "execution_count": 26,
   "id": "473732e0-5d04-4644-9412-1ac60eaff09f",
   "metadata": {},
   "outputs": [
    {
     "name": "stdout",
     "output_type": "stream",
     "text": [
      "<re.Match object; span=(0, 6), match='abcdef'>\n"
     ]
    }
   ],
   "source": [
    "result = p.match('abcdef')\n",
    "print(result)"
   ]
  },
  {
   "cell_type": "code",
   "execution_count": null,
   "id": "fdf246cd-07bd-4191-a979-ad772c380f20",
   "metadata": {},
   "outputs": [],
   "source": []
  },
  {
   "cell_type": "code",
   "execution_count": 27,
   "id": "64228f93-c1fe-42a3-9acf-038cff08355a",
   "metadata": {},
   "outputs": [
    {
     "name": "stdout",
     "output_type": "stream",
     "text": [
      "<re.Match object; span=(0, 4), match='1abc'>\n"
     ]
    }
   ],
   "source": [
    "p = re.compile(r'[^5]abc')  # 5만 아니면 돼\n",
    "# not 5\n",
    "\n",
    "result = p.match('1abc')\n",
    "print(result)"
   ]
  },
  {
   "cell_type": "code",
   "execution_count": 28,
   "id": "ad40d671-38ad-4d7e-a145-fe7f5a85956e",
   "metadata": {},
   "outputs": [
    {
     "name": "stdout",
     "output_type": "stream",
     "text": [
      "None\n"
     ]
    }
   ],
   "source": [
    "result = p.match('abc')\n",
    "print(result)"
   ]
  },
  {
   "cell_type": "code",
   "execution_count": 29,
   "id": "57ad5bfe-6ee6-453b-8fbd-9e166a677bd5",
   "metadata": {},
   "outputs": [
    {
     "name": "stdout",
     "output_type": "stream",
     "text": [
      "None\n"
     ]
    }
   ],
   "source": [
    "result = p.match('234abc')  # 하나만 와야 하는데, 여러개가 왔음 -> 안됨\n",
    "print(result)"
   ]
  },
  {
   "cell_type": "code",
   "execution_count": 30,
   "id": "d96c819d-1aec-4e45-bab8-8e3e288243d4",
   "metadata": {},
   "outputs": [
    {
     "name": "stdout",
     "output_type": "stream",
     "text": [
      "<re.Match object; span=(0, 4), match='tabc'>\n"
     ]
    }
   ],
   "source": [
    "result = p.match('tabc')\n",
    "print(result)"
   ]
  },
  {
   "cell_type": "code",
   "execution_count": 31,
   "id": "b51b4534-2987-4ad4-8160-77106426a60d",
   "metadata": {},
   "outputs": [
    {
     "name": "stdout",
     "output_type": "stream",
     "text": [
      "None\n"
     ]
    }
   ],
   "source": [
    "result = p.match('5abc')\n",
    "print(result)"
   ]
  },
  {
   "cell_type": "code",
   "execution_count": null,
   "id": "67b75613-e868-45f6-a5d7-c53b65145f11",
   "metadata": {},
   "outputs": [],
   "source": []
  },
  {
   "cell_type": "code",
   "execution_count": 32,
   "id": "c66bf4a0-ce7e-4681-a801-14da84d7ac09",
   "metadata": {},
   "outputs": [
    {
     "name": "stdout",
     "output_type": "stream",
     "text": [
      "<re.Match object; span=(0, 6), match='abcdef'>\n"
     ]
    }
   ],
   "source": [
    "p = re.compile(r'abc[0-9]?def')  # ? -> 0번 또는 1번 등장하는 경우 \n",
    "# -> 괄호 안의 [0-9]숫자가 0번 또는 1번 등장 하는 경우\n",
    "\n",
    "result = p.match('abcdef')\n",
    "print(result)"
   ]
  },
  {
   "cell_type": "code",
   "execution_count": 36,
   "id": "f44a1608-9fba-4f64-8262-c3b64f7cc7ab",
   "metadata": {},
   "outputs": [
    {
     "name": "stdout",
     "output_type": "stream",
     "text": [
      "<re.Match object; span=(0, 7), match='abc4def'>\n"
     ]
    }
   ],
   "source": [
    "result = p.match('abc4def')\n",
    "print(result)  # 1번 등장했으므로 가능"
   ]
  },
  {
   "cell_type": "code",
   "execution_count": 37,
   "id": "022c755c-a910-4207-8410-ae801ae7761f",
   "metadata": {},
   "outputs": [
    {
     "name": "stdout",
     "output_type": "stream",
     "text": [
      "None\n"
     ]
    }
   ],
   "source": [
    "result = p.match('abc48def')\n",
    "print(result)   # 2번 등장했으므로 안됨"
   ]
  },
  {
   "cell_type": "code",
   "execution_count": 39,
   "id": "93aa3611-638a-4f31-824e-15dcb610d89c",
   "metadata": {},
   "outputs": [
    {
     "name": "stdout",
     "output_type": "stream",
     "text": [
      "<re.Match object; span=(0, 6), match='3defr9'>\n"
     ]
    }
   ],
   "source": [
    "p = re.compile(r'^3[A-Za-z]+9$')  \n",
    "# ^가 괄호 안에 있을때는 not / 앞에 있을때에는 반드시 3으로 시작해야 한다는 의미\n",
    "# -> 반드시 3으로 시작하고, A-Za-z중 하나 오고, 반드시 9로 끝나야 함  (+9$)\n",
    "\n",
    "print(p.match('3defr9'))"
   ]
  },
  {
   "cell_type": "code",
   "execution_count": 40,
   "id": "2caf76ac-f0c6-480b-8517-a07b9be066d7",
   "metadata": {},
   "outputs": [
    {
     "name": "stdout",
     "output_type": "stream",
     "text": [
      "None\n"
     ]
    }
   ],
   "source": [
    "print(p.match('defr9'))  #3으로 시작하지 않음"
   ]
  },
  {
   "cell_type": "code",
   "execution_count": 41,
   "id": "f0201588-080d-4114-bcc0-abb964d37acb",
   "metadata": {},
   "outputs": [
    {
     "name": "stdout",
     "output_type": "stream",
     "text": [
      "None\n"
     ]
    }
   ],
   "source": [
    "print(p.match('34defr9'))   # 3 다음에 알파벳[A-Za-z] 안나옴"
   ]
  },
  {
   "cell_type": "code",
   "execution_count": 42,
   "id": "d148a869-9bcf-42cf-a42e-765f008d33e8",
   "metadata": {},
   "outputs": [
    {
     "name": "stdout",
     "output_type": "stream",
     "text": [
      "None\n"
     ]
    }
   ],
   "source": [
    "print(p.match('34defr98'))  # 8로 끝나서 안됨"
   ]
  },
  {
   "cell_type": "code",
   "execution_count": 43,
   "id": "7b42f630-e192-4651-a213-a4bbe013b746",
   "metadata": {},
   "outputs": [
    {
     "name": "stdout",
     "output_type": "stream",
     "text": [
      "<re.Match object; span=(0, 3), match='4p8'>\n"
     ]
    }
   ],
   "source": [
    "p = re.compile(r'[0-9].8$')   # 첫글자는 숫자,   [점.  은 뭐가 오든 하나가 반드시 옴],  그리고 8로 끝남\n",
    "# 하지만 아무것도 안오면 패턴이 안맞는다\n",
    "print(p.match('4p8'))"
   ]
  },
  {
   "cell_type": "code",
   "execution_count": 44,
   "id": "6ae90d1c-f6b2-4f61-a940-1ab3e52ba980",
   "metadata": {},
   "outputs": [
    {
     "name": "stdout",
     "output_type": "stream",
     "text": [
      "<re.Match object; span=(0, 3), match='448'>\n"
     ]
    }
   ],
   "source": [
    "print(p.match('448'))  # 뭐가 오던 하나만 오면 됨. 상관 없음"
   ]
  },
  {
   "cell_type": "code",
   "execution_count": 46,
   "id": "183848ba-164c-45cf-87ab-5249cea6c8ed",
   "metadata": {},
   "outputs": [
    {
     "name": "stdout",
     "output_type": "stream",
     "text": [
      "None\n"
     ]
    }
   ],
   "source": [
    "print(p.match('48'))  # 하지만 아무것도 안오면 안됨. 패턴 안맞음"
   ]
  },
  {
   "cell_type": "code",
   "execution_count": 48,
   "id": "f5e03fe3-3088-4bbb-a4e6-daa3b3b0dfb5",
   "metadata": {},
   "outputs": [
    {
     "name": "stdout",
     "output_type": "stream",
     "text": [
      "<re.Match object; span=(0, 4), match='1abc'>\n"
     ]
    }
   ],
   "source": [
    "# 여태껏 숫자를 쓸 땐, [0-9]로 썼는데, 이걸 쉽게 쓰려면 역슬래시 하나 쓰면 됨 -> \\\n",
    "p = re.compile(r'\\dabc')  #  \\ -> 숫자 아무거나 하나\n",
    "print(p.match('1abc'))  # 숫자 1임.  알파벳 엘l 아님"
   ]
  },
  {
   "cell_type": "code",
   "execution_count": 49,
   "id": "5a90a648-7188-43d7-8703-5b7c5255ac83",
   "metadata": {},
   "outputs": [
    {
     "name": "stdout",
     "output_type": "stream",
     "text": [
      "None\n"
     ]
    }
   ],
   "source": [
    "print(p.match('122abc'))"
   ]
  },
  {
   "cell_type": "code",
   "execution_count": 50,
   "id": "b9a0b997-d26f-4444-804f-d2cc17e6bf54",
   "metadata": {},
   "outputs": [
    {
     "name": "stdout",
     "output_type": "stream",
     "text": [
      "None\n"
     ]
    }
   ],
   "source": [
    "print(p.match('qabc'))"
   ]
  },
  {
   "cell_type": "code",
   "execution_count": 55,
   "id": "16d07b97-4b02-4fb1-a41f-504d4d3f7e53",
   "metadata": {},
   "outputs": [
    {
     "name": "stdout",
     "output_type": "stream",
     "text": [
      "<re.Match object; span=(0, 4), match='a123'>\n"
     ]
    }
   ],
   "source": [
    "p = re.compile(r'\\D123')  # 반대로 대문자 D는 -> 숫자가 아닌 놈.  => \\D -> 일 경우 -> 숫자만 아니면 다 됨\n",
    "print(p.match('a123'))"
   ]
  },
  {
   "cell_type": "code",
   "execution_count": 52,
   "id": "8d39bf80-dc90-47d3-b2ce-053ac20fca48",
   "metadata": {},
   "outputs": [
    {
     "name": "stdout",
     "output_type": "stream",
     "text": [
      "None\n"
     ]
    }
   ],
   "source": [
    "print(p.match('5123'))"
   ]
  },
  {
   "cell_type": "code",
   "execution_count": 53,
   "id": "a0b8a468-d588-4acb-bbf5-8845be000897",
   "metadata": {},
   "outputs": [
    {
     "name": "stdout",
     "output_type": "stream",
     "text": [
      "<re.Match object; span=(0, 4), match='D123'>\n"
     ]
    }
   ],
   "source": [
    "print(p.match('D123'))"
   ]
  },
  {
   "cell_type": "code",
   "execution_count": 54,
   "id": "b1974354-e65d-42a2-9576-3c07d6a05b7d",
   "metadata": {},
   "outputs": [
    {
     "name": "stdout",
     "output_type": "stream",
     "text": [
      "<re.Match object; span=(0, 4), match='*123'>\n"
     ]
    }
   ],
   "source": [
    "print(p.match('*123'))"
   ]
  },
  {
   "cell_type": "code",
   "execution_count": 56,
   "id": "b67c904d-9fb8-4e0f-968b-d2d219d2e843",
   "metadata": {},
   "outputs": [
    {
     "name": "stdout",
     "output_type": "stream",
     "text": [
      "<re.Match object; span=(0, 6), match='abc 76'>\n"
     ]
    }
   ],
   "source": [
    "p = re.compile(r'abc\\s[0-9]+')  # \\s -> space  -> 스페이스가 없으면 패턴 매칭이 안됨\n",
    "print(p.match('abc 76'))"
   ]
  },
  {
   "cell_type": "code",
   "execution_count": 57,
   "id": "d694dd8a-4f78-4217-b8bf-d3252d196052",
   "metadata": {},
   "outputs": [
    {
     "name": "stdout",
     "output_type": "stream",
     "text": [
      "None\n"
     ]
    }
   ],
   "source": [
    "print(p.match('abc76'))"
   ]
  },
  {
   "cell_type": "code",
   "execution_count": 58,
   "id": "36ce06ad-e872-4433-b618-24b17fe03ac8",
   "metadata": {},
   "outputs": [
    {
     "name": "stdout",
     "output_type": "stream",
     "text": [
      "None\n"
     ]
    }
   ],
   "source": [
    "p = re.compile(r'abc\\S[0-9]+')  # \\s와 유사한 대문자S -> \\S  => 스페이스 말고 아무거나 오면 됨\n",
    "print(p.match('abc 76'))"
   ]
  },
  {
   "cell_type": "code",
   "execution_count": 59,
   "id": "1e3bb4c1-4077-4d7e-97ae-874755e5bdc7",
   "metadata": {},
   "outputs": [
    {
     "name": "stdout",
     "output_type": "stream",
     "text": [
      "<re.Match object; span=(0, 6), match='abcp76'>\n"
     ]
    }
   ],
   "source": [
    "print(p.match('abcp76'))"
   ]
  },
  {
   "cell_type": "code",
   "execution_count": 60,
   "id": "c530033c-9ec7-4453-978f-c8a057aee276",
   "metadata": {},
   "outputs": [
    {
     "name": "stdout",
     "output_type": "stream",
     "text": [
      "<re.Match object; span=(0, 7), match='f948484'>\n"
     ]
    }
   ],
   "source": [
    "p = re.compile(r'\\w[0-9]+')  # \\w  -> word라는 뜻 -> 알파벳이나 숫자가 올 수 있다는 뜻\n",
    "print(p.match('f948484'))"
   ]
  },
  {
   "cell_type": "code",
   "execution_count": 61,
   "id": "220a4d9e-318b-438e-8df2-e3eb28b69960",
   "metadata": {},
   "outputs": [
    {
     "name": "stdout",
     "output_type": "stream",
     "text": [
      "None\n"
     ]
    }
   ],
   "source": [
    "print(p.match('-f948484')) # 이런식으로 알파벳이나 숫자가 아닌놈(-)이 들어가면 매칭이 안됨"
   ]
  },
  {
   "cell_type": "code",
   "execution_count": 63,
   "id": "bab70223-8e40-41f3-aa9b-ef9a0143e205",
   "metadata": {},
   "outputs": [
    {
     "name": "stdout",
     "output_type": "stream",
     "text": [
      "<re.Match object; span=(0, 7), match='-948484'>\n"
     ]
    }
   ],
   "source": [
    "# 이것도 마찬가지로 대문자로 쓰면 반대가 됨\n",
    "p = re.compile(r'\\W[0-9]+')  # \\W  -> none word  -> 문자나 숫자가 아닌 것\n",
    "print(p.match('-948484'))   # 그럼 이게 매칭이 됨"
   ]
  },
  {
   "cell_type": "code",
   "execution_count": 65,
   "id": "7e3a4490-848b-49e8-bfc5-971ed91db408",
   "metadata": {},
   "outputs": [
    {
     "name": "stdout",
     "output_type": "stream",
     "text": [
      "None\n"
     ]
    }
   ],
   "source": [
    "print(p.match('r948484'))"
   ]
  },
  {
   "cell_type": "code",
   "execution_count": null,
   "id": "7251d865-736e-480d-86c2-8d6593388186",
   "metadata": {},
   "outputs": [],
   "source": []
  },
  {
   "cell_type": "code",
   "execution_count": 67,
   "id": "5d093cc6-6fae-4dd5-ac47-2a567b2561d9",
   "metadata": {},
   "outputs": [],
   "source": [
    "# 이메일 정규 표현식\n",
    "# ^[\\w.%+\\-]+@[\\w.\\-]+\\.[A-Za-z]{2,3}$\n",
    "\n",
    "# ex2)\n",
    "# var regExp = /^[0-9a-zA-Z]([-_.]?[0-9a-zA-Z])*@[0-9a-zA-Z]([-_.]?[0-9a-zA-Z])*.[a-zA-Z]{2,3}$/i;\n",
    "\n",
    "# 3. 핸드폰번호 정규식\n",
    "# var regExp = /^\\d{3}-\\d{3,4}-\\d{4}$/;\n",
    "\n",
    "# 4. 일반 전화번호 정규식\n",
    "# var regExp = /^\\d{2,3}-\\d{3,4}-\\d{4}$/;\n",
    "\n",
    "# URL 정규식, URL 정규표현식\n",
    "# https?:\\/\\/(www\\.)?[-a-zA-Z0-9@:%._\\+~#=]{1,256}\\.[a-zA-Z0-9()]{1,6}\\b([-a-zA-Z0-9()@:%_\\+.~#?&//=]*)"
   ]
  },
  {
   "cell_type": "code",
   "execution_count": 68,
   "id": "cefe0b39-1e5b-442e-b7f3-dcbb991b6a4a",
   "metadata": {},
   "outputs": [],
   "source": [
    "# 요즘 가입할때, 대소문자, 특수표현 등 써야 하는데,\n",
    "# 그것도 정규 표현식으로 걸러낼 수 있음\n",
    "# 적절하지 않은 PW입니다."
   ]
  },
  {
   "cell_type": "code",
   "execution_count": null,
   "id": "c397a8b1-6d00-45fb-a31c-de7c5b69e262",
   "metadata": {},
   "outputs": [],
   "source": [
    "# 보안정책이 강화되서, 몇자리 이상, 특수문자 포함 등으로 바뀌어서\n",
    "# 양식을 수정하라. 같은 경우가 올 수 있음."
   ]
  }
 ],
 "metadata": {
  "kernelspec": {
   "display_name": "Python 3 (ipykernel)",
   "language": "python",
   "name": "python3"
  },
  "language_info": {
   "codemirror_mode": {
    "name": "ipython",
    "version": 3
   },
   "file_extension": ".py",
   "mimetype": "text/x-python",
   "name": "python",
   "nbconvert_exporter": "python",
   "pygments_lexer": "ipython3",
   "version": "3.8.11"
  }
 },
 "nbformat": 4,
 "nbformat_minor": 5
}
