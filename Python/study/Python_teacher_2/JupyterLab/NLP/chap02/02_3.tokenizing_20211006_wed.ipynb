{
 "cells": [
  {
   "cell_type": "markdown",
   "id": "489460ff-ade7-4794-a3fb-89c58be4939a",
   "metadata": {},
   "source": [
    "- 처리하고자 하는 텍스트(corpus)에 대한 정보를 특정 단위별로 나누는 작업\n",
    "- 단어, 형태소, 문장 토크나이징\n",
    "\n",
    "## 영어 토크나이징\n",
    "- NLTK(Natural Language Toolkit)과 Spacy 가 대표적 임\n",
    "## 1. NLTK\n",
    "- 파이썬에서 영어 텍스트 전처리 작업을 하는 데 많이 쓰이는 라이브러리\n",
    "- 50여개가 넘는 말뭉치(corpus) 리소스를 활용해 영어 텍스트를 분석할 수 있게 해줌\n",
    "- 직관적인 함수 사용법으로 빠르게 텍스트 전처리를 할 수 있음"
   ]
  },
  {
   "cell_type": "code",
   "execution_count": null,
   "id": "15a8bac5-19fa-4225-a1be-840a87ec3acd",
   "metadata": {},
   "outputs": [],
   "source": []
  },
  {
   "cell_type": "code",
   "execution_count": null,
   "id": "3194ce18-5ef0-4904-9ab1-2bc84f6a99b2",
   "metadata": {},
   "outputs": [],
   "source": []
  },
  {
   "cell_type": "code",
   "execution_count": 1,
   "id": "a0b96f31-7585-4efa-b742-64aeaf8bfd3c",
   "metadata": {},
   "outputs": [],
   "source": [
    "# nltk 설치\n",
    "# conda install nltk"
   ]
  },
  {
   "cell_type": "code",
   "execution_count": 2,
   "id": "e443528e-6e6c-41ff-968d-35924ad8d34f",
   "metadata": {},
   "outputs": [],
   "source": [
    "import nltk  # import 이상없이 잘 되면 -> 설치 잘 된것"
   ]
  },
  {
   "cell_type": "code",
   "execution_count": 3,
   "id": "e99efab2-d856-4858-b7e8-ad9e996e5c4b",
   "metadata": {},
   "outputs": [
    {
     "name": "stderr",
     "output_type": "stream",
     "text": [
      "[nltk_data] Downloading collection 'all-corpora'\n",
      "[nltk_data]    | \n",
      "[nltk_data]    | Downloading package abc to\n",
      "[nltk_data]    |     C:\\Users\\Administrator\\AppData\\Roaming\\nltk_data.\n",
      "[nltk_data]    |     ..\n",
      "[nltk_data]    |   Unzipping corpora\\abc.zip.\n",
      "[nltk_data]    | Downloading package alpino to\n",
      "[nltk_data]    |     C:\\Users\\Administrator\\AppData\\Roaming\\nltk_data.\n",
      "[nltk_data]    |     ..\n",
      "[nltk_data]    |   Unzipping corpora\\alpino.zip.\n",
      "[nltk_data]    | Downloading package biocreative_ppi to\n",
      "[nltk_data]    |     C:\\Users\\Administrator\\AppData\\Roaming\\nltk_data.\n",
      "[nltk_data]    |     ..\n",
      "[nltk_data]    |   Unzipping corpora\\biocreative_ppi.zip.\n",
      "[nltk_data]    | Downloading package brown to\n",
      "[nltk_data]    |     C:\\Users\\Administrator\\AppData\\Roaming\\nltk_data.\n",
      "[nltk_data]    |     ..\n",
      "[nltk_data]    |   Unzipping corpora\\brown.zip.\n",
      "[nltk_data]    | Downloading package brown_tei to\n",
      "[nltk_data]    |     C:\\Users\\Administrator\\AppData\\Roaming\\nltk_data.\n",
      "[nltk_data]    |     ..\n",
      "[nltk_data]    |   Unzipping corpora\\brown_tei.zip.\n",
      "[nltk_data]    | Downloading package cess_cat to\n",
      "[nltk_data]    |     C:\\Users\\Administrator\\AppData\\Roaming\\nltk_data.\n",
      "[nltk_data]    |     ..\n",
      "[nltk_data]    |   Unzipping corpora\\cess_cat.zip.\n",
      "[nltk_data]    | Downloading package cess_esp to\n",
      "[nltk_data]    |     C:\\Users\\Administrator\\AppData\\Roaming\\nltk_data.\n",
      "[nltk_data]    |     ..\n",
      "[nltk_data]    |   Unzipping corpora\\cess_esp.zip.\n",
      "[nltk_data]    | Downloading package chat80 to\n",
      "[nltk_data]    |     C:\\Users\\Administrator\\AppData\\Roaming\\nltk_data.\n",
      "[nltk_data]    |     ..\n",
      "[nltk_data]    |   Unzipping corpora\\chat80.zip.\n",
      "[nltk_data]    | Downloading package city_database to\n",
      "[nltk_data]    |     C:\\Users\\Administrator\\AppData\\Roaming\\nltk_data.\n",
      "[nltk_data]    |     ..\n",
      "[nltk_data]    |   Unzipping corpora\\city_database.zip.\n",
      "[nltk_data]    | Downloading package cmudict to\n",
      "[nltk_data]    |     C:\\Users\\Administrator\\AppData\\Roaming\\nltk_data.\n",
      "[nltk_data]    |     ..\n",
      "[nltk_data]    |   Unzipping corpora\\cmudict.zip.\n",
      "[nltk_data]    | Downloading package comtrans to\n",
      "[nltk_data]    |     C:\\Users\\Administrator\\AppData\\Roaming\\nltk_data.\n",
      "[nltk_data]    |     ..\n",
      "[nltk_data]    | Downloading package conll2000 to\n",
      "[nltk_data]    |     C:\\Users\\Administrator\\AppData\\Roaming\\nltk_data.\n",
      "[nltk_data]    |     ..\n",
      "[nltk_data]    |   Unzipping corpora\\conll2000.zip.\n",
      "[nltk_data]    | Downloading package conll2002 to\n",
      "[nltk_data]    |     C:\\Users\\Administrator\\AppData\\Roaming\\nltk_data.\n",
      "[nltk_data]    |     ..\n",
      "[nltk_data]    |   Unzipping corpora\\conll2002.zip.\n",
      "[nltk_data]    | Downloading package conll2007 to\n",
      "[nltk_data]    |     C:\\Users\\Administrator\\AppData\\Roaming\\nltk_data.\n",
      "[nltk_data]    |     ..\n",
      "[nltk_data]    | Downloading package crubadan to\n",
      "[nltk_data]    |     C:\\Users\\Administrator\\AppData\\Roaming\\nltk_data.\n",
      "[nltk_data]    |     ..\n",
      "[nltk_data]    |   Unzipping corpora\\crubadan.zip.\n",
      "[nltk_data]    | Downloading package dependency_treebank to\n",
      "[nltk_data]    |     C:\\Users\\Administrator\\AppData\\Roaming\\nltk_data.\n",
      "[nltk_data]    |     ..\n",
      "[nltk_data]    |   Unzipping corpora\\dependency_treebank.zip.\n",
      "[nltk_data]    | Downloading package dolch to\n",
      "[nltk_data]    |     C:\\Users\\Administrator\\AppData\\Roaming\\nltk_data.\n",
      "[nltk_data]    |     ..\n",
      "[nltk_data]    |   Unzipping corpora\\dolch.zip.\n",
      "[nltk_data]    | Downloading package floresta to\n",
      "[nltk_data]    |     C:\\Users\\Administrator\\AppData\\Roaming\\nltk_data.\n",
      "[nltk_data]    |     ..\n",
      "[nltk_data]    |   Unzipping corpora\\floresta.zip.\n",
      "[nltk_data]    | Downloading package framenet_v15 to\n",
      "[nltk_data]    |     C:\\Users\\Administrator\\AppData\\Roaming\\nltk_data.\n",
      "[nltk_data]    |     ..\n",
      "[nltk_data]    |   Unzipping corpora\\framenet_v15.zip.\n",
      "[nltk_data]    | Downloading package framenet_v17 to\n",
      "[nltk_data]    |     C:\\Users\\Administrator\\AppData\\Roaming\\nltk_data.\n",
      "[nltk_data]    |     ..\n",
      "[nltk_data]    |   Unzipping corpora\\framenet_v17.zip.\n",
      "[nltk_data]    | Downloading package gazetteers to\n",
      "[nltk_data]    |     C:\\Users\\Administrator\\AppData\\Roaming\\nltk_data.\n",
      "[nltk_data]    |     ..\n",
      "[nltk_data]    |   Unzipping corpora\\gazetteers.zip.\n",
      "[nltk_data]    | Downloading package genesis to\n",
      "[nltk_data]    |     C:\\Users\\Administrator\\AppData\\Roaming\\nltk_data.\n",
      "[nltk_data]    |     ..\n",
      "[nltk_data]    |   Unzipping corpora\\genesis.zip.\n",
      "[nltk_data]    | Downloading package gutenberg to\n",
      "[nltk_data]    |     C:\\Users\\Administrator\\AppData\\Roaming\\nltk_data.\n",
      "[nltk_data]    |     ..\n",
      "[nltk_data]    |   Unzipping corpora\\gutenberg.zip.\n",
      "[nltk_data]    | Downloading package ieer to\n",
      "[nltk_data]    |     C:\\Users\\Administrator\\AppData\\Roaming\\nltk_data.\n",
      "[nltk_data]    |     ..\n",
      "[nltk_data]    |   Unzipping corpora\\ieer.zip.\n",
      "[nltk_data]    | Downloading package inaugural to\n",
      "[nltk_data]    |     C:\\Users\\Administrator\\AppData\\Roaming\\nltk_data.\n",
      "[nltk_data]    |     ..\n",
      "[nltk_data]    |   Unzipping corpora\\inaugural.zip.\n",
      "[nltk_data]    | Downloading package indian to\n",
      "[nltk_data]    |     C:\\Users\\Administrator\\AppData\\Roaming\\nltk_data.\n",
      "[nltk_data]    |     ..\n",
      "[nltk_data]    |   Unzipping corpora\\indian.zip.\n",
      "[nltk_data]    | Downloading package jeita to\n",
      "[nltk_data]    |     C:\\Users\\Administrator\\AppData\\Roaming\\nltk_data.\n",
      "[nltk_data]    |     ..\n",
      "[nltk_data]    | Downloading package kimmo to\n",
      "[nltk_data]    |     C:\\Users\\Administrator\\AppData\\Roaming\\nltk_data.\n",
      "[nltk_data]    |     ..\n",
      "[nltk_data]    |   Unzipping corpora\\kimmo.zip.\n",
      "[nltk_data]    | Downloading package knbc to\n",
      "[nltk_data]    |     C:\\Users\\Administrator\\AppData\\Roaming\\nltk_data.\n",
      "[nltk_data]    |     ..\n",
      "[nltk_data]    | Downloading package lin_thesaurus to\n",
      "[nltk_data]    |     C:\\Users\\Administrator\\AppData\\Roaming\\nltk_data.\n",
      "[nltk_data]    |     ..\n",
      "[nltk_data]    |   Unzipping corpora\\lin_thesaurus.zip.\n",
      "[nltk_data]    | Downloading package mac_morpho to\n",
      "[nltk_data]    |     C:\\Users\\Administrator\\AppData\\Roaming\\nltk_data.\n",
      "[nltk_data]    |     ..\n",
      "[nltk_data]    |   Unzipping corpora\\mac_morpho.zip.\n",
      "[nltk_data]    | Downloading package machado to\n",
      "[nltk_data]    |     C:\\Users\\Administrator\\AppData\\Roaming\\nltk_data.\n",
      "[nltk_data]    |     ..\n",
      "[nltk_data]    | Downloading package masc_tagged to\n",
      "[nltk_data]    |     C:\\Users\\Administrator\\AppData\\Roaming\\nltk_data.\n",
      "[nltk_data]    |     ..\n",
      "[nltk_data]    | Downloading package movie_reviews to\n",
      "[nltk_data]    |     C:\\Users\\Administrator\\AppData\\Roaming\\nltk_data.\n",
      "[nltk_data]    |     ..\n",
      "[nltk_data]    |   Unzipping corpora\\movie_reviews.zip.\n",
      "[nltk_data]    | Downloading package names to\n",
      "[nltk_data]    |     C:\\Users\\Administrator\\AppData\\Roaming\\nltk_data.\n",
      "[nltk_data]    |     ..\n",
      "[nltk_data]    |   Unzipping corpora\\names.zip.\n",
      "[nltk_data]    | Downloading package nombank.1.0 to\n",
      "[nltk_data]    |     C:\\Users\\Administrator\\AppData\\Roaming\\nltk_data.\n",
      "[nltk_data]    |     ..\n",
      "[nltk_data]    | Downloading package nps_chat to\n",
      "[nltk_data]    |     C:\\Users\\Administrator\\AppData\\Roaming\\nltk_data.\n",
      "[nltk_data]    |     ..\n",
      "[nltk_data]    |   Unzipping corpora\\nps_chat.zip.\n",
      "[nltk_data]    | Downloading package omw to\n",
      "[nltk_data]    |     C:\\Users\\Administrator\\AppData\\Roaming\\nltk_data.\n",
      "[nltk_data]    |     ..\n",
      "[nltk_data]    |   Unzipping corpora\\omw.zip.\n",
      "[nltk_data]    | Downloading package paradigms to\n",
      "[nltk_data]    |     C:\\Users\\Administrator\\AppData\\Roaming\\nltk_data.\n",
      "[nltk_data]    |     ..\n",
      "[nltk_data]    |   Unzipping corpora\\paradigms.zip.\n",
      "[nltk_data]    | Downloading package pil to\n",
      "[nltk_data]    |     C:\\Users\\Administrator\\AppData\\Roaming\\nltk_data.\n",
      "[nltk_data]    |     ..\n",
      "[nltk_data]    |   Unzipping corpora\\pil.zip.\n",
      "[nltk_data]    | Downloading package pl196x to\n",
      "[nltk_data]    |     C:\\Users\\Administrator\\AppData\\Roaming\\nltk_data.\n",
      "[nltk_data]    |     ..\n",
      "[nltk_data]    |   Unzipping corpora\\pl196x.zip.\n",
      "[nltk_data]    | Downloading package ppattach to\n",
      "[nltk_data]    |     C:\\Users\\Administrator\\AppData\\Roaming\\nltk_data.\n",
      "[nltk_data]    |     ..\n",
      "[nltk_data]    |   Unzipping corpora\\ppattach.zip.\n",
      "[nltk_data]    | Downloading package problem_reports to\n",
      "[nltk_data]    |     C:\\Users\\Administrator\\AppData\\Roaming\\nltk_data.\n",
      "[nltk_data]    |     ..\n",
      "[nltk_data]    |   Unzipping corpora\\problem_reports.zip.\n",
      "[nltk_data]    | Downloading package propbank to\n",
      "[nltk_data]    |     C:\\Users\\Administrator\\AppData\\Roaming\\nltk_data.\n",
      "[nltk_data]    |     ..\n",
      "[nltk_data]    | Downloading package ptb to\n",
      "[nltk_data]    |     C:\\Users\\Administrator\\AppData\\Roaming\\nltk_data.\n",
      "[nltk_data]    |     ..\n",
      "[nltk_data]    |   Unzipping corpora\\ptb.zip.\n",
      "[nltk_data]    | Downloading package qc to\n",
      "[nltk_data]    |     C:\\Users\\Administrator\\AppData\\Roaming\\nltk_data.\n",
      "[nltk_data]    |     ..\n",
      "[nltk_data]    |   Unzipping corpora\\qc.zip.\n",
      "[nltk_data]    | Downloading package reuters to\n",
      "[nltk_data]    |     C:\\Users\\Administrator\\AppData\\Roaming\\nltk_data.\n",
      "[nltk_data]    |     ..\n",
      "[nltk_data]    | Downloading package rte to\n",
      "[nltk_data]    |     C:\\Users\\Administrator\\AppData\\Roaming\\nltk_data.\n",
      "[nltk_data]    |     ..\n",
      "[nltk_data]    |   Unzipping corpora\\rte.zip.\n",
      "[nltk_data]    | Downloading package semcor to\n",
      "[nltk_data]    |     C:\\Users\\Administrator\\AppData\\Roaming\\nltk_data.\n",
      "[nltk_data]    |     ..\n",
      "[nltk_data]    | Downloading package senseval to\n",
      "[nltk_data]    |     C:\\Users\\Administrator\\AppData\\Roaming\\nltk_data.\n",
      "[nltk_data]    |     ..\n",
      "[nltk_data]    |   Unzipping corpora\\senseval.zip.\n",
      "[nltk_data]    | Downloading package sentiwordnet to\n",
      "[nltk_data]    |     C:\\Users\\Administrator\\AppData\\Roaming\\nltk_data.\n",
      "[nltk_data]    |     ..\n",
      "[nltk_data]    |   Unzipping corpora\\sentiwordnet.zip.\n",
      "[nltk_data]    | Downloading package shakespeare to\n",
      "[nltk_data]    |     C:\\Users\\Administrator\\AppData\\Roaming\\nltk_data.\n",
      "[nltk_data]    |     ..\n",
      "[nltk_data]    |   Unzipping corpora\\shakespeare.zip.\n",
      "[nltk_data]    | Downloading package sinica_treebank to\n",
      "[nltk_data]    |     C:\\Users\\Administrator\\AppData\\Roaming\\nltk_data.\n",
      "[nltk_data]    |     ..\n",
      "[nltk_data]    |   Unzipping corpora\\sinica_treebank.zip.\n",
      "[nltk_data]    | Downloading package state_union to\n",
      "[nltk_data]    |     C:\\Users\\Administrator\\AppData\\Roaming\\nltk_data.\n",
      "[nltk_data]    |     ..\n",
      "[nltk_data]    |   Unzipping corpora\\state_union.zip.\n",
      "[nltk_data]    | Downloading package stopwords to\n",
      "[nltk_data]    |     C:\\Users\\Administrator\\AppData\\Roaming\\nltk_data.\n",
      "[nltk_data]    |     ..\n",
      "[nltk_data]    |   Unzipping corpora\\stopwords.zip.\n",
      "[nltk_data]    | Downloading package swadesh to\n",
      "[nltk_data]    |     C:\\Users\\Administrator\\AppData\\Roaming\\nltk_data.\n",
      "[nltk_data]    |     ..\n",
      "[nltk_data]    |   Unzipping corpora\\swadesh.zip.\n",
      "[nltk_data]    | Downloading package switchboard to\n",
      "[nltk_data]    |     C:\\Users\\Administrator\\AppData\\Roaming\\nltk_data.\n",
      "[nltk_data]    |     ..\n",
      "[nltk_data]    |   Unzipping corpora\\switchboard.zip.\n",
      "[nltk_data]    | Downloading package timit to\n",
      "[nltk_data]    |     C:\\Users\\Administrator\\AppData\\Roaming\\nltk_data.\n",
      "[nltk_data]    |     ..\n",
      "[nltk_data]    |   Unzipping corpora\\timit.zip.\n",
      "[nltk_data]    | Downloading package toolbox to\n",
      "[nltk_data]    |     C:\\Users\\Administrator\\AppData\\Roaming\\nltk_data.\n",
      "[nltk_data]    |     ..\n",
      "[nltk_data]    |   Unzipping corpora\\toolbox.zip.\n",
      "[nltk_data]    | Downloading package treebank to\n",
      "[nltk_data]    |     C:\\Users\\Administrator\\AppData\\Roaming\\nltk_data.\n",
      "[nltk_data]    |     ..\n",
      "[nltk_data]    |   Unzipping corpora\\treebank.zip.\n",
      "[nltk_data]    | Downloading package udhr to\n",
      "[nltk_data]    |     C:\\Users\\Administrator\\AppData\\Roaming\\nltk_data.\n",
      "[nltk_data]    |     ..\n",
      "[nltk_data]    |   Unzipping corpora\\udhr.zip.\n",
      "[nltk_data]    | Downloading package udhr2 to\n",
      "[nltk_data]    |     C:\\Users\\Administrator\\AppData\\Roaming\\nltk_data.\n",
      "[nltk_data]    |     ..\n",
      "[nltk_data]    |   Unzipping corpora\\udhr2.zip.\n",
      "[nltk_data]    | Downloading package unicode_samples to\n",
      "[nltk_data]    |     C:\\Users\\Administrator\\AppData\\Roaming\\nltk_data.\n",
      "[nltk_data]    |     ..\n",
      "[nltk_data]    |   Unzipping corpora\\unicode_samples.zip.\n",
      "[nltk_data]    | Downloading package universal_treebanks_v20 to\n",
      "[nltk_data]    |     C:\\Users\\Administrator\\AppData\\Roaming\\nltk_data.\n",
      "[nltk_data]    |     ..\n",
      "[nltk_data]    | Downloading package verbnet to\n",
      "[nltk_data]    |     C:\\Users\\Administrator\\AppData\\Roaming\\nltk_data.\n",
      "[nltk_data]    |     ..\n",
      "[nltk_data]    |   Unzipping corpora\\verbnet.zip.\n",
      "[nltk_data]    | Downloading package verbnet3 to\n",
      "[nltk_data]    |     C:\\Users\\Administrator\\AppData\\Roaming\\nltk_data.\n",
      "[nltk_data]    |     ..\n",
      "[nltk_data]    |   Unzipping corpora\\verbnet3.zip.\n",
      "[nltk_data]    | Downloading package webtext to\n",
      "[nltk_data]    |     C:\\Users\\Administrator\\AppData\\Roaming\\nltk_data.\n",
      "[nltk_data]    |     ..\n",
      "[nltk_data]    |   Unzipping corpora\\webtext.zip.\n",
      "[nltk_data]    | Downloading package wordnet to\n",
      "[nltk_data]    |     C:\\Users\\Administrator\\AppData\\Roaming\\nltk_data.\n",
      "[nltk_data]    |     ..\n",
      "[nltk_data]    |   Unzipping corpora\\wordnet.zip.\n",
      "[nltk_data]    | Downloading package wordnet_ic to\n",
      "[nltk_data]    |     C:\\Users\\Administrator\\AppData\\Roaming\\nltk_data.\n",
      "[nltk_data]    |     ..\n",
      "[nltk_data]    |   Unzipping corpora\\wordnet_ic.zip.\n",
      "[nltk_data]    | Downloading package words to\n",
      "[nltk_data]    |     C:\\Users\\Administrator\\AppData\\Roaming\\nltk_data.\n",
      "[nltk_data]    |     ..\n",
      "[nltk_data]    |   Unzipping corpora\\words.zip.\n",
      "[nltk_data]    | Downloading package ycoe to\n",
      "[nltk_data]    |     C:\\Users\\Administrator\\AppData\\Roaming\\nltk_data.\n",
      "[nltk_data]    |     ..\n",
      "[nltk_data]    |   Unzipping corpora\\ycoe.zip.\n",
      "[nltk_data]    | Downloading package panlex_swadesh to\n",
      "[nltk_data]    |     C:\\Users\\Administrator\\AppData\\Roaming\\nltk_data.\n",
      "[nltk_data]    |     ..\n",
      "[nltk_data]    | Downloading package mte_teip5 to\n",
      "[nltk_data]    |     C:\\Users\\Administrator\\AppData\\Roaming\\nltk_data.\n",
      "[nltk_data]    |     ..\n",
      "[nltk_data]    |   Unzipping corpora\\mte_teip5.zip.\n",
      "[nltk_data]    | Downloading package nonbreaking_prefixes to\n",
      "[nltk_data]    |     C:\\Users\\Administrator\\AppData\\Roaming\\nltk_data.\n",
      "[nltk_data]    |     ..\n",
      "[nltk_data]    |   Unzipping corpora\\nonbreaking_prefixes.zip.\n",
      "[nltk_data]    | \n",
      "[nltk_data]  Done downloading collection all-corpora\n"
     ]
    },
    {
     "data": {
      "text/plain": [
       "True"
      ]
     },
     "execution_count": 3,
     "metadata": {},
     "output_type": "execute_result"
    }
   ],
   "source": [
    "nltk.download('all-corpora')  # 이러면 다운 된 것\n",
    "# 어디로 down됐는지 잘 봐야함\n",
    "# C:\\Users\\Administrator\\AppData\\Roaming\\nltk_data.\n",
    "# 이게 방금 다운받은 것"
   ]
  },
  {
   "cell_type": "code",
   "execution_count": 4,
   "id": "83dfe8c7-9586-4c8f-b5aa-d7d25555fc2b",
   "metadata": {},
   "outputs": [
    {
     "name": "stderr",
     "output_type": "stream",
     "text": [
      "[nltk_data] Downloading package punkt to\n",
      "[nltk_data]     C:\\Users\\Administrator\\AppData\\Roaming\\nltk_data...\n",
      "[nltk_data]   Unzipping tokenizers\\punkt.zip.\n"
     ]
    },
    {
     "data": {
      "text/plain": [
       "True"
      ]
     },
     "execution_count": 4,
     "metadata": {},
     "output_type": "execute_result"
    }
   ],
   "source": [
    "# 그리고  또 하나\n",
    "nltk.download('punkt')  #  ->  nltk에서 쓰는 토크나이저 tokenizer\n",
    "# 이놈도 다운 받으면 됨"
   ]
  },
  {
   "cell_type": "markdown",
   "id": "6a9806b7-9712-4651-8d1d-4e430e7c2804",
   "metadata": {},
   "source": [
    "### 단어 단위 토크나이징"
   ]
  },
  {
   "cell_type": "code",
   "execution_count": 5,
   "id": "0d245008-4bf9-49ee-b69c-c89c7dfda78c",
   "metadata": {},
   "outputs": [],
   "source": [
    "from nltk.tokenize import word_tokenize"
   ]
  },
  {
   "cell_type": "code",
   "execution_count": 9,
   "id": "c1e47737-938c-4cf1-ad72-d5581322673e",
   "metadata": {},
   "outputs": [],
   "source": [
    "sentence = \"Natural language processing (NLP) is a subfield of computer science, \\\n",
    "information engineering, and artificial intelligence concerned with the interactions \\\n",
    "between computers and human (natural) languages, in particular how to program computers \\\n",
    "to process and analyze large amounts of natural language data.\""
   ]
  },
  {
   "cell_type": "code",
   "execution_count": 10,
   "id": "88b9d670-3dd2-4119-9ee6-0e272eb3ad11",
   "metadata": {},
   "outputs": [
    {
     "name": "stdout",
     "output_type": "stream",
     "text": [
      "['Natural', 'language', 'processing', '(', 'NLP', ')', 'is', 'a', 'subfield', 'of', 'computer', 'science', ',', 'information', 'engineering', ',', 'and', 'artificial', 'intelligence', 'concerned', 'with', 'the', 'interactions', 'between', 'computers', 'and', 'human', '(', 'natural', ')', 'languages', ',', 'in', 'particular', 'how', 'to', 'program', 'computers', 'to', 'process', 'and', 'analyze', 'large', 'amounts', 'of', 'natural', 'language', 'data', '.']\n"
     ]
    }
   ],
   "source": [
    "print(word_tokenize(sentence))  # 단어단위로 쪼갬\n",
    "# 콤마,  , 마침표.  , 괄호 여닫 (,) ,별로도 다 나눔"
   ]
  },
  {
   "cell_type": "markdown",
   "id": "519dc351-6921-4971-a969-5e195e4e0522",
   "metadata": {},
   "source": [
    "### 문장 단위 토크나이징"
   ]
  },
  {
   "cell_type": "code",
   "execution_count": 11,
   "id": "bfee8eb7-1e94-441c-8691-452cc8b5a145",
   "metadata": {},
   "outputs": [],
   "source": [
    "from nltk.tokenize import sent_tokenize"
   ]
  },
  {
   "cell_type": "code",
   "execution_count": 12,
   "id": "0218b8fa-5272-4215-9b0f-852f5d215633",
   "metadata": {},
   "outputs": [],
   "source": [
    "paragraph = \"Natural language processing (NLP) is a subfield of computer science, \\\n",
    "information engineering, and artificial intelligence concerned with the interactions \\\n",
    "between computers and human (natural) languages, in particular how to program computers \\\n",
    "to process and analyze large amounts of natural language data. Challenges in natural \\\n",
    "language processing frequently involve speech recognition, natural language \\\n",
    "understanding, and natural language generation.\""
   ]
  },
  {
   "cell_type": "code",
   "execution_count": 13,
   "id": "5bf04ae7-b133-4c83-9fa8-1546c5289291",
   "metadata": {},
   "outputs": [
    {
     "name": "stdout",
     "output_type": "stream",
     "text": [
      "['Natural language processing (NLP) is a subfield of computer science, information engineering, and artificial intelligence concerned with the interactions between computers and human (natural) languages, in particular how to program computers to process and analyze large amounts of natural language data.', 'Challenges in natural language processing frequently involve speech recognition, natural language understanding, and natural language generation.']\n"
     ]
    }
   ],
   "source": [
    "print(sent_tokenize(paragraph))"
   ]
  },
  {
   "cell_type": "code",
   "execution_count": 14,
   "id": "dc086acb-f4e0-4b63-b612-c601c1119567",
   "metadata": {},
   "outputs": [],
   "source": [
    "# 문장을 자른것\n",
    "# 1. Natural ~ data\n",
    "# 2. Challenges ~ generation"
   ]
  },
  {
   "cell_type": "markdown",
   "id": "dcd67572-da70-42c4-a8d8-a096a74ecef3",
   "metadata": {},
   "source": [
    "### nltk를 활용한 불용어 처리"
   ]
  },
  {
   "cell_type": "code",
   "execution_count": 16,
   "id": "cafd97be-e19a-4132-b24d-bf9666cebd5b",
   "metadata": {},
   "outputs": [],
   "source": [
    "from nltk.corpus import stopwords\n",
    "# nltk는 자체적으로 불용어 사전이 있음(물론 영어에 대해서. 한글은 없음)\n",
    "# 이걸 활용해 좀 더 편하게 할 수 있음"
   ]
  },
  {
   "cell_type": "code",
   "execution_count": 17,
   "id": "7fa3d9d5-8188-4890-8de8-63a204db0bc4",
   "metadata": {},
   "outputs": [
    {
     "name": "stdout",
     "output_type": "stream",
     "text": [
      "179\n"
     ]
    }
   ],
   "source": [
    "print(len(stopwords.words('english')))  # 영어에 대한 stopwords가 불용어 사전에 179개가 있다고 함"
   ]
  },
  {
   "cell_type": "code",
   "execution_count": 18,
   "id": "2c7f68ff-10ea-49b5-b3b3-4b50dddcd3a9",
   "metadata": {},
   "outputs": [
    {
     "data": {
      "text/plain": [
       "['i', 'me', 'my', 'myself', 'we', 'our', 'ours', 'ourselves', 'you', \"you're\"]"
      ]
     },
     "execution_count": 18,
     "metadata": {},
     "output_type": "execute_result"
    }
   ],
   "source": [
    "stopwords.words('english')[:10]  # 불용어 사전의 앞쪽 10개에는 뭐가 있을까"
   ]
  },
  {
   "cell_type": "code",
   "execution_count": 19,
   "id": "5b6dd829-02c8-4da3-89e5-2bf0cce8e326",
   "metadata": {},
   "outputs": [
    {
     "data": {
      "text/plain": [
       "['shouldn',\n",
       " \"shouldn't\",\n",
       " 'wasn',\n",
       " \"wasn't\",\n",
       " 'weren',\n",
       " \"weren't\",\n",
       " 'won',\n",
       " \"won't\",\n",
       " 'wouldn',\n",
       " \"wouldn't\"]"
      ]
     },
     "execution_count": 19,
     "metadata": {},
     "output_type": "execute_result"
    }
   ],
   "source": [
    "# 뒤쪽 10개에는 뭐가 있을까\n",
    "stopwords.words('english')[-10:]"
   ]
  },
  {
   "cell_type": "code",
   "execution_count": 22,
   "id": "1e70872f-c866-48d3-9d26-8ec43d4e9e74",
   "metadata": {},
   "outputs": [],
   "source": [
    "# 위의 sentence에서 불용어를 제거해보자 (불용어 사전이 있으므로)\n",
    "# 1. 일단 불용어를 저장\n",
    "stop_words = set(stopwords.words('english'))  # 혹시 중복이 있을지 모르니 -> set()으로 한번 걸러냄\n",
    "\n",
    "# 위의 문장을 단어 단위로 tokenizing 합시다\n",
    "word_tokens = word_tokenize(sentence)\n",
    "\n",
    "# 결과를 담을 놈을 빈 list로 생성\n",
    "result = []\n",
    "for w in word_tokens:  # 여기서 word를 뽑아낼 것\n",
    "    if w not in stop_words:  # 단어를 하나씩 뽑아서 -> 만약 불용어 사전에 들어있지 않다면\n",
    "        result.append(w)  # append를 할거고\n",
    "        # 불용어 사전에 있으면 append 안하고 그냥 통과"
   ]
  },
  {
   "cell_type": "code",
   "execution_count": 23,
   "id": "39f4ac1a-3ff0-4d60-8f76-32bfd8497546",
   "metadata": {},
   "outputs": [
    {
     "name": "stdout",
     "output_type": "stream",
     "text": [
      "['Natural', 'language', 'processing', '(', 'NLP', ')', 'is', 'a', 'subfield', 'of', 'computer', 'science', ',', 'information', 'engineering', ',', 'and', 'artificial', 'intelligence', 'concerned', 'with', 'the', 'interactions', 'between', 'computers', 'and', 'human', '(', 'natural', ')', 'languages', ',', 'in', 'particular', 'how', 'to', 'program', 'computers', 'to', 'process', 'and', 'analyze', 'large', 'amounts', 'of', 'natural', 'language', 'data', '.']\n"
     ]
    }
   ],
   "source": [
    "# 원문장\n",
    "print(word_tokens)"
   ]
  },
  {
   "cell_type": "code",
   "execution_count": 25,
   "id": "57789922-a0c9-46cb-afa9-74616c014097",
   "metadata": {},
   "outputs": [
    {
     "name": "stdout",
     "output_type": "stream",
     "text": [
      "['Natural', 'language', 'processing', '(', 'NLP', ')', 'subfield', 'computer', 'science', ',', 'information', 'engineering', ',', 'artificial', 'intelligence', 'concerned', 'interactions', 'computers', 'human', '(', 'natural', ')', 'languages', ',', 'particular', 'program', 'computers', 'process', 'analyze', 'large', 'amounts', 'natural', 'language', 'data', '.']\n"
     ]
    }
   ],
   "source": [
    "# 불용어 잘라낸 문장\n",
    "print(result)\n",
    "\n",
    "# is, a, of, with, the, to 등등을 불용어로 처리해서 날려버림"
   ]
  },
  {
   "cell_type": "code",
   "execution_count": null,
   "id": "b74cb264-ec36-46f7-8964-7f0a93cc62e1",
   "metadata": {},
   "outputs": [],
   "source": []
  },
  {
   "cell_type": "code",
   "execution_count": null,
   "id": "de11d339-f4ba-4ab4-8f0d-b9071399fe1d",
   "metadata": {},
   "outputs": [],
   "source": []
  },
  {
   "cell_type": "code",
   "execution_count": 26,
   "id": "37a5bbbc-8265-40b5-a408-b7b44dec23ef",
   "metadata": {},
   "outputs": [],
   "source": [
    "# spacy 설치\n",
    "# conda install spacy"
   ]
  },
  {
   "cell_type": "markdown",
   "id": "a9dad7fb-3ce1-4d37-a091-ca38f27c157a",
   "metadata": {},
   "source": [
    "## 2. Spacy\n",
    "- 상업용 목적으로 만들어진 오픈소스 라이브러리\n",
    "- 영어를 포함한 8개 국어에 대한 자연어 전처리 모듈을 제공\n",
    "- 쉬운 설치 및 빠른 전처리"
   ]
  },
  {
   "cell_type": "code",
   "execution_count": 27,
   "id": "d826eda3-3eaa-44eb-a7e7-c24b81dfce46",
   "metadata": {},
   "outputs": [],
   "source": [
    "import spacy"
   ]
  },
  {
   "cell_type": "code",
   "execution_count": null,
   "id": "bf382d97-1b77-477f-a49e-6beaf02fbdc0",
   "metadata": {},
   "outputs": [],
   "source": [
    "# spacy는 밥먹고 하는걸로...."
   ]
  },
  {
   "cell_type": "code",
   "execution_count": null,
   "id": "44663f79-febb-4d7d-b633-4b8e9d606ea6",
   "metadata": {},
   "outputs": [],
   "source": [
    "# 설치\n",
    "# 아래 \n",
    "# nlp = spacy.load('en')\n",
    "# doc = nlp(sentence)\n",
    "# 이 2개는 다운 안해서 에러 발생함.\n",
    "# 다운해줘야함.\n",
    "\n",
    "# !python -m spacy download en\n",
    "# 그러나 이곳에서의 설치, 실행도 관리자모드가 필요함.\n",
    "\n",
    "# 관리자모드로\n",
    "# Anaconda Powershell Prompt (anaconda3) 열어서\n",
    "# python -m spacy download en\n",
    "# 이렇게 쳐주면 됨.\n",
    "# (위치 가서 conda activate python-env 해주고 함)\n",
    "\n",
    "# 완료되면\n",
    "# You can now load the model via spacy.load('en')\n",
    "# 라고 뜸\n",
    "\n",
    "# 아래 실행하면 정상 작동 됨\n",
    "\n",
    "# => 영어에 대한 text data를 끄집어 내려야 함."
   ]
  },
  {
   "cell_type": "code",
   "execution_count": 30,
   "id": "4fb8b861-f105-4e61-a585-b57c95f2c858",
   "metadata": {},
   "outputs": [],
   "source": [
    "nlp = spacy.load('en')\n",
    "\n",
    "doc = nlp(sentence)"
   ]
  },
  {
   "cell_type": "code",
   "execution_count": 31,
   "id": "51beb974-d7e6-452c-8673-8364368c3f1d",
   "metadata": {},
   "outputs": [
    {
     "name": "stdout",
     "output_type": "stream",
     "text": [
      "['Natural', 'language', 'processing', '(', 'NLP', ')', 'is', 'a', 'subfield', 'of', 'computer', 'science', ',', 'information', 'engineering', ',', 'and', 'artificial', 'intelligence', 'concerned', 'with', 'the', 'interactions', 'between', 'computers', 'and', 'human', '(', 'natural', ')', 'languages', ',', 'in', 'particular', 'how', 'to', 'program', 'computers', 'to', 'process', 'and', 'analyze', 'large', 'amounts', 'of', 'natural', 'language', 'data', '.']\n"
     ]
    }
   ],
   "source": [
    "word_tokenized_sentence = [token.text for token in doc]\n",
    "print(word_tokenized_sentence)"
   ]
  },
  {
   "cell_type": "code",
   "execution_count": 32,
   "id": "761315a9-3765-469e-9478-969469ee5f68",
   "metadata": {},
   "outputs": [
    {
     "name": "stdout",
     "output_type": "stream",
     "text": [
      "['Natural language processing (NLP) is a subfield of computer science, information engineering, and artificial intelligence concerned with the interactions between computers and human (natural) languages, in particular how to program computers to process and analyze large amounts of natural language data.']\n"
     ]
    }
   ],
   "source": [
    "# 문장 단위로 토크나이즈드(tokenized)\n",
    "sentence_tokenized_list = [sent.text for sent in doc.sents]\n",
    "print(sentence_tokenized_list)"
   ]
  },
  {
   "cell_type": "code",
   "execution_count": null,
   "id": "8544c80d-a759-4bf8-8b19-ee566e4ebd47",
   "metadata": {},
   "outputs": [],
   "source": []
  },
  {
   "cell_type": "code",
   "execution_count": 33,
   "id": "7ae39ab5-c0ca-4ce9-8775-c29624b7369a",
   "metadata": {},
   "outputs": [],
   "source": [
    "# 아쉽게도 언어 구조가 달라서\n",
    "# 한글 tokenize는 이걸 못 씀\n",
    "# 한글 토크나이즈는 다른걸 써야 함.\n",
    "\n",
    "# 한글이 영어와 어떻게 다른지\n",
    "# 책에는 없지만\n",
    "# 여기서 잠깐 보고 간다.\n",
    "# https://wikidocs.net/21668"
   ]
  },
  {
   "cell_type": "code",
   "execution_count": 34,
   "id": "22bda0de-9812-4520-bafb-656c985ab3f7",
   "metadata": {},
   "outputs": [],
   "source": [
    "# 언어 모델을 만드는 방법은 크게는 \n",
    "# 통계를 이용한 방법과  (=정통적인 방법)\n",
    "# 인공 신경망을 이용한 방법으로 구분할 수 있습니다.  (= 요즘 방법)\n",
    "\n",
    "# 최근에는 인공 신경망을 이용한 방법이 더 좋은 성능을 보여주고 있습니다.\n",
    "\n",
    "\n",
    "# 영어나 기타 언어에 비해서 한국어는 언어 모델로 다음 단어를 예측하기가 훨씬 까다롭습니다.\n",
    "\n",
    "# 1. 한국어는 어순이 중요하지 않다.  <- 이거때문에 굉장히 어려움\n",
    "# Ex)\n",
    "# ① 나는 운동을 합니다 체육관에서.\n",
    "# ② 나는 체육관에서 운동을 합니다.\n",
    "# ③ 체육관에서 운동을 합니다.\n",
    "# ④ 나는 운동을 체육관에서 합니다.\n",
    "\n",
    "# 이렇게 단어 순서를 뒤죽박죽으로 바꾸어놔도 한국어는 의미가 전달 되기 때문에 \n",
    "# 확률에 기반한 언어 모델이 제대로 다음 단어를 예측하기가 어렵습니다.\n",
    "\n",
    "# 2. 한국어는 교착어이다.\n",
    "\n",
    "# 띄어쓰기 단위인 어절 단위로 토큰화를 할 경우에는 \n",
    "# 문장에서 발생가능한 단어의 수가 굉장히 늘어납니다.\n",
    "\n",
    "# 가령 '그녀'라는 단어 하나만 해도 \n",
    "# 그녀가, 그녀를, 그녀의, 그녀와, 그녀로, 그녀께서, 그녀처럼 등과 같이 \n",
    "# 다양한 경우가 존재합니다\n",
    "\n",
    "# 그래서 단순하게 black단위로 잘라서 사용하기가 힘들다는 의미.\n",
    "# 그래서 한국어에선, 이 조사를 어떻게 할것인가가 중요한 문제\n",
    "# 단어의 원형으로 많이 함. -> 그녀가, 그녀를 ... -> 그녀\n",
    "# 그런데 이짓도 코딩하기 존나 힘듬\n",
    "\n",
    "# 3. 한국어는 띄어쓰기가 제대로 지켜지지 않는다.\n",
    "\n",
    "# 띄어쓰기 제대로 안해도 의미 전달 가능\n",
    "# 그런데 띄어쓰기 제대로 안한 상태에서 토큰화가 제대로 되기는 어려움\n",
    "\n",
    "\n",
    "# 그래서 한글은 좀 특별하다는 것."
   ]
  },
  {
   "cell_type": "markdown",
   "id": "eed97d5c-8935-42e6-9e25-f92fbecda36f",
   "metadata": {},
   "source": [
    "### 한글 토크나이징\n",
    "- 한글은 언어의 특성상 NLTK나 Spacy는 사용하기에 적합하지 않음\n",
    "- 영어에 존재하지 않는 형태소 분석이나 음소 분리와 같은 내용은 다루기 어려움"
   ]
  },
  {
   "cell_type": "code",
   "execution_count": 35,
   "id": "6ee3dbac-965a-4745-bfff-ee12803b793a",
   "metadata": {},
   "outputs": [],
   "source": [
    "# 그래서 만든데 KoLNPy  (코 엘엔 파이)\n",
    "\n",
    "# 책 p73~ .부터"
   ]
  },
  {
   "cell_type": "markdown",
   "id": "b3c2d13b-7045-4ec3-ad53-275b828d1367",
   "metadata": {},
   "source": [
    "### KoLNPy\n",
    "- 한글 자연어 처리를 위해 만들어진 오픈소스 라이브러리\n",
    "- 국내에 이미 만들어져 사용되고 있는 여러 형태소 분석기를 사용할 수 있음\n",
    "- 자바로 작성된 형태소 분석기를 사용하기 때문에 윈도우에서 KoNLPy를 설치하기 위해서는 Java(1.7 이상)가 필요"
   ]
  },
  {
   "cell_type": "code",
   "execution_count": 36,
   "id": "de305f35-a9c2-4c74-b5d7-0e6c5117dae5",
   "metadata": {},
   "outputs": [],
   "source": [
    "# KoLNPy 설치\n",
    "# conda install -c conda-forge jpype1\n",
    "# 이게 자바하고 파이썬하고 연동해주는 것  (참고로 위에 숫자 1임)\n",
    "# (위에서 말했듯이, Java 1.7 이상이 필요)\n",
    "\n",
    "# 이것도 관리자 권한으로 킨 Anaconda Powershell Prompt 에서 했음\n",
    "\n",
    "# 이게 정상적으로 설치되었으면\n",
    "# KoNLPy를 설치해야 하는데\n",
    "# 이건 한국사람이 만들고, 한국인이 쓰는건데\n",
    "# 당연히 아나콘다에 등록 안되어있음\n",
    "# 그래서 pip로 설치해야 함.\n",
    "# (conda install 로 설치 안됨)\n",
    "\n",
    "# pip install konlpy\n",
    "\n",
    "# 설치 완"
   ]
  },
  {
   "cell_type": "code",
   "execution_count": 37,
   "id": "980aacf6-db11-4456-b148-4871efb4eab5",
   "metadata": {},
   "outputs": [],
   "source": [
    "# 만약 여기서 문제가 생기면\n",
    "# pip uninstall tweepy\n",
    "# 로 삭제하고\n",
    "\n",
    "# pip install tweepy==3.10.0\n",
    "# 로 설치하면 된다고 함\n",
    "\n",
    "# 끝나면 재시작\n",
    "# kernel restart하고 실행하면 잘 됨\n",
    "\n",
    "# 아마 버전 충돌로 생기는 문제인듯 함"
   ]
  },
  {
   "cell_type": "code",
   "execution_count": null,
   "id": "ab602077-bdd2-4cd7-bc10-0b6eb2d196c9",
   "metadata": {},
   "outputs": [],
   "source": []
  },
  {
   "cell_type": "code",
   "execution_count": 1,
   "id": "16e5663e-54da-491e-af06-cb9cf734a37d",
   "metadata": {},
   "outputs": [],
   "source": [
    "import konlpy"
   ]
  },
  {
   "cell_type": "markdown",
   "id": "c7ed428d-b757-4eb3-b4c0-fdea268e1ffc",
   "metadata": {},
   "source": [
    "### 형태소 단위 토크나이징\n",
    "- KoNLPy 에서는 여러 형태소 분석기를 제공\n",
    "- 각 형태소 분석기는 클래스 형태로 되어 있고, 이를 객체로 생성한 후 메서드를 호출해서 토크나이징 함"
   ]
  },
  {
   "cell_type": "markdown",
   "id": "f79743cc-30d6-400f-b18d-673e0eccfb8b",
   "metadata": {},
   "source": [
    "### 형태서 분석 및 품사 태깅\n",
    "- 형태소랑 의미를 가지는 가장 작은 단위\n",
    "- KoNLPy에 객체 형태로 포함되어 있는 형태소 분석기 목록\\\n",
    "a. Hannanum\\\n",
    "b. Kkma\\\n",
    "c. Komoran\\\n",
    "d. Mecab\\\n",
    "e. Okt(Twitter)\n",
    "- 위 객체들은 모두 동일하게 형태소 분석 기능을 제공\n",
    "- 각기 성능이 조금씩 다름\n",
    "- Mecab은 윈도우에서 실행 불가능"
   ]
  },
  {
   "cell_type": "code",
   "execution_count": null,
   "id": "f4d5845c-730d-4add-84c0-2061e779e606",
   "metadata": {},
   "outputs": [],
   "source": [
    "# https://github.com/NLP-kr/tensorflow-ml-nlp-tf2/blob/master/2.NLP_PREP/2.3.1.3.koNLPy.ipynb\n",
    "# 참고 소스"
   ]
  },
  {
   "cell_type": "code",
   "execution_count": 2,
   "id": "41f207c2-fe83-4a27-a6c8-e67d2249e4a3",
   "metadata": {},
   "outputs": [],
   "source": [
    "from konlpy.tag import Hannanum, Kkma, Komoran, Okt"
   ]
  },
  {
   "cell_type": "code",
   "execution_count": 3,
   "id": "03afcff6-3cc3-4dc0-9770-99b91b4f4add",
   "metadata": {},
   "outputs": [
    {
     "name": "stdout",
     "output_type": "stream",
     "text": [
      "['한글', '자연어', '처리', '는', '재밌다', '이제', '부터', '열심히', '해야지', 'ㅎㅎㅎ']\n"
     ]
    }
   ],
   "source": [
    "okt = Okt()\n",
    "text = '한글 자연어 처리는 재밌다 이제부터 열심히 해야지ㅎㅎㅎ'\n",
    "print(okt.morphs(text))"
   ]
  },
  {
   "cell_type": "code",
   "execution_count": 4,
   "id": "296f67ef-298d-4c10-8680-328741be9176",
   "metadata": {},
   "outputs": [],
   "source": [
    "# okt 에서 에러남\n",
    "# jpypel 1.3.0인데 이게 버전이 너무 높아서 충돌남 -> 버전 낮춰야 함\n",
    "\n",
    "# conda uninstall jpype1\n",
    "# 로 지우고\n",
    "\n",
    "# pip install \"jpype1<1.1\"\n",
    "# 으로 버전을 1.1보다 낮게 함\n",
    "\n",
    "# 이러고 kenel restart한 다음에\n",
    "# 위에거 다시 실행하면 에러 안나고 잘 됨"
   ]
  },
  {
   "cell_type": "code",
   "execution_count": 4,
   "id": "0e968580-01a0-4d2c-b39f-44fcb4fa3ec5",
   "metadata": {},
   "outputs": [],
   "source": [
    "# 결과 >>>\n",
    "# ['한글', '자연어', '처리', '는', '재밌다', '이제', '부터', '열심히', '해야지', 'ㅎㅎㅎ']"
   ]
  },
  {
   "cell_type": "code",
   "execution_count": 6,
   "id": "843786a9-3a08-44a2-bcc3-02b3af2c9753",
   "metadata": {},
   "outputs": [
    {
     "name": "stdout",
     "output_type": "stream",
     "text": [
      "['한글', '자연어', '처리', '는', '재밌다', '이제', '부터', '열심히', '하다', 'ㅎㅎㅎ']\n"
     ]
    }
   ],
   "source": [
    "print(okt.morphs(text, stem=True))\n",
    "# 어간 추출 \n",
    "# (stem=True)\n",
    "# -> 원형으로 변경시켜 주는 것\n",
    "# ex) 할거야, 해야지 등등 -> 하다    로 바꿔줌"
   ]
  },
  {
   "cell_type": "code",
   "execution_count": 8,
   "id": "231d8146-363e-4175-8717-ae3dd33da84d",
   "metadata": {},
   "outputs": [
    {
     "name": "stdout",
     "output_type": "stream",
     "text": [
      "[('한글', 'Noun'), ('자연어', 'Noun'), ('처리', 'Noun'), ('는', 'Josa'), ('재밌다', 'Adjective'), ('이제', 'Noun'), ('부터', 'Josa'), ('열심히', 'Adverb'), ('해야지', 'Verb'), ('ㅎㅎㅎ', 'KoreanParticle')]\n"
     ]
    }
   ],
   "source": [
    "print(okt.pos(text))  #okt.pos 하면 이렇게 나옴  ->  품사 정보"
   ]
  },
  {
   "cell_type": "code",
   "execution_count": 9,
   "id": "d375d2d0-89c3-4ebe-baa6-e290469c26ae",
   "metadata": {},
   "outputs": [
    {
     "name": "stdout",
     "output_type": "stream",
     "text": [
      "['한글/Noun', '자연어/Noun', '처리/Noun', '는/Josa', '재밌다/Adjective', '이제/Noun', '부터/Josa', '열심히/Adverb', '해야지/Verb', 'ㅎㅎㅎ/KoreanParticle']\n"
     ]
    }
   ],
   "source": [
    "print(okt.pos(text, join=True))\n",
    "# join=True) 붙이면 -> list형식으로 보여줌"
   ]
  },
  {
   "cell_type": "code",
   "execution_count": 10,
   "id": "bd64270a-eabc-4834-bc85-f4cc0d5315f0",
   "metadata": {},
   "outputs": [
    {
     "name": "stdout",
     "output_type": "stream",
     "text": [
      "['한글', '자연어', '처리', '는', '재밌', '다', '이제', '부터', '열심히', '하', '어야지', 'ㅎㅎㅎ']\n"
     ]
    }
   ],
   "source": [
    "# 꼬꼬마 한번 해보자\n",
    "kkma = Kkma()\n",
    "print(kkma.morphs(text))\n",
    "# 얘는 재밌다를 -> 재밋 + 다 로 분류함\n",
    "# 열심히 해야지 -> 열심히 + 하 + 어야지  .  로 분리함"
   ]
  },
  {
   "cell_type": "code",
   "execution_count": 11,
   "id": "a1fb7299-6a3b-48d7-868c-02b0ed5a3440",
   "metadata": {},
   "outputs": [
    {
     "name": "stdout",
     "output_type": "stream",
     "text": [
      "['한글', '자연어', '처리', '이제']\n"
     ]
    }
   ],
   "source": [
    "# 얘는 명사만 따로 뽑아주는 nouns를 제공함\n",
    "print(kkma.nouns(text))"
   ]
  },
  {
   "cell_type": "code",
   "execution_count": 13,
   "id": "088c2fa6-8a3b-4d55-bfb0-a5bafcf4ceb5",
   "metadata": {},
   "outputs": [
    {
     "name": "stdout",
     "output_type": "stream",
     "text": [
      "[('한글', 'NNG'), ('자연어', 'NNG'), ('처리', 'NNG'), ('는', 'JX'), ('재밌', 'VA'), ('다', 'ECS'), ('이제', 'NNG'), ('부터', 'JX'), ('열심히', 'MAG'), ('하', 'VV'), ('어야지', 'EFN'), ('ㅎㅎㅎ', 'EMO')]\n"
     ]
    }
   ],
   "source": [
    "# 얘는 pos로 품사 정보를 표현 하는데,\n",
    "# 자체 약어로 보여줌\n",
    "print(kkma.pos(text))"
   ]
  },
  {
   "cell_type": "code",
   "execution_count": 15,
   "id": "6c808dc5-bf7e-4399-b80a-89e487704c1f",
   "metadata": {},
   "outputs": [
    {
     "name": "stdout",
     "output_type": "stream",
     "text": [
      "['한글', '자연어', '처리', '는', '재밌', '다', '이제', '부터', '열심히', '해야지ㅎㅎㅎ']\n"
     ]
    }
   ],
   "source": [
    "# 이번엔 komoran\n",
    "\n",
    "komoran = Komoran()\n",
    "print(komoran.morphs(text))"
   ]
  },
  {
   "cell_type": "code",
   "execution_count": 16,
   "id": "c0f0a788-3373-4ffe-ba68-ba7be7529dff",
   "metadata": {},
   "outputs": [
    {
     "name": "stdout",
     "output_type": "stream",
     "text": [
      "['한글', '자연어', '처리', '이제']\n"
     ]
    }
   ],
   "source": [
    "print(komoran.nouns(text))   # 얘도 명사만 뽑아주는 기능이 있음"
   ]
  },
  {
   "cell_type": "code",
   "execution_count": 17,
   "id": "4e4aef0b-9418-4897-9581-162dfe23a318",
   "metadata": {},
   "outputs": [
    {
     "name": "stdout",
     "output_type": "stream",
     "text": [
      "[('한글', 'NNP'), ('자연어', 'NNP'), ('처리', 'NNG'), ('는', 'JX'), ('재밌', 'VA'), ('다', 'EC'), ('이제', 'NNG'), ('부터', 'JX'), ('열심히', 'MAG'), ('해야지ㅎㅎㅎ', 'NA')]\n"
     ]
    }
   ],
   "source": [
    "# 얘도 pos로 품사정보 보여줌\n",
    "print(komoran.pos(text))"
   ]
  },
  {
   "cell_type": "code",
   "execution_count": 18,
   "id": "8465cbdb-e5bc-490a-b0fb-29ef218a2a91",
   "metadata": {},
   "outputs": [],
   "source": [
    "# 코모란 품사표 정리 참조\n",
    "# https://docs.komoran.kr/firststep/postypes.html"
   ]
  },
  {
   "cell_type": "code",
   "execution_count": 19,
   "id": "4b8821d3-1d14-4c45-ae73-1e6e567568cf",
   "metadata": {},
   "outputs": [
    {
     "name": "stdout",
     "output_type": "stream",
     "text": [
      "['한글', '자연어', '처리', '는', '재밌다', '이제', '부터', '열심히', '해야짛ㅎㅎ']\n"
     ]
    }
   ],
   "source": [
    "# 한나넘\n",
    "hannanum = Hannanum()\n",
    "print(hannanum.morphs(text))\n",
    "\n",
    "# 얘도 처리 + 는 으로 띄움\n",
    "# 열심히 + 해야지\n",
    "# 해야짛ㅎㅎ   <- 으로 했음"
   ]
  },
  {
   "cell_type": "code",
   "execution_count": 20,
   "id": "0ee2a529-224b-48a8-9d14-bfd33368043a",
   "metadata": {},
   "outputs": [
    {
     "name": "stdout",
     "output_type": "stream",
     "text": [
      "['한글', '자연어', '처리', '재밌다', '해야짛ㅎㅎ']\n"
     ]
    }
   ],
   "source": [
    "print(hannanum.nouns(text))\n",
    "# 얘는 해야짛ㅎㅎ까지 명사로 뽑아줌"
   ]
  },
  {
   "cell_type": "code",
   "execution_count": 21,
   "id": "ef698df5-c576-4ffe-87dc-329369dca523",
   "metadata": {},
   "outputs": [
    {
     "name": "stdout",
     "output_type": "stream",
     "text": [
      "[('한글', 'N'), ('자연어', 'N'), ('처리', 'N'), ('는', 'J'), ('재밌다', 'N'), ('이제', 'M'), ('부터', 'J'), ('열심히', 'M'), ('해야짛ㅎㅎ', 'N')]\n"
     ]
    }
   ],
   "source": [
    "print(hannanum.pos(text))"
   ]
  },
  {
   "cell_type": "code",
   "execution_count": 22,
   "id": "04a417ae-8c93-4e72-8c8f-723ccd72f155",
   "metadata": {},
   "outputs": [],
   "source": [
    "# 이건좀 문제인듯\n",
    "# 뒤에있는 글자를 앞의 받침으로 땡겨버리내."
   ]
  },
  {
   "cell_type": "code",
   "execution_count": null,
   "id": "c4cad8a1-0d54-4d68-adcb-ccd7362019a8",
   "metadata": {},
   "outputs": [],
   "source": []
  },
  {
   "cell_type": "markdown",
   "id": "74323bf9-1e01-4cf0-8b83-898eababf9a2",
   "metadata": {},
   "source": [
    "### KoNLPy 데이터\n",
    "- 한글 자연어 처리에 활용할 수 있는 한글 데이터를 포함하고 있음\n",
    "- 데이터의 종류는 다음과 같음\\\n",
    "a. kolaw\\\n",
    "한국 법률 말뭉치 'constitution.txt'파일로 저장되어 있음\\\n",
    "b. kobil\\\n",
    "대한민국 국회 의안 말뭉치\\\n",
    "각 id값을 가지는 의안으로 구성되어 있고 파일은 '1809890.txt'부터 '1809899.txt'까지로 구성되어 있음"
   ]
  },
  {
   "cell_type": "code",
   "execution_count": 23,
   "id": "00f2508f-ba72-4f11-8b19-9cbd60e468e0",
   "metadata": {},
   "outputs": [],
   "source": [
    "from konlpy.corpus import kolaw, kobill"
   ]
  },
  {
   "cell_type": "code",
   "execution_count": 24,
   "id": "5841bc90-a269-4b40-b480-2690986c50ce",
   "metadata": {},
   "outputs": [
    {
     "data": {
      "text/plain": [
       "'대한민국헌법\\n\\n유구한 역사와 전통에 빛나는 우리 대한국민은 3·1운동으로 건립된 대한민국임시정부의 법통과 불의에 항거한 4·19민주이념을 계승하고, 조국의 민주개혁과 평화적 통일의'"
      ]
     },
     "execution_count": 24,
     "metadata": {},
     "output_type": "execute_result"
    }
   ],
   "source": [
    "kolaw.open('constitution.txt').read()[:100]  # 너무 기니까 100자만 보자"
   ]
  },
  {
   "cell_type": "code",
   "execution_count": 25,
   "id": "ce6eb288-aeb7-40b4-aa71-0816c4ea726e",
   "metadata": {},
   "outputs": [
    {
     "data": {
      "text/plain": [
       "'지방공무원법 일부개정법률안\\n\\n(정의화의원 대표발의 )\\n\\n 의 안\\n 번 호\\n\\n9890\\n\\n발의연월일 : 2010.  11.  12.  \\n\\n발  의  자 : 정의화․이명수․김을동 \\n\\n이사철․여상규․안규백\\n\\n황영철․박영아․김정훈\\n\\n김학송 의원(10인)\\n\\n제안이유 및 주요내용\\n\\n  초등학교 저학년의 경우에도 부모의 따뜻한 사랑과 보살핌이 필요\\n\\n한 나이이나, 현재 공무원이 자녀를 양육하기 위하여 육아휴직을 할 \\n\\n수 있는 자녀의 나이는 만 6세 이하로 되어 있어 초등학교 저학년인 \\n\\n자녀를 돌보기 위해서는 해당 부모님은 일자리를 그만 두어야 하고 \\n\\n이는 곧 출산의욕을 저하시키는 문제로 이어질 수 있을 것임.\\n\\n  따라서 육아휴직이 가능한 자녀의 연령을 만 8세 이하로 개정하려\\n\\n는 것임(안 제63조제2항제4호).\\n\\n- 1 -\\n\\n\\x0c법률  제        호\\n\\n지방공무원법 일부개정법률안\\n\\n지방공무원법 일부를 다음과 같이 개정한다.\\n\\n제63조제2항제4호 중 “만 6세 이하의 초등학교 취학 전 자녀를”을 “만 \\n\\n8세 이하(취학 중인 경우에는 초등학교 2학년 이하를 말한다)의 자녀를”\\n\\n로 한다.\\n\\n부      칙\\n\\n이 법은 공포한 날부터 시행한다.\\n\\n- 3 -\\n\\n\\x0c신 ·구조문대비표\\n\\n현      행\\n\\n개   정   안\\n\\n제63조(휴직) ① (생  략)\\n\\n제63조(휴직) ① (현행과 같음)\\n\\n  ② 공무원이 다음 각 호의 어\\n\\n  ② -------------------------\\n\\n느 하나에 해당하는 사유로 휴\\n\\n----------------------------\\n\\n직을 원하면 임용권자는 휴직\\n\\n----------------------------\\n\\n을 명할 수 있다. 다만, 제4호\\n\\n-------------.---------------\\n\\n의 경우에는 대통령령으로 정\\n\\n----------------------------\\n\\n하는 특별한 사정이 없으면 휴\\n\\n----------------------------\\n\\n직을 명하여야 한다.\\n\\n--------------.\\n\\n  1. ∼ 3. (생  략)\\n\\n  1. ∼ 3. (현행과 같음)\\n\\n  4. 만 6세 이하의 초등학교 취\\n\\n  4. 만 8세 이하(취학 중인 경우\\n\\n학 전 자녀를 양육하기 위하\\n\\n에는 초등학교 2학년 이하를 \\n\\n여 필요하거나 여자공무원이 \\n\\n말한다)의 자녀를 ----------\\n\\n임신 또는 출산하게 되었을 \\n\\n---------------------------\\n\\n때\\n\\n---------------------------\\n\\n  5.⋅6. (생  략)\\n\\n  ③⋅④ (생  략)\\n\\n--------\\n\\n  5.⋅6. (현행과 같음)\\n\\n  ③⋅④ (현행과 같음)\\n\\n- 5 -\\n\\n\\x0c지방공무원법 일부개정법률안 등 비용추계서 미첨부사유서\\n1.  재정수반요인\\n\\n개정안에서 ｢국가공무원법｣  제71조제2항제4호 중 국가공무원의 육아\\n\\n휴직 가능 자녀의 연령을 만6세 이하에서 만8세 이하로 하고, ｢지방공\\n\\n무원법｣ 제63조제2항제4호 중 지방공무원의 육아휴직 가능 자녀의 연\\n\\n령을 만6세 이하에서 만8세 이하로 하고, ｢교육공무원법｣ 제44조제1항\\n\\n제7조 중 교육공무원의 육아휴직 가능 자녀의 연령을 만6세 이하에서 \\n\\n만8세 이하로 하고, ｢남녀고용평등과 일․가정 양립지원에 관한 법률｣ \\n\\n제19조제1항 중 근로자 육아휴직 가능 자녀연령을 만6세 이하에서 만\\n\\n8세 이하로 조정함에 따라 추가 재정소요가 예상됨.\\n\\n2.  미첨부  근거  규정\\n｢의안의 비용추계에 관한 규칙｣ 제3조제1항 단서 중 제1호(예상되는 비용이 연평균  10억원 미만\\n이거나  한시적인  경비로서  총  30억원  미만인  경우)에  해당함.\\n\\n3.  미첨부  사유\\n\\n개정안에서 국가․지방․교육공무원 및 근로자가 육아휴직을 신청할 \\n\\n수 있는 자녀의 연령을 만6세 이하에서 만8세 이하로 상향조정함에 \\n\\n따라 추가 재정소요가 예상된다. 동 법률 개정안이 2011년에 시행된다\\n\\n고 가정한 경우, 2010년 현재 자녀의 연령이 7세이고 육아휴직을 신청\\n\\n- 7 -\\n\\n\\x0c- 8 -\\n\\n하지 않은 국가․지방․교육공무원 및 근로자가 대상이 된다.\\n\\n대상연령의 확대됨에 따라 육아휴직신청자의 수가 어느 정도 늘어날 \\n\\n것으로 예상된다. 이 경우 발생하는 비용은 현행법에 따르면 월50만원\\n\\n이나 현재 관련법령 개정이 추진되고 있으며, 이에 따라 2011년에는 \\n\\n육아휴직자가 지급받는 월급여액에 비례하여 육아휴직급여가 지급되\\n\\n기 때문에 법령개정을 가정하고 추계한다. 이러한 경우 육아휴직급여\\n\\n액은 육아휴직자가 지급받는 월급여의 40%에 해당한다. 육아휴직자가 \\n\\n발생한 경우 발생하는 비용은 대체인력 고용인건비와 육아휴직자가 \\n\\n받는 월급여액의 40%이다. 이와 대비하여 육아휴직자에게 지급하던 \\n\\n임금은 더 이상 발생하지 않는다. 따라서 실제 발생하는 순비용은 육\\n\\n아휴직자에게 지급하던 월 급여액과 연령 확대에 따라 발생하는 비용\\n\\n인 육아휴직자가 받던 월급여액의 40%와 대체인력 고용인건비의 차\\n\\n액인데 이 값이 0보다 크면 추가 재정소요는 발생하지 않는다고 볼 \\n\\n수 있다.\\n\\n추가비용 발생여부를 정확하게 알아보기 위하여 비용에 대한 수리모\\n\\n델을 만들고 이에 따라 비용발생 여부를 알아보기로 하자. 모델에 사\\n\\n용되는 변수를 다음과 같이 정의한다.\\n\\n발생비용 : N×p×X + N×육아휴직급여액 - N×P\\n\\nN\\n\\nP\\n\\n: 육아휴직대상자의 수\\n\\n: 육아휴직대상자의 월급여액\\n\\n\\x0cp\\n\\nX\\n\\n: 육아휴직자가 발생한 경우 대체 고용할 확률\\n\\n: 대체 고용한 인력에게 지급하는 월급여액\\n\\n위의 수식에서 육아휴직급여액은 육아휴직자 월급여액의 40%까지 지\\n\\n급할 예정이므로 육아휴직급여액은 P×40%이다. 육아휴직자가 발생한 \\n\\n경우 대체 고용할 확률 p는 고용노동부의 육아휴직 관련 자료를 이용\\n\\n한다. 고용노동부에 따르면 2011년의 경우 육아휴직급여 대상자는 \\n\\n40,923명이며, 육아휴직에 따른 대체인력 고용 예상인원은 2,836명이\\n\\n다. 2007년부터 2011년까지의 현황을 정리하면 다음의 [표]와 같다.\\n\\n[표]  육아휴직급여  수급자의  수  및  대체인력  고용  현황:  2007~2011년\\n\\n(단위:  명,  % )\\n\\n2007\\n\\n2008\\n\\n2009\\n\\n2010\\n\\n2011\\n\\n평균\\n\\n육아휴직급여  수급자(A)\\n\\n21,185\\n\\n29,145\\n\\n35,400\\n\\n41,291\\n\\n43,899\\n\\n34,184\\n\\n대체인력  채용(B)\\n\\n796\\n\\n1,658\\n\\n1,957\\n\\n2,396\\n\\n2,836\\n\\n1,929\\n\\n비  율(B/A)\\n\\n3.8\\n\\n5.7\\n\\n5.5\\n\\n5.8\\n\\n6.5\\n\\n5.6\\n\\n자료: 고용노동부  자료를  바탕으로  국회예산정책처  작성\\n\\n위의 [표]의 자료에 따라 육아휴직자가 발생한 경우 대체 고용할 확률 \\n\\np의 값은 5.6%라고 가정한다. 그리고 비용이 발생한다고 가정하여 위\\n\\n의 수식을 다시 작성하면 다음의 수식과 같다.\\n\\nN×p×X + N×육아휴직급여액 - N×P > 0\\n\\n(1)\\n\\n- 9 -\\n\\n\\x0c- 10 -\\n\\nN×5.6%×X + N×P×40% - N×P > 0\\n\\n0.056×X > 0.6P\\n\\nX > 10.7×P\\n\\n(2)\\n\\n(3)\\n\\n(5)\\n\\n위의 수식에 육아휴직자가 받는 월 급여액을 대입하여 대체고용인력\\n\\n자에게 지급하는 월 급여액을 추정하여 보자. 육아휴직자가 월 200만\\n\\n원을 받는다고 가정하면, 대체고용인력자에게 육아휴직자가 받는 월 \\n\\n급여액의 10.7배에 달하는 월 21,428,571원 이상을 지급해야 추가 비용\\n\\n이 발생한다. 대체고용인력자에게 육아휴직자보다 더 많은 월급여액을 \\n\\n주지는 않을 것이고 그리고 10여배 이상 월급을 주지도 않을 것이기 \\n\\n때문에 추가 비용이 발생한다고 보기 힘들다. 위의 수식에서 대체인력 \\n\\n고용확률 p를 20%로 가정하더라도(이 경우 X > 3×P) 200만원 받는 \\n\\n육아휴직자 대체인력에게 월 600만원 이상을 지급해야 추가 비용이 \\n\\n발생한다.\\n\\n행정안전부의 통계자료(행정안전부 통계연감)에서는 지방공무원의 육\\n\\n아휴직 현황자료를 보여주고 있다. 여기서 육아휴직자가 발생한 경우 \\n\\n대체인력을 주로 임용대기자 또는 일용직을 활용하는 것으로 보인다. \\n\\n따라서 공무원의 경우에도 [표]에서 보여주는 일반기업체의 대체인력 \\n\\n고용확률과 차이는 크지 않을 것으로 보인다.\\n\\n이상의 논의를 바탕으로 육아휴직기간을 만6에서 만8세로 연장하더라\\n\\n도 법률 개정에 따른 추가 비용은 발생하지 않을 것으로 예상된다.\\n\\n\\x0c4.  작성자\\n\\n국회예산정책처 법안비용추계1팀\\n\\n팀      장   정 문 종\\n\\n예산분석관   김 태 완\\n\\n(02-788-4649, tanzania@assembly.go.kr)\\n\\n- 11 -\\n\\n\\x0c'"
      ]
     },
     "execution_count": 25,
     "metadata": {},
     "output_type": "execute_result"
    }
   ],
   "source": [
    "kobill.open('1809890.txt').read()"
   ]
  },
  {
   "cell_type": "code",
   "execution_count": null,
   "id": "ccf9dbbe-f125-44fc-bb0c-7687cf4b3d91",
   "metadata": {},
   "outputs": [],
   "source": []
  },
  {
   "cell_type": "code",
   "execution_count": null,
   "id": "bf4b8515-edaa-4844-a00f-5a4ab3fabc65",
   "metadata": {},
   "outputs": [],
   "source": []
  },
  {
   "cell_type": "code",
   "execution_count": 26,
   "id": "4dc92d94-0954-4d26-b212-fc0472ff6657",
   "metadata": {},
   "outputs": [],
   "source": [
    "# 자연어 처리\n",
    "# 책 97p\n",
    "# re\n",
    "# re는 파이썬 정규 표현식(Regular Expression) 라이브러리다.\n",
    "\n",
    "# 얘는 기본임.\n",
    "# 얘는 할 줄 알아야 함"
   ]
  },
  {
   "cell_type": "code",
   "execution_count": null,
   "id": "3d8fbbff-a649-41a1-9168-16c0875a8e4d",
   "metadata": {},
   "outputs": [],
   "source": []
  }
 ],
 "metadata": {
  "kernelspec": {
   "display_name": "Python 3 (ipykernel)",
   "language": "python",
   "name": "python3"
  },
  "language_info": {
   "codemirror_mode": {
    "name": "ipython",
    "version": 3
   },
   "file_extension": ".py",
   "mimetype": "text/x-python",
   "name": "python",
   "nbconvert_exporter": "python",
   "pygments_lexer": "ipython3",
   "version": "3.8.11"
  }
 },
 "nbformat": 4,
 "nbformat_minor": 5
}
