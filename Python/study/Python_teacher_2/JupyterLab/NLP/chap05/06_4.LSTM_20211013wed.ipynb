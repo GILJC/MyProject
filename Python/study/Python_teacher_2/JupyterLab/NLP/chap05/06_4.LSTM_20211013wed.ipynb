{
 "cells": [
  {
   "cell_type": "code",
   "execution_count": 1,
   "id": "16ef0444-49b1-452e-bfb0-6e2d77d694be",
   "metadata": {},
   "outputs": [],
   "source": [
    "# p269"
   ]
  },
  {
   "cell_type": "code",
   "execution_count": 2,
   "id": "70f9beeb-8ecd-49af-beed-b7a7b66f0e5d",
   "metadata": {},
   "outputs": [],
   "source": [
    "# https://github.com/NLP-kr/tensorflow-ml-nlp-tf2/blob/master/5.TEXT_SIM/5.3.3_Quora_LSTM.ipynb\n",
    "# 이놈은 뭐지? 참고?"
   ]
  },
  {
   "cell_type": "code",
   "execution_count": 3,
   "id": "89a71fa6-2e6f-4709-9fd8-ea67916a8791",
   "metadata": {},
   "outputs": [],
   "source": [
    "import os\n",
    "import json\n",
    "import numpy as np\n",
    "import pandas as pd\n",
    "import tensorflow as tf\n",
    "import matplotlib.pyplot as plt\n",
    "from tensorflow.keras import layers\n",
    "from tensorflow.keras.callbacks import EarlyStopping, ModelCheckpoint"
   ]
  },
  {
   "cell_type": "code",
   "execution_count": 4,
   "id": "75f2dba8-86b8-41ba-883f-0f84add981bd",
   "metadata": {},
   "outputs": [],
   "source": [
    "def plot_graphs(history, string):\n",
    "    plt.plot(history.history[string])\n",
    "    plt.plot(history.history['val_' + string], '')\n",
    "    plt.xlabel('Epochs')\n",
    "    plt.ylabel(string)\n",
    "    plt.legend([string, 'val_' + string])\n",
    "    plt.show()"
   ]
  },
  {
   "cell_type": "code",
   "execution_count": 5,
   "id": "9432c059-78c2-49b8-833d-96b49de209cc",
   "metadata": {},
   "outputs": [],
   "source": [
    "DATA_IN_PATH = './data_in/'\n",
    "DATA_OUT_PATH = './data_out/'\n",
    "TRAIN_Q1_DATA_FILE = 'train_q1.npy'\n",
    "TRAIN_Q2_DATA_FILE = 'train_q2.npy'\n",
    "TRAIN_LABEL_DATA_FILE = 'train_label.npy'\n",
    "DATA_CONFIGS = 'data_configs.json'"
   ]
  },
  {
   "cell_type": "code",
   "execution_count": 6,
   "id": "d4055f6e-d76d-4477-985a-0431d34814f9",
   "metadata": {},
   "outputs": [],
   "source": [
    "SEED_NUM = 1234\n",
    "tf.random.set_seed(SEED_NUM)"
   ]
  },
  {
   "cell_type": "code",
   "execution_count": 7,
   "id": "670b038d-df4c-4b72-8b43-ff81dd6b40c0",
   "metadata": {},
   "outputs": [],
   "source": [
    "q1_data = np.load(open(DATA_IN_PATH + TRAIN_Q1_DATA_FILE, 'rb'))\n",
    "q2_data = np.load(open(DATA_IN_PATH + TRAIN_Q2_DATA_FILE, 'rb'))\n",
    "labels = np.load(open(DATA_IN_PATH + TRAIN_LABEL_DATA_FILE, 'rb'))\n",
    "prepro_configs = json.load(open(DATA_IN_PATH + DATA_CONFIGS, 'r'))"
   ]
  },
  {
   "cell_type": "code",
   "execution_count": 8,
   "id": "821e2cf0-8526-448b-a27b-f17014596275",
   "metadata": {},
   "outputs": [],
   "source": [
    "model_name = 'malstm_similarity'\n",
    "BATCH_SIZE = 128\n",
    "NUM_EPOCHS = 5\n",
    "VALID_SPLIT = 0.1\n",
    "\n",
    "kargs = {'vocab_size':prepro_configs['vocab_size'],\n",
    "        'embedding_dimension': 100,\n",
    "        'lstm_dimension': 150}"
   ]
  },
  {
   "cell_type": "code",
   "execution_count": 9,
   "id": "9dca3186-df11-4721-936c-546c9b4201f2",
   "metadata": {},
   "outputs": [],
   "source": [
    "# 모델은 의외로 간단\n",
    "class MaLSTM(tf.keras.Model):\n",
    "    def __init__(self, **kargs):\n",
    "        super(MaLSTM, self).__init__(name=model_name)\n",
    "        self.embedding = layers.Embedding(input_dim=kargs['vocab_size'] + 1,\n",
    "                                         output_dim=kargs['embedding_dimension'])\n",
    "        self.lstm = layers.LSTM(units=kargs['lstm_dimension'])\n",
    "        \n",
    "        # 이러면 끝\n",
    "        \n",
    "    def call(self, x):\n",
    "        x1, x2 = x  # 언페킹\n",
    "        x1 = self.embedding(x1)\n",
    "        x2 = self.embedding(x2)\n",
    "        \n",
    "        # 각각을 LSTM 별도로 통과시킴\n",
    "        x1 = self.lstm(x1)\n",
    "        x2 = self.lstm(x2)\n",
    "        \n",
    "        # 유사도를 구해보기\n",
    "        x = tf.exp(-tf.reduce_sum(tf.abs(x1 - x2), axis=1))\n",
    "        \n",
    "        return x\n",
    "    \n",
    "    # 둘 사이의 멘하탄 거리를\n",
    "    # 어떻게 조작을 하면\n",
    "    # 멘하탄 거리가 가까울수록, 유사도가 높은 것(유사도를 1로 치고)\n",
    "    # 멀수록 0에 근접할 것"
   ]
  },
  {
   "cell_type": "code",
   "execution_count": 10,
   "id": "3ac2dd30-bcb9-4fd7-8ec8-56b7f9a205ad",
   "metadata": {},
   "outputs": [],
   "source": [
    "model = MaLSTM(**kargs)\n",
    "model.compile(optimizer=tf.keras.optimizers.Adam(1e-3),\n",
    "              loss=tf.keras.losses.BinaryCrossentropy(),  # 손실 함수\n",
    "              metrics=[tf.keras.metrics.BinaryAccuracy(name='accuracy')])"
   ]
  },
  {
   "cell_type": "code",
   "execution_count": 11,
   "id": "8752cb3c-7a5f-4485-90a6-5a9b181357e9",
   "metadata": {},
   "outputs": [
    {
     "name": "stdout",
     "output_type": "stream",
     "text": [
      "./data_out/malstm_similarity -- Folder create complete \n",
      "\n"
     ]
    }
   ],
   "source": [
    "earlystop_callback = EarlyStopping(monitor='val_accuracy', min_delta=0.0001, \n",
    "                                   patience=3)\n",
    "\n",
    "checkpoint_path = DATA_OUT_PATH + model_name + '/weights.h5'\n",
    "checkpoint_dir = os.path.dirname(checkpoint_path)\n",
    "\n",
    "if os.path.exists(checkpoint_dir):\n",
    "    print('{} -- Folder already exists \\n'.format(checkpoint_dir))\n",
    "else:\n",
    "    os.makedirs(checkpoint_dir, exist_ok=True)  # 폴더 생성\n",
    "    print('{} -- Folder create complete \\n'.format(checkpoint_dir))\n",
    "    \n",
    "cp_callback = ModelCheckpoint(checkpoint_path, monitor='val_accuracy', verbose=1,\n",
    "                             save_best_only=True, save_weights_only=True)"
   ]
  },
  {
   "cell_type": "code",
   "execution_count": 12,
   "id": "e674a0cc-a46a-4cac-9346-e01b27d81bb8",
   "metadata": {},
   "outputs": [
    {
     "name": "stdout",
     "output_type": "stream",
     "text": [
      "Epoch 1/5\n",
      "2100/2100 [==============================] - 60s 26ms/step - loss: 0.5306 - accuracy: 0.7368 - val_loss: 0.5342 - val_accuracy: 0.7502\n",
      "\n",
      "Epoch 00001: val_accuracy improved from -inf to 0.75017, saving model to ./data_out/malstm_similarity\\weights.h5\n",
      "Epoch 2/5\n",
      "2100/2100 [==============================] - 54s 26ms/step - loss: 0.4021 - accuracy: 0.8209 - val_loss: 0.5236 - val_accuracy: 0.7694\n",
      "\n",
      "Epoch 00002: val_accuracy improved from 0.75017 to 0.76936, saving model to ./data_out/malstm_similarity\\weights.h5\n",
      "Epoch 3/5\n",
      "2100/2100 [==============================] - 54s 26ms/step - loss: 0.3545 - accuracy: 0.8471 - val_loss: 0.4780 - val_accuracy: 0.8051\n",
      "\n",
      "Epoch 00003: val_accuracy improved from 0.76936 to 0.80511, saving model to ./data_out/malstm_similarity\\weights.h5\n",
      "Epoch 4/5\n",
      "2100/2100 [==============================] - 54s 26ms/step - loss: 0.3185 - accuracy: 0.8660 - val_loss: 0.4570 - val_accuracy: 0.8185\n",
      "\n",
      "Epoch 00004: val_accuracy improved from 0.80511 to 0.81853, saving model to ./data_out/malstm_similarity\\weights.h5\n",
      "Epoch 5/5\n",
      "2100/2100 [==============================] - 54s 26ms/step - loss: 0.2882 - accuracy: 0.8817 - val_loss: 0.5580 - val_accuracy: 0.7957\n",
      "\n",
      "Epoch 00005: val_accuracy did not improve from 0.81853\n"
     ]
    }
   ],
   "source": [
    "history = model.fit((q1_data, q2_data), labels, batch_size=BATCH_SIZE,\n",
    "                   epochs=NUM_EPOCHS, validation_split=VALID_SPLIT,\n",
    "                   callbacks=[earlystop_callback, cp_callback])"
   ]
  },
  {
   "cell_type": "code",
   "execution_count": 15,
   "id": "052362ae-bc10-4fd9-b2d5-86a8df82c81e",
   "metadata": {},
   "outputs": [
    {
     "data": {
      "image/png": "[encoded data removed]",
      "text/plain": [
       "<Figure size 432x288 with 1 Axes>"
      ]
     },
     "metadata": {
      "needs_background": "light"
     },
     "output_type": "display_data"
    }
   ],
   "source": [
    "plot_graphs(history, 'loss')"
   ]
  },
  {
   "cell_type": "code",
   "execution_count": 16,
   "id": "be337111-14ba-41c3-adc4-da47c557f010",
   "metadata": {},
   "outputs": [
    {
     "data": {
      "image/png": "[encoded data removed]",
      "text/plain": [
       "<Figure size 432x288 with 1 Axes>"
      ]
     },
     "metadata": {
      "needs_background": "light"
     },
     "output_type": "display_data"
    }
   ],
   "source": [
    "plot_graphs(history, 'accuracy')"
   ]
  },
  {
   "cell_type": "code",
   "execution_count": null,
   "id": "2518b233-5033-4b06-aaee-4aa8b46c272b",
   "metadata": {},
   "outputs": [],
   "source": []
  },
  {
   "cell_type": "code",
   "execution_count": 17,
   "id": "aa002bd5-2f10-4d90-b86a-5dd515c8150f",
   "metadata": {},
   "outputs": [],
   "source": [
    "TEST_Q1_DATA_FILE = 'test_q1.npy'\n",
    "TEST_Q2_DATA_FILE = 'test_q2.npy'\n",
    "TEST_ID_DATA_FILE = 'test_id.npy'\n",
    "\n",
    "test_q1_data = np.load(open(DATA_IN_PATH + TEST_Q1_DATA_FILE, 'rb'))\n",
    "test_q2_data = np.load(open(DATA_IN_PATH + TEST_Q2_DATA_FILE, 'rb'))\n",
    "test_id_data = np.load(open(DATA_IN_PATH + TEST_ID_DATA_FILE, 'rb'), allow_pickle=True)"
   ]
  },
  {
   "cell_type": "code",
   "execution_count": 18,
   "id": "cac62c41-57d8-4d2a-95f7-55edcffbfc56",
   "metadata": {},
   "outputs": [],
   "source": [
    "SAVE_FILE_NM = 'weights.h5'\n",
    "model.load_weights(os.path.join(DATA_OUT_PATH, model_name, SAVE_FILE_NM))"
   ]
  },
  {
   "cell_type": "code",
   "execution_count": 19,
   "id": "574174c7-f405-4da8-803f-a2dab758657d",
   "metadata": {},
   "outputs": [],
   "source": [
    "predictions = model.predict((test_q1_data, test_q2_data), batch_size=BATCH_SIZE)"
   ]
  },
  {
   "cell_type": "code",
   "execution_count": 21,
   "id": "2729d3b6-4314-4511-8a2b-3783747f05f7",
   "metadata": {},
   "outputs": [],
   "source": [
    "output = pd.DataFrame( data={\"test_id\":test_id_data, \"is_duplicate\": list(predictions)} )\n",
    "output.to_csv(DATA_OUT_PATH + \"rnn_predict.csv\", index=False, quoting=3)"
   ]
  },
  {
   "cell_type": "code",
   "execution_count": null,
   "id": "fa35ec57-2dc3-479f-9b84-1ac7f639b961",
   "metadata": {},
   "outputs": [],
   "source": []
  },
  {
   "cell_type": "code",
   "execution_count": null,
   "id": "9f6da64e-f1a0-4037-a327-a7a507411612",
   "metadata": {},
   "outputs": [],
   "source": [
    "# https://www.kaggle.com/c/quora-question-pairs/submit\n",
    "# 캐글 채점"
   ]
  }
 ],
 "metadata": {
  "kernelspec": {
   "display_name": "Python 3 (ipykernel)",
   "language": "python",
   "name": "python3"
  },
  "language_info": {
   "codemirror_mode": {
    "name": "ipython",
    "version": 3
   },
   "file_extension": ".py",
   "mimetype": "text/x-python",
   "name": "python",
   "nbconvert_exporter": "python",
   "pygments_lexer": "ipython3",
   "version": "3.8.11"
  }
 },
 "nbformat": 4,
 "nbformat_minor": 5
}
