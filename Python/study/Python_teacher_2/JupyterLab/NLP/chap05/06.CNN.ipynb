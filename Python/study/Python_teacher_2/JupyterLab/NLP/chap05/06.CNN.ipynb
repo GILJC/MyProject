{
 "cells": [
  {
   "cell_type": "code",
   "execution_count": 1,
   "id": "25529377-1f00-4e79-b695-60b5e6cc26c7",
   "metadata": {},
   "outputs": [],
   "source": [
    "import os\n",
    "import json\n",
    "import numpy as np\n",
    "import pandas as pd\n",
    "import tensorflow as tf\n",
    "import matplotlib.pyplot as plt\n",
    "from tensorflow.keras import layers\n",
    "from tensorflow.keras.callbacks import EarlyStopping, ModelCheckpoint"
   ]
  },
  {
   "cell_type": "code",
   "execution_count": 2,
   "id": "cd8ab40c-ae88-4ade-8f27-bb45bbb60f27",
   "metadata": {},
   "outputs": [],
   "source": [
    "def plot_graphs(history, string):\n",
    "    plt.plot(history.history[string])\n",
    "    plt.plot(history.history['val_' + string], '')\n",
    "    plt.xlabel('Epochs')\n",
    "    plt.ylabel(string)\n",
    "    plt.legend([string, 'val_' + string])\n",
    "    plt.show()"
   ]
  },
  {
   "cell_type": "code",
   "execution_count": 3,
   "id": "9ad40067-ae37-4e0b-a489-70982729e96a",
   "metadata": {},
   "outputs": [],
   "source": [
    "DATA_IN_PATH = './data_in/'\n",
    "DATA_OUT_PATH = './data_out/'\n",
    "TRAIN_Q1_DATA_FILE = 'train_q1.npy'\n",
    "TRAIN_Q2_DATA_FILE = 'train_q2.npy'\n",
    "TRAIN_LABEL_DATA_FILE = 'train_label.npy'\n",
    "DATA_CONFIGS = 'data_configs.json'"
   ]
  },
  {
   "cell_type": "code",
   "execution_count": 4,
   "id": "fb8d504b-aa42-4aa7-85db-24976c01bd53",
   "metadata": {},
   "outputs": [],
   "source": [
    "SEED_NUM = 1234\n",
    "tf.random.set_seed(SEED_NUM)"
   ]
  },
  {
   "cell_type": "code",
   "execution_count": 5,
   "id": "07d27ff2-e17f-4f57-855c-319396b30367",
   "metadata": {},
   "outputs": [],
   "source": [
    "q1_data = np.load(open(DATA_IN_PATH + TRAIN_Q1_DATA_FILE, 'rb'))\n",
    "q2_data = np.load(open(DATA_IN_PATH + TRAIN_Q2_DATA_FILE, 'rb'))\n",
    "labels = np.load(open(DATA_IN_PATH + TRAIN_LABEL_DATA_FILE, 'rb'))\n",
    "prepro_configs = json.load(open(DATA_IN_PATH + DATA_CONFIGS, 'r'))"
   ]
  },
  {
   "cell_type": "code",
   "execution_count": 6,
   "id": "07761339-fc7b-4fae-871e-af0257eaa1a2",
   "metadata": {},
   "outputs": [],
   "source": [
    "model_name = 'cnn_similarity'\n",
    "BATCH_SIZE = 1024\n",
    "NUM_EPOCHS = 100\n",
    "VALID_SPLIT = 0.1\n",
    "MAX_LEN = 31\n",
    "\n",
    "kargs = {'model_name': model_name,\n",
    "        'vocab_size': prepro_configs['vocab_size'],\n",
    "        'word_embedding_dimension': 100,\n",
    "        'conv_num_filters': 300,\n",
    "        'conv_windows_size': 3,\n",
    "        'max_pool_seq_len': MAX_LEN,\n",
    "        'sent_embedding_dimension': 128,\n",
    "        'dropout_rate': 0.2,\n",
    "        'hidden_dimension': 200,\n",
    "        'output_dimension': 1}"
   ]
  },
  {
   "cell_type": "code",
   "execution_count": 7,
   "id": "c7843e11-fe58-4234-8c10-be1570163191",
   "metadata": {},
   "outputs": [],
   "source": [
    "class SentenceEmbedding(layers.Layer):\n",
    "    def __init__(self, **kargs):\n",
    "        super(SentenceEmbedding, self).__init__()\n",
    "        \n",
    "        self.conv = layers.Conv1D(kargs['conv_num_filters'],\n",
    "                                 kargs['conv_windows_size'],\n",
    "                                 activation='relu', padding='same')\n",
    "        self.max_pool = layers.MaxPool1D(kargs['max_pool_seq_len'], 1)\n",
    "        self.dense = layers.Dense(kargs['sent_embedding_dimension'], activation='relu')\n",
    "        \n",
    "    def call(self, x):\n",
    "        x = self.conv(x)\n",
    "        x = self.max_pool(x)\n",
    "        x = self.dense(x)\n",
    "        \n",
    "        return tf.squeeze(x, 1)"
   ]
  },
  {
   "cell_type": "code",
   "execution_count": 8,
   "id": "10739d0c-6141-4561-bccd-b2e69cf42662",
   "metadata": {},
   "outputs": [],
   "source": [
    "class SentenceSimilarityModel(tf.keras.Model):\n",
    "    def __init__(self, **kargs):\n",
    "        super(SentenceSimilarityModel, self).__init__(name=kargs['model_name'])\n",
    "        self.word_embedding = layers.Embedding(kargs['vocab_size'] + 1,\n",
    "                                              kargs['word_embedding_dimension'])\n",
    "        self.base_encoder = SentenceEmbedding(**kargs)\n",
    "        self.hypo_encoder = SentenceEmbedding(**kargs)\n",
    "        self.dense = layers.Dense(kargs['hidden_dimension'], activation='relu')\n",
    "        self.logit = layers.Dense(kargs['output_dimension'], activation='sigmoid')\n",
    "        self.dropout = layers.Dropout(kargs['dropout_rate'])\n",
    "        \n",
    "    def call(self, x):\n",
    "        x1, x2 = x\n",
    "        b_x = self.word_embedding(x1)\n",
    "        h_x = self.word_embedding(x2)\n",
    "        b_x = self.dropout(b_x)\n",
    "        h_x = self.dropout(h_x)\n",
    "        \n",
    "        b_x = self.base_encoder(b_x)\n",
    "        h_x = self.hypo_encoder(h_x)\n",
    "        \n",
    "        e_x = tf.concat([b_x, h_x], -1)\n",
    "        e_x = self.dense(e_x)\n",
    "        e_x = self.dropout(e_x)\n",
    "        \n",
    "        return self.logit(e_x)"
   ]
  },
  {
   "cell_type": "code",
   "execution_count": 9,
   "id": "1d110215-d783-4735-9c05-15cc333a41cf",
   "metadata": {},
   "outputs": [],
   "source": [
    "model = SentenceSimilarityModel(**kargs)\n",
    "model.compile(optimizer=tf.keras.optimizers.Adam(1e-3),\n",
    "             loss=tf.keras.losses.BinaryCrossentropy(),\n",
    "             metrics=[tf.keras.metrics.BinaryAccuracy(name='accuracy')])"
   ]
  },
  {
   "cell_type": "code",
   "execution_count": 10,
   "id": "77d75a0f-d5d4-44b0-afb6-4f55ea2204f0",
   "metadata": {},
   "outputs": [
    {
     "name": "stdout",
     "output_type": "stream",
     "text": [
      "./data_out/cnn_similarity -- Folder already exists \n",
      "\n"
     ]
    }
   ],
   "source": [
    "earlystop_callback = EarlyStopping(monitor='val_accuracy', min_delta=0.0001, patience=3)\\\n",
    "\n",
    "checkpoint_path = DATA_OUT_PATH + model_name + '/weights.h5'\n",
    "checkpoint_dir = os.path.dirname(checkpoint_path)\n",
    "\n",
    "if os.path.exists(checkpoint_dir):\n",
    "    print('{} -- Folder already exists \\n'.format(checkpoint_dir))\n",
    "else:\n",
    "    os.makedirs(checkpoint_dir, exist_ok=True)  # 얘를 빼서 dir이 안만들어졌었음, 이거 코딩 다시해서 돌림\n",
    "    print('{} -- Folder create complete \\n'.format(checkpoint_dir))\n",
    "    \n",
    "cp_callback = ModelCheckpoint(checkpoint_path, monitor='val_accuracy', verbose=1,\n",
    "                             save_best_only=True, save_weights_only=True)"
   ]
  },
  {
   "cell_type": "code",
   "execution_count": 11,
   "id": "62bfabb3-8337-455f-bd65-eb6bc83b1c1f",
   "metadata": {},
   "outputs": [
    {
     "name": "stdout",
     "output_type": "stream",
     "text": [
      "Epoch 1/100\n",
      "263/263 [==============================] - 19s 50ms/step - loss: 0.5485 - accuracy: 0.7184 - val_loss: 0.4908 - val_accuracy: 0.7340\n",
      "\n",
      "Epoch 00001: val_accuracy improved from -inf to 0.73400, saving model to ./data_out/cnn_similarity\\weights.h5\n",
      "Epoch 2/100\n",
      "263/263 [==============================] - 13s 48ms/step - loss: 0.4440 - accuracy: 0.7916 - val_loss: 0.4838 - val_accuracy: 0.7445\n",
      "\n",
      "Epoch 00002: val_accuracy improved from 0.73400 to 0.74451, saving model to ./data_out/cnn_similarity\\weights.h5\n",
      "Epoch 3/100\n",
      "263/263 [==============================] - 12s 46ms/step - loss: 0.3540 - accuracy: 0.8401 - val_loss: 0.5251 - val_accuracy: 0.7646\n",
      "\n",
      "Epoch 00003: val_accuracy improved from 0.74451 to 0.76465, saving model to ./data_out/cnn_similarity\\weights.h5\n",
      "Epoch 4/100\n",
      "263/263 [==============================] - 12s 46ms/step - loss: 0.2708 - accuracy: 0.8824 - val_loss: 0.5779 - val_accuracy: 0.7829\n",
      "\n",
      "Epoch 00004: val_accuracy improved from 0.76465 to 0.78290, saving model to ./data_out/cnn_similarity\\weights.h5\n",
      "Epoch 5/100\n",
      "263/263 [==============================] - 12s 46ms/step - loss: 0.2121 - accuracy: 0.9098 - val_loss: 0.5878 - val_accuracy: 0.7982\n",
      "\n",
      "Epoch 00005: val_accuracy improved from 0.78290 to 0.79818, saving model to ./data_out/cnn_similarity\\weights.h5\n",
      "Epoch 6/100\n",
      "263/263 [==============================] - 12s 46ms/step - loss: 0.1754 - accuracy: 0.9267 - val_loss: 0.6861 - val_accuracy: 0.8023\n",
      "\n",
      "Epoch 00006: val_accuracy improved from 0.79818 to 0.80230, saving model to ./data_out/cnn_similarity\\weights.h5\n",
      "Epoch 7/100\n",
      "263/263 [==============================] - 12s 46ms/step - loss: 0.1515 - accuracy: 0.9373 - val_loss: 0.7772 - val_accuracy: 0.7885\n",
      "\n",
      "Epoch 00007: val_accuracy did not improve from 0.80230\n",
      "Epoch 8/100\n",
      "263/263 [==============================] - 12s 46ms/step - loss: 0.1342 - accuracy: 0.9453 - val_loss: 0.7068 - val_accuracy: 0.8120\n",
      "\n",
      "Epoch 00008: val_accuracy improved from 0.80230 to 0.81201, saving model to ./data_out/cnn_similarity\\weights.h5\n",
      "Epoch 9/100\n",
      "263/263 [==============================] - 12s 46ms/step - loss: 0.1221 - accuracy: 0.9501 - val_loss: 0.8048 - val_accuracy: 0.8082\n",
      "\n",
      "Epoch 00009: val_accuracy did not improve from 0.81201\n",
      "Epoch 10/100\n",
      "263/263 [==============================] - 12s 46ms/step - loss: 0.1090 - accuracy: 0.9559 - val_loss: 0.8163 - val_accuracy: 0.8172\n",
      "\n",
      "Epoch 00010: val_accuracy improved from 0.81201 to 0.81717, saving model to ./data_out/cnn_similarity\\weights.h5\n",
      "Epoch 11/100\n",
      "263/263 [==============================] - 12s 46ms/step - loss: 0.1012 - accuracy: 0.9595 - val_loss: 0.8941 - val_accuracy: 0.8137\n",
      "\n",
      "Epoch 00011: val_accuracy did not improve from 0.81717\n",
      "Epoch 12/100\n",
      "263/263 [==============================] - 12s 46ms/step - loss: 0.0965 - accuracy: 0.9615 - val_loss: 0.9324 - val_accuracy: 0.7905\n",
      "\n",
      "Epoch 00012: val_accuracy did not improve from 0.81717\n",
      "Epoch 13/100\n",
      "263/263 [==============================] - 12s 46ms/step - loss: 0.0910 - accuracy: 0.9634 - val_loss: 0.9826 - val_accuracy: 0.7967\n",
      "\n",
      "Epoch 00013: val_accuracy did not improve from 0.81717\n"
     ]
    }
   ],
   "source": [
    "history = model.fit((q1_data, q2_data), labels, batch_size=BATCH_SIZE,\n",
    "                   epochs=NUM_EPOCHS, validation_split=VALID_SPLIT,\n",
    "                   callbacks=[earlystop_callback, cp_callback])"
   ]
  },
  {
   "cell_type": "code",
   "execution_count": 14,
   "id": "1f772fe1-a707-4ab7-8fcb-8776bd3d787d",
   "metadata": {},
   "outputs": [
    {
     "data": {
      "image/png": "[encoded data removed]",
      "text/plain": [
       "<Figure size 432x288 with 1 Axes>"
      ]
     },
     "metadata": {
      "needs_background": "light"
     },
     "output_type": "display_data"
    }
   ],
   "source": [
    "plot_graphs(history, 'accuracy')"
   ]
  },
  {
   "cell_type": "code",
   "execution_count": 13,
   "id": "eba76dde-952b-4a0e-9e83-b809daa666ae",
   "metadata": {},
   "outputs": [
    {
     "data": {
      "image/png": "[encoded data removed]",
      "text/plain": [
       "<Figure size 432x288 with 1 Axes>"
      ]
     },
     "metadata": {
      "needs_background": "light"
     },
     "output_type": "display_data"
    }
   ],
   "source": [
    "plot_graphs(history, 'loss')"
   ]
  },
  {
   "cell_type": "code",
   "execution_count": null,
   "id": "bb30531e-bd3d-40f4-ba77-49b7b667a406",
   "metadata": {},
   "outputs": [],
   "source": [
    "# 다했으면 캐글에 올려서 채점"
   ]
  },
  {
   "cell_type": "code",
   "execution_count": 15,
   "id": "72c0456f-0f98-471c-9fa6-25b73d0be842",
   "metadata": {},
   "outputs": [],
   "source": [
    "TEST_Q1_DATA_FILE = 'test_q1.npy'\n",
    "TEST_Q2_DATA_FILE = 'test_q2.npy'\n",
    "TEST_ID_DATA_FILE = 'test_id.npy'\n",
    "\n",
    "test_q1_data = np.load(open(DATA_IN_PATH + TEST_Q1_DATA_FILE, 'rb'))\n",
    "test_q2_data = np.load(open(DATA_IN_PATH + TEST_Q2_DATA_FILE, 'rb'))\n",
    "test_id_data = np.load(open(DATA_IN_PATH + TEST_ID_DATA_FILE, 'rb'), allow_pickle=True)"
   ]
  },
  {
   "cell_type": "code",
   "execution_count": 16,
   "id": "05248a27-be1e-4f98-8f8a-3a26ea321738",
   "metadata": {},
   "outputs": [],
   "source": [
    "SAVE_FILE_NM = 'weights.h5'\n",
    "model.load_weights(os.path.join(DATA_OUT_PATH, model_name, SAVE_FILE_NM))"
   ]
  },
  {
   "cell_type": "code",
   "execution_count": 17,
   "id": "d6e312cd-7c0c-4d18-88d5-43ccfccc4dda",
   "metadata": {},
   "outputs": [],
   "source": [
    "predictions = model.predict((test_q1_data, test_q2_data), batch_size=BATCH_SIZE)\n",
    "predictions = predictions.squeeze(-1)"
   ]
  },
  {
   "cell_type": "code",
   "execution_count": 18,
   "id": "f25a621e-f19c-4e5c-b96c-281897679b5a",
   "metadata": {},
   "outputs": [],
   "source": [
    "output = pd.DataFrame( data={\"test_id\":test_id_data, \"is_duplicate\": list(predictions)} )\n",
    "output.to_csv(DATA_OUT_PATH + \"cnn_predict.csv\", index=False, quoting=3)"
   ]
  },
  {
   "cell_type": "code",
   "execution_count": null,
   "id": "c90580d0-a814-4bd0-b051-627b2857d98c",
   "metadata": {},
   "outputs": [],
   "source": [
    "# 캐글 주소\n",
    "# https://www.kaggle.com/c/quora-question-pairs"
   ]
  }
 ],
 "metadata": {
  "kernelspec": {
   "display_name": "Python 3 (ipykernel)",
   "language": "python",
   "name": "python3"
  },
  "language_info": {
   "codemirror_mode": {
    "name": "ipython",
    "version": 3
   },
   "file_extension": ".py",
   "mimetype": "text/x-python",
   "name": "python",
   "nbconvert_exporter": "python",
   "pygments_lexer": "ipython3",
   "version": "3.8.11"
  }
 },
 "nbformat": 4,
 "nbformat_minor": 5
}
