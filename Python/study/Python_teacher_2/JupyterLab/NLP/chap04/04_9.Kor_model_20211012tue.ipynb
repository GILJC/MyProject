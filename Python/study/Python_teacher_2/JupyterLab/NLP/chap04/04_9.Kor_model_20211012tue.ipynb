{
 "cells": [
  {
   "cell_type": "code",
   "execution_count": 12,
   "id": "1acbc818-ed84-48fd-84e2-fd2913787010",
   "metadata": {},
   "outputs": [],
   "source": [
    "import tensorflow as tf\n",
    "from tensorflow.keras.preprocessing.sequence import pad_sequences\n",
    "from tensorflow.keras.callbacks import EarlyStopping, ModelCheckpoint\n",
    "from tensorflow.keras import layers\n",
    "import numpy as np\n",
    "import pandas as pd\n",
    "import matplotlib.pyplot as plt\n",
    "import os \n",
    "import json"
   ]
  },
  {
   "cell_type": "code",
   "execution_count": 2,
   "id": "cc0b99fb-baa0-4b49-97fe-32fe60699463",
   "metadata": {},
   "outputs": [],
   "source": [
    "def plot_graphs(history, string):\n",
    "    plt.plot(history.history[string])\n",
    "    plt.plot(history.history['val_' + string],'')\n",
    "    plt.xlabel('Epochs')\n",
    "    plt.ylabel(string)\n",
    "    plt.legend([string, 'val_' + string])\n",
    "    plt.show()"
   ]
  },
  {
   "cell_type": "code",
   "execution_count": 3,
   "id": "c6024d44-e5bb-4f48-b55a-c99389834b0b",
   "metadata": {},
   "outputs": [],
   "source": [
    "DATA_IN_PATH = './data_in/'\n",
    "DATA_OUT_PATH = './data_out/'\n",
    "INPUT_TRAIN_DATA = 'nsmc_train_input.npy'\n",
    "LABEL_TRAIN_DATA = 'nsmc_train_label.npy'\n",
    "DATA_CONFIGS = 'nsmc_data_configs.json'"
   ]
  },
  {
   "cell_type": "code",
   "execution_count": 4,
   "id": "9d569888-8f99-43da-9574-495de5241b33",
   "metadata": {},
   "outputs": [],
   "source": [
    "SEED_NUM = 1234\n",
    "tf.random.set_seed(SEED_NUM)"
   ]
  },
  {
   "cell_type": "code",
   "execution_count": 5,
   "id": "3334b28d-14a5-454b-965b-b9a5ea087e8a",
   "metadata": {},
   "outputs": [],
   "source": [
    "train_input = np.load(open(DATA_IN_PATH + INPUT_TRAIN_DATA, 'rb'))\n",
    "train_label = np.load(open(DATA_IN_PATH + LABEL_TRAIN_DATA, 'rb'))\n",
    "prepro_configs = json.load(open(DATA_IN_PATH + DATA_CONFIGS, 'r'))"
   ]
  },
  {
   "cell_type": "code",
   "execution_count": 6,
   "id": "88043df4-6ac9-4bc5-9d34-484d0cf6a576",
   "metadata": {},
   "outputs": [],
   "source": [
    "model_name = 'cnn_classifier_kr'\n",
    "BATCH_SIZE = 512\n",
    "NUM_EPOCHS = 10\n",
    "VALID_SPLIT = 0.1\n",
    "MAX_LEN = train_input.shape[1]\n",
    "\n",
    "kargs = {'model_name': model_name,\n",
    "        'vocab_size': prepro_configs['vocab_size'],\n",
    "        'embedding_size': 128,\n",
    "        'num_filters': 100,\n",
    "        'dropout_rate': 0.5,\n",
    "        'hidden_dimension': 250,\n",
    "        'output_dimension': 1}"
   ]
  },
  {
   "cell_type": "code",
   "execution_count": 7,
   "id": "4a0ec249-7f0b-448e-ac51-6666dd97f156",
   "metadata": {},
   "outputs": [],
   "source": [
    "class CNNClassifier(tf.keras.Model):\n",
    "    def __init__(self, **kargs):\n",
    "        super(CNNClassifier, self).__init__(name = kargs['model_name'])\n",
    "        self.embedding = layers.Embedding(input_dim = kargs['vocab_size'] + 1,\n",
    "                                          output_dim = kargs['embedding_size'])\n",
    "        \n",
    "        self.conv_list = [layers.Conv1D(filters = kargs['num_filters'], kernel_size = kernel_size,\n",
    "                                        padding = 'valid', activation = 'relu',\n",
    "                                        kernel_constraint = tf.keras.constraints.MaxNorm(max_value = 3.))  # 제약을 줌 ->\n",
    "                         # 커널을 생성할때, 가중치값을 3을 못넘게 -> MaxNorm값을 줌 -> 스케일이 이 이상 커짖 ㅣ않게 제약을 준 것\n",
    "                         for kernel_size in [3, 4, 5]]\n",
    "        self.pooling = layers.GlobalMaxPooling1D()\n",
    "        self.dropout = layers.Dropout(kargs['dropout_rate'])\n",
    "        self.fc1 = layers.Dense(units = kargs['hidden_dimension'],\n",
    "                                activation = 'relu',\n",
    "                                kernel_constraint = tf.keras.constraints.MaxNorm(max_value = 3.))\n",
    "        self.fc2 = layers.Dense(units = kargs['output_dimension'],\n",
    "                                activation = 'sigmoid',\n",
    "                                kernel_constraint = tf.keras.constraints.MaxNorm(max_value = 3.))\n",
    "        \n",
    "    def call(self, x):   # call 함수 생성.  call만 만들면 됨\n",
    "        x = self.embedding(x)\n",
    "        x = self.dropout(x)\n",
    "        # p199 에서 출력을 각각 maxpooling하고 붙임 그걸 다음과 같은 문법으로 나타냄\n",
    "        x = tf.concat([self.pooling(conv(x)) for conv in self.conv_list], axis = -1)  # inerconfresion 문법?\n",
    "        # conv를 각각 넣어서 list로 만들고 그것을 concat함.  axis = -1방향으로\n",
    "        x = self.fc1(x)\n",
    "        x = self.fc2(x)\n",
    "        \n",
    "        return x"
   ]
  },
  {
   "cell_type": "code",
   "execution_count": 8,
   "id": "63e4158a-343e-4d5c-9c68-90466f3076ac",
   "metadata": {},
   "outputs": [],
   "source": [
    "model = CNNClassifier(**kargs)\n",
    "model.compile(optimizer = tf.keras.optimizers.Adam(),\n",
    "             loss = tf.keras.losses.BinaryCrossentropy(),\n",
    "             metrics = [tf.keras.metrics.BinaryAccuracy(name = 'accuracy')])"
   ]
  },
  {
   "cell_type": "code",
   "execution_count": 9,
   "id": "39eed1d5-d5a5-47b4-bf75-197c954bb4bf",
   "metadata": {},
   "outputs": [
    {
     "name": "stdout",
     "output_type": "stream",
     "text": [
      "./data_out/cnn_classifier_kr -- Folder already exists \n",
      "\n"
     ]
    }
   ],
   "source": [
    "# import os\n",
    "\n",
    "earlystop_callback = EarlyStopping(monitor = 'val_accuracy', min_delta = 0.0001, patience = 2)\n",
    "\n",
    "checkpoint_path = DATA_OUT_PATH + model_name + '/weights.h5'\n",
    "checkpoint_dir = os.path.dirname(checkpoint_path)\n",
    "\n",
    "if os.path.exists(checkpoint_dir):\n",
    "    print('{} -- Folder already exists \\n'.format(checkpoint_dir))\n",
    "else:\n",
    "    os.makedirs(checkpoint_dir, exist_ok = True)\n",
    "    print('{} -- Folder create complete \\n'.format(checkpoint_dir))\n",
    "    \n",
    "cp_callback = ModelCheckpoint(checkpoint_path, monitor = 'val_accuracy', verbose = 1, save_best_only = True,\n",
    "                              save_weights_only = True)"
   ]
  },
  {
   "cell_type": "code",
   "execution_count": 10,
   "id": "bf23df03-a2dc-4220-bb55-10c5377fadfc",
   "metadata": {},
   "outputs": [
    {
     "name": "stdout",
     "output_type": "stream",
     "text": [
      "Epoch 1/10\n",
      "264/264 [==============================] - 30s 61ms/step - loss: 0.4581 - accuracy: 0.7760 - val_loss: 0.3950 - val_accuracy: 0.8227\n",
      "\n",
      "Epoch 00001: val_accuracy improved from -inf to 0.82267, saving model to ./data_out/cnn_classifier_kr\\weights.h5\n",
      "Epoch 2/10\n",
      "264/264 [==============================] - 6s 22ms/step - loss: 0.3517 - accuracy: 0.8455 - val_loss: 0.3858 - val_accuracy: 0.8291\n",
      "\n",
      "Epoch 00002: val_accuracy improved from 0.82267 to 0.82907, saving model to ./data_out/cnn_classifier_kr\\weights.h5\n",
      "Epoch 3/10\n",
      "264/264 [==============================] - 4s 17ms/step - loss: 0.3002 - accuracy: 0.8726 - val_loss: 0.4013 - val_accuracy: 0.8207\n",
      "\n",
      "Epoch 00003: val_accuracy did not improve from 0.82907\n",
      "Epoch 4/10\n",
      "264/264 [==============================] - 4s 17ms/step - loss: 0.2565 - accuracy: 0.8933 - val_loss: 0.4228 - val_accuracy: 0.8191\n",
      "\n",
      "Epoch 00004: val_accuracy did not improve from 0.82907\n"
     ]
    }
   ],
   "source": [
    "history = model.fit(train_input, train_label, batch_size = BATCH_SIZE, epochs = NUM_EPOCHS,\n",
    "                    validation_split = VALID_SPLIT, callbacks = [earlystop_callback, cp_callback])"
   ]
  },
  {
   "cell_type": "code",
   "execution_count": 13,
   "id": "17558c61-0fc5-4ae2-8011-37fe69d3580b",
   "metadata": {},
   "outputs": [
    {
     "data": {
      "image/png": "[encoded data removed]",
      "text/plain": [
       "<Figure size 432x288 with 1 Axes>"
      ]
     },
     "metadata": {
      "needs_background": "light"
     },
     "output_type": "display_data"
    }
   ],
   "source": [
    "plot_graphs(history, 'loss')"
   ]
  },
  {
   "cell_type": "code",
   "execution_count": 14,
   "id": "86d92353-3226-45ca-bd1a-f812d2fdbd61",
   "metadata": {},
   "outputs": [
    {
     "data": {
      "image/png": "[encoded data removed]",
      "text/plain": [
       "<Figure size 432x288 with 1 Axes>"
      ]
     },
     "metadata": {
      "needs_background": "light"
     },
     "output_type": "display_data"
    }
   ],
   "source": [
    "plot_graphs(history, 'accuracy')"
   ]
  },
  {
   "cell_type": "code",
   "execution_count": null,
   "id": "1ae38266-b2d2-45aa-b35f-bce528cd4963",
   "metadata": {},
   "outputs": [],
   "source": []
  },
  {
   "cell_type": "code",
   "execution_count": null,
   "id": "ea7fd1d2-3024-459a-8252-11c3b8aa7219",
   "metadata": {},
   "outputs": [],
   "source": []
  },
  {
   "cell_type": "code",
   "execution_count": null,
   "id": "6af2b2e5-acda-4ad3-bc25-3ae911aa538f",
   "metadata": {},
   "outputs": [],
   "source": [
    "# test data 의 label이 없어서 어쩔 수 없이 캐글에 올려서채점을 했으나,\n",
    "# 여기선 있으므로 직접 채점을 할 수 있다."
   ]
  },
  {
   "cell_type": "code",
   "execution_count": 15,
   "id": "db50ccdd-6f9d-46bc-89fa-e99396946e79",
   "metadata": {},
   "outputs": [],
   "source": [
    "INPUT_TEST_DATA = 'nsmc_test_input.npy'\n",
    "LABEL_TEST_DATA = 'nsmc_test_label.npy'\n",
    "SAVE_FILE_NM = 'weights.h5'\n",
    "\n",
    "test_input = np.load(open(DATA_IN_PATH + INPUT_TEST_DATA, 'rb'))\n",
    "test_label_data = np.load(open(DATA_IN_PATH + LABEL_TEST_DATA, 'rb'))"
   ]
  },
  {
   "cell_type": "code",
   "execution_count": 16,
   "id": "ecd90a3c-acb7-4f50-a092-f4c532c613ff",
   "metadata": {},
   "outputs": [],
   "source": [
    "# 모델 가중치 불러오기\n",
    "model.load_weights(os.path.join(DATA_OUT_PATH, model_name, SAVE_FILE_NM))"
   ]
  },
  {
   "cell_type": "code",
   "execution_count": 17,
   "id": "ceff5148-6e67-49f7-bd30-bafc48e1a4f0",
   "metadata": {},
   "outputs": [
    {
     "name": "stdout",
     "output_type": "stream",
     "text": [
      "1563/1563 [==============================] - 18s 11ms/step - loss: 0.3879 - accuracy: 0.8255\n"
     ]
    },
    {
     "data": {
      "text/plain": [
       "[0.38794130086898804, 0.8255400061607361]"
      ]
     },
     "execution_count": 17,
     "metadata": {},
     "output_type": "execute_result"
    }
   ],
   "source": [
    "model.evaluate(test_input, test_label_data)"
   ]
  },
  {
   "cell_type": "code",
   "execution_count": null,
   "id": "20394fc7-53ca-4d34-8d69-b18d9c638fe5",
   "metadata": {},
   "outputs": [],
   "source": []
  }
 ],
 "metadata": {
  "kernelspec": {
   "display_name": "Python 3 (ipykernel)",
   "language": "python",
   "name": "python3"
  },
  "language_info": {
   "codemirror_mode": {
    "name": "ipython",
    "version": 3
   },
   "file_extension": ".py",
   "mimetype": "text/x-python",
   "name": "python",
   "nbconvert_exporter": "python",
   "pygments_lexer": "ipython3",
   "version": "3.8.11"
  }
 },
 "nbformat": 4,
 "nbformat_minor": 5
}
