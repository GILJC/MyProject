{
 "cells": [
  {
   "cell_type": "code",
   "execution_count": 1,
   "id": "089924d6-a17e-4a0b-bb44-64c5bfdc09c9",
   "metadata": {},
   "outputs": [],
   "source": [
    "# https://github.com/e9t/nsmc\n",
    "# ratings_test.txt, ratings_train.txt 을\n",
    "# data_in 폴더에 넣고 학습"
   ]
  },
  {
   "cell_type": "code",
   "execution_count": 2,
   "id": "2230dbe2-f93d-4145-9105-039a29186a06",
   "metadata": {},
   "outputs": [],
   "source": [
    "import numpy as np\n",
    "import pandas as pd\n",
    "import os\n",
    "import matplotlib.pyplot as plt\n",
    "import seaborn as sns\n",
    "from wordcloud import WordCloud"
   ]
  },
  {
   "cell_type": "code",
   "execution_count": 3,
   "id": "773dfb76-568c-4c45-a1e2-d868dcfc3bec",
   "metadata": {},
   "outputs": [],
   "source": [
    "DATA_IN_PATH = './data_in/'\n",
    "\n",
    "train_data = pd.read_csv(DATA_IN_PATH + 'ratings_train.txt', delimiter='\\t',\n",
    "                         quoting=3)"
   ]
  },
  {
   "cell_type": "code",
   "execution_count": 4,
   "id": "cb80580b-25d4-49eb-a483-d329684de932",
   "metadata": {},
   "outputs": [
    {
     "data": {
      "text/html": [
       "<div>\n",
       "<style scoped>\n",
       "    .dataframe tbody tr th:only-of-type {\n",
       "        vertical-align: middle;\n",
       "    }\n",
       "\n",
       "    .dataframe tbody tr th {\n",
       "        vertical-align: top;\n",
       "    }\n",
       "\n",
       "    .dataframe thead th {\n",
       "        text-align: right;\n",
       "    }\n",
       "</style>\n",
       "<table border=\"1\" class=\"dataframe\">\n",
       "  <thead>\n",
       "    <tr style=\"text-align: right;\">\n",
       "      <th></th>\n",
       "      <th>id</th>\n",
       "      <th>document</th>\n",
       "      <th>label</th>\n",
       "    </tr>\n",
       "  </thead>\n",
       "  <tbody>\n",
       "    <tr>\n",
       "      <th>0</th>\n",
       "      <td>9976970</td>\n",
       "      <td>아 더빙.. 진짜 짜증나네요 목소리</td>\n",
       "      <td>0</td>\n",
       "    </tr>\n",
       "    <tr>\n",
       "      <th>1</th>\n",
       "      <td>3819312</td>\n",
       "      <td>흠...포스터보고 초딩영화줄....오버연기조차 가볍지 않구나</td>\n",
       "      <td>0</td>\n",
       "    </tr>\n",
       "    <tr>\n",
       "      <th>2</th>\n",
       "      <td>10265843</td>\n",
       "      <td>너무재밓었다그래서보는것을추천한다</td>\n",
       "      <td>1</td>\n",
       "    </tr>\n",
       "    <tr>\n",
       "      <th>3</th>\n",
       "      <td>9045019</td>\n",
       "      <td>교도소 이야기구먼 ..솔직히 재미는 없다..평점 조정</td>\n",
       "      <td>0</td>\n",
       "    </tr>\n",
       "    <tr>\n",
       "      <th>4</th>\n",
       "      <td>6483659</td>\n",
       "      <td>사이몬페그의 익살스런 연기가 돋보였던 영화!스파이더맨에서 늙어보이기만 했던 커스틴 ...</td>\n",
       "      <td>1</td>\n",
       "    </tr>\n",
       "  </tbody>\n",
       "</table>\n",
       "</div>"
      ],
      "text/plain": [
       "         id                                           document  label\n",
       "0   9976970                                아 더빙.. 진짜 짜증나네요 목소리      0\n",
       "1   3819312                  흠...포스터보고 초딩영화줄....오버연기조차 가볍지 않구나      0\n",
       "2  10265843                                  너무재밓었다그래서보는것을추천한다      1\n",
       "3   9045019                      교도소 이야기구먼 ..솔직히 재미는 없다..평점 조정      0\n",
       "4   6483659  사이몬페그의 익살스런 연기가 돋보였던 영화!스파이더맨에서 늙어보이기만 했던 커스틴 ...      1"
      ]
     },
     "execution_count": 4,
     "metadata": {},
     "output_type": "execute_result"
    }
   ],
   "source": [
    "train_data.head()"
   ]
  },
  {
   "cell_type": "code",
   "execution_count": 5,
   "id": "b595079c-fc60-4a7f-acde-fa0348b67fe5",
   "metadata": {},
   "outputs": [],
   "source": [
    "# 데이터가 이상해서 -> 부정인데 긍정으로 되어있는듯 -> 부정 0, 긍정 1\n",
    "# 수정함 ( 01001 -> 00101  요 2개만 바꿈)"
   ]
  },
  {
   "cell_type": "code",
   "execution_count": 6,
   "id": "5ab66124-8cbf-4383-9bd4-c654e8972dcc",
   "metadata": {},
   "outputs": [
    {
     "data": {
      "text/html": [
       "<div>\n",
       "<style scoped>\n",
       "    .dataframe tbody tr th:only-of-type {\n",
       "        vertical-align: middle;\n",
       "    }\n",
       "\n",
       "    .dataframe tbody tr th {\n",
       "        vertical-align: top;\n",
       "    }\n",
       "\n",
       "    .dataframe thead th {\n",
       "        text-align: right;\n",
       "    }\n",
       "</style>\n",
       "<table border=\"1\" class=\"dataframe\">\n",
       "  <thead>\n",
       "    <tr style=\"text-align: right;\">\n",
       "      <th></th>\n",
       "      <th>id</th>\n",
       "      <th>document</th>\n",
       "      <th>label</th>\n",
       "    </tr>\n",
       "  </thead>\n",
       "  <tbody>\n",
       "    <tr>\n",
       "      <th>0</th>\n",
       "      <td>9976970</td>\n",
       "      <td>아 더빙.. 진짜 짜증나네요 목소리</td>\n",
       "      <td>0</td>\n",
       "    </tr>\n",
       "    <tr>\n",
       "      <th>1</th>\n",
       "      <td>3819312</td>\n",
       "      <td>흠...포스터보고 초딩영화줄....오버연기조차 가볍지 않구나</td>\n",
       "      <td>0</td>\n",
       "    </tr>\n",
       "    <tr>\n",
       "      <th>2</th>\n",
       "      <td>10265843</td>\n",
       "      <td>너무재밓었다그래서보는것을추천한다</td>\n",
       "      <td>1</td>\n",
       "    </tr>\n",
       "    <tr>\n",
       "      <th>3</th>\n",
       "      <td>9045019</td>\n",
       "      <td>교도소 이야기구먼 ..솔직히 재미는 없다..평점 조정</td>\n",
       "      <td>0</td>\n",
       "    </tr>\n",
       "    <tr>\n",
       "      <th>4</th>\n",
       "      <td>6483659</td>\n",
       "      <td>사이몬페그의 익살스런 연기가 돋보였던 영화!스파이더맨에서 늙어보이기만 했던 커스틴 ...</td>\n",
       "      <td>1</td>\n",
       "    </tr>\n",
       "  </tbody>\n",
       "</table>\n",
       "</div>"
      ],
      "text/plain": [
       "         id                                           document  label\n",
       "0   9976970                                아 더빙.. 진짜 짜증나네요 목소리      0\n",
       "1   3819312                  흠...포스터보고 초딩영화줄....오버연기조차 가볍지 않구나      0\n",
       "2  10265843                                  너무재밓었다그래서보는것을추천한다      1\n",
       "3   9045019                      교도소 이야기구먼 ..솔직히 재미는 없다..평점 조정      0\n",
       "4   6483659  사이몬페그의 익살스런 연기가 돋보였던 영화!스파이더맨에서 늙어보이기만 했던 커스틴 ...      1"
      ]
     },
     "execution_count": 6,
     "metadata": {},
     "output_type": "execute_result"
    }
   ],
   "source": [
    "# 다시 로드한것\n",
    "train_data.head()"
   ]
  },
  {
   "cell_type": "code",
   "execution_count": 7,
   "id": "d226555c-9275-4f4e-9499-54a1a67c2a37",
   "metadata": {},
   "outputs": [
    {
     "name": "stdout",
     "output_type": "stream",
     "text": [
      "전체 학습데이터의 수: 150000\n"
     ]
    }
   ],
   "source": [
    "print('전체 학습데이터의 수: {}'.format(len(train_data)))"
   ]
  },
  {
   "cell_type": "code",
   "execution_count": 8,
   "id": "6a4345f1-e692-49f3-abb4-4f146cfe0378",
   "metadata": {},
   "outputs": [
    {
     "name": "stdout",
     "output_type": "stream",
     "text": [
      "<class 'pandas.core.frame.DataFrame'>\n",
      "RangeIndex: 150000 entries, 0 to 149999\n",
      "Data columns (total 3 columns):\n",
      " #   Column    Non-Null Count   Dtype \n",
      "---  ------    --------------   ----- \n",
      " 0   id        150000 non-null  int64 \n",
      " 1   document  149995 non-null  object\n",
      " 2   label     150000 non-null  int64 \n",
      "dtypes: int64(2), object(1)\n",
      "memory usage: 3.4+ MB\n"
     ]
    }
   ],
   "source": [
    "train_data.info()"
   ]
  },
  {
   "cell_type": "code",
   "execution_count": 9,
   "id": "53c16c00-2e6f-4f40-b70c-8ff363ea0599",
   "metadata": {},
   "outputs": [],
   "source": [
    "# 길이정보만 뽑음\n",
    "train_length = train_data['document'].astype(str).apply(len)"
   ]
  },
  {
   "cell_type": "code",
   "execution_count": 10,
   "id": "98b07843-a8ac-4bb3-b2d7-04306e6beda8",
   "metadata": {},
   "outputs": [
    {
     "data": {
      "text/plain": [
       "0    19\n",
       "1    33\n",
       "2    17\n",
       "3    29\n",
       "4    61\n",
       "Name: document, dtype: int64"
      ]
     },
     "execution_count": 10,
     "metadata": {},
     "output_type": "execute_result"
    }
   ],
   "source": [
    "train_length.head()"
   ]
  },
  {
   "cell_type": "code",
   "execution_count": 11,
   "id": "4b48b862-605a-492c-842f-09e6656f238a",
   "metadata": {},
   "outputs": [
    {
     "data": {
      "image/png": "[encoded data removed]",
      "text/plain": [
       "<Figure size 720x360 with 1 Axes>"
      ]
     },
     "metadata": {
      "needs_background": "light"
     },
     "output_type": "display_data"
    }
   ],
   "source": [
    "plt.figure(figsize=(10,5))\n",
    "plt.hist(train_length, bins=200, alpha=0.5, color='r')\n",
    "plt.yscale('log', nonpositive='clip')\n",
    "plt.title('Log-Histogram of length of review')\n",
    "plt.xlabel('Length of review')\n",
    "plt.ylabel('Number of review')\n",
    "plt.show()"
   ]
  },
  {
   "cell_type": "code",
   "execution_count": 12,
   "id": "1b270577-ebf3-4789-a86f-f7c3c4c6d67c",
   "metadata": {},
   "outputs": [],
   "source": [
    "# 15정도가 제일 길다가 점점 줄어듬, 140에서 갑자기 높아짐.\n",
    "# 140정도 까지는 균일하게 분포.\n",
    "# 이게 네이버 리뷰임.  ->  한글 기준으로 140자 제한이 있어서 140에 걸리는게 많음."
   ]
  },
  {
   "cell_type": "code",
   "execution_count": 13,
   "id": "9df3fe34-ddf8-4e61-8564-1f11b6e0c895",
   "metadata": {},
   "outputs": [
    {
     "name": "stdout",
     "output_type": "stream",
     "text": [
      "리뷰 길이 최대값: 158\n",
      "리뷰 길이 최소값: 1\n",
      "리뷰 길이 평균값: 35.24\n",
      "리뷰 길이 표준편차값: 29.58\n",
      "리뷰 길이 중간값: 27.0\n",
      "리뷰 길이 1사분위: 16.0\n",
      "리뷰 길이 3사분위: 42.0\n"
     ]
    }
   ],
   "source": [
    "# 실제 수치로 한번 보자\n",
    "print('리뷰 길이 최대값: {}'.format(np.max(train_length)))\n",
    "print('리뷰 길이 최소값: {}'.format(np.min(train_length)))\n",
    "print('리뷰 길이 평균값: {:.2f}'.format(np.mean(train_length)))\n",
    "print('리뷰 길이 표준편차값: {:.2f}'.format(np.std(train_length)))\n",
    "print('리뷰 길이 중간값: {}'.format(np.median(train_length)))\n",
    "print('리뷰 길이 1사분위: {}'.format(np.percentile(train_length, 25)))\n",
    "print('리뷰 길이 3사분위: {}'.format(np.percentile(train_length, 75)))"
   ]
  },
  {
   "cell_type": "code",
   "execution_count": 14,
   "id": "a750c2c4-76c3-4fa3-8d5b-d7db8405a690",
   "metadata": {},
   "outputs": [],
   "source": [
    "# 중간값이 27자."
   ]
  },
  {
   "cell_type": "code",
   "execution_count": 15,
   "id": "4789ed8f-8d17-4d9b-92e2-7f76a29ac307",
   "metadata": {},
   "outputs": [
    {
     "data": {
      "image/png": "[encoded data removed]",
      "text/plain": [
       "<Figure size 720x360 with 1 Axes>"
      ]
     },
     "metadata": {
      "needs_background": "light"
     },
     "output_type": "display_data"
    }
   ],
   "source": [
    "# 박스플롯 그려보자\n",
    "plt.figure(figsize=(10,5))\n",
    "plt.boxplot(train_length, labels=['counts'], showmeans=True)\n",
    "plt.show()"
   ]
  },
  {
   "cell_type": "code",
   "execution_count": 16,
   "id": "e9d296a6-4bd3-4640-b245-d5521320df55",
   "metadata": {},
   "outputs": [],
   "source": [
    "# wordcloud를 찍어보자 -> 워드 클라우드를 찍기 위해,  문자열이 아닌놈들은 걸러내자\n",
    "\n",
    "train_review = [review for review in train_data['document'] if type(review) is str]"
   ]
  },
  {
   "cell_type": "code",
   "execution_count": 18,
   "id": "3bd0e764-d711-4fc2-a2c5-3d435f4f7c25",
   "metadata": {},
   "outputs": [
    {
     "data": {
      "image/png": "[encoded data removed]",
      "text/plain": [
       "<Figure size 936x720 with 1 Axes>"
      ]
     },
     "metadata": {
      "needs_background": "light"
     },
     "output_type": "display_data"
    }
   ],
   "source": [
    "wordcloud = WordCloud(font_path='C:\\\\WINDOWS\\\\FONTS\\\\arial.ttf').generate(' '.join(train_review))\n",
    "\n",
    "# MaxOS는 애플고딕, Windows는 한글 폰트를 쓸것\n",
    "# 개인 설정 -> 글꼴\n",
    "# 글꼴파일 ->\n",
    "# C:\\\\WINDOWS\\\\FONTS\\\\MALGUNSL.TFF  -> 이거 없어서 arial.ttf 로 함\n",
    "\n",
    "plt.figure(figsize=(13, 10))\n",
    "plt.imshow(wordcloud, interpolation='bilinear')  # interpolation: 경계 부분을 부드럽게 찍기 위해 사용\n",
    "plt.axis('off')\n",
    "plt.show()  #  -> 폰트 깨짐 -> 다른 폰트로 할것\n",
    "\n",
    "#-------------------참고 맥\n",
    "#wordcloud = WordCloud(font_path='AppleGothic').generate(' '.join(train_review))\n",
    "#plt.figure(figsize=(13,10))\n",
    "#plt.imshow(wordcloud, interpolation='bilinear')\n",
    "#plt.axis('off')\n",
    "#plt.show()"
   ]
  },
  {
   "cell_type": "code",
   "execution_count": 19,
   "id": "dd2b85d7-5826-45c6-9acb-536db85b148d",
   "metadata": {},
   "outputs": [
    {
     "data": {
      "image/png": "[encoded data removed]",
      "text/plain": [
       "<Figure size 432x216 with 1 Axes>"
      ]
     },
     "metadata": {
      "needs_background": "light"
     },
     "output_type": "display_data"
    }
   ],
   "source": [
    "fig, axe = plt.subplots(ncols=1)\n",
    "fig.set_size_inches(6, 3)\n",
    "sns.countplot(x=train_data['label'])\n",
    "plt.show()"
   ]
  },
  {
   "cell_type": "code",
   "execution_count": 20,
   "id": "e7fcd5a0-b00b-47ee-b856-f6ff10a0f4c7",
   "metadata": {},
   "outputs": [
    {
     "name": "stdout",
     "output_type": "stream",
     "text": [
      "긍정 리뷰: 74827\n",
      "부정 리뷰: 75173\n"
     ]
    }
   ],
   "source": [
    "print('긍정 리뷰: {}'.format(train_data['label'].value_counts()[1]))\n",
    "print('부정 리뷰: {}'.format(train_data['label'].value_counts()[0]))"
   ]
  },
  {
   "cell_type": "code",
   "execution_count": 27,
   "id": "92039292-c202-45a6-ae35-e9c4b99ec83d",
   "metadata": {},
   "outputs": [],
   "source": [
    "train_word_counts = train_data['document'].astype(str).apply(lambda x:len(x.split(' ')))"
   ]
  },
  {
   "cell_type": "code",
   "execution_count": 28,
   "id": "a5c0a3d1-0998-41ab-b53a-906239fd1e48",
   "metadata": {},
   "outputs": [
    {
     "data": {
      "image/png": "[encoded data removed]",
      "text/plain": [
       "<Figure size 936x720 with 1 Axes>"
      ]
     },
     "metadata": {
      "needs_background": "light"
     },
     "output_type": "display_data"
    }
   ],
   "source": [
    "plt.figure(figsize=(13,10))\n",
    "plt.hist(train_word_counts, bins=50, facecolor='r', label='train')\n",
    "plt.title('Log-Histogram of word count in review', fontsize=15)\n",
    "plt.yscale('log', nonpositive='clip')\n",
    "plt.legend()\n",
    "plt.xlabel('Number of words', fontsize=15)\n",
    "plt.ylabel('Number of reviews', fontsize=15)\n",
    "plt.show()"
   ]
  },
  {
   "cell_type": "code",
   "execution_count": 29,
   "id": "43cb692d-1c9a-4eb2-be17-2ca479236fa8",
   "metadata": {},
   "outputs": [],
   "source": [
    "# 단어수가 올라갈대마다, 리뷰슈가 줄어듬\n",
    "# 40정도까지 가면 급격히 줄어듬 ->  이정도로 많이 안 쓴다는 얘기"
   ]
  },
  {
   "cell_type": "code",
   "execution_count": 31,
   "id": "5ab561f0-522c-45eb-94c3-fd16f290293a",
   "metadata": {},
   "outputs": [
    {
     "name": "stdout",
     "output_type": "stream",
     "text": [
      "리뷰 길이 최대값: 41\n",
      "리뷰 길이 최소값: 1\n",
      "리뷰 길이 평균값: 7.58\n",
      "리뷰 길이 표준편차값: 6.51\n",
      "리뷰 길이 중간값: 6.0\n",
      "리뷰 길이 1사분위: 3.0\n",
      "리뷰 길이 3사분위: 9.0\n"
     ]
    }
   ],
   "source": [
    "# 실제 수치로 한번 보자\n",
    "print('리뷰 길이 최대값: {}'.format(np.max(train_word_counts)))\n",
    "print('리뷰 길이 최소값: {}'.format(np.min(train_word_counts)))\n",
    "print('리뷰 길이 평균값: {:.2f}'.format(np.mean(train_word_counts)))\n",
    "print('리뷰 길이 표준편차값: {:.2f}'.format(np.std(train_word_counts)))\n",
    "print('리뷰 길이 중간값: {}'.format(np.median(train_word_counts)))\n",
    "print('리뷰 길이 1사분위: {}'.format(np.percentile(train_word_counts, 25)))\n",
    "print('리뷰 길이 3사분위: {}'.format(np.percentile(train_word_counts, 75)))"
   ]
  },
  {
   "cell_type": "code",
   "execution_count": 33,
   "id": "ffb1a92e-14e3-49a1-9f20-9a21e1fbc73c",
   "metadata": {},
   "outputs": [
    {
     "name": "stdout",
     "output_type": "stream",
     "text": [
      "물음표가 있는 리뷰: 8.25%\n",
      "마침표가 있는 리뷰: 51.76%\n"
     ]
    }
   ],
   "source": [
    "qmarks = np.mean(train_data['document'].astype(str).apply(lambda x: '?' in x))\n",
    "fullstop = np.mean(train_data['document'].astype(str).apply(lambda x: '.' in x))\n",
    "print('물음표가 있는 리뷰: {:.2f}%'.format(qmarks * 100))\n",
    "print('마침표가 있는 리뷰: {:.2f}%'.format(fullstop * 100))"
   ]
  },
  {
   "cell_type": "code",
   "execution_count": 34,
   "id": "cae1feaf-c99f-48ce-9924-d484f9846584",
   "metadata": {},
   "outputs": [],
   "source": [
    "# 이걸 가지고 데이터 전처리 할 것"
   ]
  },
  {
   "cell_type": "code",
   "execution_count": 35,
   "id": "9c3b22cb-a447-4969-b4ed-3b9891d947b5",
   "metadata": {},
   "outputs": [],
   "source": [
    "import re  #(레귤러 익스프레션)\n",
    "import json\n",
    "from konlpy.tag import Okt\n",
    "from tensorflow.keras.preprocessing.sequence import pad_sequences\n",
    "from tensorflow.keras.preprocessing.text import Tokenizer"
   ]
  },
  {
   "cell_type": "code",
   "execution_count": 36,
   "id": "7f64e8fd-82eb-43be-a1e7-93ec12d710b4",
   "metadata": {},
   "outputs": [
    {
     "data": {
      "text/html": [
       "<div>\n",
       "<style scoped>\n",
       "    .dataframe tbody tr th:only-of-type {\n",
       "        vertical-align: middle;\n",
       "    }\n",
       "\n",
       "    .dataframe tbody tr th {\n",
       "        vertical-align: top;\n",
       "    }\n",
       "\n",
       "    .dataframe thead th {\n",
       "        text-align: right;\n",
       "    }\n",
       "</style>\n",
       "<table border=\"1\" class=\"dataframe\">\n",
       "  <thead>\n",
       "    <tr style=\"text-align: right;\">\n",
       "      <th></th>\n",
       "      <th>id</th>\n",
       "      <th>document</th>\n",
       "      <th>label</th>\n",
       "    </tr>\n",
       "  </thead>\n",
       "  <tbody>\n",
       "    <tr>\n",
       "      <th>0</th>\n",
       "      <td>9976970</td>\n",
       "      <td>아 더빙.. 진짜 짜증나네요 목소리</td>\n",
       "      <td>0</td>\n",
       "    </tr>\n",
       "    <tr>\n",
       "      <th>1</th>\n",
       "      <td>3819312</td>\n",
       "      <td>흠...포스터보고 초딩영화줄....오버연기조차 가볍지 않구나</td>\n",
       "      <td>0</td>\n",
       "    </tr>\n",
       "    <tr>\n",
       "      <th>2</th>\n",
       "      <td>10265843</td>\n",
       "      <td>너무재밓었다그래서보는것을추천한다</td>\n",
       "      <td>1</td>\n",
       "    </tr>\n",
       "    <tr>\n",
       "      <th>3</th>\n",
       "      <td>9045019</td>\n",
       "      <td>교도소 이야기구먼 ..솔직히 재미는 없다..평점 조정</td>\n",
       "      <td>0</td>\n",
       "    </tr>\n",
       "    <tr>\n",
       "      <th>4</th>\n",
       "      <td>6483659</td>\n",
       "      <td>사이몬페그의 익살스런 연기가 돋보였던 영화!스파이더맨에서 늙어보이기만 했던 커스틴 ...</td>\n",
       "      <td>1</td>\n",
       "    </tr>\n",
       "  </tbody>\n",
       "</table>\n",
       "</div>"
      ],
      "text/plain": [
       "         id                                           document  label\n",
       "0   9976970                                아 더빙.. 진짜 짜증나네요 목소리      0\n",
       "1   3819312                  흠...포스터보고 초딩영화줄....오버연기조차 가볍지 않구나      0\n",
       "2  10265843                                  너무재밓었다그래서보는것을추천한다      1\n",
       "3   9045019                      교도소 이야기구먼 ..솔직히 재미는 없다..평점 조정      0\n",
       "4   6483659  사이몬페그의 익살스런 연기가 돋보였던 영화!스파이더맨에서 늙어보이기만 했던 커스틴 ...      1"
      ]
     },
     "execution_count": 36,
     "metadata": {},
     "output_type": "execute_result"
    }
   ],
   "source": [
    "# 우리 데이터는 현재 이상태\n",
    "train_data.head()"
   ]
  },
  {
   "cell_type": "code",
   "execution_count": 37,
   "id": "468ae049-59a7-444c-ad45-713a4c9fb7a8",
   "metadata": {},
   "outputs": [],
   "source": [
    "# 아까 열어봤는데 html은 없는듯 -> beautifulSroup은 안써도 될듯.\n",
    "# ...점이나, 물음표 등을 사전에 없에야 할듯 -> re (레귤러익스프레션) 을 사용해서 제거"
   ]
  },
  {
   "cell_type": "code",
   "execution_count": 39,
   "id": "d50541dd-6ade-4d71-9fbd-0ca48a18305d",
   "metadata": {},
   "outputs": [
    {
     "name": "stdout",
     "output_type": "stream",
     "text": [
      "아 더빙 진짜 짜증나네요 목소리\n"
     ]
    }
   ],
   "source": [
    "review_text = re.sub(r'[^가-힣ㄱ-ㅎㅏ-ㅣ\\s]', '', train_data['document'][0])  # \\s는 스페이스  # \\\\s 로 쓰면 space도 날라가버림\n",
    "#   ^   <-  요놈 중요\n",
    "#영어는 A-Za-z인데, 한글은 어떻게 하느냐 -> 가부터 힣까지, ㄱ부터 ㅎ까지, ㅏ부터ㅣ 까지\n",
    "# 이거 말고 나머지는 다 날려버려 -> ''\n",
    "# 첫문장만 가져와서 text 찍어봄  ->  train_data['document'][0]\n",
    "print(review_text)"
   ]
  },
  {
   "cell_type": "code",
   "execution_count": 40,
   "id": "ef6992f1-8b5c-42e7-965a-8e18e3390226",
   "metadata": {},
   "outputs": [
    {
     "name": "stdout",
     "output_type": "stream",
     "text": [
      "['아', '더빙', '진짜', '짜증나다', '목소리']\n"
     ]
    }
   ],
   "source": [
    "okt = Okt()\n",
    "review_text = okt.morphs(review_text, stem=True)\n",
    "print(review_text)"
   ]
  },
  {
   "cell_type": "code",
   "execution_count": 41,
   "id": "22ba325e-11aa-419b-915b-1919e4ece919",
   "metadata": {},
   "outputs": [],
   "source": [
    "# 안쓰는것들을 -> 직접 불용어 사전을 만들자.\n",
    "stop_words = set(['은', '는', '이', '가', '하', '아', '것', '들','의', '있', '되', '수', '보', '주', '등', '한'])"
   ]
  },
  {
   "cell_type": "code",
   "execution_count": 42,
   "id": "5bd948db-8088-4aed-913d-ff01a4eaf3bf",
   "metadata": {},
   "outputs": [
    {
     "name": "stdout",
     "output_type": "stream",
     "text": [
      "['더빙', '진짜', '짜증나다', '목소리']\n"
     ]
    }
   ],
   "source": [
    "clean_review = [token for token in review_text if not token in stop_words]\n",
    "print(clean_review)"
   ]
  },
  {
   "cell_type": "code",
   "execution_count": 43,
   "id": "1410a9e5-f150-45d7-838f-422d55add971",
   "metadata": {},
   "outputs": [],
   "source": [
    "def preprocessing(review, okt, remove_stopwords=False, stop_words=[]):\n",
    "    review_text = re.sub(r'[^가-힣ㄱ-ㅎㅏ-ㅣ\\s]', '', review)\n",
    "    word_review = okt.morphs(review_text, stem=True)\n",
    "    \n",
    "    if remove_stopwords:\n",
    "        word_review = [token for token in word_review if not token in stop_words]\n",
    "        \n",
    "    return word_review"
   ]
  },
  {
   "cell_type": "code",
   "execution_count": 44,
   "id": "1e92e739-b646-4b42-955e-174300059b61",
   "metadata": {},
   "outputs": [
    {
     "name": "stdout",
     "output_type": "stream",
     "text": [
      "[['더빙', '진짜', '짜증나다', '목소리'], ['흠', '포스터', '보고', '초딩', '영화', '줄', '오버', '연기', '조차', '가볍다', '않다'], ['너', '무재', '밓었', '다그', '래서', '보다', '추천', '다'], ['교도소', '이야기', '구먼', '솔직하다', '재미', '없다', '평점', '조정']]\n"
     ]
    }
   ],
   "source": [
    "clean_train_review = []\n",
    "\n",
    "for review in train_data['document']:\n",
    "    if type(review) == str:\n",
    "        clean_train_review.append(preprocessing(review, okt, remove_stopwords=True,  #1,2,3번 인자\n",
    "                                               stop_words=stop_words))\n",
    "        \n",
    "    else:\n",
    "        clean_train_review.append([])  # 문자열이 아닌게 들어오면, 빈 문자열\n",
    "\n",
    "# 일부만 찍어봐서 확인\n",
    "print(clean_train_review[:4])"
   ]
  },
  {
   "cell_type": "code",
   "execution_count": 45,
   "id": "e21181f0-c3d6-4c97-a2e0-22849367bab3",
   "metadata": {},
   "outputs": [
    {
     "name": "stdout",
     "output_type": "stream",
     "text": [
      "[['굳다', 'ㅋ'], [], ['뭐', '야', '평점', '나쁘다', '않다', '점', '짜다', '리', '더', '더욱', '아니다'], ['지루하다', '않다', '완전', '막장', '임', '돈', '주다', '보기', '에는']]\n"
     ]
    }
   ],
   "source": [
    "test_data = pd.read_csv(DATA_IN_PATH + 'ratings_test.txt', delimiter='\\t', quoting=3)\n",
    "\n",
    "from tqdm.notebook import tqdm\n",
    "\n",
    "clean_test_review = []\n",
    "\n",
    "for review in test_data['document']:\n",
    "    if type(review) == str:\n",
    "        clean_test_review.append(preprocessing(review, okt, remove_stopwords=True,\n",
    "                                              stop_words=stop_words))\n",
    "    else:\n",
    "        clean_test_review.append([])\n",
    "        \n",
    "print(clean_test_review[:4])"
   ]
  },
  {
   "cell_type": "code",
   "execution_count": null,
   "id": "51b99ddc-4d49-4789-aedd-72e38a79b304",
   "metadata": {},
   "outputs": [],
   "source": [
    "# 필요한 경우 사용.  참고로 난 사용 안함\n",
    "# conda install tqdm\n",
    "# conda install -n base -c conda-forge jupyterlab-widgets"
   ]
  },
  {
   "cell_type": "code",
   "execution_count": 46,
   "id": "bf3ee399-1430-4ab2-8345-79ab2d7780f8",
   "metadata": {},
   "outputs": [],
   "source": [
    "# 단어 사전 만들기\n",
    "\n",
    "tokenizer = Tokenizer()\n",
    "tokenizer.fit_on_texts(clean_train_review)\n",
    "train_sequences = tokenizer.texts_to_sequences(clean_train_review)\n",
    "test_sequences = tokenizer.texts_to_sequences(clean_test_review)\n",
    "\n",
    "word_vocab = tokenizer.word_index"
   ]
  },
  {
   "cell_type": "code",
   "execution_count": 47,
   "id": "0b2b178e-fe8e-4f0f-8cef-2b023ea88f78",
   "metadata": {},
   "outputs": [
    {
     "name": "stdout",
     "output_type": "stream",
     "text": [
      "463\n"
     ]
    }
   ],
   "source": [
    "print(word_vocab['더빙'])"
   ]
  },
  {
   "cell_type": "code",
   "execution_count": 48,
   "id": "1a40d20d-11a7-4124-921e-7a20ba3ef82f",
   "metadata": {},
   "outputs": [],
   "source": [
    "MAX_SEQUENCE_LENGTH = 8\n",
    "\n",
    "train_inputs = pad_sequences(train_sequences, maxlen=MAX_SEQUENCE_LENGTH, padding='post')\n",
    "train_labels = np.array(train_data['label'])\n",
    "\n",
    "test_inputs = pad_sequences(test_sequences, maxlen=MAX_SEQUENCE_LENGTH, padding='post')\n",
    "test_labels = np.array(test_data['label'])\n",
    "\n",
    "# 이렇게 패딩까지 시켜 놓음"
   ]
  },
  {
   "cell_type": "code",
   "execution_count": 50,
   "id": "c02f3fd5-f25f-483b-bbab-8a27cca74b59",
   "metadata": {},
   "outputs": [],
   "source": [
    "DATA_IN_PATH = './data_in/'\n",
    "TRAIN_INPUT_DATA = 'nsmc_train_input.npy'\n",
    "TRAIN_LABEL_DATA = 'nsmc_train_label.npy'\n",
    "TEST_INPUT_DATA = 'nsmc_test_input.npy'\n",
    "TEST_LABEL_DATA = 'nsmc_test_label.npy'\n",
    "DATA_CONFIGS = 'nsmc_data_configs.json'\n",
    "\n",
    "data_configs = {}\n",
    "data_configs['vocab'] = word_vocab\n",
    "data_configs['vocab_size'] = len(word_vocab)\n",
    "\n",
    "import os\n",
    "if not os.path.exists(DATA_IN_PATH):\n",
    "    os.makedirs(DATA_IN_PATH)\n",
    "    \n",
    "np.save(open(DATA_IN_PATH + TRAIN_INPUT_DATA,  'wb'), train_inputs)\n",
    "np.save(open(DATA_IN_PATH + TRAIN_LABEL_DATA,  'wb'), train_labels)\n",
    "\n",
    "np.save(open(DATA_IN_PATH + TEST_INPUT_DATA,  'wb'), test_inputs)\n",
    "np.save(open(DATA_IN_PATH + TEST_LABEL_DATA,  'wb'), test_labels)\n",
    "\n",
    "json.dump(data_configs, open(DATA_IN_PATH + DATA_CONFIGS, 'w'), ensure_ascii=False)\n",
    "\n",
    "# 완료하고 파일 잘 들어갔는지 폴더에서 확인할것\n",
    "# 혹시 사이즈가 같은게 있으면, 호타나서 같은파일이 된거임. 확인 필요"
   ]
  },
  {
   "cell_type": "code",
   "execution_count": null,
   "id": "b92de65e-d294-4436-87f2-a3bade00f795",
   "metadata": {},
   "outputs": [],
   "source": []
  }
 ],
 "metadata": {
  "kernelspec": {
   "display_name": "Python 3 (ipykernel)",
   "language": "python",
   "name": "python3"
  },
  "language_info": {
   "codemirror_mode": {
    "name": "ipython",
    "version": 3
   },
   "file_extension": ".py",
   "mimetype": "text/x-python",
   "name": "python",
   "nbconvert_exporter": "python",
   "pygments_lexer": "ipython3",
   "version": "3.8.11"
  }
 },
 "nbformat": 4,
 "nbformat_minor": 5
}
