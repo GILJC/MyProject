{
 "cells": [
  {
   "cell_type": "code",
   "execution_count": 1,
   "id": "354d64a1-ca48-4570-a805-f53b2b03ee5f",
   "metadata": {},
   "outputs": [],
   "source": [
    "import pandas as pd\n",
    "import numpy as np\n",
    "import os\n",
    "from sklearn.feature_extraction.text import CountVectorizer"
   ]
  },
  {
   "cell_type": "code",
   "execution_count": 2,
   "id": "2ba4940c-baa7-4618-9ae1-72b9d54846ed",
   "metadata": {},
   "outputs": [],
   "source": [
    "DATA_IN_PATH = './data_in/'\n",
    "DATA_OUT_PATH = './data_out/'\n",
    "TRAIN_CLEAN_DATA = 'train_clean.csv'\n",
    "\n",
    "train_data = pd.read_csv(DATA_IN_PATH + TRAIN_CLEAN_DATA)"
   ]
  },
  {
   "cell_type": "code",
   "execution_count": 3,
   "id": "fa6588d7-f7c3-4bc1-934a-9137efd5bdb8",
   "metadata": {},
   "outputs": [],
   "source": [
    "reviews = list(train_data['review'])\n",
    "y = np.array(train_data['sentiment'])"
   ]
  },
  {
   "cell_type": "code",
   "execution_count": 5,
   "id": "0e8279e4-fcd6-4ccb-bc45-dedf46fb48d3",
   "metadata": {},
   "outputs": [],
   "source": [
    "vectorizer = CountVectorizer(analyzer='word', max_features=5000)  # 최대 차원수는 5000까지 잡음\n",
    "train_data_features = vectorizer.fit_transform(reviews)"
   ]
  },
  {
   "cell_type": "code",
   "execution_count": 6,
   "id": "74432f95-42fe-40e8-a495-099f17aed249",
   "metadata": {},
   "outputs": [
    {
     "name": "stdout",
     "output_type": "stream",
     "text": [
      "(25000, 5000)\n"
     ]
    }
   ],
   "source": [
    "print(train_data_features.shape)"
   ]
  },
  {
   "cell_type": "code",
   "execution_count": 8,
   "id": "20ed4d48-47ea-4166-ad99-30384a6f03c0",
   "metadata": {},
   "outputs": [],
   "source": [
    "from sklearn.model_selection import train_test_split\n",
    "\n",
    "RANDOM_SEED = 42\n",
    "TEST_SPLIT = 0.2\n",
    "\n",
    "# y = np.array(sentiments)   # 이건 이미 했으니 할 필요 없음\n",
    "x_train, x_eval, y_train, y_eval = \\\n",
    "            train_test_split(train_data_features,\n",
    "                             y, test_size=TEST_SPLIT, random_state=RANDOM_SEED)"
   ]
  },
  {
   "cell_type": "code",
   "execution_count": 10,
   "id": "c27c6232-46a2-432f-8217-513aad99a921",
   "metadata": {},
   "outputs": [
    {
     "data": {
      "text/plain": [
       "RandomForestClassifier()"
      ]
     },
     "execution_count": 10,
     "metadata": {},
     "output_type": "execute_result"
    }
   ],
   "source": [
    "from sklearn.ensemble import RandomForestClassifier  # 참고로 ensemble 은 앙상블이다.\n",
    "\n",
    "forest = RandomForestClassifier(n_estimators=100)\n",
    "forest.fit(x_train, y_train)   # 04_4파일에서 복사해와서, 책에 있는거랑 변수명이 다름"
   ]
  },
  {
   "cell_type": "code",
   "execution_count": 12,
   "id": "eb6ab42b-580c-417f-a5e0-8dcb8ecd696d",
   "metadata": {},
   "outputs": [
    {
     "name": "stdout",
     "output_type": "stream",
     "text": [
      "Accuracy: 0.843600\n"
     ]
    }
   ],
   "source": [
    "# 자체 검증 ㄱㄱ\n",
    "\n",
    "print('Accuracy: %f' % forest.score(x_eval, y_eval))\n",
    "# 아까보다 점수 떨어진듯"
   ]
  },
  {
   "cell_type": "code",
   "execution_count": null,
   "id": "52d73253-dbb3-454e-9188-e82dae2904c3",
   "metadata": {},
   "outputs": [],
   "source": []
  },
  {
   "cell_type": "code",
   "execution_count": 13,
   "id": "fde9052d-8339-43c9-87bf-ae713d711f12",
   "metadata": {},
   "outputs": [],
   "source": [
    "# 캐글 채점 시작"
   ]
  },
  {
   "cell_type": "code",
   "execution_count": null,
   "id": "689b22a0-678a-44c0-a920-0b3d03fe8713",
   "metadata": {},
   "outputs": [],
   "source": [
    "TEST_CLEAN_DATA = 'test_clean.csv'\n",
    "\n",
    "test_data = pd.read_csv(DATA_IN_PATH + TEST_CLEAN_DATA)\n",
    "test_review = list(test_data['review'])"
   ]
  },
  {
   "cell_type": "code",
   "execution_count": null,
   "id": "2706a1bf-c12d-4160-b5fa-9adb612ca9a6",
   "metadata": {},
   "outputs": [],
   "source": [
    "test_sentences = list()\n",
    "for review in test_review:\n",
    "    test_sentences.append(review.split())"
   ]
  },
  {
   "cell_type": "code",
   "execution_count": null,
   "id": "b64a3964-c584-4fd9-9627-9aa1e06057a7",
   "metadata": {},
   "outputs": [],
   "source": [
    "test_data_vecs = get_dataset(test_sentences, model, num_features)"
   ]
  },
  {
   "cell_type": "code",
   "execution_count": null,
   "id": "fb37eb57-8b52-44c3-a62d-df181d5a7867",
   "metadata": {},
   "outputs": [],
   "source": [
    "test_predicted = lgs.predict(test_data_vecs)\n",
    "\n",
    "ids = list(test_data['id'])\n",
    "answer_dataset = pd.DataFrame({'id': ids, 'sentiment':test_predicted})"
   ]
  },
  {
   "cell_type": "code",
   "execution_count": null,
   "id": "64e56ba2-284e-4dd4-b33a-31eba145c541",
   "metadata": {},
   "outputs": [],
   "source": [
    "if not os.path.exists(DATA_OUT_PATH):\n",
    "    os.makedirs(DATA_OUT_PATH)\n",
    "    \n",
    "answer_dataset.to_csv(DATA_OUT_PATH + 'lgs_rndfrst_answer.csv', index=False, quoting=3)"
   ]
  },
  {
   "cell_type": "code",
   "execution_count": null,
   "id": "fbc85b57-f3c3-4991-ab09-0cbe58080d77",
   "metadata": {},
   "outputs": [],
   "source": [
    "# 다 됐으면 캐글에 올려서 채점하면 됨\n",
    "# 파일 이름 : lgs_w2v_answer.csv"
   ]
  },
  {
   "cell_type": "code",
   "execution_count": 14,
   "id": "2021cb2f-c721-496d-a734-b8821e659558",
   "metadata": {},
   "outputs": [],
   "source": [
    "TEST_CLEAN_DATA = 'test_clean.csv'\n",
    "DATA_OUT_PATH = './data_out/'\n",
    "\n",
    "test_data = pd.read_csv(DATA_IN_PATH + TEST_CLEAN_DATA)\n",
    "\n",
    "test_reviews = list(test_data['review'])\n",
    "ids = list(test_data['id'])\n",
    "                    \n",
    "test_data_features = vectorizer.transform(test_reviews)\n",
    "                    \n",
    "if not os.path.exists(DATA_OUT_PATH):\n",
    "    os.makedirs(DATA_OUT_PATH)\n",
    "\n",
    "result = forest.predict(test_data_features)\n",
    "\n",
    "output = pd.DataFrame(data={'id': ids, 'sentiment': result})\n",
    "                    \n",
    "output.to_csv(DATA_OUT_PATH + 'Forest_model.csv', index=False, quoting=3)"
   ]
  },
  {
   "cell_type": "code",
   "execution_count": null,
   "id": "94f9387e-394e-4927-81a4-f48301f4b2e4",
   "metadata": {},
   "outputs": [],
   "source": [
    "# 한방에 정리한거\n",
    "#위에 여러개 있는건 참고용. 쓰지 말자"
   ]
  }
 ],
 "metadata": {
  "kernelspec": {
   "display_name": "Python 3 (ipykernel)",
   "language": "python",
   "name": "python3"
  },
  "language_info": {
   "codemirror_mode": {
    "name": "ipython",
    "version": 3
   },
   "file_extension": ".py",
   "mimetype": "text/x-python",
   "name": "python",
   "nbconvert_exporter": "python",
   "pygments_lexer": "ipython3",
   "version": "3.8.11"
  }
 },
 "nbformat": 4,
 "nbformat_minor": 5
}
