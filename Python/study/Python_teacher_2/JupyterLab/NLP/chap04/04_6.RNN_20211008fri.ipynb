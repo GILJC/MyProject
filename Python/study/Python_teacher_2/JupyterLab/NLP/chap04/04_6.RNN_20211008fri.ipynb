{
 "cells": [
  {
   "cell_type": "code",
   "execution_count": 1,
   "id": "86cfde3c-4621-4545-a583-2198068d34bd",
   "metadata": {},
   "outputs": [],
   "source": [
    "import tensorflow as tf\n",
    "from tensorflow.keras.preprocessing.sequence import pad_sequences\n",
    "from tensorflow.keras.callbacks import EarlyStopping, ModelCheckpoint\n",
    "from tensorflow.keras import layers\n",
    "import numpy as np\n",
    "import pandas as pd\n",
    "import matplotlib.pyplot as plt\n",
    "import os\n",
    "import json"
   ]
  },
  {
   "cell_type": "code",
   "execution_count": 2,
   "id": "6828a0ab-61d1-47c7-b43c-03253391e265",
   "metadata": {},
   "outputs": [],
   "source": [
    "def plot_graph(history, string):\n",
    "    plt.plot(history.history[string])\n",
    "    plt.plot(history.history['val_' + string], '')\n",
    "    plt.xlabel('Epochs')\n",
    "    plt.ylabel(string)\n",
    "    plt.legend([string, 'val_' + string])\n",
    "    plt.show()"
   ]
  },
  {
   "cell_type": "code",
   "execution_count": 3,
   "id": "e847c65d-c224-41af-b2ad-b17334f377b5",
   "metadata": {},
   "outputs": [],
   "source": [
    "DATA_IN_PATH = './data_in/'\n",
    "DATA_OUT_PATH = './data_out/'\n",
    "TRAIN_INOUT_DATA = 'train_input.npy'\n",
    "TRAIN_LABEL_DATA = 'train_label.npy'\n",
    "DATA_CONFIGS = 'data_configs.json'\n",
    "# 이건 전전날에 다 만들어 놓은것들"
   ]
  },
  {
   "cell_type": "code",
   "execution_count": 4,
   "id": "2b587275-67ef-4cc4-b05e-10ef154d9071",
   "metadata": {},
   "outputs": [],
   "source": [
    "# 데이터를 불러오자\n",
    "train_input = np.load(open(DATA_IN_PATH + TRAIN_INOUT_DATA, 'rb'))  # numpy로 들어가있으므로, read binary\n",
    "train_label = np.load(open(DATA_IN_PATH + TRAIN_LABEL_DATA, 'rb'))\n",
    "\n",
    "# 전처리 했던 설정값을.\n",
    "prepro_configs = json.load(open(DATA_IN_PATH + DATA_CONFIGS, 'r'))  # json 값으로 넣어뒀음"
   ]
  },
  {
   "cell_type": "code",
   "execution_count": 5,
   "id": "b1a85af1-a961-44f8-8b4a-2e438f1c455c",
   "metadata": {},
   "outputs": [
    {
     "name": "stdout",
     "output_type": "stream",
     "text": [
      "(25000, 174)\n",
      "(25000,)\n"
     ]
    }
   ],
   "source": [
    "print(train_input.shape)\n",
    "print(train_label.shape)\n",
    "\n",
    "#  ptl값은 174  -> 미디엄값으로 했었던거 기억나길.  -> 패딩했었음"
   ]
  },
  {
   "cell_type": "code",
   "execution_count": 6,
   "id": "9064dd9f-a30b-43d6-aff5-f809846b378a",
   "metadata": {},
   "outputs": [],
   "source": [
    "# 모델을 위한 하이퍼 파라미터를 해보자\n",
    "SEED_NUM = 1234\n",
    "tf.random.set_seed(SEED_NUM)\n",
    "\n",
    "model_name = 'rnn_classifier_en'\n",
    "BATCH_SIZE = 128\n",
    "NUM_EPOCHS = 5\n",
    "VALID_SPLIT = 0.1\n",
    "MAX_LEN = train_input.shape[1]\n",
    "\n",
    "kargs = {'model_name': model_name,\n",
    "         'vocab_size': prepro_configs['vocab_size'],\n",
    "         'embedding_dimension': 100,\n",
    "         'dropout_rate': 0.2,   # drop out 비율 20%\n",
    "         'lstm_dimension': 150,\n",
    "         'dense_dimension': 150,\n",
    "         'output_dimension': 1}"
   ]
  },
  {
   "cell_type": "markdown",
   "id": "9665983a-6f9f-4860-89da-3155998d81e6",
   "metadata": {},
   "source": [
    "### 모델 선언\n",
    "- LSTM 각 단계에서 현재 정보는 input state, 이전 정보는 hidden state 라 함  \n",
    "- LSTM 의 매개변수 중 return_sequences 은 hidden state 의 반환값을 결정하는데  \n",
    "- false 일 경우 predict 시 마지막 hidden state만 출력됨  \n",
    "- true 일 경우 각 time step 별 모든 hidden state 를 출력함  \n",
    "- 이전의 기록들이 다음 레이어로 들어가기 때문에 LSTM레이어끼리 엮기 위해서는 return_sequence를 사용하여야 함 "
   ]
  },
  {
   "cell_type": "code",
   "execution_count": 7,
   "id": "c5659431-df96-4767-ae8f-379b136e81b8",
   "metadata": {},
   "outputs": [],
   "source": [
    "class RNNClassifier(tf.keras.Model):\n",
    "    def __init__(self, **kargs):   # dict 데이터를 패킹해서 받을때는 별 2개** 써야함  /  일반은 1개*\n",
    "        super(RNNClassifier, self).__init__(name=kargs['model_name'])\n",
    "        # self.embedding = layers.Embedding(input_dim=kargs['vocab_size'],  # 이러면 에러남. +1 해줘야함\n",
    "        self.embedding = layers.Embedding(input_dim=kargs['vocab_size'] + 1,\n",
    "                                         output_dim=kargs['embedding_dimension'])\n",
    "        self.lstm_1_layer = layers.LSTM(kargs['lstm_dimension'],\n",
    "                                       return_sequences=True)  # 겹겹이 줄떄는 얘를 True로 줘서 싸야한다는 것\n",
    "        \n",
    "        # lstml을 2개 쓸건데, 얘를 2번째로 넘겨야 학습이 됨\n",
    "        \n",
    "        self.lstm_2_layer = layers.LSTM(kargs['lstm_dimension'])\n",
    "        self.dropout = layers.Dropout(kargs['dropout_rate'])\n",
    "        self.fc1 = layers.Dense(kargs['dense_dimension'], activation=tf.keras.activations.tanh)  # 출력\n",
    "                                                                    # activation에 .tanh 대신 'tanh' 써도 됨\n",
    "        self.fc2 = layers.Dense(kargs['output_dimension'], activation=tf.keras.activations.sigmoid)\n",
    "        \n",
    "        # 이렇게 일단 def 선언을 끝남\n",
    "        # def는 층 정의만 한것\n",
    "    \n",
    "    # 실제 층을 쌓는건 call 함수\n",
    "    # 입력 = x\n",
    "    def call(self, x):\n",
    "        x = self.embedding(x)\n",
    "        x = self.dropout(x)   # 들어온놈을 dropout으로 넘기겠다\n",
    "        x = self.lstm_1_layer(x)  # 1번째 레이어에다 넣겠다.\n",
    "        x = self.lstm_2_layer(x)  # 2번째 레이어로 연결 시키겠다\n",
    "        x = self.dropout(x)  # 그러고서 self.dropout을 한번 더 붙이겠다\n",
    "        x = self.fc1(x)  # fc1 = Dense 층  에다 집어 넣고\n",
    "        x = self.dropout(x)  # dropout 한번 더\n",
    "        x = self.fc2(x)  # fc2에 집어넣음\n",
    "            \n",
    "        return x   # 그리고 x 반환\n",
    "            # 그러면 완성"
   ]
  },
  {
   "cell_type": "code",
   "execution_count": 8,
   "id": "7fc54d58-0ca1-4194-93f7-71a06ec16430",
   "metadata": {},
   "outputs": [],
   "source": [
    "model = RNNClassifier(**kargs)\n",
    "model.compile(optimizer=tf.keras.optimizers.Adam(1e-4),\n",
    "              #loss=tf.keras.losses.BinaryCrossentropy(),)'binary_crossentropy'  똑같다곤 하는데, 모르겠음.\n",
    "                                                                            # class를 쓰는게 정신건강에 좋음\n",
    "              loss=tf.keras.losses.BinaryCrossentropy(),\n",
    "              metrics=[tf.keras.metrics.BinaryAccuracy(name='accuracy')])"
   ]
  },
  {
   "cell_type": "code",
   "execution_count": 9,
   "id": "42fdd332-1a06-4db7-904a-c97c1d7045cd",
   "metadata": {},
   "outputs": [
    {
     "name": "stdout",
     "output_type": "stream",
     "text": [
      "./data_out/rnn_classifier_en -- Folder already exists \n",
      "\n"
     ]
    }
   ],
   "source": [
    "earlystop_callback = EarlyStopping(monitor='val_accuracy', min_delta=0.0001, patience=3)\n",
    "# patience=3 -> 3번까지 해서 향상되지 않으면 멈추는 것\n",
    "# min_delta -> 최소 향상된 범위가 0.0001보다 높게 나와야 향상된걸로 치겠다. => 그보다 낮으면 향상된걸로 인정 안함\n",
    "checkpoint_path = DATA_OUT_PATH + model_name + '/weights.h5'\n",
    "checkpoint_dir = os.path.dirname(checkpoint_path)\n",
    "\n",
    "if os.path.exists(checkpoint_dir):\n",
    "    print('{} -- Folder already exists \\n'.format(checkpoint_dir))\n",
    "else:\n",
    "    os.makedirs(checkpoint_dir, exist_ok=True)  # 없으면 만들겠다\n",
    "    print('{} -- Folder create complete \\n'.format(checkpoint_dir))\n",
    "    \n",
    "cp_callback = ModelCheckpoint(checkpoint_path, monitor='val_accuracy', verbose=1,\n",
    "                             save_best_only=True, save_weights_only=True)  # save_weights_only=True -> 가중치만 저장하겠다\n",
    "\n",
    "# 그럼 해당 위치에 폴더가 생김"
   ]
  },
  {
   "cell_type": "code",
   "execution_count": 10,
   "id": "c9f0e25b-8815-49ee-98da-26eafb9c53de",
   "metadata": {},
   "outputs": [
    {
     "name": "stdout",
     "output_type": "stream",
     "text": [
      "Epoch 1/5\n",
      "176/176 [==============================] - 17s 65ms/step - loss: 0.6931 - accuracy: 0.5053 - val_loss: 0.6929 - val_accuracy: 0.5096\n",
      "\n",
      "Epoch 00001: val_accuracy improved from -inf to 0.50960, saving model to ./data_out/rnn_classifier_en\\weights.h5\n",
      "Epoch 2/5\n",
      "176/176 [==============================] - 10s 59ms/step - loss: 0.6805 - accuracy: 0.5345 - val_loss: 0.4860 - val_accuracy: 0.7576\n",
      "\n",
      "Epoch 00002: val_accuracy improved from 0.50960 to 0.75760, saving model to ./data_out/rnn_classifier_en\\weights.h5\n",
      "Epoch 3/5\n",
      "176/176 [==============================] - 11s 60ms/step - loss: 0.3408 - accuracy: 0.8566 - val_loss: 0.2773 - val_accuracy: 0.8844\n",
      "\n",
      "Epoch 00003: val_accuracy improved from 0.75760 to 0.88440, saving model to ./data_out/rnn_classifier_en\\weights.h5\n",
      "Epoch 4/5\n",
      "176/176 [==============================] - 11s 62ms/step - loss: 0.1876 - accuracy: 0.9304 - val_loss: 0.2784 - val_accuracy: 0.8888\n",
      "\n",
      "Epoch 00004: val_accuracy improved from 0.88440 to 0.88880, saving model to ./data_out/rnn_classifier_en\\weights.h5\n",
      "Epoch 5/5\n",
      "176/176 [==============================] - 11s 60ms/step - loss: 0.1291 - accuracy: 0.9576 - val_loss: 0.2998 - val_accuracy: 0.8872\n",
      "\n",
      "Epoch 00005: val_accuracy did not improve from 0.88880\n"
     ]
    }
   ],
   "source": [
    "history = model.fit(train_input, train_label, batch_size=BATCH_SIZE, epochs=NUM_EPOCHS,\n",
    "                   validation_split=VALID_SPLIT,\n",
    "                   callbacks=[earlystop_callback, cp_callback])\n",
    "\n",
    "# 이러면 진행하다가 중간에 에러남\n",
    "\n",
    "# 왜그러냐면, 위에서\n",
    "# self.embedding = layers.Embedding(input_dim=kargs['vocab_size'],\n",
    "# 여기서 +1을 안해줘서 그럼\n",
    "\n",
    "\n",
    "\n",
    "# AttributeError: module 'h5py' has no attribute 'File'\n",
    "\n",
    "# h5py 버전이 3.1.0 -> 바꿔봄\n",
    "# pip install h5py==2.10.0 --force-reinstall\n",
    "# h5py는 안깔리고, numpy가 버전이 1.19.5  ->  1.21.2  로 바뀌어버렸는데\n",
    "# 실패..\n",
    "\n",
    "# pip uninstall h5py\n",
    "# pip install h5py==2.10.0\n",
    "# 으로 재설치했는데, 뭔가 빨간글씨(tensorflow 관련인듯) 떳지만\n",
    "# 일단 설치는 됨 (h5py=2.10.0)"
   ]
  },
  {
   "cell_type": "code",
   "execution_count": 11,
   "id": "96b42ddf-b168-40dd-b656-464eeae3c76d",
   "metadata": {},
   "outputs": [
    {
     "data": {
      "image/png": "[encoded data removed]",
      "text/plain": [
       "<Figure size 432x288 with 1 Axes>"
      ]
     },
     "metadata": {
      "needs_background": "light"
     },
     "output_type": "display_data"
    }
   ],
   "source": [
    "# 아까 그려놓은 그래프 데이터로, 그래프 그려보기\n",
    "plot_graph(history, 'accuracy')"
   ]
  },
  {
   "cell_type": "code",
   "execution_count": 12,
   "id": "d507e5d7-892c-4e2a-86cd-afc91de2f1ae",
   "metadata": {},
   "outputs": [
    {
     "data": {
      "image/png": "[encoded data removed]",
      "text/plain": [
       "<Figure size 432x288 with 1 Axes>"
      ]
     },
     "metadata": {
      "needs_background": "light"
     },
     "output_type": "display_data"
    }
   ],
   "source": [
    "plot_graph(history, 'loss')"
   ]
  },
  {
   "cell_type": "code",
   "execution_count": 13,
   "id": "9ac33e49-98ea-4e62-8430-ae9da68de6d1",
   "metadata": {},
   "outputs": [],
   "source": [
    "TEST_INPUT_DATA = 'test_input.npy'\n",
    "TEST_ID_DATA = 'test_id.npy'\n",
    "\n",
    "test_input = np.load(open(DATA_IN_PATH + TEST_INPUT_DATA, 'rb'))\n",
    "test_input = pad_sequences(test_input, maxlen=test_input.shape[1])  # 패딩"
   ]
  },
  {
   "cell_type": "code",
   "execution_count": 14,
   "id": "90225f53-16da-410a-87f6-af3cb2886337",
   "metadata": {},
   "outputs": [],
   "source": [
    "SAVE_FILE_NM = 'weights.h5'\n",
    "# best 모델을 불러오자\n",
    "model.load_weights(os.path.join(DATA_OUT_PATH, model_name, SAVE_FILE_NM))"
   ]
  },
  {
   "cell_type": "code",
   "execution_count": 15,
   "id": "f985bae9-2fbb-4051-9064-057e705187a1",
   "metadata": {},
   "outputs": [],
   "source": [
    "predictions = model.predict(test_input, batch_size=BATCH_SIZE)\n",
    "predictions = predictions.squeeze(-1)"
   ]
  },
  {
   "cell_type": "code",
   "execution_count": 16,
   "id": "0c16221b-00ee-4666-a376-399cda33292b",
   "metadata": {},
   "outputs": [
    {
     "name": "stdout",
     "output_type": "stream",
     "text": [
      "[0.9947627  0.01606217 0.1940226  0.5260302  0.9847419  0.73394775\n",
      " 0.01648752 0.7318271  0.0043338  0.5369365 ]\n"
     ]
    }
   ],
   "source": [
    "# 예측 결과\n",
    "print(predictions[:10])\n",
    "# 거의 1"
   ]
  },
  {
   "cell_type": "code",
   "execution_count": 17,
   "id": "c389793f-8df9-4824-a0d5-6f227f5d63f2",
   "metadata": {},
   "outputs": [
    {
     "data": {
      "text/html": [
       "<div>\n",
       "<style scoped>\n",
       "    .dataframe tbody tr th:only-of-type {\n",
       "        vertical-align: middle;\n",
       "    }\n",
       "\n",
       "    .dataframe tbody tr th {\n",
       "        vertical-align: top;\n",
       "    }\n",
       "\n",
       "    .dataframe thead th {\n",
       "        text-align: right;\n",
       "    }\n",
       "</style>\n",
       "<table border=\"1\" class=\"dataframe\">\n",
       "  <thead>\n",
       "    <tr style=\"text-align: right;\">\n",
       "      <th></th>\n",
       "      <th>id</th>\n",
       "      <th>sentiment</th>\n",
       "    </tr>\n",
       "  </thead>\n",
       "  <tbody>\n",
       "    <tr>\n",
       "      <th>0</th>\n",
       "      <td>\"12311_10\"</td>\n",
       "      <td>0.994763</td>\n",
       "    </tr>\n",
       "    <tr>\n",
       "      <th>1</th>\n",
       "      <td>\"8348_2\"</td>\n",
       "      <td>0.016062</td>\n",
       "    </tr>\n",
       "    <tr>\n",
       "      <th>2</th>\n",
       "      <td>\"5828_4\"</td>\n",
       "      <td>0.194023</td>\n",
       "    </tr>\n",
       "    <tr>\n",
       "      <th>3</th>\n",
       "      <td>\"7186_2\"</td>\n",
       "      <td>0.526030</td>\n",
       "    </tr>\n",
       "    <tr>\n",
       "      <th>4</th>\n",
       "      <td>\"12128_7\"</td>\n",
       "      <td>0.984742</td>\n",
       "    </tr>\n",
       "  </tbody>\n",
       "</table>\n",
       "</div>"
      ],
      "text/plain": [
       "           id  sentiment\n",
       "0  \"12311_10\"   0.994763\n",
       "1    \"8348_2\"   0.016062\n",
       "2    \"5828_4\"   0.194023\n",
       "3    \"7186_2\"   0.526030\n",
       "4   \"12128_7\"   0.984742"
      ]
     },
     "execution_count": 17,
     "metadata": {},
     "output_type": "execute_result"
    }
   ],
   "source": [
    "# 캐글에서 채점하려면 또 준비해야함\n",
    "import pandas as pd\n",
    "\n",
    "test_id = np.load(open(DATA_IN_PATH + TEST_ID_DATA, 'rb'), allow_pickle=True)\n",
    "\n",
    "if not os.path.exists(DATA_OUT_PATH):\n",
    "    os.makedirs(DATA_OUT_PATH)\n",
    "    \n",
    "output = pd.DataFrame({'id': list(test_id), 'sentiment': list(predictions)})\n",
    "output.head()"
   ]
  },
  {
   "cell_type": "code",
   "execution_count": 18,
   "id": "912fe0c0-c52c-467e-81eb-b6e6b9914863",
   "metadata": {},
   "outputs": [],
   "source": [
    "# 그럼 이제 이걸 파일로 만들고\n",
    "output.to_csv(DATA_OUT_PATH + 'review_result_rnn.csv', index=False, quoting=3)"
   ]
  },
  {
   "cell_type": "code",
   "execution_count": 19,
   "id": "6fb92712-7632-413c-8108-0ee55cbfaf36",
   "metadata": {},
   "outputs": [],
   "source": [
    "# 저장이 됐으면, 캐글로 올려서 채점을 하면 됨"
   ]
  }
 ],
 "metadata": {
  "kernelspec": {
   "display_name": "Python 3 (ipykernel)",
   "language": "python",
   "name": "python3"
  },
  "language_info": {
   "codemirror_mode": {
    "name": "ipython",
    "version": 3
   },
   "file_extension": ".py",
   "mimetype": "text/x-python",
   "name": "python",
   "nbconvert_exporter": "python",
   "pygments_lexer": "ipython3",
   "version": "3.8.11"
  }
 },
 "nbformat": 4,
 "nbformat_minor": 5
}
