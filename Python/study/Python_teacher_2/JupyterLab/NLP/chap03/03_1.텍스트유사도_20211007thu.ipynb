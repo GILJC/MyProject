{
 "cells": [
  {
   "cell_type": "code",
   "execution_count": 1,
   "id": "6dc017bc-78c4-425d-8e42-700da5448a2e",
   "metadata": {},
   "outputs": [],
   "source": [
    "# 자연어 처리 책 p119"
   ]
  },
  {
   "cell_type": "code",
   "execution_count": 2,
   "id": "3ac5e4ef-7407-4a96-b569-5494ef17fcbb",
   "metadata": {},
   "outputs": [],
   "source": [
    "import numpy as np\n",
    "from sklearn.feature_extraction.text import TfidfVectorizer"
   ]
  },
  {
   "cell_type": "code",
   "execution_count": 3,
   "id": "372f69c1-686f-4cc5-a914-290f09a7485a",
   "metadata": {},
   "outputs": [],
   "source": [
    "sent = (\"휴일 인 오늘 도 서쪽 을 중심 으로 폭염 이 이어졌는데요, 내일 은 반가운 비 소식 이 있습니다.\", \\\n",
    "        \"폭염 을 피해서 휴일 에 놀러왔다가 갑작스런 비 로 인해 망연자실 하고 있습니다.\")\n",
    "tfidf_vectorizer = TfidfVectorizer()\n",
    "tfidf_matrix = tfidf_vectorizer.fit_transform(sent)"
   ]
  },
  {
   "cell_type": "code",
   "execution_count": 4,
   "id": "d3504734-a5ea-4fdf-af87-93df1a234531",
   "metadata": {},
   "outputs": [
    {
     "name": "stdout",
     "output_type": "stream",
     "text": [
      "  (0, 11)\t0.23061650387901597\n",
      "  (0, 6)\t0.3241234495558481\n",
      "  (0, 4)\t0.3241234495558481\n",
      "  (0, 1)\t0.3241234495558481\n",
      "  (0, 9)\t0.3241234495558481\n",
      "  (0, 13)\t0.23061650387901597\n",
      "  (0, 8)\t0.3241234495558481\n",
      "  (0, 12)\t0.3241234495558481\n",
      "  (0, 5)\t0.3241234495558481\n",
      "  (0, 7)\t0.3241234495558481\n",
      "  (0, 16)\t0.23061650387901597\n",
      "  (1, 15)\t0.36469322896147516\n",
      "  (1, 3)\t0.36469322896147516\n",
      "  (1, 10)\t0.36469322896147516\n",
      "  (1, 0)\t0.36469322896147516\n",
      "  (1, 2)\t0.36469322896147516\n",
      "  (1, 14)\t0.36469322896147516\n",
      "  (1, 11)\t0.2594822360637418\n",
      "  (1, 13)\t0.2594822360637418\n",
      "  (1, 16)\t0.2594822360637418\n"
     ]
    }
   ],
   "source": [
    "print(tfidf_matrix)"
   ]
  },
  {
   "cell_type": "code",
   "execution_count": 8,
   "id": "085fc454-1962-4a73-8ec9-0be3c7961558",
   "metadata": {},
   "outputs": [
    {
     "name": "stdout",
     "output_type": "stream",
     "text": [
      "17\n"
     ]
    }
   ],
   "source": [
    "idf = tfidf_vectorizer.idf_\n",
    "word_dict = dict(zip(tfidf_vectorizer.get_feature_names(), idf))\n",
    "print(len(word_dict))"
   ]
  },
  {
   "cell_type": "code",
   "execution_count": 9,
   "id": "94913a45-47d7-44a9-8130-f5061be8b8a6",
   "metadata": {},
   "outputs": [
    {
     "name": "stdout",
     "output_type": "stream",
     "text": [
      "{'갑작스런': 1.4054651081081644, '내일': 1.4054651081081644, '놀러왔다가': 1.4054651081081644, '망연자실': 1.4054651081081644, '반가운': 1.4054651081081644, '서쪽': 1.4054651081081644, '소식': 1.4054651081081644, '오늘': 1.4054651081081644, '으로': 1.4054651081081644, '이어졌는데요': 1.4054651081081644, '인해': 1.4054651081081644, '있습니다': 1.0, '중심': 1.4054651081081644, '폭염': 1.0, '피해서': 1.4054651081081644, '하고': 1.4054651081081644, '휴일': 1.0}\n"
     ]
    }
   ],
   "source": [
    "print(word_dict)"
   ]
  },
  {
   "cell_type": "markdown",
   "id": "4533baf4-77bb-42b4-b463-a358e6a6be74",
   "metadata": {},
   "source": [
    "## 유사도(Similarity) 종류\n",
    "1. 자카드 유사도\n",
    "2. 코사인 유사도\n",
    "3. 유클리디안 유사도\n",
    "4. 멘하탄 유사도"
   ]
  },
  {
   "cell_type": "markdown",
   "id": "8fb2c036-e9ef-4557-84a3-815d597966a9",
   "metadata": {},
   "source": [
    "## 1. 자카드(Jaccard) 유사도\n",
    "- 벡터화 없이 유사도 측정 가능  \n",
    "- 두 문장을 각각 단어의 집합으로 만든 뒤 두 집합을 통해 유사도 측정  \n",
    "- 두 집합의 교집합인 공통된 단어의 개수를 전체 단어의 수로 나눔(0 ~ 1)  \n",
    "- 결과가 1에 가까울 수록 유사도가 높다는 의미(공통 단어가 많다는 의미)  \n",
    "- A, B 는 각 문장을 의미, token은 각 단어를 의미 할 경우 수식은 다음과 같음  \n",
    "## J(A, B) = $\\frac {|A\\, \\cap \\, B|} {|A\\, \\cup \\, B|}$ = $\\frac {|token\\,in\\, A\\, \\cap\\, token\\, in\\, B|} {|token\\, in\\, A\\, \\cup\\, token\\, in\\, B|}$"
   ]
  },
  {
   "cell_type": "code",
   "execution_count": 10,
   "id": "cd6ab666-43da-4b0e-812f-e423d37661c1",
   "metadata": {},
   "outputs": [],
   "source": [
    "# 책 p120"
   ]
  },
  {
   "cell_type": "code",
   "execution_count": 11,
   "id": "68aa4552-86d2-4e1c-be9a-7ec997f39661",
   "metadata": {},
   "outputs": [
    {
     "data": {
      "text/plain": [
       "array([0.5, 1. , 0. ])"
      ]
     },
     "execution_count": 11,
     "metadata": {},
     "output_type": "execute_result"
    }
   ],
   "source": [
    "from sklearn.metrics import jaccard_score\n",
    "# jaccard_score(tfidf_matrix[0:1], tfidf_matrix[1:2])\n",
    "jaccard_score(np.array([1, 1, 0, 0]), np.array([1, 1, 0, 2]), average=None)"
   ]
  },
  {
   "cell_type": "code",
   "execution_count": 12,
   "id": "954fcf05-1a30-4595-8461-b7184cc11005",
   "metadata": {},
   "outputs": [],
   "source": [
    "# 위에건 쓸일은 없을듯. 알아만 두면 되지 않을까"
   ]
  },
  {
   "cell_type": "code",
   "execution_count": null,
   "id": "3e81f792-9b38-48f3-a5a3-5fbd015503da",
   "metadata": {},
   "outputs": [],
   "source": []
  },
  {
   "cell_type": "code",
   "execution_count": 13,
   "id": "9144902c-3fd2-45bf-bbcb-2e2f9ed14128",
   "metadata": {},
   "outputs": [],
   "source": [
    "# 아래의 코사인 유사도는 쓸 일이 있을듯"
   ]
  },
  {
   "cell_type": "markdown",
   "id": "9c74e857-de1d-4758-b268-5e2fdcd2c52f",
   "metadata": {},
   "source": [
    "## 2. 코사인 유사도  \n",
    "- 두 개의 벡터값에서 코사인 각도를 구함  \n",
    "- 코사인 유사도 값은 -1 과 1사이의 값을 가지고, 1에 가까울수록 유사함을 의미  \n",
    "- 유사도를 계산할 때 가장 널리 쓰이는 방법  \n",
    "- 다른 유사도 접근법에 비해 일반적으로 성능이 좋음  \n",
    "- 단순히 좌표상의 거리를 구하는 대신 두 벡터간의 각도를 구함, 방향성의 개념이 더해짐  \n",
    "- 두 문장이 유사하다면 같은 방향으로 가리킬 것이고, 그렇지 않다면 직교좌표로 표현될 것임  \n",
    "## $\\cos(\\theta) = \\frac {\\vec{a}\\bullet\\vec{b}} {\\parallel\\vec{a}\\parallel\\bullet\\parallel\\vec{b}\\parallel}$"
   ]
  },
  {
   "cell_type": "code",
   "execution_count": 14,
   "id": "6f5fd2b7-3a9f-4a2a-b5c7-d1b754ae69c8",
   "metadata": {},
   "outputs": [
    {
     "data": {
      "text/plain": [
       "array([[0.17952266]])"
      ]
     },
     "execution_count": 14,
     "metadata": {},
     "output_type": "execute_result"
    }
   ],
   "source": [
    "from sklearn.metrics.pairwise import cosine_similarity\n",
    "cosine_similarity(tfidf_matrix[0:1], tfidf_matrix[1:2])"
   ]
  },
  {
   "cell_type": "code",
   "execution_count": 15,
   "id": "e23bcc9b-c16b-4b9b-b012-54b0b963ba73",
   "metadata": {},
   "outputs": [
    {
     "name": "stdout",
     "output_type": "stream",
     "text": [
      "  (0, 11)\t0.23061650387901597\n",
      "  (0, 6)\t0.3241234495558481\n",
      "  (0, 4)\t0.3241234495558481\n",
      "  (0, 1)\t0.3241234495558481\n",
      "  (0, 9)\t0.3241234495558481\n",
      "  (0, 13)\t0.23061650387901597\n",
      "  (0, 8)\t0.3241234495558481\n",
      "  (0, 12)\t0.3241234495558481\n",
      "  (0, 5)\t0.3241234495558481\n",
      "  (0, 7)\t0.3241234495558481\n",
      "  (0, 16)\t0.23061650387901597\n"
     ]
    }
   ],
   "source": [
    "print(tfidf_matrix[0:1])  # 이게 첫번째 문장"
   ]
  },
  {
   "cell_type": "code",
   "execution_count": 16,
   "id": "b7365ebd-bfa8-4052-bd76-e614860bf4fe",
   "metadata": {},
   "outputs": [
    {
     "name": "stdout",
     "output_type": "stream",
     "text": [
      "  (0, 15)\t0.36469322896147516\n",
      "  (0, 3)\t0.36469322896147516\n",
      "  (0, 10)\t0.36469322896147516\n",
      "  (0, 0)\t0.36469322896147516\n",
      "  (0, 2)\t0.36469322896147516\n",
      "  (0, 14)\t0.36469322896147516\n",
      "  (0, 11)\t0.2594822360637418\n",
      "  (0, 13)\t0.2594822360637418\n",
      "  (0, 16)\t0.2594822360637418\n"
     ]
    }
   ],
   "source": [
    "print(tfidf_matrix[1:2])  # 두번재 문장"
   ]
  },
  {
   "cell_type": "code",
   "execution_count": null,
   "id": "e2a90f7b-477c-4222-96ed-82ed59828563",
   "metadata": {},
   "outputs": [],
   "source": []
  },
  {
   "cell_type": "markdown",
   "id": "2f82bbec-6da7-4876-8b6e-793be33f6627",
   "metadata": {},
   "source": [
    "## 3. 유클리디안 유사도\n",
    "- 가장 기본적인 거리를 측정하는 유사도  \n",
    "## d(x, y) = $\\sqrt{(x_{1} - y_{1})^2 + (x_{2} - y_{2})^2 + ... + (x_{n} - y_{n})^2}$"
   ]
  },
  {
   "cell_type": "code",
   "execution_count": 17,
   "id": "488ab256-293f-4a4b-a05b-1227ae38e568",
   "metadata": {},
   "outputs": [],
   "source": [
    "# 중고등학교때 배웠던, 거리공식 그대로임"
   ]
  },
  {
   "cell_type": "code",
   "execution_count": 18,
   "id": "c85918e3-3f8b-4c61-8071-e5e2192bc793",
   "metadata": {},
   "outputs": [
    {
     "name": "stdout",
     "output_type": "stream",
     "text": [
      "[[1.28099753]]\n"
     ]
    }
   ],
   "source": [
    "from sklearn.metrics.pairwise import euclidean_distances\n",
    "print(euclidean_distances(tfidf_matrix[0:1], tfidf_matrix[1:2]))"
   ]
  },
  {
   "cell_type": "markdown",
   "id": "a8b0b4ae-f83d-4895-90af-fbc09d198f47",
   "metadata": {},
   "source": [
    "- 유클리디안 유사도의 값은 단순히 두 점 사이의 거리를 뜻하기 때문에 값이 상당히 커질 수 있음\n",
    "- 0과 1 사이의 값을 갖도록 정규화 함\n",
    "- L1 정규화 사용(각 벡터 안의 요소 값을 모두 더한 값이 크기가 1이 되도록 조정)"
   ]
  },
  {
   "cell_type": "code",
   "execution_count": 20,
   "id": "c0a1759b-d56e-4cf4-83d4-7f974e51e32e",
   "metadata": {},
   "outputs": [
    {
     "name": "stdout",
     "output_type": "stream",
     "text": [
      "[[0.20491229]]\n"
     ]
    }
   ],
   "source": [
    "def l1_normalize(v):\n",
    "    norm = np.sum(v)\n",
    "    return v / norm\n",
    "\n",
    "tfidf_norm_l1 = l1_normalize(tfidf_matrix)\n",
    "print(euclidean_distances(tfidf_norm_l1[0:1], tfidf_norm_l1[1:2]))"
   ]
  },
  {
   "cell_type": "code",
   "execution_count": 21,
   "id": "d63fd8dd-49fa-4b25-9baf-a19914fdab0b",
   "metadata": {},
   "outputs": [],
   "source": [
    "# 정규화 후 다시 유클리디안으로 해보면 이렇게 나옴  <- 맞음?"
   ]
  },
  {
   "cell_type": "code",
   "execution_count": null,
   "id": "f8ed7e57-fc9c-4929-af8d-9170713d70db",
   "metadata": {},
   "outputs": [],
   "source": []
  },
  {
   "cell_type": "markdown",
   "id": "853939e5-8311-4212-ab22-f112058fd4c4",
   "metadata": {},
   "source": [
    "## 4. 맨하탄 유사도\n",
    "- 맨하탄 거리를 통해 유사도를 구하는 방법  \n",
    "- 사각형 격자로 이루어진 지도에서, 출발점에서 도착점까지를 가로지르지 않고 갈 수 있는 최단거리를 구함  \n",
    "- 유클리디안 거리를 L2거리 라고 부르고, 맨하탄 거리를 L1거리 라고 부름  \n",
    "## MaDistance = $\\sum_{i=1}^n {|a_{i} - b_{i}|}$  \n",
    "- 맨하탄 유사도 또한 L1 정규화 방법을 통해 0과 1 사이의 값을 갖도록 조정"
   ]
  },
  {
   "cell_type": "code",
   "execution_count": 22,
   "id": "797ff5d7-ff82-40c6-be96-bed3c98d45ff",
   "metadata": {},
   "outputs": [
    {
     "name": "stdout",
     "output_type": "stream",
     "text": [
      "[[0.77865927]]\n"
     ]
    }
   ],
   "source": [
    "from sklearn.metrics.pairwise import manhattan_distances\n",
    "print(manhattan_distances(tfidf_norm_l1[0:1], tfidf_norm_l1[1:2]))"
   ]
  },
  {
   "cell_type": "code",
   "execution_count": null,
   "id": "f8240af6-1e1e-4cb4-848c-e6e2fc201c5e",
   "metadata": {},
   "outputs": [],
   "source": []
  }
 ],
 "metadata": {
  "kernelspec": {
   "display_name": "Python 3 (ipykernel)",
   "language": "python",
   "name": "python3"
  },
  "language_info": {
   "codemirror_mode": {
    "name": "ipython",
    "version": 3
   },
   "file_extension": ".py",
   "mimetype": "text/x-python",
   "name": "python",
   "nbconvert_exporter": "python",
   "pygments_lexer": "ipython3",
   "version": "3.8.11"
  }
 },
 "nbformat": 4,
 "nbformat_minor": 5
}
