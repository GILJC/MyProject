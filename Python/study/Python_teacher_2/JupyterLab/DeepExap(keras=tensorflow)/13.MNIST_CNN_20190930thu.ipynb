{
 "cells": [
  {
   "cell_type": "code",
   "execution_count": 1,
   "id": "12138cdd-355e-423e-9565-3681e2cce5b8",
   "metadata": {},
   "outputs": [],
   "source": [
    "# https://thebook.io/080228/part05/ch16/03/\n",
    "\n",
    "# https://thebook.io/080228/part05/ch16/06-01/"
   ]
  },
  {
   "cell_type": "code",
   "execution_count": 2,
   "id": "61077da7-0825-4ebc-87d6-92ce5b88c185",
   "metadata": {},
   "outputs": [],
   "source": [
    "from tensorflow.keras.datasets import mnist\n",
    "from tensorflow.keras import utils\n",
    "from tensorflow.keras.models import Sequential\n",
    "from tensorflow.keras.layers import Dense, Dropout, Flatten, \\\n",
    "                                Conv2D, MaxPooling2D\n",
    "from tensorflow.keras.callbacks import ModelCheckpoint, EarlyStopping\n",
    "import matplotlib.pyplot as plt\n",
    "import numpy as np\n",
    "import os\n",
    "import tensorflow as tf"
   ]
  },
  {
   "cell_type": "code",
   "execution_count": 3,
   "id": "b42bd91f-a275-4db5-9b0b-2493f481c035",
   "metadata": {},
   "outputs": [],
   "source": [
    "# 책에선 seed 고정하는데, 여기선 안함\n",
    "\n",
    "# seed 값 설정\n",
    "#seed = 0\n",
    "#numpy.random.seed(seed)\n",
    "#tf.random.set_seed(3)"
   ]
  },
  {
   "cell_type": "code",
   "execution_count": 4,
   "id": "c0951392-4472-4af7-8bc9-f19b25488cc1",
   "metadata": {},
   "outputs": [],
   "source": [
    "# 데이터 불러오기\n",
    "(X_train, Y_train), (X_test, Y_test) = mnist.load_data()\n",
    "X_train = X_train.reshape(X_train.shape[0], 28, 28, 1).astype(float) / 255\n",
    "X_test = X_test.reshape(X_test.shape[0], 28, 28, 1).astype(float) / 255\n",
    "\n",
    "#target 값.  어차피 원핫인코딩 값으로 만들어 줘야함\n",
    "Y_train = utils.to_categorical(Y_train)\n",
    "Y_test = utils.to_categorical(Y_test)\n",
    "\n",
    "#여기까지가 데이터 전처리"
   ]
  },
  {
   "cell_type": "code",
   "execution_count": 5,
   "id": "94c083a0-21c9-4d02-a971-333c140db153",
   "metadata": {},
   "outputs": [],
   "source": [
    "# 시퀀스 객체 생성\n",
    "\n",
    "# 컨볼루션 신경망 설정\n",
    "model = Sequential()\n",
    "model.add(Conv2D(32, kernel_size=(3, 3),\n",
    "                 input_shape=(28, 28, 1), activation='relu'))\n",
    "model.add(Conv2D(64, (3, 3), activation='relu'))\n",
    "# 풀링의 종류 다양, 여기성 멕스 풀링 = 계산량은 줄이되, 특징은 줄이지 않음\n",
    "model.add(MaxPooling2D(pool_size=2))\n",
    "model.add(Dropout(0.25))\n",
    "model.add(Flatten())  # 28by 28by 1 3차원인데 -> 1차원으로 쫙 펴주겠다는 것\n",
    "model.add(Dense(128, activation='relu'))  # 출력은 128, activation은 relu\n",
    "model.add(Dropout(0.5))\n",
    "model.add(Dense(10, activation='softmax'))"
   ]
  },
  {
   "cell_type": "code",
   "execution_count": 6,
   "id": "61c64888-b22c-4bb0-b465-914491cfeaed",
   "metadata": {},
   "outputs": [
    {
     "name": "stdout",
     "output_type": "stream",
     "text": [
      "Model: \"sequential\"\n",
      "_________________________________________________________________\n",
      "Layer (type)                 Output Shape              Param #   \n",
      "=================================================================\n",
      "conv2d (Conv2D)              (None, 26, 26, 32)        320       \n",
      "_________________________________________________________________\n",
      "conv2d_1 (Conv2D)            (None, 24, 24, 64)        18496     \n",
      "_________________________________________________________________\n",
      "max_pooling2d (MaxPooling2D) (None, 12, 12, 64)        0         \n",
      "_________________________________________________________________\n",
      "dropout (Dropout)            (None, 12, 12, 64)        0         \n",
      "_________________________________________________________________\n",
      "flatten (Flatten)            (None, 9216)              0         \n",
      "_________________________________________________________________\n",
      "dense (Dense)                (None, 128)               1179776   \n",
      "_________________________________________________________________\n",
      "dropout_1 (Dropout)          (None, 128)               0         \n",
      "_________________________________________________________________\n",
      "dense_1 (Dense)              (None, 10)                1290      \n",
      "=================================================================\n",
      "Total params: 1,199,882\n",
      "Trainable params: 1,199,882\n",
      "Non-trainable params: 0\n",
      "_________________________________________________________________\n"
     ]
    }
   ],
   "source": [
    "model.summary()"
   ]
  },
  {
   "cell_type": "code",
   "execution_count": 7,
   "id": "1166ef57-357e-4f5e-8458-7ad88e4463e2",
   "metadata": {},
   "outputs": [],
   "source": [
    "model.compile(loss='categorical_crossentropy', optimizer='adam', metrics=['accuracy'])"
   ]
  },
  {
   "cell_type": "code",
   "execution_count": 8,
   "id": "fa777f8a-99da-4285-961e-cdb367560907",
   "metadata": {},
   "outputs": [],
   "source": [
    "# 모델 최적화 설정\n",
    "MODEL_DIR = './model/'\n",
    "if not os.path.exists(MODEL_DIR):\n",
    "    os.mkdir(MODEL_DIR)"
   ]
  },
  {
   "cell_type": "code",
   "execution_count": 9,
   "id": "5c0f2eff-8068-46f3-8545-6aaecb0a5d95",
   "metadata": {},
   "outputs": [],
   "source": [
    "# 모델 폴더안을 비워둬야함\n",
    "modelpath=\"./model/{epoch:02d}-{val_loss:.4f}.hdf5\"\n",
    "checkpointer = ModelCheckpoint(filepath=modelpath, monitor='val_loss', verbose=1, save_best_only=True)\n",
    "\n",
    "early_stopping_callback = EarlyStopping(monitor='val_loss', patience=10)"
   ]
  },
  {
   "cell_type": "code",
   "execution_count": 10,
   "id": "6fa8a040-616a-493f-89dd-18649466a4fc",
   "metadata": {},
   "outputs": [
    {
     "name": "stdout",
     "output_type": "stream",
     "text": [
      "\n",
      "Epoch 00001: val_loss improved from inf to 0.05764, saving model to ./model\\01-0.0576.hdf5\n",
      "\n",
      "Epoch 00002: val_loss improved from 0.05764 to 0.04271, saving model to ./model\\02-0.0427.hdf5\n",
      "\n",
      "Epoch 00003: val_loss improved from 0.04271 to 0.03400, saving model to ./model\\03-0.0340.hdf5\n",
      "\n",
      "Epoch 00004: val_loss improved from 0.03400 to 0.03115, saving model to ./model\\04-0.0311.hdf5\n",
      "\n",
      "Epoch 00005: val_loss improved from 0.03115 to 0.02958, saving model to ./model\\05-0.0296.hdf5\n",
      "\n",
      "Epoch 00006: val_loss did not improve from 0.02958\n",
      "\n",
      "Epoch 00007: val_loss improved from 0.02958 to 0.02637, saving model to ./model\\07-0.0264.hdf5\n",
      "\n",
      "Epoch 00008: val_loss did not improve from 0.02637\n",
      "\n",
      "Epoch 00009: val_loss improved from 0.02637 to 0.02444, saving model to ./model\\09-0.0244.hdf5\n",
      "\n",
      "Epoch 00010: val_loss did not improve from 0.02444\n",
      "\n",
      "Epoch 00011: val_loss did not improve from 0.02444\n",
      "\n",
      "Epoch 00012: val_loss did not improve from 0.02444\n",
      "\n",
      "Epoch 00013: val_loss did not improve from 0.02444\n",
      "\n",
      "Epoch 00014: val_loss did not improve from 0.02444\n",
      "\n",
      "Epoch 00015: val_loss did not improve from 0.02444\n",
      "\n",
      "Epoch 00016: val_loss did not improve from 0.02444\n",
      "\n",
      "Epoch 00017: val_loss did not improve from 0.02444\n",
      "\n",
      "Epoch 00018: val_loss did not improve from 0.02444\n",
      "\n",
      "Epoch 00019: val_loss did not improve from 0.02444\n"
     ]
    }
   ],
   "source": [
    "# 모델의 실행\n",
    "history = model.fit(X_train, Y_train, \n",
    "                    validation_data=(X_test, Y_test), \n",
    "                    epochs=30, batch_size=200, verbose=0, \n",
    "                    callbacks=[early_stopping_callback,checkpointer])  #early_stopping_callback 때문에 19에서 멈춤"
   ]
  },
  {
   "cell_type": "code",
   "execution_count": 11,
   "id": "771ea50a-ce14-460c-896e-4f33b8997d95",
   "metadata": {},
   "outputs": [
    {
     "name": "stdout",
     "output_type": "stream",
     "text": [
      "313/313 [==============================] - 2s 4ms/step - loss: 0.0281 - accuracy: 0.9926\n",
      "\n",
      " Test Accuracy: 0.9926\n"
     ]
    }
   ],
   "source": [
    "# 테스트 정확도 출력\n",
    "print(\"\\n Test Accuracy: %.4f\" % (model.evaluate(X_test, Y_test)[1]))\n",
    "\n",
    "# 거의 100%\n",
    "# 100이 안되는 이유는, 사람도 알아보기 힘든 그림이 들어가 있어서..."
   ]
  },
  {
   "cell_type": "code",
   "execution_count": 12,
   "id": "91fe2222-4448-4d21-9870-047db8fd68f8",
   "metadata": {},
   "outputs": [],
   "source": [
    "# 테스트셋의 오차\n",
    "y_vloss = history.history['val_loss']"
   ]
  },
  {
   "cell_type": "code",
   "execution_count": 13,
   "id": "30669a00-4566-42c7-ba9e-507e906dc688",
   "metadata": {},
   "outputs": [],
   "source": [
    "# 학습셋의 오차\n",
    "y_loss = history.history['loss']"
   ]
  },
  {
   "cell_type": "code",
   "execution_count": 14,
   "id": "ffe8bd1c-7a32-4368-bde0-7f8cc553c1be",
   "metadata": {},
   "outputs": [
    {
     "data": {
      "image/png": "[encoded data removed]",
      "text/plain": [
       "<Figure size 432x288 with 1 Axes>"
      ]
     },
     "metadata": {
      "needs_background": "light"
     },
     "output_type": "display_data"
    }
   ],
   "source": [
    "# 그래프로 표현\n",
    "x_len = np.arange(len(y_loss))\n",
    "plt.plot(x_len, y_vloss, marker='.', c=\"red\", label='Testset_loss')\n",
    "plt.plot(x_len, y_loss, marker='.', c=\"blue\", label='Trainset_loss')\n",
    "\n",
    "# 그래프에 그리드를 주고 레이블을 표시\n",
    "plt.legend(loc='upper right')\n",
    "plt.grid()\n",
    "plt.xlabel('epoch')\n",
    "plt.ylabel('loss')\n",
    "plt.show()"
   ]
  },
  {
   "cell_type": "code",
   "execution_count": null,
   "id": "9825a453-9313-44bd-bd91-29cfc462026c",
   "metadata": {},
   "outputs": [],
   "source": []
  },
  {
   "cell_type": "code",
   "execution_count": 15,
   "id": "743f492a-8e23-4a34-a9cf-f5b5bcef4003",
   "metadata": {},
   "outputs": [],
   "source": [
    "# https://thebook.io/080228/part05/ch16/05/"
   ]
  }
 ],
 "metadata": {
  "kernelspec": {
   "display_name": "Python 3 (ipykernel)",
   "language": "python",
   "name": "python3"
  },
  "language_info": {
   "codemirror_mode": {
    "name": "ipython",
    "version": 3
   },
   "file_extension": ".py",
   "mimetype": "text/x-python",
   "name": "python",
   "nbconvert_exporter": "python",
   "pygments_lexer": "ipython3",
   "version": "3.8.11"
  }
 },
 "nbformat": 4,
 "nbformat_minor": 5
}
