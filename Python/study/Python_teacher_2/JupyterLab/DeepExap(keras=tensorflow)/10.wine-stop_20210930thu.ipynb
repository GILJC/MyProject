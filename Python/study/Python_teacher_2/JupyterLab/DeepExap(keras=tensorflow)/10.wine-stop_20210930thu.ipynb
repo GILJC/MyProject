{
 "cells": [
  {
   "cell_type": "code",
   "execution_count": 1,
   "id": "a0650835-8f42-4978-ae36-f273b86211ab",
   "metadata": {},
   "outputs": [],
   "source": [
    "# https://thebook.io/080228/part04/ch14/04-01/\n",
    "# 와인의 종류 예측하기: 학습의 자동 중단"
   ]
  },
  {
   "cell_type": "code",
   "execution_count": null,
   "id": "8e7538fd-39d9-4415-bb6e-7d4501d5fb62",
   "metadata": {},
   "outputs": [],
   "source": []
  },
  {
   "cell_type": "code",
   "execution_count": null,
   "id": "21bcafd8-846f-4368-b4b9-d17dc67b34d1",
   "metadata": {},
   "outputs": [],
   "source": [
    "from keras.models import Sequential\n",
    "from keras.layers import Dense\n",
    "from keras.callbacks import EarlyStopping\n",
    " \n",
    "import pandas as pd\n",
    "import numpy\n",
    "import tensorflow as tf"
   ]
  },
  {
   "cell_type": "code",
   "execution_count": 2,
   "id": "5acf765d-d95a-40e7-81b9-23e955d2cd03",
   "metadata": {},
   "outputs": [],
   "source": [
    "# seed 값 설정\n",
    "numpy.random.seed(3)\n",
    "tf.random.set_seed(3)"
   ]
  },
  {
   "cell_type": "code",
   "execution_count": 3,
   "id": "572ade51-eb13-4c4e-8489-4b181162286e",
   "metadata": {},
   "outputs": [],
   "source": [
    "df_pre = pd.read_csv('data/wine.csv', header=None)\n",
    "df = df_pre.sample(frac=0.15)\n",
    "\n",
    "# 1쓰면 전체 다 갖고 오는거 = 하나 마나인데, 일단 함 -> 셈플을 렌덤으로 가져옴\n",
    "# 원래 데이터가 섞여서 들어오는 건 있음\n",
    "\n",
    "# 전체 데이터중 70%만 쓰겠다 -> 0.7을 주면 -> 무작위로 섞어서 70%만 씀"
   ]
  },
  {
   "cell_type": "code",
   "execution_count": 4,
   "id": "1c891d64-702c-4cff-a82f-9a2a1014f9ee",
   "metadata": {},
   "outputs": [
    {
     "name": "stdout",
     "output_type": "stream",
     "text": [
      "        0      1     2     3      4     5      6        7     8     9      10  \\\n",
      "6245   5.9  0.180  0.28   1.0  0.037  24.0   88.0  0.99094  3.29  0.55  10.65   \n",
      "486   10.2  0.670  0.39   1.9  0.054   6.0   17.0  0.99760  3.17  0.47  10.00   \n",
      "273    8.4  0.715  0.20   2.4  0.076  10.0   38.0  0.99735  3.31  0.64   9.40   \n",
      "1993   6.8  0.370  0.51  11.8  0.044  62.0  163.0  0.99760  3.19  0.44   8.80   \n",
      "885    8.9  0.750  0.14   2.5  0.086   9.0   30.0  0.99824  3.34  0.64  10.50   \n",
      "\n",
      "      11  12  \n",
      "6245   7   0  \n",
      "486    5   1  \n",
      "273    5   1  \n",
      "1993   5   0  \n",
      "885    5   1  \n"
     ]
    }
   ],
   "source": [
    "print(df.head())"
   ]
  },
  {
   "cell_type": "code",
   "execution_count": 5,
   "id": "f7af0afc-de78-4270-8acc-d36a37dc8064",
   "metadata": {},
   "outputs": [
    {
     "name": "stdout",
     "output_type": "stream",
     "text": [
      "<class 'pandas.core.frame.DataFrame'>\n",
      "Int64Index: 975 entries, 6245 to 2308\n",
      "Data columns (total 13 columns):\n",
      " #   Column  Non-Null Count  Dtype  \n",
      "---  ------  --------------  -----  \n",
      " 0   0       975 non-null    float64\n",
      " 1   1       975 non-null    float64\n",
      " 2   2       975 non-null    float64\n",
      " 3   3       975 non-null    float64\n",
      " 4   4       975 non-null    float64\n",
      " 5   5       975 non-null    float64\n",
      " 6   6       975 non-null    float64\n",
      " 7   7       975 non-null    float64\n",
      " 8   8       975 non-null    float64\n",
      " 9   9       975 non-null    float64\n",
      " 10  10      975 non-null    float64\n",
      " 11  11      975 non-null    int64  \n",
      " 12  12      975 non-null    int64  \n",
      "dtypes: float64(11), int64(2)\n",
      "memory usage: 106.6 KB\n",
      "None\n"
     ]
    }
   ],
   "source": [
    "print(df.info())"
   ]
  },
  {
   "cell_type": "code",
   "execution_count": 6,
   "id": "e25642d4-91a2-4cfa-83dd-e524cd4e3996",
   "metadata": {},
   "outputs": [
    {
     "name": "stdout",
     "output_type": "stream",
     "text": [
      "float64\n"
     ]
    }
   ],
   "source": [
    "dataset = df.values\n",
    "print(dataset.dtype)\n",
    "\n",
    "# 전체가 다 숫자(float)이니까 .astype 안해도 될듯"
   ]
  },
  {
   "cell_type": "code",
   "execution_count": 7,
   "id": "a53b764b-2e6f-4ad0-b873-e0a0d877c08b",
   "metadata": {},
   "outputs": [],
   "source": [
    "dataset = df.values\n",
    "X = dataset[:,0:12]\n",
    "Y = dataset[:,12]"
   ]
  },
  {
   "cell_type": "code",
   "execution_count": 8,
   "id": "d9b8ca0e-6590-46ea-b528-753be4dbd906",
   "metadata": {},
   "outputs": [],
   "source": [
    "model = Sequential()\n",
    "model.add(Dense(30, input_dim=12, activation='relu'))\n",
    "model.add(Dense(12, activation='relu'))\n",
    "model.add(Dense(8, activation='relu'))\n",
    "model.add(Dense(1, activation='sigmoid'))\n",
    "## 1이냐, 0이냐 맞추는 문제 = 2진 분류 = binary~~ -> sigmoid로 0,1이냐 뽑아주는것\n",
    "\n",
    "#이부분 추가\n",
    "model.compile(loss='binary_crossentropy', optimizer='adam', metrics=['accuracy'])"
   ]
  },
  {
   "cell_type": "code",
   "execution_count": 9,
   "id": "7d6f88db-ea95-471d-9a0b-03be2eb741eb",
   "metadata": {},
   "outputs": [
    {
     "name": "stdout",
     "output_type": "stream",
     "text": [
      "Model: \"sequential\"\n",
      "_________________________________________________________________\n",
      "Layer (type)                 Output Shape              Param #   \n",
      "=================================================================\n",
      "dense (Dense)                (None, 30)                390       \n",
      "_________________________________________________________________\n",
      "dense_1 (Dense)              (None, 12)                372       \n",
      "_________________________________________________________________\n",
      "dense_2 (Dense)              (None, 8)                 104       \n",
      "_________________________________________________________________\n",
      "dense_3 (Dense)              (None, 1)                 9         \n",
      "=================================================================\n",
      "Total params: 875\n",
      "Trainable params: 875\n",
      "Non-trainable params: 0\n",
      "_________________________________________________________________\n"
     ]
    }
   ],
   "source": [
    "model.summary()"
   ]
  },
  {
   "cell_type": "code",
   "execution_count": null,
   "id": "fe767536-11b0-4e85-b253-ef1e60c5e551",
   "metadata": {},
   "outputs": [],
   "source": [
    "# 학습 자동 중단 설정\n",
    "early_stopping_callback = EarlyStopping(monitor='val_loss', patience=100)"
   ]
  },
  {
   "cell_type": "code",
   "execution_count": null,
   "id": "50fdaa41-b023-4d7e-98a2-d9b660f00a8c",
   "metadata": {},
   "outputs": [],
   "source": [
    "# 모델 실행\n",
    "model.fit(X, Y, validation_split=0.2, epochs=2000, batch_size=500, callbacks=[early_stopping_callback])"
   ]
  },
  {
   "cell_type": "code",
   "execution_count": 10,
   "id": "c7acecaf-6851-49d8-8c8c-e42508641bc8",
   "metadata": {},
   "outputs": [],
   "source": [
    "# 결과 출력\n",
    "print(\"\\n Accuracy: %.4f\" % (model.evaluate(X, Y)[1]))"
   ]
  },
  {
   "cell_type": "code",
   "execution_count": 11,
   "id": "22bfc091-3e9a-44ed-9c12-84155b86eccb",
   "metadata": {},
   "outputs": [],
   "source": []
  },
  {
   "cell_type": "code",
   "execution_count": null,
   "id": "5bfb5b33-8d01-417d-83fb-0725012c4dac",
   "metadata": {},
   "outputs": [],
   "source": []
  },
  {
   "cell_type": "code",
   "execution_count": null,
   "id": "7e387d8e-fc0e-4ca9-b671-dadcd197b9b5",
   "metadata": {},
   "outputs": [],
   "source": [
    "# 수업 안듣고 책에있는 내용만 복사.\n",
    "# 안될 수 있음 (실행 안해봄)"
   ]
  },
  {
   "cell_type": "code",
   "execution_count": null,
   "id": "edf73aa2-51cf-4e13-af5e-7d4e24e00984",
   "metadata": {},
   "outputs": [],
   "source": []
  },
  {
   "cell_type": "code",
   "execution_count": null,
   "id": "23a8443a-b231-41f0-8121-5d21415b4138",
   "metadata": {},
   "outputs": [],
   "source": [
    "# https://thebook.io/080228/part04/ch14/04-03/\n",
    "\n",
    "# 와인의 종류 예측하기: 전체 코드"
   ]
  },
  {
   "cell_type": "code",
   "execution_count": null,
   "id": "1a3ef506-c357-4b1f-823f-48e1519e38b3",
   "metadata": {},
   "outputs": [],
   "source": [
    "from keras.models import Sequential\n",
    "from keras.layers import Dense\n",
    "from keras.callbacks import ModelCheckpoint, EarlyStopping\n",
    " \n",
    "import pandas as pd\n",
    "import numpy\n",
    "import os\n",
    "import tensorflow as tf\n",
    "  \n",
    "# seed 값 설정\n",
    "numpy.random.seed(3)\n",
    "tf.random.set_seed(3)\n",
    "\n",
    "df_pre = pd.read_csv('../dataset/wine.csv', header=None)\n",
    "df = df_pre.sample(frac=0.15)\n",
    "dataset = df.values\n",
    "X = dataset[:,0:12]\n",
    "Y = dataset[:,12]\n",
    " \n",
    "model = Sequential()\n",
    "model.add(Dense(30, input_dim=12, activation='relu'))\n",
    "model.add(Dense(12, activation='relu'))\n",
    "model.add(Dense(8, activation='relu'))\n",
    "model.add(Dense(1, activation='sigmoid'))\n",
    "model.compile(loss='binary_crossentropy', optimizer='adam', metrics=['accuracy'])\n",
    "  \n",
    "# 모델 저장 폴더 만들기\n",
    "MODEL_DIR = './model/'\n",
    "if not os.path.exists(MODEL_DIR):\n",
    "   os.mkdir(MODEL_DIR)\n",
    " \n",
    "modelpath=\"./model/{epoch:02d}-{val_loss:.4f}.hdf5\"\n",
    "  \n",
    "# 모델 업데이트 및 저장\n",
    "checkpointer = ModelCheckpoint(filepath=modelpath, monitor='val_loss', verbose=1, save_best_only=True)\n",
    "  \n",
    "# 학습 자동 중단 설정\n",
    "early_stopping_callback = EarlyStopping(monitor='val_loss', patience=100)\n",
    " \n",
    "model.fit(X, Y, validation_split=0.2, epochs=3500, batch_size=500, verbose=0, callbacks=[early_stopping_callback,checkpointer])"
   ]
  },
  {
   "cell_type": "code",
   "execution_count": null,
   "id": "7cd8542a-bba5-4956-8a09-62e175dc62d1",
   "metadata": {},
   "outputs": [],
   "source": []
  }
 ],
 "metadata": {
  "kernelspec": {
   "display_name": "Python 3 (ipykernel)",
   "language": "python",
   "name": "python3"
  },
  "language_info": {
   "codemirror_mode": {
    "name": "ipython",
    "version": 3
   },
   "file_extension": ".py",
   "mimetype": "text/x-python",
   "name": "python",
   "nbconvert_exporter": "python",
   "pygments_lexer": "ipython3",
   "version": "3.8.11"
  }
 },
 "nbformat": 4,
 "nbformat_minor": 5
}
