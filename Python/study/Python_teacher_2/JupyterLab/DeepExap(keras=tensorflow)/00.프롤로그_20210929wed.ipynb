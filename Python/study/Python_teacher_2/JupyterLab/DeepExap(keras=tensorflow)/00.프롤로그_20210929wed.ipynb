{
 "cells": [
  {
   "cell_type": "code",
   "execution_count": 1,
   "id": "7af92b8c-6665-4afe-aab0-f8c186bb4eb0",
   "metadata": {},
   "outputs": [],
   "source": [
    "# conda activate python-env\n",
    "\n",
    "# conda install tensorflow\n",
    "# (keras 따로 설치할 필요 없음 tensorflow가 keras 품음)"
   ]
  },
  {
   "cell_type": "markdown",
   "id": "640db8d1-6ff0-4d8d-bbc6-71c98095a34f",
   "metadata": {},
   "source": [
    "##### thebook.io\n",
    "\n",
    "it도서 열람 서비스\\\n",
    "몇개는 자기책을 100% 오픈한게 있음\\\n",
    "그중에 하나가 우리가 쓸 책임\\\n",
    "(일반 책은 일부분만 open돼 있음)\n",
    "\n",
    "- 모두의 딥러닝 개정2판 (https://thebook.io/080228/)"
   ]
  },
  {
   "cell_type": "code",
   "execution_count": null,
   "id": "c33a0601-ec2a-47eb-b971-27e692072396",
   "metadata": {},
   "outputs": [],
   "source": []
  }
 ],
 "metadata": {
  "kernelspec": {
   "display_name": "Python 3 (ipykernel)",
   "language": "python",
   "name": "python3"
  },
  "language_info": {
   "codemirror_mode": {
    "name": "ipython",
    "version": 3
   },
   "file_extension": ".py",
   "mimetype": "text/x-python",
   "name": "python",
   "nbconvert_exporter": "python",
   "pygments_lexer": "ipython3",
   "version": "3.8.11"
  }
 },
 "nbformat": 4,
 "nbformat_minor": 5
}
