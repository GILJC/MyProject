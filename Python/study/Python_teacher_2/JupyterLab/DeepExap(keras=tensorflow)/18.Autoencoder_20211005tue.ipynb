{
 "cells": [
  {
   "cell_type": "code",
   "execution_count": 1,
   "id": "40150ce9-fe09-4144-97de-08e98b7c388a",
   "metadata": {},
   "outputs": [],
   "source": [
    "# https://thebook.io/080228/part05/ch19/04/"
   ]
  },
  {
   "cell_type": "code",
   "execution_count": null,
   "id": "54f777de-d5dd-451f-afd5-2db29d0beb9a",
   "metadata": {},
   "outputs": [],
   "source": [
    "from tensorflow.keras.datasets import mnist\n",
    "from tensorflow.keras.models import Sequential, Model\n",
    "from tensorflow.keras.layers import Input, Dense, Conv2D, MaxPooling2D\n",
    "from tensorflow.keras.layers import UpSampling2D, Flatten, Reshape\n",
    "import numpy as np\n",
    "import matplotlib.pyplot as plt"
   ]
  },
  {
   "cell_type": "code",
   "execution_count": null,
   "id": "07646982-c685-47c9-a25b-c6207fbe8161",
   "metadata": {},
   "outputs": [],
   "source": [
    "# MNIST 데이터 셋을 호출\n",
    "(X_train, _), (X_test, _) = mnist.load_data()\n",
    "X_train = X_train.reshape(X_train.shape[0], 28, 28, 1).astype('float') / 255\n",
    "X_test = X_test.reshape(X_test.shape[0], 28, 28, 1).astype('float') / 255"
   ]
  },
  {
   "cell_type": "code",
   "execution_count": null,
   "id": "22af18c8-33c4-47ab-881c-b4b15bce03aa",
   "metadata": {},
   "outputs": [],
   "source": [
    "# 생성자 모델 만들기\n",
    "autoencoder = Sequential()\n",
    "\n",
    "# 인코딩 부분\n",
    "autoencoder.add(Conv2D(16, kernel_size=3, padding='same', input_shape=(28,28,1), activation='relu'))\n",
    "# 출력이 16개, 커널 사이즈=3, 출력이 똑같으므로 패팅=same, input_shape=28,28,1\n",
    "autoencoder.add(MaxPooling2D(pool_size=2, padding='same'))  # 아래로 가면서 사이즈를 줄여나감\n",
    "autoencoder.add(Conv2D(8, kernel_size=3, activation='relu', padding='same'))  #.\n",
    "autoencoder.add(MaxPooling2D(pool_size=2, padding='same'))                    #.\n",
    "autoencoder.add(Conv2D(8, kernel_size=3, strides=2, padding='same', activation='relu'))  # .\n",
    "\n",
    "# 디코딩 부분\n",
    "autoencoder.add(Conv2D(8, kernel_size=3, padding='same', activation='relu'))\n",
    "autoencoder.add(UpSampling2D())  # 다시 사이즈를 늘려 나감(위에서 줄였으므로)\n",
    "autoencoder.add(Conv2D(8, kernel_size=3, padding='same', activation='relu'))\n",
    "autoencoder.add(UpSampling2D())\n",
    "autoencoder.add(Conv2D(16, kernel_size=3, activation='relu'))\n",
    "autoencoder.add(UpSampling2D())\n",
    "autoencoder.add(Conv2D(1, kernel_size=3, padding='same', activation='sigmoid'))  # 이미지 하나\n",
    "\n",
    "# 전체 구조 확인\n",
    "autoencoder.summary()\n",
    "\n",
    "# Output Shape가\n",
    "# 28,28,16 에서 14,14,16,  7,7,8, ... 로 줄어가다가\n",
    "# 8,8,8  ,  16,16,8  , ... ,  28,28,1 로 다시 커짐"
   ]
  },
  {
   "cell_type": "code",
   "execution_count": null,
   "id": "f987bf43-1e5c-474a-a2d1-5f998b65dd42",
   "metadata": {},
   "outputs": [],
   "source": [
    "# 컴파일 및 학습을 하는 부분\n",
    "# autoencoder.compile(optimizer='adam', loss='binary_crossentropy')\n",
    "autoencoder.compile(loss='binary_crossentropy', optimizer='adam')\n",
    "autoencoder.fit(X_train, X_train, epochs=50, batch_size=128, validation_data=(X_test, X_test)) # 원본을 복제하고 싶은 것"
   ]
  },
  {
   "cell_type": "code",
   "execution_count": null,
   "id": "48f17611-51c6-43fc-9633-922fca61a7c1",
   "metadata": {},
   "outputs": [],
   "source": [
    "# 학습된 결과를 출력하는 부분\n",
    "random_test = np.random.randint(X_test.shape[0], size=5)  \n",
    "  \n",
    "# 테스트할 이미지를 랜덤으로 호출\n",
    "ae_imgs = autoencoder.predict(X_test)  # 앞서 만든 오토인코더 모델에 넣기\n",
    " \n",
    "plt.figure(figsize=(7, 2))  # 출력 이미지 크기 정하기\n",
    "\n",
    "for i, image_idx in enumerate(random_test):    \n",
    "   # 랜덤으로 뽑은 이미지를 차례로 나열\n",
    "   ax = plt.subplot(2, 7, i + 1)\n",
    "   # 테스트할 이미지를 먼저 그대로 보여줌\n",
    "   plt.imshow(X_test[image_idx].reshape(28, 28))  \n",
    "   ax.axis('off')\n",
    "   ax = plt.subplot(2, 7, 7 + i +1)\n",
    "   # 오토인코딩 결과를 다음 열에 입력\n",
    "   plt.imshow(ae_imgs[image_idx].reshape(28, 28))  \n",
    "   ax.axis('off')\n",
    "plt.show()"
   ]
  },
  {
   "cell_type": "code",
   "execution_count": null,
   "id": "d780b39d-e4bb-4faa-be34-573b2156b194",
   "metadata": {},
   "outputs": [],
   "source": [
    "# 실행 결과에서 \n",
    "# 첫 번째 줄이 테스트로 사용된 원본 이미지, \n",
    "# 두 번째 줄이 원본의 특징을 고스란히 담은 채 만들어진 오토인코더 이미지입니다."
   ]
  },
  {
   "cell_type": "code",
   "execution_count": null,
   "id": "f3e3b297-619c-4bcc-8c4e-7b10f1041960",
   "metadata": {},
   "outputs": [],
   "source": []
  },
  {
   "cell_type": "code",
   "execution_count": null,
   "id": "6fcb12ca-cffa-4226-99bf-e1611b90bb5d",
   "metadata": {},
   "outputs": [],
   "source": []
  },
  {
   "cell_type": "code",
   "execution_count": null,
   "id": "eaaa30db-d1be-45b5-bc22-ed0da250bf4a",
   "metadata": {},
   "outputs": [],
   "source": []
  },
  {
   "cell_type": "code",
   "execution_count": null,
   "id": "f6cedd01-5f94-4127-92ad-06c74029b46e",
   "metadata": {},
   "outputs": [],
   "source": []
  }
 ],
 "metadata": {
  "kernelspec": {
   "display_name": "Python 3 (ipykernel)",
   "language": "python",
   "name": "python3"
  },
  "language_info": {
   "codemirror_mode": {
    "name": "ipython",
    "version": 3
   },
   "file_extension": ".py",
   "mimetype": "text/x-python",
   "name": "python",
   "nbconvert_exporter": "python",
   "pygments_lexer": "ipython3",
   "version": "3.8.11"
  }
 },
 "nbformat": 4,
 "nbformat_minor": 5
}
