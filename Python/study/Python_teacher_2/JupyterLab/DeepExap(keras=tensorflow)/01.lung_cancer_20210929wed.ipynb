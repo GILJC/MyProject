{
 "cells": [
  {
   "cell_type": "code",
   "execution_count": 1,
   "id": "9c07bba6-fc3d-4380-b938-565c4fbee406",
   "metadata": {},
   "outputs": [],
   "source": [
    "# conda activate python-env\n",
    "\n",
    "# conda install tensorflow\n",
    "\n",
    "#------------------------------------\n",
    "# 이거해서 안되서 pip로 따로 또 설치함\n",
    "#-------------------------------------\n",
    "\n",
    "# pip install tensorflow\n",
    "# pip install keras\n",
    "# 그래도 안돼서 컴퓨터 재시작함\n",
    "\n",
    "# 그러니까 됨\n",
    "# 위의 conda install tensorflow만 하고 재시작 하면 될듯"
   ]
  },
  {
   "cell_type": "code",
   "execution_count": 2,
   "id": "314b219a-fd71-4550-af84-c91a86602103",
   "metadata": {},
   "outputs": [],
   "source": [
    "from tensorflow.keras.models import Sequential\n",
    "from tensorflow.keras.layers import Dense\n",
    "\n",
    "import numpy as np\n",
    "import tensorflow as tf"
   ]
  },
  {
   "cell_type": "code",
   "execution_count": 3,
   "id": "1e93cb4b-b2e6-4bfe-83d4-ba65df8306a4",
   "metadata": {},
   "outputs": [],
   "source": [
    "np.random.seed(3)\n",
    "tf.random.set_seed(3)"
   ]
  },
  {
   "cell_type": "code",
   "execution_count": 4,
   "id": "e02023ee-b3b4-4a35-af72-cdef3d6f78aa",
   "metadata": {},
   "outputs": [],
   "source": [
    "Data_set = np.loadtxt('data/ThoraricSurgery.csv', delimiter=',')"
   ]
  },
  {
   "cell_type": "code",
   "execution_count": 5,
   "id": "3429435a-0f26-4cb6-ae00-a69a66baa19c",
   "metadata": {},
   "outputs": [],
   "source": [
    "X = Data_set[:, :17]\n",
    "Y = Data_set[:, 17]"
   ]
  },
  {
   "cell_type": "code",
   "execution_count": 6,
   "id": "a67c4032-a2ca-47ba-8fee-6b2b381405c7",
   "metadata": {},
   "outputs": [
    {
     "name": "stdout",
     "output_type": "stream",
     "text": [
      "[14.    2.    3.98  3.06  2.    0.    0.    0.    1.    1.   14.    0.\n",
      "  0.    0.    1.    0.   80.  ]\n"
     ]
    }
   ],
   "source": [
    "print(X[3])"
   ]
  },
  {
   "cell_type": "code",
   "execution_count": 7,
   "id": "42095830-56eb-4f24-adc3-6fae3b24205b",
   "metadata": {},
   "outputs": [
    {
     "name": "stdout",
     "output_type": "stream",
     "text": [
      "[0. 0. 1. 1. 0. 0. 0. 1. 0. 0. 0. 0. 0. 0. 1. 0. 0. 0. 0. 0. 0. 0. 0. 0.\n",
      " 0. 0. 1. 0. 0. 1. 1. 0. 0. 0. 0. 0. 1. 0. 0. 1. 0. 0. 0. 1. 0. 1. 0. 0.\n",
      " 1. 0. 0. 0. 0. 0. 0. 0. 1. 0. 1. 0. 0. 0. 0. 0. 0. 0. 0. 0. 0. 0. 0. 0.\n",
      " 1. 0. 1. 0. 0. 0. 0. 0. 0. 0. 0. 0. 0. 0. 1. 0. 0. 0. 0. 0. 0. 0. 1. 0.\n",
      " 1. 0. 0. 0. 0. 0. 0. 0. 0. 0. 0. 0. 1. 0. 1. 0. 0. 0. 0. 0. 0. 0. 0. 0.\n",
      " 0. 0. 0. 1. 0. 0. 0. 0. 1. 0. 0. 0. 0. 0. 0. 0. 0. 0. 0. 0. 0. 0. 0. 0.\n",
      " 0. 0. 0. 1. 0. 0. 0. 0. 1. 0. 0. 0. 0. 0. 0. 0. 0. 0. 0. 1. 1. 0. 0. 0.\n",
      " 0. 0. 0. 0. 0. 0. 0. 0. 0. 0. 1. 0. 1. 0. 1. 0. 0. 0. 0. 0. 0. 0. 0. 0.\n",
      " 0. 0. 0. 1. 0. 0. 1. 1. 0. 0. 0. 0. 0. 0. 0. 0. 0. 0. 1. 0. 1. 0. 0. 0.\n",
      " 0. 0. 0. 0. 0. 1. 0. 1. 0. 0. 0. 0. 0. 0. 0. 1. 0. 0. 0. 0. 0. 0. 0. 0.\n",
      " 1. 0. 0. 0. 0. 0. 0. 0. 0. 1. 0. 0. 0. 0. 0. 0. 1. 0. 1. 0. 0. 0. 0. 0.\n",
      " 0. 0. 0. 0. 0. 0. 0. 0. 0. 0. 0. 0. 0. 1. 1. 0. 0. 0. 0. 1. 0. 0. 1. 0.\n",
      " 0. 0. 0. 1. 0. 0. 0. 0. 0. 0. 1. 0. 0. 0. 0. 0. 0. 0. 0. 0. 0. 1. 0. 0.\n",
      " 0. 0. 1. 0. 0. 0. 0. 0. 0. 1. 0. 0. 0. 1. 0. 0. 0. 0. 0. 0. 0. 0. 0. 0.\n",
      " 0. 0. 0. 0. 0. 0. 0. 0. 0. 1. 0. 0. 0. 0. 0. 0. 0. 0. 0. 0. 0. 0. 0. 0.\n",
      " 0. 0. 0. 0. 0. 0. 0. 0. 1. 0. 0. 0. 0. 0. 0. 0. 0. 0. 0. 0. 0. 0. 0. 0.\n",
      " 0. 0. 1. 0. 0. 0. 0. 0. 0. 0. 0. 0. 0. 0. 0. 0. 0. 0. 0. 0. 0. 0. 1. 0.\n",
      " 0. 1. 0. 1. 0. 0. 0. 1. 1. 0. 0. 0. 0. 0. 0. 0. 0. 0. 0. 0. 0. 0. 0. 0.\n",
      " 0. 0. 0. 0. 0. 0. 0. 0. 0. 0. 0. 1. 0. 0. 0. 0. 1. 0. 0. 1. 1. 0. 0. 1.\n",
      " 1. 0. 1. 0. 0. 1. 1. 0. 0. 0. 0. 0. 1. 0.]\n"
     ]
    }
   ],
   "source": [
    "print(Y)"
   ]
  },
  {
   "cell_type": "code",
   "execution_count": 8,
   "id": "745f7792-09f5-49e8-aed0-5e799d3accdc",
   "metadata": {},
   "outputs": [],
   "source": [
    "# 모델 만들어 줌\n",
    "\n",
    "model = Sequential()\n",
    "model.add(Dense(30, input_dim=17, activation='relu'))\n",
    "model.add(Dense(1, activation='sigmoid'))"
   ]
  },
  {
   "cell_type": "code",
   "execution_count": 9,
   "id": "df0e1aa8-9ff0-4dd5-b190-2ae5bb8220dc",
   "metadata": {},
   "outputs": [
    {
     "name": "stdout",
     "output_type": "stream",
     "text": [
      "Model: \"sequential\"\n",
      "_________________________________________________________________\n",
      "Layer (type)                 Output Shape              Param #   \n",
      "=================================================================\n",
      "dense (Dense)                (None, 30)                540       \n",
      "_________________________________________________________________\n",
      "dense_1 (Dense)              (None, 1)                 31        \n",
      "=================================================================\n",
      "Total params: 571\n",
      "Trainable params: 571\n",
      "Non-trainable params: 0\n",
      "_________________________________________________________________\n"
     ]
    }
   ],
   "source": [
    "model.summary()"
   ]
  },
  {
   "cell_type": "code",
   "execution_count": 10,
   "id": "e5831929-2bc6-457c-9a6b-715b53a9a1c9",
   "metadata": {},
   "outputs": [],
   "source": [
    "# 레이어와 레이어 사이를 어떻게 넘어가는지 알려면 이게 계산 가능해야 함"
   ]
  },
  {
   "cell_type": "code",
   "execution_count": 13,
   "id": "bb52d23a-a654-491d-a523-5b94f20caf32",
   "metadata": {},
   "outputs": [
    {
     "name": "stdout",
     "output_type": "stream",
     "text": [
      "Epoch 1/100\n",
      "47/47 [==============================] - 0s 698us/step - loss: 0.3953 - accuracy: 0.8532\n",
      "Epoch 2/100\n",
      "47/47 [==============================] - 0s 711us/step - loss: 0.4014 - accuracy: 0.8511\n",
      "Epoch 3/100\n",
      "47/47 [==============================] - 0s 686us/step - loss: 0.3837 - accuracy: 0.8532\n",
      "Epoch 4/100\n",
      "47/47 [==============================] - 0s 803us/step - loss: 0.4198 - accuracy: 0.8468\n",
      "Epoch 5/100\n",
      "47/47 [==============================] - 0s 675us/step - loss: 0.3869 - accuracy: 0.8574\n",
      "Epoch 6/100\n",
      "47/47 [==============================] - 0s 615us/step - loss: 0.3736 - accuracy: 0.8511\n",
      "Epoch 7/100\n",
      "47/47 [==============================] - 0s 700us/step - loss: 0.3974 - accuracy: 0.8553\n",
      "Epoch 8/100\n",
      "47/47 [==============================] - 0s 615us/step - loss: 0.3848 - accuracy: 0.8553\n",
      "Epoch 9/100\n",
      "47/47 [==============================] - 0s 637us/step - loss: 0.3704 - accuracy: 0.8468\n",
      "Epoch 10/100\n",
      "47/47 [==============================] - 0s 615us/step - loss: 0.3852 - accuracy: 0.8532\n",
      "Epoch 11/100\n",
      "47/47 [==============================] - 0s 637us/step - loss: 0.3985 - accuracy: 0.8468\n",
      "Epoch 12/100\n",
      "47/47 [==============================] - 0s 615us/step - loss: 0.3884 - accuracy: 0.8553\n",
      "Epoch 13/100\n",
      "47/47 [==============================] - 0s 637us/step - loss: 0.4217 - accuracy: 0.8532\n",
      "Epoch 14/100\n",
      "47/47 [==============================] - 0s 637us/step - loss: 0.4067 - accuracy: 0.8340\n",
      "Epoch 15/100\n",
      "47/47 [==============================] - 0s 530us/step - loss: 0.4410 - accuracy: 0.8426\n",
      "Epoch 16/100\n",
      "47/47 [==============================] - 0s 637us/step - loss: 0.4035 - accuracy: 0.8447\n",
      "Epoch 17/100\n",
      "47/47 [==============================] - 0s 594us/step - loss: 0.4246 - accuracy: 0.8426\n",
      "Epoch 18/100\n",
      "47/47 [==============================] - 0s 615us/step - loss: 0.3969 - accuracy: 0.8574\n",
      "Epoch 19/100\n",
      "47/47 [==============================] - 0s 679us/step - loss: 0.3938 - accuracy: 0.8489\n",
      "Epoch 20/100\n",
      "47/47 [==============================] - 0s 594us/step - loss: 0.3900 - accuracy: 0.8617\n",
      "Epoch 21/100\n",
      "47/47 [==============================] - 0s 552us/step - loss: 0.3928 - accuracy: 0.8553\n",
      "Epoch 22/100\n",
      "47/47 [==============================] - 0s 573us/step - loss: 0.3873 - accuracy: 0.8574\n",
      "Epoch 23/100\n",
      "47/47 [==============================] - 0s 594us/step - loss: 0.3847 - accuracy: 0.8553\n",
      "Epoch 24/100\n",
      "47/47 [==============================] - 0s 573us/step - loss: 0.3920 - accuracy: 0.8596\n",
      "Epoch 25/100\n",
      "47/47 [==============================] - 0s 573us/step - loss: 0.3868 - accuracy: 0.8596\n",
      "Epoch 26/100\n",
      "47/47 [==============================] - 0s 552us/step - loss: 0.4019 - accuracy: 0.8574\n",
      "Epoch 27/100\n",
      "47/47 [==============================] - 0s 721us/step - loss: 0.4024 - accuracy: 0.8511\n",
      "Epoch 28/100\n",
      "47/47 [==============================] - 0s 573us/step - loss: 0.3877 - accuracy: 0.8596\n",
      "Epoch 29/100\n",
      "47/47 [==============================] - 0s 637us/step - loss: 0.3866 - accuracy: 0.8596\n",
      "Epoch 30/100\n",
      "47/47 [==============================] - 0s 1ms/step - loss: 0.3816 - accuracy: 0.8553\n",
      "Epoch 31/100\n",
      "47/47 [==============================] - 0s 679us/step - loss: 0.4125 - accuracy: 0.8511\n",
      "Epoch 32/100\n",
      "47/47 [==============================] - 0s 658us/step - loss: 0.3852 - accuracy: 0.8596\n",
      "Epoch 33/100\n",
      "47/47 [==============================] - 0s 806us/step - loss: 0.4038 - accuracy: 0.8532\n",
      "Epoch 34/100\n",
      "47/47 [==============================] - 0s 637us/step - loss: 0.3774 - accuracy: 0.8511\n",
      "Epoch 35/100\n",
      "47/47 [==============================] - 0s 637us/step - loss: 0.3903 - accuracy: 0.8447\n",
      "Epoch 36/100\n",
      "47/47 [==============================] - 0s 637us/step - loss: 0.3807 - accuracy: 0.8553\n",
      "Epoch 37/100\n",
      "47/47 [==============================] - 0s 552us/step - loss: 0.4031 - accuracy: 0.8553\n",
      "Epoch 38/100\n",
      "47/47 [==============================] - ETA: 0s - loss: 0.4658 - accuracy: 0.80 - 0s 594us/step - loss: 0.3979 - accuracy: 0.8574\n",
      "Epoch 39/100\n",
      "47/47 [==============================] - 0s 615us/step - loss: 0.4336 - accuracy: 0.8468\n",
      "Epoch 40/100\n",
      "47/47 [==============================] - 0s 615us/step - loss: 0.3762 - accuracy: 0.8532\n",
      "Epoch 41/100\n",
      "47/47 [==============================] - 0s 573us/step - loss: 0.3881 - accuracy: 0.8574\n",
      "Epoch 42/100\n",
      "47/47 [==============================] - 0s 573us/step - loss: 0.4045 - accuracy: 0.8489\n",
      "Epoch 43/100\n",
      "47/47 [==============================] - 0s 743us/step - loss: 0.3767 - accuracy: 0.8553\n",
      "Epoch 44/100\n",
      "47/47 [==============================] - 0s 658us/step - loss: 0.3756 - accuracy: 0.8553\n",
      "Epoch 45/100\n",
      "47/47 [==============================] - 0s 679us/step - loss: 0.3748 - accuracy: 0.8553\n",
      "Epoch 46/100\n",
      "47/47 [==============================] - 0s 594us/step - loss: 0.3720 - accuracy: 0.8553\n",
      "Epoch 47/100\n",
      "47/47 [==============================] - 0s 658us/step - loss: 0.3861 - accuracy: 0.8426\n",
      "Epoch 48/100\n",
      "47/47 [==============================] - 0s 594us/step - loss: 0.3675 - accuracy: 0.8532\n",
      "Epoch 49/100\n",
      "47/47 [==============================] - 0s 573us/step - loss: 0.3786 - accuracy: 0.8596\n",
      "Epoch 50/100\n",
      "47/47 [==============================] - 0s 552us/step - loss: 0.3799 - accuracy: 0.8489\n",
      "Epoch 51/100\n",
      "47/47 [==============================] - 0s 594us/step - loss: 0.3778 - accuracy: 0.8574\n",
      "Epoch 52/100\n",
      "47/47 [==============================] - 0s 637us/step - loss: 0.3692 - accuracy: 0.8617\n",
      "Epoch 53/100\n",
      "47/47 [==============================] - 0s 573us/step - loss: 0.3886 - accuracy: 0.8574\n",
      "Epoch 54/100\n",
      "47/47 [==============================] - 0s 573us/step - loss: 0.3788 - accuracy: 0.8532\n",
      "Epoch 55/100\n",
      "47/47 [==============================] - 0s 679us/step - loss: 0.3801 - accuracy: 0.8532\n",
      "Epoch 56/100\n",
      "47/47 [==============================] - 0s 615us/step - loss: 0.3643 - accuracy: 0.8532\n",
      "Epoch 57/100\n",
      "47/47 [==============================] - 0s 594us/step - loss: 0.3835 - accuracy: 0.8511\n",
      "Epoch 58/100\n",
      "47/47 [==============================] - 0s 594us/step - loss: 0.3766 - accuracy: 0.8638\n",
      "Epoch 59/100\n",
      "47/47 [==============================] - 0s 594us/step - loss: 0.3741 - accuracy: 0.8596\n",
      "Epoch 60/100\n",
      "47/47 [==============================] - 0s 573us/step - loss: 0.3661 - accuracy: 0.8638\n",
      "Epoch 61/100\n",
      "47/47 [==============================] - 0s 615us/step - loss: 0.3781 - accuracy: 0.8574\n",
      "Epoch 62/100\n",
      "47/47 [==============================] - 0s 594us/step - loss: 0.3961 - accuracy: 0.8532\n",
      "Epoch 63/100\n",
      "47/47 [==============================] - 0s 594us/step - loss: 0.3758 - accuracy: 0.8532\n",
      "Epoch 64/100\n",
      "47/47 [==============================] - 0s 615us/step - loss: 0.3984 - accuracy: 0.8553\n",
      "Epoch 65/100\n",
      "47/47 [==============================] - 0s 594us/step - loss: 0.3680 - accuracy: 0.8596\n",
      "Epoch 66/100\n",
      "47/47 [==============================] - 0s 700us/step - loss: 0.3997 - accuracy: 0.8574\n",
      "Epoch 67/100\n",
      "47/47 [==============================] - 0s 615us/step - loss: 0.3872 - accuracy: 0.8511\n",
      "Epoch 68/100\n",
      "47/47 [==============================] - 0s 594us/step - loss: 0.3806 - accuracy: 0.8553\n",
      "Epoch 69/100\n",
      "47/47 [==============================] - 0s 573us/step - loss: 0.3739 - accuracy: 0.8532\n",
      "Epoch 70/100\n",
      "47/47 [==============================] - 0s 594us/step - loss: 0.3722 - accuracy: 0.8660\n",
      "Epoch 71/100\n",
      "47/47 [==============================] - 0s 573us/step - loss: 0.3819 - accuracy: 0.8617\n",
      "Epoch 72/100\n",
      "47/47 [==============================] - 0s 658us/step - loss: 0.3903 - accuracy: 0.8404\n",
      "Epoch 73/100\n",
      "47/47 [==============================] - 0s 806us/step - loss: 0.3766 - accuracy: 0.8532\n",
      "Epoch 74/100\n",
      "47/47 [==============================] - 0s 722us/step - loss: 0.3672 - accuracy: 0.8638\n",
      "Epoch 75/100\n",
      "47/47 [==============================] - 0s 594us/step - loss: 0.3615 - accuracy: 0.8681\n",
      "Epoch 76/100\n",
      "47/47 [==============================] - 0s 594us/step - loss: 0.3804 - accuracy: 0.8596\n",
      "Epoch 77/100\n",
      "47/47 [==============================] - 0s 552us/step - loss: 0.3934 - accuracy: 0.8447\n",
      "Epoch 78/100\n",
      "47/47 [==============================] - 0s 594us/step - loss: 0.3790 - accuracy: 0.8574\n",
      "Epoch 79/100\n",
      "47/47 [==============================] - 0s 615us/step - loss: 0.3910 - accuracy: 0.8404\n",
      "Epoch 80/100\n",
      "47/47 [==============================] - 0s 615us/step - loss: 0.3752 - accuracy: 0.8532\n",
      "Epoch 81/100\n",
      "47/47 [==============================] - 0s 594us/step - loss: 0.3757 - accuracy: 0.8660\n",
      "Epoch 82/100\n",
      "47/47 [==============================] - 0s 573us/step - loss: 0.3864 - accuracy: 0.8638\n",
      "Epoch 83/100\n",
      "47/47 [==============================] - 0s 615us/step - loss: 0.3687 - accuracy: 0.8660\n",
      "Epoch 84/100\n",
      "47/47 [==============================] - 0s 658us/step - loss: 0.4050 - accuracy: 0.8532\n",
      "Epoch 85/100\n",
      "47/47 [==============================] - 0s 573us/step - loss: 0.3778 - accuracy: 0.8489\n",
      "Epoch 86/100\n",
      "47/47 [==============================] - 0s 615us/step - loss: 0.3678 - accuracy: 0.8617\n",
      "Epoch 87/100\n",
      "47/47 [==============================] - 0s 594us/step - loss: 0.3738 - accuracy: 0.8511\n",
      "Epoch 88/100\n",
      "47/47 [==============================] - 0s 594us/step - loss: 0.3805 - accuracy: 0.8596\n",
      "Epoch 89/100\n",
      "47/47 [==============================] - 0s 615us/step - loss: 0.3674 - accuracy: 0.8617\n",
      "Epoch 90/100\n",
      "47/47 [==============================] - 0s 594us/step - loss: 0.3712 - accuracy: 0.8681\n",
      "Epoch 91/100\n",
      "47/47 [==============================] - 0s 573us/step - loss: 0.3959 - accuracy: 0.8596\n",
      "Epoch 92/100\n",
      "47/47 [==============================] - 0s 637us/step - loss: 0.3993 - accuracy: 0.8532\n",
      "Epoch 93/100\n",
      "47/47 [==============================] - 0s 870us/step - loss: 0.3730 - accuracy: 0.8532\n",
      "Epoch 94/100\n",
      "47/47 [==============================] - 0s 806us/step - loss: 0.3640 - accuracy: 0.8638\n",
      "Epoch 95/100\n",
      "47/47 [==============================] - 0s 573us/step - loss: 0.3602 - accuracy: 0.8681\n",
      "Epoch 96/100\n",
      "47/47 [==============================] - 0s 594us/step - loss: 0.3936 - accuracy: 0.8532\n",
      "Epoch 97/100\n",
      "47/47 [==============================] - 0s 594us/step - loss: 0.3848 - accuracy: 0.8532\n",
      "Epoch 98/100\n",
      "47/47 [==============================] - 0s 615us/step - loss: 0.3630 - accuracy: 0.8723\n",
      "Epoch 99/100\n",
      "47/47 [==============================] - 0s 552us/step - loss: 0.3758 - accuracy: 0.8596\n",
      "Epoch 100/100\n",
      "47/47 [==============================] - 0s 594us/step - loss: 0.3565 - accuracy: 0.8617\n"
     ]
    },
    {
     "data": {
      "text/plain": [
       "<tensorflow.python.keras.callbacks.History at 0x227fe11dee0>"
      ]
     },
     "execution_count": 13,
     "metadata": {},
     "output_type": "execute_result"
    }
   ],
   "source": [
    "model.compile(loss='binary_crossentropy', optimizer='adam',\n",
    "             metrics=['accuracy'])\n",
    "# 2진이니까 손실 함수는 바이너리크로스엔트로피를 씀,  optimizer는 adam 씀 ,  정확도를 측정단위로 삼아라\n",
    "model.fit(X, Y, epochs=100, batch_size=10)"
   ]
  },
  {
   "cell_type": "code",
   "execution_count": null,
   "id": "a9799943-6383-45ea-a8fc-5a4f78525985",
   "metadata": {},
   "outputs": [],
   "source": []
  }
 ],
 "metadata": {
  "kernelspec": {
   "display_name": "Python 3 (ipykernel)",
   "language": "python",
   "name": "python3"
  },
  "language_info": {
   "codemirror_mode": {
    "name": "ipython",
    "version": 3
   },
   "file_extension": ".py",
   "mimetype": "text/x-python",
   "name": "python",
   "nbconvert_exporter": "python",
   "pygments_lexer": "ipython3",
   "version": "3.8.11"
  }
 },
 "nbformat": 4,
 "nbformat_minor": 5
}
