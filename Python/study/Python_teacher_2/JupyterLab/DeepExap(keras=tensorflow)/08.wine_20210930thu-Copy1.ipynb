{
 "cells": [
  {
   "cell_type": "code",
   "execution_count": 1,
   "id": "a0650835-8f42-4978-ae36-f273b86211ab",
   "metadata": {},
   "outputs": [],
   "source": [
    "from tensorflow.keras.models import Sequential\n",
    "from tensorflow.keras.layers import Dense\n",
    "import pandas as pd\n",
    "import numpy as np\n",
    "import tensorflow as tf\n",
    "import matplotlib.pyplot as plt"
   ]
  },
  {
   "cell_type": "code",
   "execution_count": 2,
   "id": "5acf765d-d95a-40e7-81b9-23e955d2cd03",
   "metadata": {},
   "outputs": [],
   "source": [
    "seed = 0\n",
    "np.random.seed(seed)\n",
    "tf.random.set_seed(3)"
   ]
  },
  {
   "cell_type": "code",
   "execution_count": 3,
   "id": "572ade51-eb13-4c4e-8489-4b181162286e",
   "metadata": {},
   "outputs": [],
   "source": [
    "df_pre = pd.read_csv('data/wine.csv')\n",
    "df = df_pre.sample(frac=1)\n",
    "\n",
    "# 1쓰면 전체 다 갖고 오는거 = 하나 마나인데, 일단 함 -> 셈플을 렌덤으로 가져옴\n",
    "# 원래 데이터가 섞여서 들어오는 건 있음\n",
    "\n",
    "# 전체 데이터중 70%만 쓰겠다 -> 0.7을 주면 -> 무작위로 섞어서 70%만 씀"
   ]
  },
  {
   "cell_type": "code",
   "execution_count": 4,
   "id": "1c891d64-702c-4cff-a82f-9a2a1014f9ee",
   "metadata": {},
   "outputs": [
    {
     "name": "stdout",
     "output_type": "stream",
     "text": [
      "      7.4   0.7     0   1.9  0.076    11     34   0.9978  3.51  0.56   9.4  5  \\\n",
      "5315  6.3  0.18  0.24   3.4  0.053  20.0  119.0  0.99373  3.11  0.52   9.2  6   \n",
      "2423  7.0  0.21  0.37   7.2  0.042  36.0  167.0  0.99580  3.26  0.56   9.8  6   \n",
      "3517  7.3  0.22  0.50  13.7  0.049  56.0  189.0  0.99940  3.24  0.66   9.0  6   \n",
      "1622  6.6  0.27  0.41   1.3  0.052  16.0  142.0  0.99510  3.42  0.47  10.0  6   \n",
      "4060  8.3  0.25  0.33   2.5  0.053  12.0   72.0  0.99404  2.89  0.48   9.5  5   \n",
      "\n",
      "      1  \n",
      "5315  0  \n",
      "2423  0  \n",
      "3517  0  \n",
      "1622  0  \n",
      "4060  0  \n"
     ]
    }
   ],
   "source": [
    "print(df.head())"
   ]
  },
  {
   "cell_type": "code",
   "execution_count": 5,
   "id": "f7af0afc-de78-4270-8acc-d36a37dc8064",
   "metadata": {},
   "outputs": [
    {
     "name": "stdout",
     "output_type": "stream",
     "text": [
      "<class 'pandas.core.frame.DataFrame'>\n",
      "Int64Index: 6496 entries, 5315 to 2732\n",
      "Data columns (total 13 columns):\n",
      " #   Column  Non-Null Count  Dtype  \n",
      "---  ------  --------------  -----  \n",
      " 0   7.4     6496 non-null   float64\n",
      " 1   0.7     6496 non-null   float64\n",
      " 2   0       6496 non-null   float64\n",
      " 3   1.9     6496 non-null   float64\n",
      " 4   0.076   6496 non-null   float64\n",
      " 5   11      6496 non-null   float64\n",
      " 6   34      6496 non-null   float64\n",
      " 7   0.9978  6496 non-null   float64\n",
      " 8   3.51    6496 non-null   float64\n",
      " 9   0.56    6496 non-null   float64\n",
      " 10  9.4     6496 non-null   float64\n",
      " 11  5       6496 non-null   int64  \n",
      " 12  1       6496 non-null   int64  \n",
      "dtypes: float64(11), int64(2)\n",
      "memory usage: 710.5 KB\n",
      "None\n"
     ]
    }
   ],
   "source": [
    "print(df.info())"
   ]
  },
  {
   "cell_type": "code",
   "execution_count": 6,
   "id": "e25642d4-91a2-4cfa-83dd-e524cd4e3996",
   "metadata": {},
   "outputs": [
    {
     "name": "stdout",
     "output_type": "stream",
     "text": [
      "float64\n"
     ]
    }
   ],
   "source": [
    "dataset = df.values\n",
    "print(dataset.dtype)\n",
    "\n",
    "# 전체가 다 숫자(float)이니까 .astype 안해도 될듯"
   ]
  },
  {
   "cell_type": "code",
   "execution_count": 7,
   "id": "a53b764b-2e6f-4ad0-b873-e0a0d877c08b",
   "metadata": {},
   "outputs": [],
   "source": [
    "X = dataset[:, :12]\n",
    "Y = dataset[:, 12]"
   ]
  },
  {
   "cell_type": "code",
   "execution_count": 8,
   "id": "d9b8ca0e-6590-46ea-b528-753be4dbd906",
   "metadata": {},
   "outputs": [],
   "source": [
    "model = Sequential()\n",
    "model.add(Dense(30, input_dim=12, activation='relu'))\n",
    "model.add(Dense(12, activation='relu'))\n",
    "model.add(Dense(8, activation='relu'))\n",
    "model.add(Dense(1, activation='sigmoid'))\n",
    "## 1이냐, 0이냐 맞추는 문제 = 2진 분류 = binary~~ -> sigmoid로 0,1이냐 뽑아주는것"
   ]
  },
  {
   "cell_type": "code",
   "execution_count": 9,
   "id": "7d6f88db-ea95-471d-9a0b-03be2eb741eb",
   "metadata": {},
   "outputs": [
    {
     "name": "stdout",
     "output_type": "stream",
     "text": [
      "Model: \"sequential\"\n",
      "_________________________________________________________________\n",
      "Layer (type)                 Output Shape              Param #   \n",
      "=================================================================\n",
      "dense (Dense)                (None, 30)                390       \n",
      "_________________________________________________________________\n",
      "dense_1 (Dense)              (None, 12)                372       \n",
      "_________________________________________________________________\n",
      "dense_2 (Dense)              (None, 8)                 104       \n",
      "_________________________________________________________________\n",
      "dense_3 (Dense)              (None, 1)                 9         \n",
      "=================================================================\n",
      "Total params: 875\n",
      "Trainable params: 875\n",
      "Non-trainable params: 0\n",
      "_________________________________________________________________\n"
     ]
    }
   ],
   "source": [
    "model.summary()"
   ]
  },
  {
   "cell_type": "code",
   "execution_count": 10,
   "id": "c7acecaf-6851-49d8-8c8c-e42508641bc8",
   "metadata": {},
   "outputs": [],
   "source": [
    "model.compile(loss='binary_crossentropy', optimizer='adam',\n",
    "             metrics=['accuracy'])"
   ]
  },
  {
   "cell_type": "code",
   "execution_count": 11,
   "id": "22bfc091-3e9a-44ed-9c12-84155b86eccb",
   "metadata": {},
   "outputs": [
    {
     "ename": "NameError",
     "evalue": "name 'os' is not defined",
     "output_type": "error",
     "traceback": [
      "\u001b[1;31m---------------------------------------------------------------------------\u001b[0m",
      "\u001b[1;31mNameError\u001b[0m                                 Traceback (most recent call last)",
      "\u001b[1;32mC:\\Users\\ADMINI~1\\AppData\\Local\\Temp/ipykernel_8880/2990307655.py\u001b[0m in \u001b[0;36m<module>\u001b[1;34m\u001b[0m\n\u001b[0;32m      7\u001b[0m \u001b[1;31m# 해당 폴더의 존재 유무 확인\u001b[0m\u001b[1;33m\u001b[0m\u001b[1;33m\u001b[0m\u001b[1;33m\u001b[0m\u001b[0m\n\u001b[0;32m      8\u001b[0m \u001b[0mMODEL_DIR\u001b[0m \u001b[1;33m=\u001b[0m \u001b[1;34m'./model/'\u001b[0m   \u001b[1;31m# # 모델을 저장하는 폴더\u001b[0m\u001b[1;33m\u001b[0m\u001b[1;33m\u001b[0m\u001b[0m\n\u001b[1;32m----> 9\u001b[1;33m \u001b[1;32mif\u001b[0m \u001b[1;32mnot\u001b[0m \u001b[0mos\u001b[0m\u001b[1;33m.\u001b[0m\u001b[0mpath\u001b[0m\u001b[1;33m.\u001b[0m\u001b[0mexists\u001b[0m\u001b[1;33m(\u001b[0m\u001b[0mMODEL_DIR\u001b[0m\u001b[1;33m)\u001b[0m\u001b[1;33m:\u001b[0m  \u001b[1;31m# 만일 위의 폴더가 존재하지 않으면\u001b[0m\u001b[1;33m\u001b[0m\u001b[1;33m\u001b[0m\u001b[0m\n\u001b[0m\u001b[0;32m     10\u001b[0m     \u001b[0mos\u001b[0m\u001b[1;33m.\u001b[0m\u001b[0mmkdir\u001b[0m\u001b[1;33m(\u001b[0m\u001b[0mMODEL_DIR\u001b[0m\u001b[1;33m)\u001b[0m   \u001b[1;31m# 이 이름의 폴더를 만들어 줌\u001b[0m\u001b[1;33m\u001b[0m\u001b[1;33m\u001b[0m\u001b[0m\n\u001b[0;32m     11\u001b[0m \u001b[1;33m\u001b[0m\u001b[0m\n",
      "\u001b[1;31mNameError\u001b[0m: name 'os' is not defined"
     ]
    }
   ],
   "source": [
    "# https://thebook.io/080228/part04/ch14/02/\n",
    "\n",
    "# 이제 모델을 저장하기 위해 케라스의 콜백 함수 중 ModelCheckpoint() 함수를 불러옵니다.\n",
    "from keras.callbacks import ModelCheckpoint\n",
    "\n",
    "\n",
    "# 해당 폴더의 존재 유무 확인\n",
    "MODEL_DIR = './model/'   # # 모델을 저장하는 폴더\n",
    "if not os.path.exists(MODEL_DIR):  # 만일 위의 폴더가 존재하지 않으면\n",
    "    os.mkdir(MODEL_DIR)   # 이 이름의 폴더를 만들어 줌\n",
    "\n",
    "# 미리 만듬\n",
    "# epoch을 2자리 정수로 만들고, val값   , hdf5로 미리 만듬\n",
    "modelpath = './model/{epoch:02d}-{val_loss:.4f}.hdf5'\n",
    "\n",
    "# 체크포인트 생성\n",
    "# 무엇을 체크할 것이냐 monitor = val_loss\n",
    "checkpointer = ModelCheckpoint(filepath=modelpath, monitor='val_loss',\n",
    "                              verbose=1, save_best_only=True)\n",
    "# save_best_only=True -> model이 향상될때만 저장\n",
    "\n",
    "#Epoch 0~199까지 총 200개의 모델이 model 폴더에 저장되었습니다. \n",
    "#저장된 파일의 이름이 곧 에포크 수와 이때의 테스트셋 오차 값입니다. \n",
    "#이때 ModelCheckpoint() 함수에 모델이 앞서 저장한 모델보다 \n",
    "#나아졌을 때만 저장하게끔 하려면 save_best_only 값을 True로 지정합니다.\n",
    "\n",
    "\n",
    "\n",
    "# verbose=1 -> 중간과정 출력하라는 것"
   ]
  },
  {
   "cell_type": "code",
   "execution_count": null,
   "id": "5bfb5b33-8d01-417d-83fb-0725012c4dac",
   "metadata": {},
   "outputs": [],
   "source": [
    "# 위 처럼 놓고 fit을 수정\n",
    "# model.fit(X, Y, epochs=200, batch_size=200)\n",
    "model.fit(X, Y, validation_split=0.2, epochs=200, batch_size=200, \n",
    "         verbose=0, callbacks=[checkpointer]) #   varbose=0  -> fit 했을때 아래 그래프 출력 안나오게 함\n",
    "#이제 모델을 학습할 때마다 \n",
    "#위에서 정한 checkpointer의 값을 받아 지정된 곳에 모델을 저장합니다.\n",
    "\n",
    "#print(\"Accuracy: %.4f\" % (model.evaluate(X, Y[1])))"
   ]
  },
  {
   "cell_type": "code",
   "execution_count": null,
   "id": "7e387d8e-fc0e-4ca9-b671-dadcd197b9b5",
   "metadata": {},
   "outputs": [],
   "source": []
  }
 ],
 "metadata": {
  "kernelspec": {
   "display_name": "Python 3 (ipykernel)",
   "language": "python",
   "name": "python3"
  },
  "language_info": {
   "codemirror_mode": {
    "name": "ipython",
    "version": 3
   },
   "file_extension": ".py",
   "mimetype": "text/x-python",
   "name": "python",
   "nbconvert_exporter": "python",
   "pygments_lexer": "ipython3",
   "version": "3.8.11"
  }
 },
 "nbformat": 4,
 "nbformat_minor": 5
}
