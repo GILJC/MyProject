{
 "cells": [
  {
   "cell_type": "code",
   "execution_count": 1,
   "id": "838ebcb8-f661-42ea-b6f9-8e6f81dd637f",
   "metadata": {},
   "outputs": [],
   "source": [
    "# 그럼 데이터가 부족할땐 어떻게 하는가"
   ]
  },
  {
   "cell_type": "code",
   "execution_count": 2,
   "id": "56817880-201d-42ff-a2cf-228965adbeab",
   "metadata": {},
   "outputs": [],
   "source": [
    "# https://thebook.io/080228/part05/ch20/02/"
   ]
  },
  {
   "cell_type": "code",
   "execution_count": 3,
   "id": "16f79080-8ecd-4cfa-80f8-8e6e3de3f85a",
   "metadata": {},
   "outputs": [],
   "source": [
    "# 치매/일반인 뇌 사진 분류 프로젝트를 하고 있는 우리에게도 이 자료가 중요한 이유는,\n",
    "# 지금부터 이 방대한 양의 데이터셋에서 추출한 정보를 가져와서 \n",
    "# 우리의 예측율을 극대화하는 ‘전이 학습’을 할 것이기 때문입니다."
   ]
  },
  {
   "cell_type": "code",
   "execution_count": 4,
   "id": "04ae9f8b-2325-4435-aaaa-18ebeeaf8870",
   "metadata": {},
   "outputs": [],
   "source": [
    "# 뇌 사진만 다루는 치매 분류기를 만드는 데 \n",
    "# 뇌 사진과 관련없는 수백만 장의 이미지넷 학습 정보가 큰 역할을 하는 이유는, \n",
    "# ‘형태’를 구분하는 기본적인 학습이 되어 있기 때문\n",
    "\n",
    "# VGG16을 가져올 것"
   ]
  },
  {
   "cell_type": "code",
   "execution_count": 5,
   "id": "5abaeb3b-08b4-44e3-9884-eb3d5c3a80ba",
   "metadata": {},
   "outputs": [],
   "source": [
    "# 이제 앞서 우리가 만든 모델에 이미지넷 데이터셋에서, \n",
    "# 미리 학습된 모델인 VGGNet을 가지고 오는 예제를 실행해 보겠습니다.\n",
    "# VGGNet은 옥스포드대학의 연구팀 VGG에 의해 개발된 모델로 \n",
    "# 2014년 이미지넷 이미지 인식 대회에서 2위를 차지한 모델입니다. \n",
    "# 학습 구조에 따라 VGG16, VGG19 등의 이름이 주어졌는데 \n",
    "# 우리는 VGG16을 사용하겠습니다."
   ]
  },
  {
   "cell_type": "code",
   "execution_count": 6,
   "id": "0fa263af-a3f9-4182-8c1c-53c2606cbcf0",
   "metadata": {},
   "outputs": [],
   "source": [
    "import numpy as np\n",
    "import matplotlib.pyplot as plt\n",
    "from tensorflow.keras.models import Sequential\n",
    "from tensorflow.keras.layers import Dense, Flatten\n",
    "from tensorflow.keras.preprocessing.image import ImageDataGenerator\n",
    "from tensorflow.keras import optimizers\n",
    "from tensorflow.keras.applications import VGG16"
   ]
  },
  {
   "cell_type": "code",
   "execution_count": 7,
   "id": "35e5afad-368d-4d00-a77c-1ceca5e23b69",
   "metadata": {},
   "outputs": [
    {
     "name": "stdout",
     "output_type": "stream",
     "text": [
      "Found 160 images belonging to 2 classes.\n"
     ]
    }
   ],
   "source": [
    "b_size = 5\n",
    "\n",
    "train_datagen = ImageDataGenerator(rescale=1./255,\n",
    "       horizontal_flip=True,      # 수평 대칭 이미지를 50% 확률로 만들어 추가\n",
    "       width_shift_range=0.1,     # 전체 크기의 10% 범위에서 좌우로(random하게) 이동\n",
    "       height_shift_range=0.1,    # 마찬가지로 위아래로(랜덤하게) 이동\n",
    "                                  # rotation_range=5,  -> MRI사진을 회전시킨 이미지는 사용하지 않음\n",
    "                                  # shear_range=0.7,  ->  MRI 를 한쪽으로 끄는 이미지도 안쓰고\n",
    "                                  # zoom_range=[0.9, 2.2],   ->  MRI 사진 해상도는 정해져있어서 안씀\n",
    "                                  # vertical_flip=True,\n",
    "       fill_mode='nearest')\n",
    "\n",
    "\n",
    "#train_generator = train_datagen.flow_from_directory(\n",
    "train_generator = train_datagen.flow_from_directory(\n",
    "    #'./train',                 # 학습셋이 있는 폴더 위치\n",
    "    'data/치매MRI/train',\n",
    "    target_size=(150, 150),\n",
    "    #batch_size=5,\n",
    "    batch_size=b_size,\n",
    "    class_mode='binary')\n",
    "# 폴더째로 타깃을 잡음(자동으로)"
   ]
  },
  {
   "cell_type": "code",
   "execution_count": 8,
   "id": "8c133ac7-5b79-4b14-8064-ea30ac5a05b5",
   "metadata": {},
   "outputs": [
    {
     "name": "stdout",
     "output_type": "stream",
     "text": [
      "Found 120 images belonging to 2 classes.\n"
     ]
    }
   ],
   "source": [
    "# 테스트셋은 이미지 부풀리기 과정을 진행하지 않음\n",
    "test_datagen = ImageDataGenerator(rescale=1./255)\n",
    " \n",
    "#test_generator = test_datagen.flow_from_directory(\n",
    "test_generator = test_datagen.flow_from_directory(\n",
    "       #'./test',                   # 테스트셋이 있는 폴더 위치\n",
    "    'data/치매MRI/test',\n",
    "    target_size=(150, 150),\n",
    "    batch_size=b_size,\n",
    "    class_mode='binary')"
   ]
  },
  {
   "cell_type": "code",
   "execution_count": 10,
   "id": "a340e498-cbd9-496c-971f-97d2d707edf7",
   "metadata": {},
   "outputs": [
    {
     "name": "stdout",
     "output_type": "stream",
     "text": [
      "Downloading data from https://storage.googleapis.com/tensorflow/keras-applications/vgg16/vgg16_weights_tf_dim_ordering_tf_kernels_notop.h5\n",
      "58892288/58889256 [==============================] - 1s 0us/step\n",
      "58900480/58889256 [==============================] - 1s 0us/step\n",
      "Model: \"vgg16\"\n",
      "_________________________________________________________________\n",
      "Layer (type)                 Output Shape              Param #   \n",
      "=================================================================\n",
      "input_1 (InputLayer)         [(None, 150, 150, 3)]     0         \n",
      "_________________________________________________________________\n",
      "block1_conv1 (Conv2D)        (None, 150, 150, 64)      1792      \n",
      "_________________________________________________________________\n",
      "block1_conv2 (Conv2D)        (None, 150, 150, 64)      36928     \n",
      "_________________________________________________________________\n",
      "block1_pool (MaxPooling2D)   (None, 75, 75, 64)        0         \n",
      "_________________________________________________________________\n",
      "block2_conv1 (Conv2D)        (None, 75, 75, 128)       73856     \n",
      "_________________________________________________________________\n",
      "block2_conv2 (Conv2D)        (None, 75, 75, 128)       147584    \n",
      "_________________________________________________________________\n",
      "block2_pool (MaxPooling2D)   (None, 37, 37, 128)       0         \n",
      "_________________________________________________________________\n",
      "block3_conv1 (Conv2D)        (None, 37, 37, 256)       295168    \n",
      "_________________________________________________________________\n",
      "block3_conv2 (Conv2D)        (None, 37, 37, 256)       590080    \n",
      "_________________________________________________________________\n",
      "block3_conv3 (Conv2D)        (None, 37, 37, 256)       590080    \n",
      "_________________________________________________________________\n",
      "block3_pool (MaxPooling2D)   (None, 18, 18, 256)       0         \n",
      "_________________________________________________________________\n",
      "block4_conv1 (Conv2D)        (None, 18, 18, 512)       1180160   \n",
      "_________________________________________________________________\n",
      "block4_conv2 (Conv2D)        (None, 18, 18, 512)       2359808   \n",
      "_________________________________________________________________\n",
      "block4_conv3 (Conv2D)        (None, 18, 18, 512)       2359808   \n",
      "_________________________________________________________________\n",
      "block4_pool (MaxPooling2D)   (None, 9, 9, 512)         0         \n",
      "_________________________________________________________________\n",
      "block5_conv1 (Conv2D)        (None, 9, 9, 512)         2359808   \n",
      "_________________________________________________________________\n",
      "block5_conv2 (Conv2D)        (None, 9, 9, 512)         2359808   \n",
      "_________________________________________________________________\n",
      "block5_conv3 (Conv2D)        (None, 9, 9, 512)         2359808   \n",
      "_________________________________________________________________\n",
      "block5_pool (MaxPooling2D)   (None, 4, 4, 512)         0         \n",
      "=================================================================\n",
      "Total params: 14,714,688\n",
      "Trainable params: 0\n",
      "Non-trainable params: 14,714,688\n",
      "_________________________________________________________________\n"
     ]
    }
   ],
   "source": [
    "transfer_model = VGG16(weights = 'imagenet', include_top = False, # imagenet에서 학습한걸 가져온다는 뜻\n",
    "                       input_shape = (150, 150, 3))\n",
    "transfer_model.trainable = False\n",
    "transfer_model.summary()"
   ]
  },
  {
   "cell_type": "code",
   "execution_count": 11,
   "id": "7f776075-341e-4b32-9e6a-ce8b692893cb",
   "metadata": {},
   "outputs": [
    {
     "name": "stdout",
     "output_type": "stream",
     "text": [
      "Model: \"sequential\"\n",
      "_________________________________________________________________\n",
      "Layer (type)                 Output Shape              Param #   \n",
      "=================================================================\n",
      "vgg16 (Functional)           (None, 4, 4, 512)         14714688  \n",
      "_________________________________________________________________\n",
      "flatten (Flatten)            (None, 8192)              0         \n",
      "_________________________________________________________________\n",
      "dense (Dense)                (None, 64)                524352    \n",
      "_________________________________________________________________\n",
      "dense_1 (Dense)              (None, 2)                 130       \n",
      "=================================================================\n",
      "Total params: 15,239,170\n",
      "Trainable params: 524,482\n",
      "Non-trainable params: 14,714,688\n",
      "_________________________________________________________________\n"
     ]
    }
   ],
   "source": [
    "finetune_model = Sequential()\n",
    "finetune_model.add(transfer_model)   # 하단에 껴놓고\n",
    "finetune_model.add(Flatten())  # 맨 위에 우리가 만든걸 껴 놓음\n",
    "finetune_model.add(Dense(64, activation='relu'))  # Flatten을 했으니까 Dense를 함\n",
    "finetune_model.add(Dense(2, activation='softmax'))\n",
    "finetune_model.summary()"
   ]
  },
  {
   "cell_type": "code",
   "execution_count": 15,
   "id": "90c09871-a47a-4aee-afad-830936adf2b3",
   "metadata": {},
   "outputs": [
    {
     "name": "stdout",
     "output_type": "stream",
     "text": [
      "Epoch 1/20\n",
      "32/32 [==============================] - 2s 47ms/step - loss: 0.0835 - accuracy: 0.9688 - val_loss: 0.1296 - val_accuracy: 0.9583\n",
      "Epoch 2/20\n",
      "32/32 [==============================] - 1s 40ms/step - loss: 0.0753 - accuracy: 0.9625 - val_loss: 0.1657 - val_accuracy: 0.9333\n",
      "Epoch 3/20\n",
      "32/32 [==============================] - 1s 41ms/step - loss: 0.0876 - accuracy: 0.9688 - val_loss: 0.0923 - val_accuracy: 0.9667\n",
      "Epoch 4/20\n",
      "32/32 [==============================] - 1s 41ms/step - loss: 0.0532 - accuracy: 0.9937 - val_loss: 0.1537 - val_accuracy: 0.9417\n",
      "Epoch 5/20\n",
      "32/32 [==============================] - 1s 40ms/step - loss: 0.0548 - accuracy: 0.9750 - val_loss: 0.1049 - val_accuracy: 0.9583\n",
      "Epoch 6/20\n",
      "32/32 [==============================] - 1s 40ms/step - loss: 0.0821 - accuracy: 0.9625 - val_loss: 0.0919 - val_accuracy: 0.9583\n",
      "Epoch 7/20\n",
      "32/32 [==============================] - 1s 41ms/step - loss: 0.0670 - accuracy: 0.9875 - val_loss: 0.0790 - val_accuracy: 0.9667\n",
      "Epoch 8/20\n",
      "32/32 [==============================] - 1s 41ms/step - loss: 0.0608 - accuracy: 0.9688 - val_loss: 0.1971 - val_accuracy: 0.9333\n",
      "Epoch 9/20\n",
      "32/32 [==============================] - 1s 40ms/step - loss: 0.0588 - accuracy: 0.9750 - val_loss: 0.1339 - val_accuracy: 0.9500\n",
      "Epoch 10/20\n",
      "32/32 [==============================] - 1s 40ms/step - loss: 0.0541 - accuracy: 0.9812 - val_loss: 0.0763 - val_accuracy: 0.9667\n",
      "Epoch 11/20\n",
      "32/32 [==============================] - 1s 40ms/step - loss: 0.0479 - accuracy: 0.9875 - val_loss: 0.2298 - val_accuracy: 0.9250\n",
      "Epoch 12/20\n",
      "32/32 [==============================] - 1s 40ms/step - loss: 0.0603 - accuracy: 0.9750 - val_loss: 0.0788 - val_accuracy: 0.9583\n",
      "Epoch 13/20\n",
      "32/32 [==============================] - 1s 40ms/step - loss: 0.0707 - accuracy: 0.9688 - val_loss: 0.0793 - val_accuracy: 0.9750\n",
      "Epoch 14/20\n",
      "32/32 [==============================] - 1s 40ms/step - loss: 0.0312 - accuracy: 0.9937 - val_loss: 0.0736 - val_accuracy: 0.9583\n",
      "Epoch 15/20\n",
      "32/32 [==============================] - 1s 40ms/step - loss: 0.0313 - accuracy: 0.9875 - val_loss: 0.2104 - val_accuracy: 0.9250\n",
      "Epoch 16/20\n",
      "32/32 [==============================] - 1s 41ms/step - loss: 0.0452 - accuracy: 0.9812 - val_loss: 0.1457 - val_accuracy: 0.9500\n",
      "Epoch 17/20\n",
      "32/32 [==============================] - 1s 40ms/step - loss: 0.0291 - accuracy: 0.9875 - val_loss: 0.0909 - val_accuracy: 0.9500\n",
      "Epoch 18/20\n",
      "32/32 [==============================] - 1s 40ms/step - loss: 0.0635 - accuracy: 0.9625 - val_loss: 0.1380 - val_accuracy: 0.9500\n",
      "Epoch 19/20\n",
      "32/32 [==============================] - 1s 41ms/step - loss: 0.0384 - accuracy: 0.9937 - val_loss: 0.0812 - val_accuracy: 0.9667\n",
      "Epoch 20/20\n",
      "32/32 [==============================] - 1s 41ms/step - loss: 0.0281 - accuracy: 0.9937 - val_loss: 0.0528 - val_accuracy: 0.9667\n"
     ]
    }
   ],
   "source": [
    "finetune_model.compile(loss='sparse_categorical_crossentropy', \n",
    "                       optimizer=optimizers.Adam(learning_rate=0.0002), \n",
    "                       metrics=['accuracy'])\n",
    "\n",
    "steps_train = len(train_generator)\n",
    "steps_test = len(test_generator)\n",
    "\n",
    "hist= finetune_model.fit_generator(train_generator, steps_per_epoch=steps_train,\n",
    "                                       epochs=20, validation_data=test_generator,\n",
    "                                       validation_steps=steps_test)"
   ]
  },
  {
   "cell_type": "code",
   "execution_count": 16,
   "id": "3ed3b79c-0bbd-41a8-949c-7558b4bfe675",
   "metadata": {},
   "outputs": [
    {
     "data": {
      "image/png": "[encoded data removed]",
      "text/plain": [
       "<Figure size 432x288 with 1 Axes>"
      ]
     },
     "metadata": {
      "needs_background": "light"
     },
     "output_type": "display_data"
    }
   ],
   "source": [
    "acc= hist.history['accuracy']\n",
    "val_acc= hist.history['val_accuracy']\n",
    "y_vloss = hist.history['val_loss']\n",
    "y_loss = hist.history['loss']\n",
    "\n",
    "x_len = np.arange(len(y_loss))  \n",
    "plt.plot(x_len, acc, marker='.', c=\"red\", label='Trainset_acc')\n",
    "plt.plot(x_len, val_acc, marker='.', c=\"lightcoral\", label='Testset_acc')\n",
    "plt.plot(x_len, y_vloss, marker='.', c=\"cornflowerblue\", label='Testset_loss')\n",
    "plt.plot(x_len, y_loss, marker='.', c=\"blue\", label='Trainset_loss')\n",
    "\n",
    "plt.legend(loc='upper right') \n",
    "plt.grid()\n",
    "plt.xlabel('epoch')\n",
    "plt.ylabel('loss/acc')\n",
    "plt.show()"
   ]
  },
  {
   "cell_type": "code",
   "execution_count": null,
   "id": "37732b14-c473-48c1-a212-06326831b935",
   "metadata": {},
   "outputs": [],
   "source": []
  },
  {
   "cell_type": "code",
   "execution_count": null,
   "id": "2066f697-3be3-493c-ae8d-28c3f6261da3",
   "metadata": {},
   "outputs": [],
   "source": []
  },
  {
   "cell_type": "code",
   "execution_count": null,
   "id": "11b44c45-096a-47f3-a86f-aea8e53e4d42",
   "metadata": {},
   "outputs": [],
   "source": []
  }
 ],
 "metadata": {
  "kernelspec": {
   "display_name": "Python 3 (ipykernel)",
   "language": "python",
   "name": "python3"
  },
  "language_info": {
   "codemirror_mode": {
    "name": "ipython",
    "version": 3
   },
   "file_extension": ".py",
   "mimetype": "text/x-python",
   "name": "python",
   "nbconvert_exporter": "python",
   "pygments_lexer": "ipython3",
   "version": "3.8.11"
  }
 },
 "nbformat": 4,
 "nbformat_minor": 5
}
