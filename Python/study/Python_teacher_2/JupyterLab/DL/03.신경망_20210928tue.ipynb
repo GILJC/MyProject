{
 "cells": [
  {
   "cell_type": "code",
   "execution_count": 1,
   "id": "4ec8c15b-a5db-4147-aaa3-aeb3ccbc044f",
   "metadata": {},
   "outputs": [],
   "source": [
    "import numpy as np\n",
    "import matplotlib.pyplot as plt"
   ]
  },
  {
   "cell_type": "code",
   "execution_count": 3,
   "id": "21af395d-0564-4fbe-b86f-3304a424e129",
   "metadata": {},
   "outputs": [
    {
     "data": {
      "image/png": "[encoded data removed]",
      "text/plain": [
       "<Figure size 432x288 with 2 Axes>"
      ]
     },
     "metadata": {
      "needs_background": "light"
     },
     "output_type": "display_data"
    }
   ],
   "source": [
    "x1 = np.arange(-1.0, 1.0, 0.2)  # -1에서 1까지 0.2 범위로\n",
    "x2 = np.arange(-1.0, 1.0, 0.2)\n",
    "\n",
    "Z = np.zeros((10, 10))\n",
    "\n",
    "w_x1 = 2.5\n",
    "w_x2 = 3.0\n",
    "\n",
    "bias = 0.1\n",
    "\n",
    "# i 가 column, j 가 row\n",
    "for i in range(10):\n",
    "    for j in range(10):\n",
    "        u = x1[i] * w_x1 + x2[j] * w_x2 + bias\n",
    "        y = 1 / (1 + np.exp(-u))\n",
    "        Z[j][i] = y\n",
    "        \n",
    "plt.imshow(Z, \"gray\", vmin=0.0, vmax=1.0)  # plt. image_show\n",
    "plt.colorbar()\n",
    "plt.xlabel(\"x1\")\n",
    "plt.ylabel(\"x2\")\n",
    "plt.show()"
   ]
  },
  {
   "cell_type": "code",
   "execution_count": 8,
   "id": "524b5bba-4357-49f7-980b-1b9cfb04b8cc",
   "metadata": {},
   "outputs": [
    {
     "data": {
      "image/png": "[encoded data removed]",
      "text/plain": [
       "<Figure size 432x288 with 2 Axes>"
      ]
     },
     "metadata": {
      "needs_background": "light"
     },
     "output_type": "display_data"
    }
   ],
   "source": [
    "import numpy as np\n",
    "import matplotlib.pyplot as plt\n",
    "\n",
    "# x1, x2 값\n",
    "X1 = np.arange(-1.0, 1.0, 0.2) # 원소 수는 10개\n",
    "X2 = np.arange(-1.0, 1.0, 0.2)\n",
    "\n",
    "# 출력값을 저장할 10x10 그리드\n",
    "Z = np.zeros((10,10))\n",
    "\n",
    "# x, y 값의 입력 가중치\n",
    "W = np.array([2.5,3.0])\n",
    "\n",
    "# 편향\n",
    "bias = np.array([0.1])\n",
    "\n",
    "# 그리드맵의 각 그리드별 뉴런의 연산\n",
    "for i in range(10):\n",
    "    for j in range(10):\n",
    "    # 입력과 가중치 곱의 합 + 편향\n",
    "        list1 = [X1[i], X2[j]]\n",
    "        X = np.array(list1)\n",
    "        u = np.dot(X, W.T) + bias\n",
    "        \n",
    "        # 그리드맵에 출력 값 저장\n",
    "        y = 1/(1+np.exp(-u)) # 시그모이드 함수\n",
    "        Z[j][i] = y\n",
    "        \n",
    "# 그리드맵 표시\n",
    "plt.imshow(Z, \"gray\", vmin = 0.0, vmax = 1.0)\n",
    "plt.colorbar()\n",
    "plt.show()"
   ]
  },
  {
   "cell_type": "markdown",
   "id": "8443316b-3ef9-46b0-95f6-44a134b4a2bd",
   "metadata": {},
   "source": [
    "### 다중 신경망"
   ]
  },
  {
   "cell_type": "code",
   "execution_count": 9,
   "id": "7e1ddde1-ae8e-4290-b389-ddfeeda69420",
   "metadata": {},
   "outputs": [
    {
     "data": {
      "image/png": "[encoded data removed]",
      "text/plain": [
       "<Figure size 432x288 with 2 Axes>"
      ]
     },
     "metadata": {
      "needs_background": "light"
     },
     "output_type": "display_data"
    }
   ],
   "source": [
    "X = np.arange(-1.0, 1.0, 0.2)\n",
    "Y = np.arange(-1.0, 1.0, 0.2)\n",
    "\n",
    "Z = np.zeros((10, 10))\n",
    "\n",
    "# 첫 번째 입력에서 히든 레이어로 넘어가는 가중치\n",
    "w_im = np.array([[4.0, 4.0], [4.0, 4.0]])\n",
    "# row수가 입력수랑 동일해야해서 2, 컬럼수가 미들수와 동일해야해서 2개\n",
    "#그래서 2 by 2\n",
    "                 \n",
    "# 미들(m)에서 아웃풋(o)으로 갈 때\n",
    "w_mo = np.array([[1.0], [-1.0]])\n",
    "# row수가 입력수랑 미들수와 동일해야해서 2, 컬럼수가 아웃풋수와 동일해야해서 1개\n",
    "# 그래서 2 by 1 행렬이 됨\n",
    "\n",
    "# bias도 마찬가지\n",
    "b_im = np.array([3.0, -3.0])\n",
    "b_mo = np.array([0.1])\n",
    "\n",
    "def middle_layer(x, w, b):  # x, weight, bias\n",
    "    u = np.dot(x, w) + b\n",
    "    return 1 / (1 + np.exp(-u))\n",
    "\n",
    "def output_layer(x, w, b):\n",
    "    u = np.dot(x, w) + b\n",
    "    return u\n",
    "\n",
    "# 얘를 돌려서 아까처럼 화면에 뿌려주면 됨\n",
    "for i in range(10):\n",
    "    for j in range(10):\n",
    "        # input = np.array , X의 i번째, Y의 j번째\n",
    "        inp = np.array([X[i], Y[j]])\n",
    "        mid = middle_layer(inp, w_im, b_im)\n",
    "        out = output_layer(mid, w_mo, b_mo)  # mid가 입력으로 들어가서, w_mo가 가중치, bias가 b_mo\n",
    "        \n",
    "        Z[j][i] = out[0]  # 값이 하나 나오고, numpy배열로 나옴\n",
    "        \n",
    "plt.imshow(Z, 'gray', vmin=0.0, vmax=1.0)\n",
    "plt.colorbar()\n",
    "plt.xlabel('Feature X')\n",
    "plt.ylabel('Feature Y')\n",
    "plt.show()"
   ]
  },
  {
   "cell_type": "markdown",
   "id": "35867293-4950-41bb-ba13-4ca1563d112f",
   "metadata": {},
   "source": [
    "### 분류"
   ]
  },
  {
   "cell_type": "code",
   "execution_count": 15,
   "id": "f8a1ed9a-dae5-4b82-a119-cc0603975801",
   "metadata": {},
   "outputs": [
    {
     "data": {
      "image/png": "[encoded data removed]",
      "text/plain": [
       "<Figure size 432x288 with 1 Axes>"
      ]
     },
     "metadata": {
      "needs_background": "light"
     },
     "output_type": "display_data"
    }
   ],
   "source": [
    "X = np.arange(-1.0, 1.0, 0.1)\n",
    "Y = np.arange(-1.0, 1.0, 0.1)\n",
    "\n",
    "w_im = np.array([[1.0, 2.0], [2.0, 3.0]])\n",
    "w_mo = np.array([[-1.0, 1.0], [1.0, -1.0]])\n",
    "\n",
    "b_im = np.array([0.3, -0.3])\n",
    "b_mo = np.array([0.4, 0.1])\n",
    "# 아까와 다른점 -> 출력이 2개니 mo도 2개\n",
    "\n",
    "def middle_layer(x, w, b):\n",
    "    u = np.dot(x, w) + b\n",
    "    return 1 / (1 + np.exp(-u))\n",
    "# 시그모이드\n",
    "\n",
    "def output_layer(x, w, b):\n",
    "    u = np.dot(x, w) + b\n",
    "    return np.exp(u) / np.sum(np.exp(u))\n",
    "# 소프트맥스\n",
    "\n",
    "# 2개를 다 저장할거기 때문에, 저장할 곳을 별도로 만들 것\n",
    "x_1 = []\n",
    "y_1 = []\n",
    "x_2 = []\n",
    "y_2 = []\n",
    "\n",
    "for i in range(20):\n",
    "    for j in range(20):\n",
    "        inp = np.array([X[i], Y[j]])\n",
    "        mid = middle_layer(inp, w_im, b_im)\n",
    "        out = output_layer(mid, w_mo, b_mo)\n",
    "        \n",
    "        # 여기서 각각에 따로따로 저장합시다\n",
    "        # 만약 출력 0번째가, 출력 1번째보다 크면\n",
    "        if out[0] > out[1]:\n",
    "            x_1.append(X[i])\n",
    "            y_1.append(X[j])\n",
    "            # 여기에 append 시킴\n",
    "        else:\n",
    "            x_2.append(X[i])\n",
    "            y_2.append(X[j])\n",
    "            \n",
    "# 얘를 scatter로 나타내보자.\n",
    "plt.scatter(x_1, y_1, marker='+')  # 첫뻔재 큰놈은 +\n",
    "plt.scatter(x_2, y_2, marker='o')  # 두번째 큰놈은 o\n",
    "plt.show()\n",
    "\n",
    "# 2번째 feature가 -0.5->2번째 큰놈\n",
    "\n"
   ]
  },
  {
   "cell_type": "markdown",
   "id": "c0dfbfd2-7894-4165-b54e-4106ce4f89f7",
   "metadata": {},
   "source": [
    "● w_im = np.array([[2.0,1.0], [0.0,3.0]])\\\n",
    "w_mo = np.array([[­2.0,1.0], [-1.0,­1.0]])\n",
    "# 편향\n",
    "b_im = np.array([-0.3,­0.3]) \\\n",
    "b_mo = np.array([0.4,­1.2])\n"
   ]
  },
  {
   "cell_type": "code",
   "execution_count": null,
   "id": "d031d240-2070-4e06-9ca9-585570ef5ae4",
   "metadata": {},
   "outputs": [],
   "source": []
  },
  {
   "cell_type": "markdown",
   "id": "a56065b6-8cdb-4a0c-a181-0c74f45cd57c",
   "metadata": {},
   "source": [
    "● w_im = np.array([[2.0,2.0], [2.0,3.0]])\\\n",
    "w_mo = np.array([[­1.0,1.0], [1.0,­1.0]])\n",
    "# 편향\n",
    "b_im = np.array([0.3,­0.3])\\\n",
    "b_mo = np.array([0.4,0.1])"
   ]
  },
  {
   "cell_type": "code",
   "execution_count": null,
   "id": "0492b78b-19e7-4151-8517-55964047e10f",
   "metadata": {},
   "outputs": [],
   "source": []
  },
  {
   "cell_type": "code",
   "execution_count": null,
   "id": "f3041ec1-aa12-426f-95a0-c04d31b79396",
   "metadata": {},
   "outputs": [],
   "source": []
  }
 ],
 "metadata": {
  "kernelspec": {
   "display_name": "Python 3 (ipykernel)",
   "language": "python",
   "name": "python3"
  },
  "language_info": {
   "codemirror_mode": {
    "name": "ipython",
    "version": 3
   },
   "file_extension": ".py",
   "mimetype": "text/x-python",
   "name": "python",
   "nbconvert_exporter": "python",
   "pygments_lexer": "ipython3",
   "version": "3.8.11"
  }
 },
 "nbformat": 4,
 "nbformat_minor": 5
}
