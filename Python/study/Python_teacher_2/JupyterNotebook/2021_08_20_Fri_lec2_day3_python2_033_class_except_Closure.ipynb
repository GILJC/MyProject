{
 "cells": [
  {
   "cell_type": "code",
   "execution_count": 1,
   "id": "34d3a82e",
   "metadata": {},
   "outputs": [],
   "source": [
    "class SoccerPlayer:\n",
    "    def __init__(self, name, position, back_number):  # 요 self가 java의 this / 이름을 바꿀수도, 딴걸로 바꿀수도 없음. default로 들어가 있는 것\n",
    "        self.name = name\n",
    "        self.position = position\n",
    "        self.back_number = back_number\n",
    "        \n",
    "    def change_back_number(self, back_number):\n",
    "        print(\"선수 등번호 변경:From %d to %d\" % \\\n",
    "             (self.back_number, back_number))\n",
    "        self.back_number = back_number\n",
    "        \n",
    "    def __str__(self):  # 참고로 언더바2개( __~~__)는 다 뭔가 정해진 놈임\n",
    "        return f\"Hello, My name is {self.name}. I play in \\\n",
    "{self.position} in center.\"     # 요 앞에 f 없으면 {}.  <- 요부분 그냥 str로 처리. f -> 이게 아마 str 안의 구조 정하는 거일듯 / (그리고 왼쪽에 빈공간 있으면 밑에 띄어져서 나옴)\n",
    "    \n",
    "#  f  참고:\n",
    "# print(f\"{'def'} {'abc'} {'ghi'}\")    \n",
    "# print(f\"{'python':<10s}\")"
   ]
  },
  {
   "cell_type": "code",
   "execution_count": 2,
   "id": "ac022c31",
   "metadata": {},
   "outputs": [],
   "source": [
    "chaboom = SoccerPlayer(\"Chaboom\", \"CF\", 11)"
   ]
  },
  {
   "cell_type": "code",
   "execution_count": 3,
   "id": "33186745",
   "metadata": {},
   "outputs": [
    {
     "name": "stdout",
     "output_type": "stream",
     "text": [
      "현재 선수의 등번호: 11\n"
     ]
    }
   ],
   "source": [
    "print('현재 선수의 등번호:', chaboom.back_number)"
   ]
  },
  {
   "cell_type": "code",
   "execution_count": 4,
   "id": "ce7156b4",
   "metadata": {},
   "outputs": [
    {
     "name": "stdout",
     "output_type": "stream",
     "text": [
      "선수 등번호 변경:From 11 to 9\n"
     ]
    }
   ],
   "source": [
    "chaboom.change_back_number(9)"
   ]
  },
  {
   "cell_type": "code",
   "execution_count": 5,
   "id": "fa25db50",
   "metadata": {},
   "outputs": [
    {
     "name": "stdout",
     "output_type": "stream",
     "text": [
      "현재 선수의 등번호: 9\n"
     ]
    }
   ],
   "source": [
    "print('현재 선수의 등번호:', chaboom.back_number)"
   ]
  },
  {
   "cell_type": "code",
   "execution_count": 6,
   "id": "b323d5a8",
   "metadata": {},
   "outputs": [
    {
     "name": "stdout",
     "output_type": "stream",
     "text": [
      "Hello, My name is Chaboom. I play in CF in center.\n"
     ]
    }
   ],
   "source": [
    "print(chaboom)"
   ]
  },
  {
   "cell_type": "code",
   "execution_count": 17,
   "id": "5c85455c",
   "metadata": {},
   "outputs": [],
   "source": [
    "# class 변수 시작\n",
    "\n",
    "\n",
    "# ( 참고 ) : static 변수\n",
    "# 처음 java가 실행되면 JVM이\n",
    "# static 필드에 static 변수를 load함\n",
    "# 다 끝나면 main 쓰레드를 기동 -> main 메소드를 실행하면서 프로그램 시동됨\n",
    "# 객체를 안만들어도 static 변수는 static 변수에 미리 올라가 있으므로 접근이 가능함. -> class 이름으로 접근함. 객체가 없으므로..."
   ]
  },
  {
   "cell_type": "code",
   "execution_count": 13,
   "id": "4f8f5746",
   "metadata": {},
   "outputs": [],
   "source": [
    "class Car:\n",
    "    instance_count = 0  # instance_count -> static 영역에 올라가 있는 class 변수\n",
    "    \n",
    "    def __init__(self, size, color):\n",
    "        self.size = size\n",
    "        self.color = color\n",
    "        Car.instance_count += 1\n",
    "        print(f\"자동차 객체의 수: {Car.instance_count}\")\n",
    "        \n",
    "    def move(self):\n",
    "        print(f\"자동차({self.size} & {self.color})가 움직입니다.\")\n",
    "        "
   ]
  },
  {
   "cell_type": "code",
   "execution_count": 14,
   "id": "2f79864d",
   "metadata": {},
   "outputs": [
    {
     "name": "stdout",
     "output_type": "stream",
     "text": [
      "자동차 객체의 수: 1\n",
      "자동차 객체의 수: 2\n"
     ]
    }
   ],
   "source": [
    "# 객체 2개 생성\n",
    "car1 = Car(\"small\", \"white\")\n",
    "car2 = Car(\"big\", \"black\")"
   ]
  },
  {
   "cell_type": "code",
   "execution_count": 15,
   "id": "3ae52fdd",
   "metadata": {},
   "outputs": [
    {
     "name": "stdout",
     "output_type": "stream",
     "text": [
      "Car 클래스의 총 인스턴스 수: 2\n"
     ]
    }
   ],
   "source": [
    "print(f\"Car 클래스의 총 인스턴스 수: {Car.instance_count}\" )"
   ]
  },
  {
   "cell_type": "code",
   "execution_count": 16,
   "id": "748246f1",
   "metadata": {},
   "outputs": [
    {
     "name": "stdout",
     "output_type": "stream",
     "text": [
      "자동차(small & white)가 움직입니다.\n",
      "자동차(big & black)가 움직입니다.\n"
     ]
    }
   ],
   "source": [
    "car1.move()\n",
    "car2.move()"
   ]
  },
  {
   "cell_type": "code",
   "execution_count": 17,
   "id": "1e4f910b",
   "metadata": {},
   "outputs": [],
   "source": [
    "# 파이썬에서는 static 메소드를 어떻게 만드는지 봅시다."
   ]
  },
  {
   "cell_type": "code",
   "execution_count": 18,
   "id": "53bff9bf",
   "metadata": {},
   "outputs": [],
   "source": [
    "class Car:\n",
    "    instance_count = 0  # instance_count -> static 영역에 올라가 있는 class 변수\n",
    "    \n",
    "    def __init__(self, size, color):\n",
    "        self.size = size\n",
    "        self.color = color\n",
    "        self.speed = 0   # instance변수 추가\n",
    "        Car.instance_count += 1\n",
    "        print(f\"자동차 객체의 수: {Car.instance_count}\")        \n",
    "        \n",
    "    def move(self, speed):\n",
    "        self.speed = speed  # 스피드 추가\n",
    "        print(f\"자동차({self.size} & {self.color})가\", end='')  # 내용 약간 변경\n",
    "        print(f\"시속 {self.speed}킬로미터로 전진\")\n",
    "        \n",
    "    def auto_cruise(self):  # 메소드 추가\n",
    "        print(\"자율 주행 모드\")\n",
    "        self.move(self.speed)\n",
    "    \n",
    "    # @ <- 데코레이터  -> static 정의하는 것\n",
    "    @staticmethod  # -> 파이썬의 static 특징 -> args에 self가 안들어옴. -> 객체를 만들기 전에 static필드에 올라가니까 이름으로 접속. 객체가 없으니까 self로 접속을 못함 -> 그래서 selft가 안들어감.\n",
    "    def check_type(model_code):  # -> 여기에 selft가 빠진다는 것이 차이점.\n",
    "        if model_code >= 20:\n",
    "            # self.speed = 30    #  ->  이러면 에러 ->  이놈은 static 필드에 올라가있는놈 -> 객체 생성을 안해도 되는 놈 -> 근데 여기서 selft가 들어감 = self는 객체 생성이라는 뜻 -> 근데 static에는 객채가 없음 -> 그래서 이게 뭐지? 이렇게 됨\n",
    "            print(\"이 자동차는 전기차입니다.\")\n",
    "        elif 10 <= model_code < 20:\n",
    "            print(\"이 자동차는 가솔린차입니다.\")\n",
    "        else:\n",
    "            print(\"이 자동차는 디젤차입니다.\")\n",
    "            \n",
    "# static 메소드는 객체가 생성되기 전에 생성되는 것. 근데 self, 인스턴스변수같은, 객체가 생성되고 나서 사용되는 것들이 올 수 없다.            "
   ]
  },
  {
   "cell_type": "code",
   "execution_count": 19,
   "id": "b5771113",
   "metadata": {
    "scrolled": true
   },
   "outputs": [
    {
     "name": "stdout",
     "output_type": "stream",
     "text": [
      "자동차 객체의 수: 1\n",
      "자동차(small & red)가시속 80킬로미터로 전진\n",
      "자율 주행 모드\n",
      "자동차(small & red)가시속 80킬로미터로 전진\n"
     ]
    }
   ],
   "source": [
    "car = Car(\"small\", \"red\")\n",
    "car.move(80)\n",
    "car.auto_cruise()"
   ]
  },
  {
   "cell_type": "code",
   "execution_count": 20,
   "id": "f2da770f",
   "metadata": {},
   "outputs": [
    {
     "name": "stdout",
     "output_type": "stream",
     "text": [
      "이 자동차는 전기차입니다.\n"
     ]
    }
   ],
   "source": [
    "Car.check_type(25)"
   ]
  },
  {
   "cell_type": "code",
   "execution_count": 21,
   "id": "e6f69910",
   "metadata": {},
   "outputs": [],
   "source": [
    "class Bicycle:\n",
    "    def __init__(self, wheel_size, color):\n",
    "        self.wheel_size = wheel_size\n",
    "        self.color = color\n",
    "        \n",
    "    def move(self, spped):\n",
    "        print(f\"자전거 시속 {spped} 킬로미터로 전진\")\n",
    "        \n",
    "    def turn(self, direction):\n",
    "        print(f\"자전거: {direction} 회전\")\n",
    "        \n",
    "    def stop(self):\n",
    "        print(f\"자전거({self.wheel_size}, {self.color}): 정지\")"
   ]
  },
  {
   "cell_type": "code",
   "execution_count": 22,
   "id": "20eaee17",
   "metadata": {},
   "outputs": [],
   "source": [
    "class FoldingBicycle(Bicycle):\n",
    "    def __init__(self, wheel_size, color, state):\n",
    "        super().__init__(wheel_size, color)  # 부모 class 에서 받아옴 -> super().__ini__(내용=변수)\n",
    "        self.state = state\n",
    "        \n",
    "    def fold(self):\n",
    "        self.state = \"folding\"\n",
    "        print(f\"자전거: 접기, state = {self.state}\")\n",
    "        \n",
    "    def unfold(self):\n",
    "        self.state = \"unfolding\"\n",
    "        print(f\"자전거: 펴기, state = {self.state}\")"
   ]
  },
  {
   "cell_type": "code",
   "execution_count": 23,
   "id": "ad1b8dc5",
   "metadata": {},
   "outputs": [
    {
     "name": "stdout",
     "output_type": "stream",
     "text": [
      "자전거 시속 20 킬로미터로 전진\n",
      "자전거: right 회전\n",
      "자전거(27, white): 정지\n",
      "자전거: 접기, state = folding\n",
      "자전거: 펴기, state = unfolding\n"
     ]
    }
   ],
   "source": [
    "folding_bicycle = FoldingBicycle(27, 'white', 'unfolding')\n",
    "folding_bicycle.move(20)\n",
    "folding_bicycle.turn('right')\n",
    "folding_bicycle.stop()  #  stop, turn, fold는 다 부모 class\n",
    "folding_bicycle.fold()\n",
    "folding_bicycle.unfold()  #  fold(), unfold()만 자식 class"
   ]
  },
  {
   "cell_type": "markdown",
   "id": "a0addf2a",
   "metadata": {},
   "source": [
    "- ### 메소드 오버라이딩이 python에선 어떻게 사용되는지"
   ]
  },
  {
   "cell_type": "code",
   "execution_count": 24,
   "id": "3b053f85",
   "metadata": {},
   "outputs": [],
   "source": [
    "class Person:\n",
    "    def __init__(self, name, age, gender):\n",
    "        self.name = name\n",
    "        self.age = age\n",
    "        self.gender = gender\n",
    "        \n",
    "    def about_me(self):\n",
    "        print(\"제 이름은\", self.name, end='')\n",
    "        print(f\" {self.gender}) 이고요, 제 나이는\", str(self.age), \\\n",
    "             \"살 입니다\")"
   ]
  },
  {
   "cell_type": "code",
   "execution_count": 26,
   "id": "56c7af71",
   "metadata": {},
   "outputs": [],
   "source": [
    "class Employee(Person):\n",
    "    def __init__(self, name, age, gender, salary, hire_date):  # 추가로 들어간게 salary = 봉급이죠, 입사일=hire_date\n",
    "        super().__init__(name, age, gender)  # 부모class 의 args 써줌 = 문법 형식\n",
    "        self.salary = salary                # 그리고 자기 args 써줌\n",
    "        self.hire_date = hire_date\n",
    "        \n",
    "    def do_work(self):\n",
    "        print(\"열심히 일을 한다.\")\n",
    "        \n",
    "    def about_me(self):  # 부모클래스의 메소드와 이름이 같고, 이걸 수정하면, 자동으로 오버라이딩 됨.\n",
    "        super().about_me()  # 부모의 메소드 호출 -> super() 한번 써줘야 함.\n",
    "        print(\"제 급여는\", self.salary, \"원 이고, 제 입사일은\", \\\n",
    "             self.hire_date, \"입니다.\")"
   ]
  },
  {
   "cell_type": "code",
   "execution_count": 27,
   "id": "76a9bb97",
   "metadata": {},
   "outputs": [
    {
     "name": "stdout",
     "output_type": "stream",
     "text": [
      "열심히 일을 한다.\n",
      "제 이름은 Tom 남성) 이고요, 제 나이는 25 살 입니다\n",
      "제 급여는 350 원 이고, 제 입사일은 2021/08/20 입니다.\n"
     ]
    }
   ],
   "source": [
    "emp = Employee('Tom', 25, '남성', 350, '2021/08/20')\n",
    "emp.do_work()\n",
    "emp.about_me()"
   ]
  },
  {
   "cell_type": "code",
   "execution_count": 28,
   "id": "06c98fdd",
   "metadata": {},
   "outputs": [],
   "source": [
    "class Product:\n",
    "    pass"
   ]
  },
  {
   "cell_type": "code",
   "execution_count": 29,
   "id": "4c43c841",
   "metadata": {},
   "outputs": [],
   "source": [
    "class Inventory:\n",
    "    def __init__(self):\n",
    "        self.__items = []\n",
    "        \n",
    "    def add_new_item(self, product):\n",
    "        if type(product) == Product:\n",
    "            self.__items.append(product)   #  -> 언더바, 언더바 ( __~~) 로 private를 선언\n",
    "            print(\"new item added\")\n",
    "        else:\n",
    "            raise ValueError(\"Invalid item\")  # # rais -> java의 throw exception 발생시키는 역할\n",
    "            \n",
    "    def get_number_of_items(self):\n",
    "        return len(self.__items)3.660"
   ]
  },
  {
   "cell_type": "code",
   "execution_count": 30,
   "id": "27a0144c",
   "metadata": {},
   "outputs": [
    {
     "name": "stdout",
     "output_type": "stream",
     "text": [
      "new item added\n",
      "new item added\n"
     ]
    }
   ],
   "source": [
    "my_inventory = Inventory()\n",
    "my_inventory.add_new_item(Product())\n",
    "my_inventory.add_new_item(Product())"
   ]
  },
  {
   "cell_type": "code",
   "execution_count": 31,
   "id": "e6a4e7b3",
   "metadata": {},
   "outputs": [
    {
     "ename": "AttributeError",
     "evalue": "'Inventory' object has no attribute '__items'",
     "output_type": "error",
     "traceback": [
      "\u001b[1;31m---------------------------------------------------------------------------\u001b[0m",
      "\u001b[1;31mAttributeError\u001b[0m                            Traceback (most recent call last)",
      "\u001b[1;32m<ipython-input-31-d14883466fbe>\u001b[0m in \u001b[0;36m<module>\u001b[1;34m\u001b[0m\n\u001b[1;32m----> 1\u001b[1;33m \u001b[0mprint\u001b[0m\u001b[1;33m(\u001b[0m\u001b[0mmy_inventory\u001b[0m\u001b[1;33m.\u001b[0m\u001b[0m__items\u001b[0m\u001b[1;33m)\u001b[0m\u001b[1;33m\u001b[0m\u001b[1;33m\u001b[0m\u001b[0m\n\u001b[0m",
      "\u001b[1;31mAttributeError\u001b[0m: 'Inventory' object has no attribute '__items'"
     ]
    }
   ],
   "source": [
    "print(my_inventory.__items)"
   ]
  },
  {
   "cell_type": "code",
   "execution_count": 32,
   "id": "88c58e8f",
   "metadata": {},
   "outputs": [],
   "source": [
    "# public 메소드로 만들어서 접근하는 방법"
   ]
  },
  {
   "cell_type": "code",
   "execution_count": 34,
   "id": "f185164c",
   "metadata": {},
   "outputs": [],
   "source": [
    "class Inventory:\n",
    "    def __init__(self):\n",
    "        self.__items = []\n",
    "        \n",
    "    def add_new_item(self, product):\n",
    "        if type(product) == Product:\n",
    "            self.__items.append(product)\n",
    "            print(\"new item added\")\n",
    "        else:\n",
    "            raise ValueError(\"Invalid item\")\n",
    "            \n",
    "    def get_number_of_items(self):\n",
    "        return len(self.__items)\n",
    "    \n",
    "    # private 변수를 외부에서 접근하게 하려면 이렇게 합니다\n",
    "    @property # -> @property라고 만들어주면 접근이 가능함\n",
    "    def items(self):\n",
    "        return self.__items"
   ]
  },
  {
   "cell_type": "code",
   "execution_count": 36,
   "id": "4225cfa3",
   "metadata": {},
   "outputs": [],
   "source": [
    "inventory = Inventory()"
   ]
  },
  {
   "cell_type": "code",
   "execution_count": 37,
   "id": "4dce2f05",
   "metadata": {},
   "outputs": [],
   "source": [
    "items = inventory.items\n",
    "items.append(Product())"
   ]
  },
  {
   "cell_type": "code",
   "execution_count": 39,
   "id": "442dbe8d",
   "metadata": {},
   "outputs": [],
   "source": [
    "# class는 여기서 마무리. 더 깊이 있는것도 있지만, 굳이 할 필요 있나.\n",
    "# 이제부턴 import.\n",
    "\n",
    "# 파이썬 프로그램 코드가 들어있는것을 모듈이라고 함. ex) 함수, class, 변수, 상수\n",
    "# 아무튼 그래서 모듈을 제작해 볼 것"
   ]
  },
  {
   "cell_type": "code",
   "execution_count": 40,
   "id": "a4bbcd35",
   "metadata": {},
   "outputs": [],
   "source": [
    "# 쥬피터 노트북 파일 있는 위치에 test파일 생성(.txt) -> 그리고 이름을 fah_converter.py 로 만들어줌\n",
    "# 만들고 열어줌. 간단한 작성할거니까 아무거로나 열기.\n",
    "# 여기에 딱 2줄만 집어넣어줄 것.  -> 섭씨를 화씨로 바꿔주는 공식\n",
    "# def convert_to_f(celsius_value):\n",
    "#     return celsius_value * 9.0 / 5 + 32"
   ]
  },
  {
   "cell_type": "code",
   "execution_count": 43,
   "id": "81ce8955",
   "metadata": {},
   "outputs": [],
   "source": [
    "import fah_converter   # import 해서 에러 안나오면 정삭적으로 된 것"
   ]
  },
  {
   "cell_type": "code",
   "execution_count": 44,
   "id": "45008de1",
   "metadata": {},
   "outputs": [
    {
     "name": "stdout",
     "output_type": "stream",
     "text": [
      "Enter a celsius value:32\n",
      "It's 89.6 degrees Fahrenheit\n"
     ]
    }
   ],
   "source": [
    "celsius = float(input(\"Enter a celsius value:\"))  # input으로 값 입력받기\n",
    "fahrenheit = fah_converter.convert_to_f(celsius)\n",
    "print(\"It's\", fahrenheit, \"degrees Fahrenheit\")"
   ]
  },
  {
   "cell_type": "code",
   "execution_count": 45,
   "id": "a629ef70",
   "metadata": {},
   "outputs": [],
   "source": [
    "import fah_converter as fah    # 이런식으로 줄여쓰기(as로, 이름 바꿔쓰기) 가능"
   ]
  },
  {
   "cell_type": "code",
   "execution_count": 46,
   "id": "ebc065fb",
   "metadata": {},
   "outputs": [
    {
     "name": "stdout",
     "output_type": "stream",
     "text": [
      "80.6\n"
     ]
    }
   ],
   "source": [
    "print(fah.convert_to_f(27))"
   ]
  },
  {
   "cell_type": "code",
   "execution_count": 47,
   "id": "82fabceb",
   "metadata": {},
   "outputs": [],
   "source": [
    "from fah_converter import convert_to_f  # 저 모듈에서 얘만 import 함 -> import한 함수명만 직접 쓸 수 있음"
   ]
  },
  {
   "cell_type": "code",
   "execution_count": 48,
   "id": "04cfd555",
   "metadata": {},
   "outputs": [
    {
     "name": "stdout",
     "output_type": "stream",
     "text": [
      "80.6\n"
     ]
    }
   ],
   "source": [
    "print(convert_to_f(27))"
   ]
  },
  {
   "cell_type": "code",
   "execution_count": 49,
   "id": "ab4ef478",
   "metadata": {},
   "outputs": [],
   "source": [
    "from fah_converter import *\n",
    "\n",
    "# 모듈 안에 함수가 여러개 있을땐, 콤마콤마콤마, , , 로 다 쓸 수 있지만, import * 로 다 쓸 수 있음 -> 근데 정신건강상 쓰지 말것.\n",
    "# -> 내가 만든 함수랑 남이 만든 함수에서 이름이 똑같은게 있을 경우 -> 남에것이 import되서 에러 발생하면 고생.\n",
    "# 내가 만든거고, 저 안에 뭐가 있는지 다 안다면 써도 되지만\n",
    "# 남에것을 쓴다면, 저렇게( * ) 쓰지 말 것."
   ]
  },
  {
   "cell_type": "code",
   "execution_count": 50,
   "id": "c00733f9",
   "metadata": {},
   "outputs": [
    {
     "name": "stdout",
     "output_type": "stream",
     "text": [
      "80.6\n"
     ]
    }
   ],
   "source": [
    "print(convert_to_f(27))"
   ]
  },
  {
   "cell_type": "code",
   "execution_count": null,
   "id": "b947a665",
   "metadata": {},
   "outputs": [],
   "source": [
    "# 페키지 추가\n",
    "\n",
    "# import할때 파일위치가 같아야 import가 가능하지만, 모든 파일을 전부 다 같은 폴더에 둘 수는 없기때문에,\n",
    "# 경로를 추가해서 import가 가능하게 만듬.\n",
    "# package 추가 방법 -> 자세한건 -> D:\\GIL\\programming\\Python_teacher_2\\JupyterNotebook\\py_package 안에 있는 untitled.py 파일 안의 내용 참조"
   ]
  },
  {
   "cell_type": "code",
   "execution_count": 1,
   "id": "67ff795c",
   "metadata": {},
   "outputs": [],
   "source": [
    "import sys"
   ]
  },
  {
   "cell_type": "code",
   "execution_count": 2,
   "id": "0cd3f43a",
   "metadata": {},
   "outputs": [
    {
     "name": "stdout",
     "output_type": "stream",
     "text": [
      "['D:\\\\gil\\\\programming\\\\Python_teacher_2\\\\JupyterNotebook', 'C:\\\\Users\\\\Administrator\\\\anaconda3\\\\envs\\\\python-env\\\\python38.zip', 'C:\\\\Users\\\\Administrator\\\\anaconda3\\\\envs\\\\python-env\\\\DLLs', 'C:\\\\Users\\\\Administrator\\\\anaconda3\\\\envs\\\\python-env\\\\lib', 'C:\\\\Users\\\\Administrator\\\\anaconda3\\\\envs\\\\python-env', '', 'C:\\\\Users\\\\Administrator\\\\anaconda3\\\\envs\\\\python-env\\\\lib\\\\site-packages', 'C:\\\\Users\\\\Administrator\\\\anaconda3\\\\envs\\\\python-env\\\\lib\\\\site-packages\\\\win32', 'C:\\\\Users\\\\Administrator\\\\anaconda3\\\\envs\\\\python-env\\\\lib\\\\site-packages\\\\win32\\\\lib', 'C:\\\\Users\\\\Administrator\\\\anaconda3\\\\envs\\\\python-env\\\\lib\\\\site-packages\\\\Pythonwin', 'C:\\\\Users\\\\Administrator\\\\anaconda3\\\\envs\\\\python-env\\\\lib\\\\site-packages\\\\IPython\\\\extensions', 'C:\\\\Users\\\\Administrator\\\\.ipython']\n"
     ]
    }
   ],
   "source": [
    "print(sys.path)"
   ]
  },
  {
   "cell_type": "code",
   "execution_count": 3,
   "id": "6c91e33b",
   "metadata": {},
   "outputs": [],
   "source": [
    "sys.path.append(\"D:\\GIL\\programming\\Python_teacher_2\\JupyterNotebook\\py_package\")"
   ]
  },
  {
   "cell_type": "code",
   "execution_count": 4,
   "id": "2c750692",
   "metadata": {},
   "outputs": [
    {
     "name": "stdout",
     "output_type": "stream",
     "text": [
      "['D:\\\\gil\\\\programming\\\\Python_teacher_2\\\\JupyterNotebook', 'C:\\\\Users\\\\Administrator\\\\anaconda3\\\\envs\\\\python-env\\\\python38.zip', 'C:\\\\Users\\\\Administrator\\\\anaconda3\\\\envs\\\\python-env\\\\DLLs', 'C:\\\\Users\\\\Administrator\\\\anaconda3\\\\envs\\\\python-env\\\\lib', 'C:\\\\Users\\\\Administrator\\\\anaconda3\\\\envs\\\\python-env', '', 'C:\\\\Users\\\\Administrator\\\\anaconda3\\\\envs\\\\python-env\\\\lib\\\\site-packages', 'C:\\\\Users\\\\Administrator\\\\anaconda3\\\\envs\\\\python-env\\\\lib\\\\site-packages\\\\win32', 'C:\\\\Users\\\\Administrator\\\\anaconda3\\\\envs\\\\python-env\\\\lib\\\\site-packages\\\\win32\\\\lib', 'C:\\\\Users\\\\Administrator\\\\anaconda3\\\\envs\\\\python-env\\\\lib\\\\site-packages\\\\Pythonwin', 'C:\\\\Users\\\\Administrator\\\\anaconda3\\\\envs\\\\python-env\\\\lib\\\\site-packages\\\\IPython\\\\extensions', 'C:\\\\Users\\\\Administrator\\\\.ipython', 'D:\\\\GIL\\\\programming\\\\Python_teacher_2\\\\JupyterNotebook\\\\py_package']\n"
     ]
    }
   ],
   "source": [
    "print(sys.path)"
   ]
  },
  {
   "cell_type": "code",
   "execution_count": 5,
   "id": "433dd07a",
   "metadata": {},
   "outputs": [
    {
     "name": "stdout",
     "output_type": "stream",
     "text": [
      "series\n"
     ]
    }
   ],
   "source": [
    "import roboadvisor.analysis.series\n",
    "roboadvisor.analysis.series.series_test()"
   ]
  },
  {
   "cell_type": "code",
   "execution_count": 6,
   "id": "33534b9f",
   "metadata": {},
   "outputs": [
    {
     "name": "stdout",
     "output_type": "stream",
     "text": [
      "series\n"
     ]
    }
   ],
   "source": [
    "from roboadvisor.analysis.series import series_test\n",
    "series_test()"
   ]
  },
  {
   "cell_type": "code",
   "execution_count": 1,
   "id": "516b48a2",
   "metadata": {},
   "outputs": [
    {
     "ename": "ModuleNotFoundError",
     "evalue": "No module named 'roboadvisor'",
     "output_type": "error",
     "traceback": [
      "\u001b[1;31m---------------------------------------------------------------------------\u001b[0m",
      "\u001b[1;31mModuleNotFoundError\u001b[0m                       Traceback (most recent call last)",
      "\u001b[1;32m<ipython-input-1-5c71b2b9000a>\u001b[0m in \u001b[0;36m<module>\u001b[1;34m\u001b[0m\n\u001b[1;32m----> 1\u001b[1;33m \u001b[1;32mimport\u001b[0m \u001b[0mroboadvisor\u001b[0m\u001b[1;33m\u001b[0m\u001b[1;33m\u001b[0m\u001b[0m\n\u001b[0m\u001b[0;32m      2\u001b[0m \u001b[0mroboadvisor\u001b[0m\u001b[1;33m.\u001b[0m\u001b[0manalysis\u001b[0m\u001b[1;33m.\u001b[0m\u001b[0mseries\u001b[0m\u001b[1;33m.\u001b[0m\u001b[0mseries_test\u001b[0m\u001b[1;33m(\u001b[0m\u001b[1;33m)\u001b[0m \u001b[1;31m# 이건 커널 reset 하고 해야 에러가 남. 그냥 하면 에러 안나옴\u001b[0m\u001b[1;33m\u001b[0m\u001b[1;33m\u001b[0m\u001b[0m\n",
      "\u001b[1;31mModuleNotFoundError\u001b[0m: No module named 'roboadvisor'"
     ]
    }
   ],
   "source": [
    "import roboadvisor # -> 얘만 import 시키면, 그냥은 실행이 안됨. -> __ini__.py 파일에 뭘 쓸 수 있다고 정의를 해줘야 실행이 됨. 지금은 내용이 없어서 실행이 불가능\n",
    "roboadvisor.analysis.series.series_test() # 이건 커널 reset 하고 해야 에러가 남. 그냥 하면 에러 안나옴"
   ]
  },
  {
   "cell_type": "code",
   "execution_count": 1,
   "id": "2af7a9cb",
   "metadata": {},
   "outputs": [
    {
     "ename": "NameError",
     "evalue": "name 'sys' is not defined",
     "output_type": "error",
     "traceback": [
      "\u001b[1;31m---------------------------------------------------------------------------\u001b[0m",
      "\u001b[1;31mNameError\u001b[0m                                 Traceback (most recent call last)",
      "\u001b[1;32m<ipython-input-1-60089d01e2e4>\u001b[0m in \u001b[0;36m<module>\u001b[1;34m\u001b[0m\n\u001b[0;32m      1\u001b[0m \u001b[1;31m# 여기부턴 앞으로 실행전에 계속 restart 하고 실행. -> 그래야 제대로 되는게 확인될거같음.\u001b[0m\u001b[1;33m\u001b[0m\u001b[1;33m\u001b[0m\u001b[1;33m\u001b[0m\u001b[0m\n\u001b[1;32m----> 2\u001b[1;33m \u001b[0msys\u001b[0m\u001b[1;33m.\u001b[0m\u001b[0mpath\u001b[0m\u001b[1;33m.\u001b[0m\u001b[0mappend\u001b[0m\u001b[1;33m(\u001b[0m\u001b[1;34m\"D:\\GIL\\programming\\Python_teacher_2\\JupyterNotebook\\py_package\"\u001b[0m\u001b[1;33m)\u001b[0m\u001b[1;33m\u001b[0m\u001b[1;33m\u001b[0m\u001b[0m\n\u001b[0m\u001b[0;32m      3\u001b[0m \u001b[1;32mimport\u001b[0m \u001b[0mroboadvisor\u001b[0m\u001b[1;33m.\u001b[0m\u001b[0manalysis\u001b[0m\u001b[1;33m.\u001b[0m\u001b[0mseries\u001b[0m\u001b[1;33m.\u001b[0m\u001b[0mseries_test\u001b[0m\u001b[1;33m\u001b[0m\u001b[1;33m\u001b[0m\u001b[0m\n\u001b[0;32m      4\u001b[0m \u001b[0mseries_test\u001b[0m\u001b[1;33m(\u001b[0m\u001b[1;33m)\u001b[0m\u001b[1;33m\u001b[0m\u001b[1;33m\u001b[0m\u001b[0m\n",
      "\u001b[1;31mNameError\u001b[0m: name 'sys' is not defined"
     ]
    }
   ],
   "source": [
    "# 여기부턴 앞으로 실행전에 계속 restart 하고 실행. -> 그래야 제대로 되는게 확인될거같음.\n",
    "sys.path.append(\"D:\\GIL\\programming\\Python_teacher_2\\JupyterNotebook\\py_package\")\n",
    "import roboadvisor.analysis.series.series_test\n",
    "series_test()\n",
    "\n",
    "#이거 될거같은데 안됨 -> 안되는 이유 : 맨 마지막거(series_test)엔 모듈 또는 package만 올 수 있음. 함수가 올 수 없음. -> from 은 가능. / import는 안됨\n",
    "\n",
    "# from roboadvisor.analysis.series import series_test  -> 이건 가능\n",
    "#series_test()"
   ]
  },
  {
   "cell_type": "code",
   "execution_count": 2,
   "id": "69a0f0cd",
   "metadata": {},
   "outputs": [
    {
     "ename": "NameError",
     "evalue": "name 'series' is not defined",
     "output_type": "error",
     "traceback": [
      "\u001b[1;31m---------------------------------------------------------------------------\u001b[0m",
      "\u001b[1;31mNameError\u001b[0m                                 Traceback (most recent call last)",
      "\u001b[1;32m<ipython-input-2-7e650a022610>\u001b[0m in \u001b[0;36m<module>\u001b[1;34m\u001b[0m\n\u001b[0;32m      2\u001b[0m \u001b[0msys\u001b[0m\u001b[1;33m.\u001b[0m\u001b[0mpath\u001b[0m\u001b[1;33m.\u001b[0m\u001b[0mappend\u001b[0m\u001b[1;33m(\u001b[0m\u001b[1;34m\"D:\\GIL\\programming\\Python_teacher_2\\JupyterNotebook\\py_package\"\u001b[0m\u001b[1;33m)\u001b[0m\u001b[1;33m\u001b[0m\u001b[1;33m\u001b[0m\u001b[0m\n\u001b[0;32m      3\u001b[0m \u001b[1;32mfrom\u001b[0m \u001b[0mroboadvisor\u001b[0m\u001b[1;33m.\u001b[0m\u001b[0manalysis\u001b[0m \u001b[1;32mimport\u001b[0m \u001b[1;33m*\u001b[0m \u001b[1;31m# -> init파일에 뭔가 정의가 안되어있기 때문에(아무것도 없기 때문에) 불러올게 없음 = 안됨\u001b[0m\u001b[1;33m\u001b[0m\u001b[1;33m\u001b[0m\u001b[0m\n\u001b[1;32m----> 4\u001b[1;33m \u001b[0mseries\u001b[0m\u001b[1;33m.\u001b[0m\u001b[0mseries_test\u001b[0m\u001b[1;33m(\u001b[0m\u001b[1;33m)\u001b[0m             \u001b[1;31m# 위에서 from 은 끝에 이게 된다고했는데 지금 안되는 이유.\u001b[0m\u001b[1;33m\u001b[0m\u001b[1;33m\u001b[0m\u001b[0m\n\u001b[0m",
      "\u001b[1;31mNameError\u001b[0m: name 'series' is not defined"
     ]
    }
   ],
   "source": [
    "import sys\n",
    "sys.path.append(\"D:\\GIL\\programming\\Python_teacher_2\\JupyterNotebook\\py_package\")\n",
    "from roboadvisor.analysis import * # -> init파일에 뭔가 정의가 안되어있기 때문에(아무것도 없기 때문에) 불러올게 없음 = 안됨\n",
    "series.series_test()             # 위에서 from 은 끝에 이게 된다고했는데 지금 안되는 이유."
   ]
  },
  {
   "cell_type": "code",
   "execution_count": 3,
   "id": "0dbf5c2d",
   "metadata": {},
   "outputs": [],
   "source": [
    "# roboadvisor의 analysis에 있는 __init__.py에 내용 추가\n",
    "# *로 불러왔을때 뭐가 될지 정해줄것,\n",
    "\n",
    "# __all__ = ['series', 'statics']  # -> 별표( * ) 로 가져올 때 이 2개로 가져와라 이뜻.\n",
    "\n",
    "\n",
    "# D:\\GIL\\programming\\Python_teacher_2\\JupyterNotebook\\py_package\\roboadvisor\\analysis\\__init__.py <- 이 파일 수정"
   ]
  },
  {
   "cell_type": "code",
   "execution_count": 8,
   "id": "56c5503e",
   "metadata": {},
   "outputs": [
    {
     "name": "stdout",
     "output_type": "stream",
     "text": [
      "series\n"
     ]
    }
   ],
   "source": [
    "import sys\n",
    "sys.path.append(\"D:\\GIL\\programming\\Python_teacher_2\\JupyterNotebook\\py_package\")\n",
    "from roboadvisor.analysis import *\n",
    "series.series_test()"
   ]
  },
  {
   "cell_type": "code",
   "execution_count": 7,
   "id": "db336dac",
   "metadata": {},
   "outputs": [
    {
     "name": "stdout",
     "output_type": "stream",
     "text": [
      "series\n"
     ]
    }
   ],
   "source": [
    "import sys\n",
    "sys.path.append(\"D:\\GIL\\programming\\Python_teacher_2\\JupyterNotebook\\py_package\")\n",
    "from roboadvisor.analysis.series import *  # -> 얘는 됨. -> from 의 마지막에 오는 내용이 ~~ 일 경우 init파일에 내용이 없어도 됨.\n",
    "series_test()                          # 결국 init 파일에 * 로 가져올 수 있는 내용을 작성을 해주라는 것."
   ]
  },
  {
   "cell_type": "code",
   "execution_count": 9,
   "id": "7a5c8813",
   "metadata": {},
   "outputs": [],
   "source": [
    "# 이것도 init 파일의 내용은 작성해야 함 /  페키지의 최 상위 폴더. import에 얘(roboadvisor)만 치고 넘어가려면 init을 작성해야함.\n",
    "# D:\\GIL\\programming\\Python_teacher_2\\JupyterNotebook\\py_package\\roboadvisor\\__init__.py  <- 얘를 열어서\n",
    "# 내용 추가\n",
    "# from roboadvisor.analysis import *\n",
    "# from roboadvisor.crawling import *\n",
    "# from roboadvisor.database import *\n",
    "\n",
    "# 저 밑에 있는걸 ~~를 끌어와라 라고 지정해줌"
   ]
  },
  {
   "cell_type": "code",
   "execution_count": 10,
   "id": "07cd1a0b",
   "metadata": {},
   "outputs": [
    {
     "name": "stdout",
     "output_type": "stream",
     "text": [
      "series\n"
     ]
    }
   ],
   "source": [
    "import sys\n",
    "sys.path.append(\"D:\\GIL\\programming\\Python_teacher_2\\JupyterNotebook\\py_package\")\n",
    "import roboadvisor\n",
    "roboadvisor.analysis.series.series_test()\n",
    "\n",
    "# 결국 이것저것 따지기 싫으면 init 파일에다가 다 집어 넣으라는 뜻"
   ]
  },
  {
   "cell_type": "code",
   "execution_count": null,
   "id": "b0de010d",
   "metadata": {},
   "outputs": [],
   "source": [
    "# 이 스크랩 함수 안에서 database 안에 있는 connection_test() 함수를 실해애주고 싶으면\n",
    "# from roboadvisor.database.connection import connection_test   -> 를 추가\n",
    "# 이래주면 됨. -> 다른 모듈에 있는 함수를 불러오는 방법."
   ]
  },
  {
   "cell_type": "code",
   "execution_count": 1,
   "id": "827c9bdf",
   "metadata": {},
   "outputs": [
    {
     "name": "stdout",
     "output_type": "stream",
     "text": [
      "scrap\n",
      "connection\n"
     ]
    }
   ],
   "source": [
    "import sys\n",
    "sys.path.append(\"D:\\GIL\\programming\\Python_teacher_2\\JupyterNotebook\\py_package\")\n",
    "from roboadvisor.crawling.scrap import scrap_test\n",
    "scrap_test()"
   ]
  },
  {
   "cell_type": "markdown",
   "id": "47ef9f2e",
   "metadata": {},
   "source": [
    "### 파이썬 예외처리"
   ]
  },
  {
   "cell_type": "code",
   "execution_count": 2,
   "id": "342d3e0a",
   "metadata": {},
   "outputs": [
    {
     "ename": "ZeroDivisionError",
     "evalue": "division by zero",
     "output_type": "error",
     "traceback": [
      "\u001b[1;31m---------------------------------------------------------------------------\u001b[0m",
      "\u001b[1;31mZeroDivisionError\u001b[0m                         Traceback (most recent call last)",
      "\u001b[1;32m<ipython-input-2-779f56ac8b21>\u001b[0m in \u001b[0;36m<module>\u001b[1;34m\u001b[0m\n\u001b[0;32m      1\u001b[0m \u001b[1;32mfor\u001b[0m \u001b[0mi\u001b[0m \u001b[1;32min\u001b[0m \u001b[0mrange\u001b[0m\u001b[1;33m(\u001b[0m\u001b[1;36m10\u001b[0m\u001b[1;33m)\u001b[0m\u001b[1;33m:\u001b[0m\u001b[1;33m\u001b[0m\u001b[1;33m\u001b[0m\u001b[0m\n\u001b[1;32m----> 2\u001b[1;33m     \u001b[0mprint\u001b[0m\u001b[1;33m(\u001b[0m\u001b[1;36m10\u001b[0m \u001b[1;33m/\u001b[0m \u001b[0mi\u001b[0m\u001b[1;33m)\u001b[0m\u001b[1;33m\u001b[0m\u001b[1;33m\u001b[0m\u001b[0m\n\u001b[0m",
      "\u001b[1;31mZeroDivisionError\u001b[0m: division by zero"
     ]
    }
   ],
   "source": [
    "for i in range(10):\n",
    "    print(10 / i)\n",
    "# division error , 0으로 나눠서 에러"
   ]
  },
  {
   "cell_type": "code",
   "execution_count": 3,
   "id": "c039356e",
   "metadata": {},
   "outputs": [
    {
     "name": "stdout",
     "output_type": "stream",
     "text": [
      "Not divided by 0\n",
      "10.0\n",
      "5.0\n",
      "3.3333333333333335\n",
      "2.5\n",
      "2.0\n",
      "1.6666666666666667\n",
      "1.4285714285714286\n",
      "1.25\n",
      "1.1111111111111112\n"
     ]
    }
   ],
   "source": [
    "# 해결방법 2가지\n",
    "for i in range(10):\n",
    "    try:\n",
    "        print(10 / i)\n",
    "    except:\n",
    "        print(\"Not divided by 0\")"
   ]
  },
  {
   "cell_type": "code",
   "execution_count": 4,
   "id": "59912041",
   "metadata": {},
   "outputs": [
    {
     "name": "stdout",
     "output_type": "stream",
     "text": [
      "division by zero\n",
      "Not divided by 0\n",
      "10.0\n",
      "5.0\n",
      "3.3333333333333335\n",
      "2.5\n",
      "2.0\n",
      "1.6666666666666667\n",
      "1.4285714285714286\n",
      "1.25\n",
      "1.1111111111111112\n"
     ]
    }
   ],
   "source": [
    "# 특정 값만 잡고 싶을때,  위는 몽땅 잡을때\n",
    "for i in range(10):\n",
    "    try:\n",
    "        print(10 / i)\n",
    "    except ZeroDivisionError as e:\n",
    "        print(e)\n",
    "        print(\"Not divided by 0\")"
   ]
  },
  {
   "cell_type": "code",
   "execution_count": 6,
   "id": "7017e905",
   "metadata": {},
   "outputs": [],
   "source": [
    "#\n",
    "# IndexError 리스트의 인덱스 범위를 벗어날 때\n",
    "# NameError 존재하지 않는 변수를 호출할 때\n",
    "# ZeroDivisionError 0으로 숫자를 나눌 때\n",
    "# ValueError 변환할 수 없는 문자나 숫자를 변환하려고 할 때\n",
    "# FileNotFoundError 존재하지 않는 파일을 접근하려고 할 때\n",
    "#\n",
    "# 에러 종류. 이정도."
   ]
  },
  {
   "cell_type": "code",
   "execution_count": 2,
   "id": "dceb0a61",
   "metadata": {},
   "outputs": [
    {
     "name": "stdout",
     "output_type": "stream",
     "text": [
      "division by zero\n",
      "Not divided by 0\n",
      "10.0\n",
      "5.0\n",
      "3.3333333333333335\n",
      "2.5\n",
      "2.0\n",
      "1.6666666666666667\n",
      "1.4285714285714286\n",
      "1.25\n",
      "1.1111111111111112\n"
     ]
    }
   ],
   "source": [
    "for i in range(10):\n",
    "    try:\n",
    "        result = 10 / i\n",
    "    except ZeroDivisionError as e:\n",
    "        print(e)\n",
    "        print(\"Not divided by 0\")\n",
    "    else:\n",
    "        print(result)"
   ]
  },
  {
   "cell_type": "code",
   "execution_count": 3,
   "id": "50cf6808",
   "metadata": {},
   "outputs": [
    {
     "name": "stdout",
     "output_type": "stream",
     "text": [
      "10\n",
      "5\n",
      "3\n",
      "2\n",
      "2\n",
      "1\n",
      "1\n",
      "1\n",
      "1\n",
      "프로그램 종료!\n"
     ]
    }
   ],
   "source": [
    "try:\n",
    "    for i in range(1, 10):\n",
    "        result = 10 // i\n",
    "        print(result)\n",
    "except ZeroDivisionError as e:\n",
    "    print(e)\n",
    "    print(\"Not divided by 0\")\n",
    "finally:\n",
    "    print('프로그램 종료!')"
   ]
  },
  {
   "cell_type": "code",
   "execution_count": 2,
   "id": "0486a074",
   "metadata": {},
   "outputs": [
    {
     "name": "stdout",
     "output_type": "stream",
     "text": [
      "정수값 입력23\n",
      "숫자로 변환: 23\n",
      "정수값 입력5\n",
      "숫자로 변환: 5\n",
      "정수값 입력5r\n"
     ]
    },
    {
     "ename": "ValueError",
     "evalue": "숫자가 아닙니다.",
     "output_type": "error",
     "traceback": [
      "\u001b[1;31m---------------------------------------------------------------------------\u001b[0m",
      "\u001b[1;31mValueError\u001b[0m                                Traceback (most recent call last)",
      "\u001b[1;32m<ipython-input-2-d5bb88a22b1d>\u001b[0m in \u001b[0;36m<module>\u001b[1;34m\u001b[0m\n\u001b[0;32m      3\u001b[0m     \u001b[1;32mfor\u001b[0m \u001b[0mdigit\u001b[0m \u001b[1;32min\u001b[0m \u001b[0mvalue\u001b[0m\u001b[1;33m:\u001b[0m\u001b[1;33m\u001b[0m\u001b[1;33m\u001b[0m\u001b[0m\n\u001b[0;32m      4\u001b[0m         \u001b[1;32mif\u001b[0m \u001b[0mdigit\u001b[0m \u001b[1;32mnot\u001b[0m \u001b[1;32min\u001b[0m \u001b[1;34m'0123456789'\u001b[0m\u001b[1;33m:\u001b[0m\u001b[1;33m\u001b[0m\u001b[1;33m\u001b[0m\u001b[0m\n\u001b[1;32m----> 5\u001b[1;33m             \u001b[1;32mraise\u001b[0m \u001b[0mValueError\u001b[0m\u001b[1;33m(\u001b[0m\u001b[1;34m'숫자가 아닙니다.'\u001b[0m\u001b[1;33m)\u001b[0m \u001b[1;31m# 숫자가 아닌게 들어오면 예외 처리\u001b[0m\u001b[1;33m\u001b[0m\u001b[1;33m\u001b[0m\u001b[0m\n\u001b[0m\u001b[0;32m      6\u001b[0m \u001b[1;33m\u001b[0m\u001b[0m\n\u001b[0;32m      7\u001b[0m     \u001b[0mprint\u001b[0m\u001b[1;33m(\u001b[0m\u001b[1;34m'숫자로 변환:'\u001b[0m\u001b[1;33m,\u001b[0m \u001b[0mint\u001b[0m\u001b[1;33m(\u001b[0m\u001b[0mvalue\u001b[0m\u001b[1;33m)\u001b[0m\u001b[1;33m)\u001b[0m\u001b[1;33m\u001b[0m\u001b[1;33m\u001b[0m\u001b[0m\n",
      "\u001b[1;31mValueError\u001b[0m: 숫자가 아닙니다."
     ]
    }
   ],
   "source": [
    "while True:\n",
    "    value = input('정수값 입력')\n",
    "    for digit in value:\n",
    "        if digit not in '0123456789':\n",
    "            raise ValueError('숫자가 아닙니다.') # 숫자가 아닌게 들어오면 예외 처리\n",
    "            \n",
    "    print('숫자로 변환:', int(value))"
   ]
  },
  {
   "cell_type": "code",
   "execution_count": 3,
   "id": "000f6784",
   "metadata": {},
   "outputs": [],
   "source": [
    "def get_binary_number(decimal_number):\n",
    "    return bin(decimal_number)"
   ]
  },
  {
   "cell_type": "code",
   "execution_count": 4,
   "id": "21e0c207",
   "metadata": {},
   "outputs": [
    {
     "name": "stdout",
     "output_type": "stream",
     "text": [
      "0b1100\n"
     ]
    }
   ],
   "source": [
    "print(get_binary_number(12))"
   ]
  },
  {
   "cell_type": "code",
   "execution_count": 5,
   "id": "376049d5",
   "metadata": {},
   "outputs": [
    {
     "ename": "TypeError",
     "evalue": "'str' object cannot be interpreted as an integer",
     "output_type": "error",
     "traceback": [
      "\u001b[1;31m---------------------------------------------------------------------------\u001b[0m",
      "\u001b[1;31mTypeError\u001b[0m                                 Traceback (most recent call last)",
      "\u001b[1;32m<ipython-input-5-e01de5b423ad>\u001b[0m in \u001b[0;36m<module>\u001b[1;34m\u001b[0m\n\u001b[1;32m----> 1\u001b[1;33m \u001b[0mprint\u001b[0m\u001b[1;33m(\u001b[0m\u001b[0mget_binary_number\u001b[0m\u001b[1;33m(\u001b[0m\u001b[1;34m\"12\"\u001b[0m\u001b[1;33m)\u001b[0m\u001b[1;33m)\u001b[0m\u001b[1;33m\u001b[0m\u001b[1;33m\u001b[0m\u001b[0m\n\u001b[0m",
      "\u001b[1;32m<ipython-input-3-d7280fb8d308>\u001b[0m in \u001b[0;36mget_binary_number\u001b[1;34m(decimal_number)\u001b[0m\n\u001b[0;32m      1\u001b[0m \u001b[1;32mdef\u001b[0m \u001b[0mget_binary_number\u001b[0m\u001b[1;33m(\u001b[0m\u001b[0mdecimal_number\u001b[0m\u001b[1;33m)\u001b[0m\u001b[1;33m:\u001b[0m\u001b[1;33m\u001b[0m\u001b[1;33m\u001b[0m\u001b[0m\n\u001b[1;32m----> 2\u001b[1;33m     \u001b[1;32mreturn\u001b[0m \u001b[0mbin\u001b[0m\u001b[1;33m(\u001b[0m\u001b[0mdecimal_number\u001b[0m\u001b[1;33m)\u001b[0m\u001b[1;33m\u001b[0m\u001b[1;33m\u001b[0m\u001b[0m\n\u001b[0m",
      "\u001b[1;31mTypeError\u001b[0m: 'str' object cannot be interpreted as an integer"
     ]
    }
   ],
   "source": [
    "print(get_binary_number(\"12\"))"
   ]
  },
  {
   "cell_type": "code",
   "execution_count": 6,
   "id": "10d12085",
   "metadata": {},
   "outputs": [],
   "source": [
    "# 예외처리로 해도, 중간에 안 맞는, 알 수 없는 값으로 예외를 넘어가는 경우가 가끔 있음. -> 정수가 아닌경우를 예외했는데, 특정한 값은 정수가 아닌데도 그냥 실행되고 넘어가버림.  나중에 디버깅하려면 골치\n",
    "# 그럴때 assert로 예외를 만들고 쓸 수 있는듯..\n",
    "\n",
    "def get_binary_number(decimal_number):\n",
    "    assert isinstance(decimal_number, int) # -> assert 이후에는 True, False로 오는 모든게 다 올 수 있음\n",
    "    return bin(decimal_number)"
   ]
  },
  {
   "cell_type": "code",
   "execution_count": 7,
   "id": "759a8ab1",
   "metadata": {},
   "outputs": [
    {
     "name": "stdout",
     "output_type": "stream",
     "text": [
      "0b1100\n"
     ]
    }
   ],
   "source": [
    "print(get_binary_number(12))"
   ]
  },
  {
   "cell_type": "code",
   "execution_count": 10,
   "id": "7bc740da",
   "metadata": {},
   "outputs": [],
   "source": [
    "def get_binary_number(decimal_number):\n",
    "    assert isinstance(decimal_number, int), \"입력타입 에러\"\n",
    "    return bin(decimal_number)"
   ]
  },
  {
   "cell_type": "code",
   "execution_count": 12,
   "id": "f07c593d",
   "metadata": {},
   "outputs": [
    {
     "ename": "AssertionError",
     "evalue": "입력타입 에러",
     "output_type": "error",
     "traceback": [
      "\u001b[1;31m---------------------------------------------------------------------------\u001b[0m",
      "\u001b[1;31mAssertionError\u001b[0m                            Traceback (most recent call last)",
      "\u001b[1;32m<ipython-input-12-e01de5b423ad>\u001b[0m in \u001b[0;36m<module>\u001b[1;34m\u001b[0m\n\u001b[1;32m----> 1\u001b[1;33m \u001b[0mprint\u001b[0m\u001b[1;33m(\u001b[0m\u001b[0mget_binary_number\u001b[0m\u001b[1;33m(\u001b[0m\u001b[1;34m\"12\"\u001b[0m\u001b[1;33m)\u001b[0m\u001b[1;33m)\u001b[0m\u001b[1;33m\u001b[0m\u001b[1;33m\u001b[0m\u001b[0m\n\u001b[0m",
      "\u001b[1;32m<ipython-input-10-e75876bef335>\u001b[0m in \u001b[0;36mget_binary_number\u001b[1;34m(decimal_number)\u001b[0m\n\u001b[0;32m      1\u001b[0m \u001b[1;32mdef\u001b[0m \u001b[0mget_binary_number\u001b[0m\u001b[1;33m(\u001b[0m\u001b[0mdecimal_number\u001b[0m\u001b[1;33m)\u001b[0m\u001b[1;33m:\u001b[0m\u001b[1;33m\u001b[0m\u001b[1;33m\u001b[0m\u001b[0m\n\u001b[1;32m----> 2\u001b[1;33m     \u001b[1;32massert\u001b[0m \u001b[0misinstance\u001b[0m\u001b[1;33m(\u001b[0m\u001b[0mdecimal_number\u001b[0m\u001b[1;33m,\u001b[0m \u001b[0mint\u001b[0m\u001b[1;33m)\u001b[0m\u001b[1;33m,\u001b[0m \u001b[1;34m\"입력타입 에러\"\u001b[0m\u001b[1;33m\u001b[0m\u001b[1;33m\u001b[0m\u001b[0m\n\u001b[0m\u001b[0;32m      3\u001b[0m     \u001b[1;32mreturn\u001b[0m \u001b[0mbin\u001b[0m\u001b[1;33m(\u001b[0m\u001b[0mdecimal_number\u001b[0m\u001b[1;33m)\u001b[0m\u001b[1;33m\u001b[0m\u001b[1;33m\u001b[0m\u001b[0m\n",
      "\u001b[1;31mAssertionError\u001b[0m: 입력타입 에러"
     ]
    }
   ],
   "source": [
    "print(get_binary_number(\"12\"))"
   ]
  },
  {
   "cell_type": "code",
   "execution_count": 13,
   "id": "44fbe31f",
   "metadata": {},
   "outputs": [],
   "source": [
    "def scalar_multiply(c, v):\n",
    "    return [c * i for i in v]"
   ]
  },
  {
   "cell_type": "code",
   "execution_count": 14,
   "id": "43013a06",
   "metadata": {},
   "outputs": [
    {
     "name": "stdout",
     "output_type": "stream",
     "text": [
      "[2, 4, 6]\n"
     ]
    }
   ],
   "source": [
    "print(scalar_multiply(2, [1, 2, 3]))"
   ]
  },
  {
   "cell_type": "code",
   "execution_count": 15,
   "id": "4a36910e",
   "metadata": {},
   "outputs": [],
   "source": [
    "assert scalar_multiply(2, [1, 2, 3]) == [2, 4, 6]  # 필요한 곳에 assert문으로 예외를 넣을 수 있음."
   ]
  },
  {
   "cell_type": "code",
   "execution_count": 17,
   "id": "2507cc08",
   "metadata": {},
   "outputs": [
    {
     "ename": "AssertionError",
     "evalue": "",
     "output_type": "error",
     "traceback": [
      "\u001b[1;31m---------------------------------------------------------------------------\u001b[0m",
      "\u001b[1;31mAssertionError\u001b[0m                            Traceback (most recent call last)",
      "\u001b[1;32m<ipython-input-17-3b0ae53d79e0>\u001b[0m in \u001b[0;36m<module>\u001b[1;34m\u001b[0m\n\u001b[1;32m----> 1\u001b[1;33m \u001b[1;32massert\u001b[0m \u001b[0mscalar_multiply\u001b[0m\u001b[1;33m(\u001b[0m\u001b[1;36m2\u001b[0m\u001b[1;33m,\u001b[0m \u001b[1;33m[\u001b[0m\u001b[1;36m1\u001b[0m\u001b[1;33m,\u001b[0m \u001b[1;36m2\u001b[0m\u001b[1;33m,\u001b[0m \u001b[1;36m3\u001b[0m\u001b[1;33m]\u001b[0m\u001b[1;33m)\u001b[0m \u001b[1;33m==\u001b[0m \u001b[1;33m[\u001b[0m\u001b[1;36m2\u001b[0m\u001b[1;33m,\u001b[0m \u001b[1;36m1\u001b[0m\u001b[1;33m,\u001b[0m \u001b[1;36m6\u001b[0m\u001b[1;33m]\u001b[0m\u001b[1;33m\u001b[0m\u001b[1;33m\u001b[0m\u001b[0m\n\u001b[0m",
      "\u001b[1;31mAssertionError\u001b[0m: "
     ]
    }
   ],
   "source": [
    "assert scalar_multiply(2, [1, 2, 3]) == [2, 1, 6]"
   ]
  },
  {
   "cell_type": "markdown",
   "id": "c6d946f1",
   "metadata": {},
   "source": [
    "### First-class citizen, Fist-class function\n",
    "- 프로그래밍 언어가 함수(function)를 first-class citizen 으로 취급, 즉, 함수 자체를 일반 값 처럼 취급할때 -> 그 언어에서의 함수를\n",
    "- First-class function = 퍼스트 클래스 함수로 취급을 함"
   ]
  },
  {
   "cell_type": "code",
   "execution_count": 18,
   "id": "c94c1e27",
   "metadata": {},
   "outputs": [],
   "source": [
    "# ex)\n",
    "def double_func(x):\n",
    "    return x * 2"
   ]
  },
  {
   "cell_type": "code",
   "execution_count": 19,
   "id": "a9fb0a27",
   "metadata": {},
   "outputs": [
    {
     "name": "stdout",
     "output_type": "stream",
     "text": [
      "6\n"
     ]
    }
   ],
   "source": [
    "print(double_func(3))"
   ]
  },
  {
   "cell_type": "code",
   "execution_count": 20,
   "id": "d56fb458",
   "metadata": {},
   "outputs": [],
   "source": [
    "a = double_func"
   ]
  },
  {
   "cell_type": "code",
   "execution_count": 21,
   "id": "2684c855",
   "metadata": {},
   "outputs": [
    {
     "name": "stdout",
     "output_type": "stream",
     "text": [
      "<function double_func at 0x0000019DF93335E0>\n",
      "<function double_func at 0x0000019DF93335E0>\n"
     ]
    }
   ],
   "source": [
    "print(double_func)\n",
    "print(a)"
   ]
  },
  {
   "cell_type": "code",
   "execution_count": 22,
   "id": "59dc2948",
   "metadata": {},
   "outputs": [],
   "source": [
    "# 2개가 동일한 함수를 레퍼런스 하고 있음\n",
    "#함수도 똑같이 여기다 넣었다 저기다 넣었다 할 수 있다. (-> ? )  는게 first-class function.  파이썬은 first-class function을 지원하는 언어."
   ]
  },
  {
   "cell_type": "code",
   "execution_count": 23,
   "id": "2ee82292",
   "metadata": {},
   "outputs": [
    {
     "name": "stdout",
     "output_type": "stream",
     "text": [
      "6\n"
     ]
    }
   ],
   "source": [
    "print(a(3))"
   ]
  },
  {
   "cell_type": "code",
   "execution_count": 24,
   "id": "f650aa04",
   "metadata": {},
   "outputs": [],
   "source": [
    "# 그래서 이런게 가능함\n",
    "def make_double_list(func, args):\n",
    "    result = []\n",
    "    for i in args:\n",
    "        result.append(func(i))\n",
    "        \n",
    "    return result"
   ]
  },
  {
   "cell_type": "code",
   "execution_count": 27,
   "id": "9c9dbfe7",
   "metadata": {},
   "outputs": [
    {
     "name": "stdout",
     "output_type": "stream",
     "text": [
      "[2, 4, 6, 8, 10]\n"
     ]
    }
   ],
   "source": [
    "input_list = [1, 2, 3, 4, 5]\n",
    "doubles = make_double_list(double_func, input_list)\n",
    "print(doubles)"
   ]
  },
  {
   "cell_type": "code",
   "execution_count": 28,
   "id": "cef5157e",
   "metadata": {},
   "outputs": [],
   "source": [
    "def square(x):\n",
    "    return x * x"
   ]
  },
  {
   "cell_type": "code",
   "execution_count": 29,
   "id": "7738930d",
   "metadata": {},
   "outputs": [],
   "source": [
    "def reflect(x):\n",
    "    return -x"
   ]
  },
  {
   "cell_type": "code",
   "execution_count": 31,
   "id": "6546fefa",
   "metadata": {},
   "outputs": [
    {
     "name": "stdout",
     "output_type": "stream",
     "text": [
      "[2, 4, 6, 8, 10]\n",
      "[1, 4, 9, 16, 25]\n",
      "[-1, -2, -3, -4, -5]\n"
     ]
    }
   ],
   "source": [
    "doubles = make_double_list(double_func, input_list)\n",
    "squares = make_double_list(square, input_list)\n",
    "reflects = make_double_list(reflect, input_list)\n",
    "\n",
    "print(doubles)\n",
    "print(squares)\n",
    "print(reflects)\n",
    "\n",
    "# first-class function이 가능하므로 이런게 가능함."
   ]
  },
  {
   "cell_type": "code",
   "execution_count": 32,
   "id": "0e2183fa",
   "metadata": {},
   "outputs": [],
   "source": [
    "# 이 기능을 이용해 이런게 가능\n",
    "import time\n",
    "def log_formatter(msg):  # 함수를 만들어서 넘겨주는 함수를 만든 것.\n",
    "       # 여기서  msg는 지역변수인데 왜 사라지지 않고  함수를 사용하면 msg가 출력되는 것일까 -> Closure 때문\n",
    "    def log_message():\n",
    "        time_str = time.strftime('%c', \\\n",
    "                                time.localtime(time.time()))  # str에 맞춰 시간을 찍어주는 함수\n",
    "        print(time_str, end='')\n",
    "        print('--->', end='')\n",
    "        print(msg)\n",
    "        \n",
    "    return log_message"
   ]
  },
  {
   "cell_type": "code",
   "execution_count": 33,
   "id": "a6d659f6",
   "metadata": {},
   "outputs": [
    {
     "name": "stdout",
     "output_type": "stream",
     "text": [
      "<function log_formatter.<locals>.log_message at 0x0000019DF9333C10>\n"
     ]
    }
   ],
   "source": [
    "log_msg = log_formatter('test log')\n",
    "print(log_msg)"
   ]
  },
  {
   "cell_type": "code",
   "execution_count": 34,
   "id": "4b17716e",
   "metadata": {},
   "outputs": [
    {
     "name": "stdout",
     "output_type": "stream",
     "text": [
      "Fri Aug 20 15:42:47 2021--->test log\n"
     ]
    }
   ],
   "source": [
    "log_msg()"
   ]
  },
  {
   "cell_type": "code",
   "execution_count": 35,
   "id": "adb22738",
   "metadata": {},
   "outputs": [],
   "source": [
    "del log_formatter"
   ]
  },
  {
   "cell_type": "code",
   "execution_count": 36,
   "id": "697d5a0d",
   "metadata": {},
   "outputs": [
    {
     "name": "stdout",
     "output_type": "stream",
     "text": [
      "log_formatter 함수는 사라졌다\n"
     ]
    }
   ],
   "source": [
    "# 진짜 날라갔는지 이런식으로 확인도 가능\n",
    "try:\n",
    "    print(log_formatter)\n",
    "except NameError:\n",
    "    print('log_formatter 함수는 사라졌다')"
   ]
  },
  {
   "cell_type": "code",
   "execution_count": 38,
   "id": "9e14fb51",
   "metadata": {},
   "outputs": [
    {
     "name": "stdout",
     "output_type": "stream",
     "text": [
      "Fri Aug 20 16:05:48 2021--->test log\n"
     ]
    }
   ],
   "source": [
    "log_msg()  # 그럼에도 잘 실행됨 -> test log의 값을 기억하고 있는것 = Closure(클러져) -> 다른 언어에도 다 있음 -> 언어차원에서 구현해놓은 것."
   ]
  },
  {
   "cell_type": "markdown",
   "id": "9e4373fc",
   "metadata": {},
   "source": [
    "### Closure ( = free variable을 내부에 저장한 함수 )\n",
    "- first class function을 지원하는 언어의 네임 바인딩 기술\n",
    "- 어떤 함수를 함수 자신이 가지고 있는 환경과 함께 저장한 레코드\n",
    "- 함수가 가진 프리변수(free variable)를 클로저가 만들어지는 당시의 값과 레퍼런스에 매핑하는 역할\n",
    "- 자신의 영역 밖에서 호출된 함수의 변수값과 레퍼런스를 복사하고 저장\n",
    "** free variable\n",
    "**코드블럭 안에서 사용은 되지만 그 코드블럭안에서 정의되지 않은 변수"
   ]
  },
  {
   "cell_type": "code",
   "execution_count": 39,
   "id": "404bec7d",
   "metadata": {},
   "outputs": [],
   "source": [
    "# 위에서 msg란 변수는 자신의 code블럭 안에서 사용은 되지만, 코드블록 안에서가 아닌, 밖에서 정의된 변수임 = free variable\n",
    "# 그러므로 값이 저장이 되어버리는 것"
   ]
  },
  {
   "cell_type": "code",
   "execution_count": 42,
   "id": "0b0735dc",
   "metadata": {},
   "outputs": [],
   "source": [
    "def outer_func():\n",
    "    msg = 'Good Morning!'\n",
    "    \n",
    "    def inner_func():\n",
    "        print(msg)\n",
    "        \n",
    "    return inner_func() # 얘는 함수를 실행하는 것. 단순히 실행만 하는 것"
   ]
  },
  {
   "cell_type": "code",
   "execution_count": 43,
   "id": "631326ed",
   "metadata": {},
   "outputs": [
    {
     "name": "stdout",
     "output_type": "stream",
     "text": [
      "Good Morning!\n"
     ]
    }
   ],
   "source": [
    "outer_func()"
   ]
  },
  {
   "cell_type": "code",
   "execution_count": 44,
   "id": "bf1000eb",
   "metadata": {},
   "outputs": [],
   "source": [
    "def outer_func():\n",
    "    msg = 'Good Morning!'\n",
    "    \n",
    "    def inner_func():\n",
    "        print(msg)\n",
    "        \n",
    "    return inner_func # 함수를 return하는 것 -> 함수 자체를 reference로 넘겨버리는 것\n",
    "\n",
    "# 괄호 있는건, 함수를 실행하는 것.  괄호 없는건, 함수 자체를 레퍼런스로 넘겨버리는 것"
   ]
  },
  {
   "cell_type": "code",
   "execution_count": 45,
   "id": "992d6a4b",
   "metadata": {},
   "outputs": [
    {
     "name": "stdout",
     "output_type": "stream",
     "text": [
      "<function outer_func.<locals>.inner_func at 0x0000019DF9333A60>\n",
      "Good Morning!\n"
     ]
    }
   ],
   "source": [
    "# 얘를 찍어보면 당연히 함수겠지.\n",
    "func = outer_func()\n",
    "print(func)\n",
    "func()"
   ]
  },
  {
   "cell_type": "code",
   "execution_count": 46,
   "id": "04d44bcb",
   "metadata": {},
   "outputs": [
    {
     "name": "stdout",
     "output_type": "stream",
     "text": [
      "['__annotations__', '__call__', '__class__', '__closure__', '__code__', '__defaults__', '__delattr__', '__dict__', '__dir__', '__doc__', '__eq__', '__format__', '__ge__', '__get__', '__getattribute__', '__globals__', '__gt__', '__hash__', '__init__', '__init_subclass__', '__kwdefaults__', '__le__', '__lt__', '__module__', '__name__', '__ne__', '__new__', '__qualname__', '__reduce__', '__reduce_ex__', '__repr__', '__setattr__', '__sizeof__', '__str__', '__subclasshook__']\n"
     ]
    }
   ],
   "source": [
    "print(dir(func))\n",
    "# dir() 내장 함수는 어떤 객체를 인자로 넣어주면 해당 객체가 어떤 변수와 메소드(method)를 가지고 있는지 나열해줍니다."
   ]
  },
  {
   "cell_type": "code",
   "execution_count": 47,
   "id": "c0e14474",
   "metadata": {},
   "outputs": [
    {
     "name": "stdout",
     "output_type": "stream",
     "text": [
      "<class 'tuple'>\n"
     ]
    }
   ],
   "source": [
    "print(type(func.__closure__))"
   ]
  },
  {
   "cell_type": "code",
   "execution_count": 49,
   "id": "a13fbd33",
   "metadata": {},
   "outputs": [
    {
     "name": "stdout",
     "output_type": "stream",
     "text": [
      "(<cell at 0x0000019DF933DA60: str object at 0x0000019DF93417B0>,)\n"
     ]
    }
   ],
   "source": [
    "print(func.__closure__)\n",
    "# 항목이 하나인 튜플"
   ]
  },
  {
   "cell_type": "code",
   "execution_count": 50,
   "id": "76ce12f5",
   "metadata": {},
   "outputs": [
    {
     "name": "stdout",
     "output_type": "stream",
     "text": [
      "<cell at 0x0000019DF933DA60: str object at 0x0000019DF93417B0>\n"
     ]
    }
   ],
   "source": [
    "# 항목이 하나이므로 끄집어 내려면\n",
    "print(func.__closure__[0])\n",
    "# 얘도 뭔가의 Object임."
   ]
  },
  {
   "cell_type": "code",
   "execution_count": 51,
   "id": "efd57519",
   "metadata": {},
   "outputs": [
    {
     "name": "stdout",
     "output_type": "stream",
     "text": [
      "['__class__', '__delattr__', '__dir__', '__doc__', '__eq__', '__format__', '__ge__', '__getattribute__', '__gt__', '__hash__', '__init__', '__init_subclass__', '__le__', '__lt__', '__ne__', '__new__', '__reduce__', '__reduce_ex__', '__repr__', '__setattr__', '__sizeof__', '__str__', '__subclasshook__', 'cell_contents']\n"
     ]
    }
   ],
   "source": [
    "# dir로 조사. 해보면 뭔가 잔뜩 갖고 있음\n",
    "print(dir(func.__closure__[0]))"
   ]
  },
  {
   "cell_type": "code",
   "execution_count": 52,
   "id": "6d23e0dc",
   "metadata": {},
   "outputs": [
    {
     "name": "stdout",
     "output_type": "stream",
     "text": [
      "Good Morning!\n"
     ]
    }
   ],
   "source": [
    "print(func.__closure__[0].cell_contents)"
   ]
  },
  {
   "cell_type": "code",
   "execution_count": 55,
   "id": "dfb9a938",
   "metadata": {},
   "outputs": [],
   "source": [
    "# 즉 free value의 값을 저기에 꽁꽁 숨겨두고 출력한 것.\n",
    "# 파이썬은 이런 식으로 Closure가 구현이 되어 있음.\n",
    "\n",
    "# 결론, \n",
    "# CLosure = free variable을 내부에 저장한 함수"
   ]
  },
  {
   "cell_type": "code",
   "execution_count": 56,
   "id": "889d0265",
   "metadata": {},
   "outputs": [],
   "source": [
    "# Closure라는 개념은 모든 언어가 갖고 있고,"
   ]
  },
  {
   "cell_type": "code",
   "execution_count": null,
   "id": "33e30a32",
   "metadata": {},
   "outputs": [],
   "source": []
  },
  {
   "cell_type": "code",
   "execution_count": 57,
   "id": "40b406b3",
   "metadata": {},
   "outputs": [],
   "source": [
    "# def outer_func():\n",
    "#    msg = 'Good Morning!'\n",
    "#   \n",
    "#   def inner_func():\n",
    "#       print(msg)\n",
    "#       \n",
    "#   return inner_func()\n",
    "\n",
    "# 이런식으로 지역변수값을 외부에서 저장하면 Closure가 생성이 됨.\n",
    "# 생성된 값은 Closure가 위에서처럼 꽁꽁 숨겨둠.\n",
    "\n",
    "# 어떻게 저장하냐는 위와 같은 방법으로 파이썬 언어가 구조되어있음"
   ]
  },
  {
   "cell_type": "code",
   "execution_count": 58,
   "id": "43e95fda",
   "metadata": {},
   "outputs": [],
   "source": [
    "# class 변수는 자바의 static 변수라고 보면 됨 -> 파이썬에서는 따로 static 변수가 없음"
   ]
  },
  {
   "cell_type": "code",
   "execution_count": 59,
   "id": "4d206894",
   "metadata": {},
   "outputs": [],
   "source": [
    "class TestClass:\n",
    "    class_var = 100\n",
    "    def __init__(self):\n",
    "        self.instance_var = 10"
   ]
  },
  {
   "cell_type": "code",
   "execution_count": 62,
   "id": "02191fb3",
   "metadata": {},
   "outputs": [
    {
     "name": "stdout",
     "output_type": "stream",
     "text": [
      "100\n"
     ]
    }
   ],
   "source": [
    "print(TestClass.class_var)"
   ]
  },
  {
   "cell_type": "markdown",
   "id": "7aa75528",
   "metadata": {},
   "source": []
  }
 ],
 "metadata": {
  "kernelspec": {
   "display_name": "Python 3",
   "language": "python",
   "name": "python3"
  },
  "language_info": {
   "codemirror_mode": {
    "name": "ipython",
    "version": 3
   },
   "file_extension": ".py",
   "mimetype": "text/x-python",
   "name": "python",
   "nbconvert_exporter": "python",
   "pygments_lexer": "ipython3",
   "version": "3.8.11"
  }
 },
 "nbformat": 4,
 "nbformat_minor": 5
}
