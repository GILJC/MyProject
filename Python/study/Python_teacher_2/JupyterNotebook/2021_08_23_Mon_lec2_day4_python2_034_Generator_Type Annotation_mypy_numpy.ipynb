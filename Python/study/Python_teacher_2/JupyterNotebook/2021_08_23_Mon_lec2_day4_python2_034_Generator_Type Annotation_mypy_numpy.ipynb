{
 "cells": [
  {
   "cell_type": "code",
   "execution_count": 1,
   "id": "27970d54",
   "metadata": {},
   "outputs": [],
   "source": [
    "import time"
   ]
  },
  {
   "cell_type": "code",
   "execution_count": 2,
   "id": "40f428cc",
   "metadata": {},
   "outputs": [],
   "source": [
    "def log_formatter(msg):\n",
    "    def log_message():\n",
    "        time_str = time.strftime('%c', time.localtime(time.time()))\n",
    "        print(time_str, end='')\n",
    "        print('--->', end='')\n",
    "        print(msg)\n",
    "        \n",
    "    return log_message"
   ]
  },
  {
   "cell_type": "code",
   "execution_count": 3,
   "id": "c7b4a735",
   "metadata": {},
   "outputs": [],
   "source": [
    "test_log_msg = log_formatter('test log')\n",
    "runtime_log_msg = log_formatter('runtime log')"
   ]
  },
  {
   "cell_type": "code",
   "execution_count": 4,
   "id": "ca5703b1",
   "metadata": {},
   "outputs": [
    {
     "name": "stdout",
     "output_type": "stream",
     "text": [
      "Mon Aug 23 09:25:37 2021--->test log\n",
      "Mon Aug 23 09:25:37 2021--->runtime log\n"
     ]
    }
   ],
   "source": [
    "test_log_msg()\n",
    "runtime_log_msg()"
   ]
  },
  {
   "cell_type": "code",
   "execution_count": 37,
   "id": "6bccf870",
   "metadata": {},
   "outputs": [],
   "source": [
    "def log_decorator(param_func):\n",
    "    def log_message():\n",
    "        time_str = time.strftime('%c', time.localtime(time.time()))\n",
    "        print(time_str, end='')\n",
    "        print('--->', end='')\n",
    "        return param_func()\n",
    "        \n",
    "    return log_message"
   ]
  },
  {
   "cell_type": "code",
   "execution_count": 12,
   "id": "bd8ffe8f",
   "metadata": {},
   "outputs": [],
   "source": [
    "def  test_log_msg():\n",
    "    print('This is test log message')"
   ]
  },
  {
   "cell_type": "code",
   "execution_count": 13,
   "id": "ce2e4d14",
   "metadata": {},
   "outputs": [],
   "source": [
    "def runtime_log_msg():\n",
    "    print('This is runtime log message')"
   ]
  },
  {
   "cell_type": "code",
   "execution_count": 14,
   "id": "12ab97eb",
   "metadata": {},
   "outputs": [],
   "source": [
    "test_log = log_decorator(test_log_msg)\n",
    "runtime_log = log_decorator(runtime_log_msg)"
   ]
  },
  {
   "cell_type": "code",
   "execution_count": 15,
   "id": "5a472bd6",
   "metadata": {
    "scrolled": true
   },
   "outputs": [
    {
     "name": "stdout",
     "output_type": "stream",
     "text": [
      "Mon Aug 23 09:29:16 2021--->This is test log message\n"
     ]
    }
   ],
   "source": [
    "test_log()"
   ]
  },
  {
   "cell_type": "code",
   "execution_count": 16,
   "id": "0b6c5eaa",
   "metadata": {},
   "outputs": [
    {
     "name": "stdout",
     "output_type": "stream",
     "text": [
      "Mon Aug 23 09:29:16 2021--->This is runtime log message\n"
     ]
    }
   ],
   "source": [
    "runtime_log()"
   ]
  },
  {
   "cell_type": "code",
   "execution_count": 17,
   "id": "6fcd6cc1",
   "metadata": {},
   "outputs": [],
   "source": [
    "def get_double(a):\n",
    "    return a * 2"
   ]
  },
  {
   "cell_type": "code",
   "execution_count": 23,
   "id": "0fd2a38a",
   "metadata": {},
   "outputs": [],
   "source": [
    "def print_line():\n",
    "    print('=' * 30)"
   ]
  },
  {
   "cell_type": "code",
   "execution_count": 24,
   "id": "af958ea9",
   "metadata": {},
   "outputs": [
    {
     "name": "stdout",
     "output_type": "stream",
     "text": [
      "==============================\n"
     ]
    }
   ],
   "source": [
    "print_line()"
   ]
  },
  {
   "cell_type": "code",
   "execution_count": 25,
   "id": "2b6cd5c6",
   "metadata": {},
   "outputs": [],
   "source": [
    "def print_line():\n",
    "    return #  -->  여기서 함수를 끝내버리란 뜻(return이 넘겨주란뜻도 있지만, 아무것도 안쓰면 함수가 그냥 여기서 종료야)\n",
    "    print('=' * 30)"
   ]
  },
  {
   "cell_type": "code",
   "execution_count": 26,
   "id": "7262f980",
   "metadata": {},
   "outputs": [],
   "source": [
    "print_line()"
   ]
  },
  {
   "cell_type": "code",
   "execution_count": 33,
   "id": "1df3a972",
   "metadata": {},
   "outputs": [],
   "source": [
    "@log_decorator # -> 파이썬에서 함수 이름 앞에 골뱅이@ 를 붙이면 데코레이터\n",
    "def  test_log_msg():\n",
    "    print('This is test log message')\n",
    "\n",
    "@log_decorator\n",
    "def runtime_log_msg():\n",
    "    print('This is runtime log message')\n",
    "\n",
    "# 위의 test_log = log_decorator(test_log_msg)\n",
    "# runtime_log = log_decorator(runtime_log_msg) 와 비교 -> 출력 똑같이 나옴 "
   ]
  },
  {
   "cell_type": "code",
   "execution_count": 31,
   "id": "7ca83eb2",
   "metadata": {},
   "outputs": [
    {
     "name": "stdout",
     "output_type": "stream",
     "text": [
      "Mon Aug 23 09:41:35 2021--->This is test log message\n",
      "Mon Aug 23 09:41:35 2021--->This is runtime log message\n"
     ]
    }
   ],
   "source": [
    "test_log_msg()\n",
    "runtime_log_msg()"
   ]
  },
  {
   "cell_type": "code",
   "execution_count": 34,
   "id": "9d017d85",
   "metadata": {},
   "outputs": [],
   "source": [
    "@log_decorator  #  서버에 log_msg를 넘긴다고 가정을 하고\n",
    "def runtime_log_msg(host, ip):\n",
    "    print(f'This is runtime log message from {host}:{ip}')"
   ]
  },
  {
   "cell_type": "code",
   "execution_count": 35,
   "id": "3fc3ec2c",
   "metadata": {},
   "outputs": [
    {
     "ename": "TypeError",
     "evalue": "log_message() takes 0 positional arguments but 2 were given",
     "output_type": "error",
     "traceback": [
      "\u001b[1;31m---------------------------------------------------------------------------\u001b[0m",
      "\u001b[1;31mTypeError\u001b[0m                                 Traceback (most recent call last)",
      "\u001b[1;32m<ipython-input-35-c0c4c46ba3db>\u001b[0m in \u001b[0;36m<module>\u001b[1;34m\u001b[0m\n\u001b[1;32m----> 1\u001b[1;33m \u001b[0mruntime_log_msg\u001b[0m\u001b[1;33m(\u001b[0m\u001b[1;34m'localhost'\u001b[0m\u001b[1;33m,\u001b[0m \u001b[1;34m'192.168.1.23'\u001b[0m\u001b[1;33m)\u001b[0m  \u001b[1;31m# 실행하면 에러남 ->\u001b[0m\u001b[1;33m\u001b[0m\u001b[1;33m\u001b[0m\u001b[0m\n\u001b[0m",
      "\u001b[1;31mTypeError\u001b[0m: log_message() takes 0 positional arguments but 2 were given"
     ]
    }
   ],
   "source": [
    "runtime_log_msg('localhost', '192.168.1.23')  # 실행하면 에러남 ->  log_message가 아무것도 안받는데 -> 2개를 받았음\n",
    "# 아래 참고"
   ]
  },
  {
   "cell_type": "code",
   "execution_count": 36,
   "id": "e1ef2829",
   "metadata": {},
   "outputs": [],
   "source": [
    "#실행 안함, 참고용, 위, 아래와 비교용\n",
    "def log_decorator(param_func):  #  -> 얘는 인자를 2개를 받았는데\n",
    "    def log_message():\n",
    "        time_str = time.strftime('%c', time.localtime(time.time()))\n",
    "        print(time_str, end='')\n",
    "        print('--->', end='')\n",
    "        return param_func()  # -> 얘는 아무것도 없이 실행함  -> 이럴땐  packing변수를 활용 (아래의 *, ** 참고)\n",
    "        \n",
    "    return log_message"
   ]
  },
  {
   "cell_type": "code",
   "execution_count": 38,
   "id": "d053022f",
   "metadata": {},
   "outputs": [],
   "source": [
    "def log_decorator(param_func):  #  -> 얘는 인자를 2개를 받았는데\n",
    "    def log_message(*args, **kargs):\n",
    "        time_str = time.strftime('%c', time.localtime(time.time()))\n",
    "        print(time_str, end='')\n",
    "        print('--->', end='')\n",
    "        return param_func(*args, **kargs)  # -> 얘는 아무것도 없이 실행함  -> 이럴땐  packing변수를 활용 (아래의 *, ** 참고)\n",
    "        \n",
    "    return log_message"
   ]
  },
  {
   "cell_type": "code",
   "execution_count": 39,
   "id": "3676e655",
   "metadata": {},
   "outputs": [],
   "source": [
    "@log_decorator\n",
    "def test_log_msg():\n",
    "    print(f'This is runtime log message')\n",
    "\n",
    "@log_decorator\n",
    "def runtime_log_msg(host, ip):\n",
    "    print(f'This is runtime log message from {host}:{ip}')"
   ]
  },
  {
   "cell_type": "code",
   "execution_count": 40,
   "id": "48c211ed",
   "metadata": {},
   "outputs": [
    {
     "name": "stdout",
     "output_type": "stream",
     "text": [
      "Mon Aug 23 10:06:32 2021--->This is runtime log message\n"
     ]
    }
   ],
   "source": [
    "test_log_msg()"
   ]
  },
  {
   "cell_type": "code",
   "execution_count": 41,
   "id": "7518ec6c",
   "metadata": {},
   "outputs": [
    {
     "name": "stdout",
     "output_type": "stream",
     "text": [
      "Mon Aug 23 10:06:43 2021--->This is runtime log message from localhost:192.168.1.23\n"
     ]
    }
   ],
   "source": [
    "runtime_log_msg('localhost', '192.168.1.23')"
   ]
  },
  {
   "cell_type": "markdown",
   "id": "5e371b13",
   "metadata": {},
   "source": [
    "### Generator"
   ]
  },
  {
   "cell_type": "code",
   "execution_count": 57,
   "id": "22d1a95e",
   "metadata": {},
   "outputs": [],
   "source": [
    "def square_numbers(nums):\n",
    "    result = []\n",
    "    for i in nums:\n",
    "        result.append(i * i)\n",
    "        \n",
    "    return result"
   ]
  },
  {
   "cell_type": "code",
   "execution_count": 58,
   "id": "cba90575",
   "metadata": {},
   "outputs": [
    {
     "name": "stdout",
     "output_type": "stream",
     "text": [
      "[1, 4, 9, 16, 25]\n"
     ]
    }
   ],
   "source": [
    "my_nums = square_numbers([1, 2, 3, 4, 5])\n",
    "print(my_nums)"
   ]
  },
  {
   "cell_type": "code",
   "execution_count": 59,
   "id": "d43c4a1f",
   "metadata": {},
   "outputs": [],
   "source": [
    "def square_numbers(nums):\n",
    "    for i in nums:\n",
    "        yield i * i"
   ]
  },
  {
   "cell_type": "code",
   "execution_count": 60,
   "id": "0ab04a95",
   "metadata": {},
   "outputs": [
    {
     "name": "stdout",
     "output_type": "stream",
     "text": [
      "<generator object square_numbers at 0x0000024170D72B30>\n"
     ]
    }
   ],
   "source": [
    "my_nums = square_numbers([1, 2, 3, 4, 5])\n",
    "print(my_nums)"
   ]
  },
  {
   "cell_type": "code",
   "execution_count": 51,
   "id": "887e7ed3",
   "metadata": {},
   "outputs": [
    {
     "name": "stdout",
     "output_type": "stream",
     "text": [
      "1\n"
     ]
    }
   ],
   "source": [
    "print(next(my_nums))"
   ]
  },
  {
   "cell_type": "code",
   "execution_count": 52,
   "id": "25ce269a",
   "metadata": {},
   "outputs": [
    {
     "name": "stdout",
     "output_type": "stream",
     "text": [
      "4\n"
     ]
    }
   ],
   "source": [
    "print(next(my_nums))"
   ]
  },
  {
   "cell_type": "code",
   "execution_count": 53,
   "id": "130ba1e2",
   "metadata": {},
   "outputs": [
    {
     "name": "stdout",
     "output_type": "stream",
     "text": [
      "9\n"
     ]
    }
   ],
   "source": [
    "print(next(my_nums))"
   ]
  },
  {
   "cell_type": "code",
   "execution_count": 54,
   "id": "30df5195",
   "metadata": {},
   "outputs": [
    {
     "name": "stdout",
     "output_type": "stream",
     "text": [
      "16\n"
     ]
    }
   ],
   "source": [
    "print(next(my_nums))"
   ]
  },
  {
   "cell_type": "code",
   "execution_count": 55,
   "id": "5128da8d",
   "metadata": {},
   "outputs": [
    {
     "name": "stdout",
     "output_type": "stream",
     "text": [
      "25\n"
     ]
    }
   ],
   "source": [
    "print(next(my_nums))"
   ]
  },
  {
   "cell_type": "code",
   "execution_count": 56,
   "id": "030f4c0e",
   "metadata": {},
   "outputs": [
    {
     "ename": "StopIteration",
     "evalue": "",
     "output_type": "error",
     "traceback": [
      "\u001b[1;31m---------------------------------------------------------------------------\u001b[0m",
      "\u001b[1;31mStopIteration\u001b[0m                             Traceback (most recent call last)",
      "\u001b[1;32m<ipython-input-56-568b6ae09660>\u001b[0m in \u001b[0;36m<module>\u001b[1;34m\u001b[0m\n\u001b[1;32m----> 1\u001b[1;33m \u001b[0mprint\u001b[0m\u001b[1;33m(\u001b[0m\u001b[0mnext\u001b[0m\u001b[1;33m(\u001b[0m\u001b[0mmy_nums\u001b[0m\u001b[1;33m)\u001b[0m\u001b[1;33m)\u001b[0m\u001b[1;33m\u001b[0m\u001b[1;33m\u001b[0m\u001b[0m\n\u001b[0m",
      "\u001b[1;31mStopIteration\u001b[0m: "
     ]
    }
   ],
   "source": [
    "print(next(my_nums))  # 더 없으므로 에러"
   ]
  },
  {
   "cell_type": "code",
   "execution_count": 48,
   "id": "ab71391c",
   "metadata": {},
   "outputs": [
    {
     "name": "stdout",
     "output_type": "stream",
     "text": [
      "1\n",
      "4\n",
      "9\n",
      "16\n",
      "25\n"
     ]
    }
   ],
   "source": [
    "my_nums = square_numbers([1, 2, 3, 4, 5])\n",
    "for num in my_nums:\n",
    "    print(num)"
   ]
  },
  {
   "cell_type": "code",
   "execution_count": 61,
   "id": "22193aa5",
   "metadata": {},
   "outputs": [],
   "source": [
    "my_nums = [x * x for x in [1, 2, 3, 4, 5]] # -> 리스트 컴프레이션(?) 기법을 양 끝 괄호를 소괄호로 바꾸면() 바로  제너레티어로 만들어짐"
   ]
  },
  {
   "cell_type": "code",
   "execution_count": 62,
   "id": "bb35e89e",
   "metadata": {},
   "outputs": [
    {
     "name": "stdout",
     "output_type": "stream",
     "text": [
      "[1, 4, 9, 16, 25]\n"
     ]
    }
   ],
   "source": [
    "print(my_nums)"
   ]
  },
  {
   "cell_type": "code",
   "execution_count": 63,
   "id": "81081f6c",
   "metadata": {},
   "outputs": [
    {
     "name": "stdout",
     "output_type": "stream",
     "text": [
      "1\n",
      "4\n",
      "9\n",
      "16\n",
      "25\n"
     ]
    }
   ],
   "source": [
    "for num in my_nums:\n",
    "    print(num)"
   ]
  },
  {
   "cell_type": "code",
   "execution_count": 64,
   "id": "676abe34",
   "metadata": {},
   "outputs": [
    {
     "name": "stdout",
     "output_type": "stream",
     "text": [
      "<generator object <genexpr> at 0x0000024170D72DD0>\n"
     ]
    }
   ],
   "source": [
    "my_nums = (x * x for x in [1, 2, 3, 4, 5])   # 굳이 함수로 안만들어도 제너레이터로 생성 가능 -> 이러면 바로 for문 생성 가능\n",
    "print(my_nums)"
   ]
  },
  {
   "cell_type": "code",
   "execution_count": 65,
   "id": "2fe1fb70",
   "metadata": {},
   "outputs": [
    {
     "name": "stdout",
     "output_type": "stream",
     "text": [
      "1\n",
      "4\n",
      "9\n",
      "16\n",
      "25\n"
     ]
    }
   ],
   "source": [
    "for num in my_nums:\n",
    "    print(num)"
   ]
  },
  {
   "cell_type": "code",
   "execution_count": 67,
   "id": "c8437235",
   "metadata": {},
   "outputs": [
    {
     "name": "stdout",
     "output_type": "stream",
     "text": [
      "[1, 4, 9, 16, 25]\n"
     ]
    }
   ],
   "source": [
    "my_nums = (x * x for x in [1, 2, 3, 4, 5])\n",
    "print(list(my_nums))"
   ]
  },
  {
   "cell_type": "markdown",
   "id": "64193af6",
   "metadata": {},
   "source": [
    "### Type Annotation"
   ]
  },
  {
   "cell_type": "code",
   "execution_count": 68,
   "id": "2cd013bc",
   "metadata": {},
   "outputs": [],
   "source": [
    "def add(a, b):\n",
    "    return a + b"
   ]
  },
  {
   "cell_type": "code",
   "execution_count": 71,
   "id": "a79823a9",
   "metadata": {},
   "outputs": [
    {
     "name": "stdout",
     "output_type": "stream",
     "text": [
      "15\n",
      "[1, 2, 3]\n"
     ]
    }
   ],
   "source": [
    "print(add(10, 5))\n",
    "print(add([1, 2], [3]))"
   ]
  },
  {
   "cell_type": "code",
   "execution_count": 72,
   "id": "9e0f2022",
   "metadata": {},
   "outputs": [
    {
     "name": "stdout",
     "output_type": "stream",
     "text": [
      "hithere\n"
     ]
    }
   ],
   "source": [
    "print(add('hi', 'there'))"
   ]
  },
  {
   "cell_type": "code",
   "execution_count": 74,
   "id": "f2749e8b",
   "metadata": {},
   "outputs": [
    {
     "ename": "TypeError",
     "evalue": "unsupported operand type(s) for +: 'int' and 'str'",
     "output_type": "error",
     "traceback": [
      "\u001b[1;31m---------------------------------------------------------------------------\u001b[0m",
      "\u001b[1;31mTypeError\u001b[0m                                 Traceback (most recent call last)",
      "\u001b[1;32m<ipython-input-74-e3667e1831c8>\u001b[0m in \u001b[0;36m<module>\u001b[1;34m\u001b[0m\n\u001b[1;32m----> 1\u001b[1;33m \u001b[0mprint\u001b[0m\u001b[1;33m(\u001b[0m\u001b[0madd\u001b[0m\u001b[1;33m(\u001b[0m\u001b[1;36m10\u001b[0m\u001b[1;33m,\u001b[0m \u001b[1;34m'five'\u001b[0m\u001b[1;33m)\u001b[0m\u001b[1;33m)\u001b[0m  \u001b[1;31m# 숫자와 문자를 더하는건 파이썬에서 지원하지 않음\u001b[0m\u001b[1;33m\u001b[0m\u001b[1;33m\u001b[0m\u001b[0m\n\u001b[0m",
      "\u001b[1;32m<ipython-input-68-17cbf0e59835>\u001b[0m in \u001b[0;36madd\u001b[1;34m(a, b)\u001b[0m\n\u001b[0;32m      1\u001b[0m \u001b[1;32mdef\u001b[0m \u001b[0madd\u001b[0m\u001b[1;33m(\u001b[0m\u001b[0ma\u001b[0m\u001b[1;33m,\u001b[0m \u001b[0mb\u001b[0m\u001b[1;33m)\u001b[0m\u001b[1;33m:\u001b[0m\u001b[1;33m\u001b[0m\u001b[1;33m\u001b[0m\u001b[0m\n\u001b[1;32m----> 2\u001b[1;33m     \u001b[1;32mreturn\u001b[0m \u001b[0ma\u001b[0m \u001b[1;33m+\u001b[0m \u001b[0mb\u001b[0m\u001b[1;33m\u001b[0m\u001b[1;33m\u001b[0m\u001b[0m\n\u001b[0m",
      "\u001b[1;31mTypeError\u001b[0m: unsupported operand type(s) for +: 'int' and 'str'"
     ]
    }
   ],
   "source": [
    "print(add(10, 'five'))  # 숫자와 문자를 더하는건 파이썬에서 지원하지 않음\n",
    "\n",
    "# 내가 짜면 괜찮은데, 남이 짠거는 int인지, str인지 모를 수 있음.\n",
    "# 그래서 이 소스코드 분석을 쉽게 하기 위해 등장한것이 아래."
   ]
  },
  {
   "cell_type": "code",
   "execution_count": 78,
   "id": "34e0c227",
   "metadata": {},
   "outputs": [],
   "source": [
    "def add(a:int, b:int)->int:  # 화살표 -> 뜻 = retrun타입이 뭔지 지정하는 것.  (파이썬 3.3인가 3.5인가부터 지원함)\n",
    "    return a + b"
   ]
  },
  {
   "cell_type": "code",
   "execution_count": 79,
   "id": "2100f3d1",
   "metadata": {},
   "outputs": [
    {
     "name": "stdout",
     "output_type": "stream",
     "text": [
      "15\n",
      "[1, 2, 3]\n"
     ]
    }
   ],
   "source": [
    "print(add(10, 5))\n",
    "print(add([1, 2], [3]))"
   ]
  },
  {
   "cell_type": "code",
   "execution_count": 82,
   "id": "b15905fe",
   "metadata": {},
   "outputs": [
    {
     "ename": "TypeError",
     "evalue": "unsupported operand type(s) for +: 'int' and 'str'",
     "output_type": "error",
     "traceback": [
      "\u001b[1;31m---------------------------------------------------------------------------\u001b[0m",
      "\u001b[1;31mTypeError\u001b[0m                                 Traceback (most recent call last)",
      "\u001b[1;32m<ipython-input-82-bfc32ae0ad63>\u001b[0m in \u001b[0;36m<module>\u001b[1;34m\u001b[0m\n\u001b[1;32m----> 1\u001b[1;33m \u001b[0mprint\u001b[0m\u001b[1;33m(\u001b[0m\u001b[0madd\u001b[0m\u001b[1;33m(\u001b[0m\u001b[1;36m10\u001b[0m\u001b[1;33m,\u001b[0m \u001b[1;34m'five'\u001b[0m\u001b[1;33m)\u001b[0m\u001b[1;33m)\u001b[0m  \u001b[1;31m# 잘못을 막아주진 않음 / 단지 보기 편하게 해준것\u001b[0m\u001b[1;33m\u001b[0m\u001b[1;33m\u001b[0m\u001b[0m\n\u001b[0m",
      "\u001b[1;32m<ipython-input-78-75e573ccc0b2>\u001b[0m in \u001b[0;36madd\u001b[1;34m(a, b)\u001b[0m\n\u001b[0;32m      1\u001b[0m \u001b[1;32mdef\u001b[0m \u001b[0madd\u001b[0m\u001b[1;33m(\u001b[0m\u001b[0ma\u001b[0m\u001b[1;33m:\u001b[0m\u001b[0mint\u001b[0m\u001b[1;33m,\u001b[0m \u001b[0mb\u001b[0m\u001b[1;33m:\u001b[0m\u001b[0mint\u001b[0m\u001b[1;33m)\u001b[0m\u001b[1;33m->\u001b[0m\u001b[0mint\u001b[0m\u001b[1;33m:\u001b[0m  \u001b[1;31m# 화살표 -> 뜻 = retrun타입이 뭔지 지정하는 것.  (파이썬 3.3인가 3.5인가부터 지원함)\u001b[0m\u001b[1;33m\u001b[0m\u001b[1;33m\u001b[0m\u001b[0m\n\u001b[1;32m----> 2\u001b[1;33m     \u001b[1;32mreturn\u001b[0m \u001b[0ma\u001b[0m \u001b[1;33m+\u001b[0m \u001b[0mb\u001b[0m\u001b[1;33m\u001b[0m\u001b[1;33m\u001b[0m\u001b[0m\n\u001b[0m",
      "\u001b[1;31mTypeError\u001b[0m: unsupported operand type(s) for +: 'int' and 'str'"
     ]
    }
   ],
   "source": [
    "print(add(10, 'five'))  # 잘못을 막아주진 않음 / 단지 보기 편하게 해준것"
   ]
  },
  {
   "cell_type": "code",
   "execution_count": 84,
   "id": "3f2aba9a",
   "metadata": {},
   "outputs": [],
   "source": [
    "from typing import List\n",
    "Vector = List[float]"
   ]
  },
  {
   "cell_type": "code",
   "execution_count": 85,
   "id": "de5df5b6",
   "metadata": {},
   "outputs": [],
   "source": [
    "def scale(scalar: float, vector:Vector)->Vector:\n",
    "    return [scalar * num for num in vector]"
   ]
  },
  {
   "cell_type": "code",
   "execution_count": 89,
   "id": "89f50257",
   "metadata": {},
   "outputs": [],
   "source": [
    "def add_vector(v1, v2):\n",
    "    return [v + w for v, w in zip(v1, v2)]"
   ]
  },
  {
   "cell_type": "code",
   "execution_count": 90,
   "id": "01b4feb6",
   "metadata": {},
   "outputs": [
    {
     "name": "stdout",
     "output_type": "stream",
     "text": [
      "[2, 3, 4]\n"
     ]
    }
   ],
   "source": [
    "print(add_vector([1, 2, 3], [1, 1, 1]))"
   ]
  },
  {
   "cell_type": "code",
   "execution_count": 91,
   "id": "a9803918",
   "metadata": {},
   "outputs": [],
   "source": [
    "def add_vector(v1:Vector, v2:Vector)->Vector:\n",
    "    assert len(v1) == len(v2), \"vectors must be the same length\"\n",
    "    return [v + w for v, w in zip(v1, v2)]"
   ]
  },
  {
   "cell_type": "markdown",
   "id": "43a28956",
   "metadata": {},
   "source": [
    "### mypy"
   ]
  },
  {
   "cell_type": "code",
   "execution_count": 92,
   "id": "5c30b068",
   "metadata": {},
   "outputs": [],
   "source": [
    "# mypy: 타입을 정해놓고, 검사해서 다른 타입이 들어오면 에러를 나타내줌\n",
    "\n",
    "# 가상환경 설치 (쑤업의 메모장 참조)  -> base 환경 그대로 쓰면 설치 안해도 됨. 이미 있음. -> 가상환경 만들어 쓰면 설치해야함\n",
    "# conda install numpy\n",
    "# ( yes)\n",
    "\n",
    "# (난 해당 env 실행시키고 설치함)\n",
    "# anaconda로 powershell 새로 키고 -> cd d:gil:program:python_teacher_2_jupyternotebook\n",
    "# conda env list\n",
    "# conda activate python-env    -> (여기에 설치함)"
   ]
  },
  {
   "cell_type": "code",
   "execution_count": 93,
   "id": "6e08c8e4",
   "metadata": {},
   "outputs": [],
   "source": [
    "import numpy as np"
   ]
  },
  {
   "cell_type": "code",
   "execution_count": 94,
   "id": "a29cca2c",
   "metadata": {},
   "outputs": [
    {
     "name": "stdout",
     "output_type": "stream",
     "text": [
      "[0, 1, 2, 3, 4, 5]\n",
      "[0 1 2 3 4 5]\n"
     ]
    }
   ],
   "source": [
    "data1 = [0, 1, 2, 3, 4, 5]\n",
    "a1 = np.array(data1)\n",
    "print(data1)\n",
    "print(a1)"
   ]
  },
  {
   "cell_type": "code",
   "execution_count": 95,
   "id": "b3a20841",
   "metadata": {},
   "outputs": [
    {
     "name": "stdout",
     "output_type": "stream",
     "text": [
      "<class 'list'>\n",
      "<class 'numpy.ndarray'>\n"
     ]
    }
   ],
   "source": [
    "print(type(data1))\n",
    "print(type(a1))"
   ]
  },
  {
   "cell_type": "code",
   "execution_count": 96,
   "id": "f7345c03",
   "metadata": {},
   "outputs": [
    {
     "name": "stdout",
     "output_type": "stream",
     "text": [
      "[ 0.   1.   5.   4.  12.   0.5]\n"
     ]
    }
   ],
   "source": [
    "data2 = [0, 1, 5, 4, 12, 0.5]\n",
    "a2 = np.array(data2)\n",
    "print(a2)"
   ]
  },
  {
   "cell_type": "code",
   "execution_count": 97,
   "id": "a67eea3f",
   "metadata": {},
   "outputs": [],
   "source": [
    "data3 = [[1, 2, 3], [4, 5, 6], [7, 8, 9]]\n",
    "a3 = np.array(data3)"
   ]
  },
  {
   "cell_type": "code",
   "execution_count": 98,
   "id": "39bd005f",
   "metadata": {},
   "outputs": [
    {
     "name": "stdout",
     "output_type": "stream",
     "text": [
      "[[1, 2, 3], [4, 5, 6], [7, 8, 9]]\n"
     ]
    }
   ],
   "source": [
    "print(data3)"
   ]
  },
  {
   "cell_type": "code",
   "execution_count": 99,
   "id": "a37a40a4",
   "metadata": {},
   "outputs": [],
   "source": [
    "a4 = np.arange(0, 10, 2)\n",
    "a5 = np.arange(1, 10)\n",
    "a6 = np.arange(5)"
   ]
  },
  {
   "cell_type": "code",
   "execution_count": 100,
   "id": "57c8bd52",
   "metadata": {},
   "outputs": [
    {
     "name": "stdout",
     "output_type": "stream",
     "text": [
      "[0 2 4 6 8]\n",
      "[1 2 3 4 5 6 7 8 9]\n",
      "[0 1 2 3 4]\n"
     ]
    }
   ],
   "source": [
    "print(a4)\n",
    "print(a5)\n",
    "print(a6)"
   ]
  },
  {
   "cell_type": "code",
   "execution_count": 101,
   "id": "94b72abe",
   "metadata": {},
   "outputs": [
    {
     "name": "stdout",
     "output_type": "stream",
     "text": [
      "[[ 0  1  2]\n",
      " [ 3  4  5]\n",
      " [ 6  7  8]\n",
      " [ 9 10 11]]\n"
     ]
    }
   ],
   "source": [
    "a7 = np.arange(12).reshape(4, 3)  # 0부터 12까지 numpy 배열로 만듬\n",
    "print(a7)\n",
    "\n",
    "# 파이썬으로 하려면 일일이 다 쳐야하는데, 넘파이쓰면 아주 간단함"
   ]
  },
  {
   "cell_type": "code",
   "execution_count": 102,
   "id": "25a44c84",
   "metadata": {},
   "outputs": [
    {
     "name": "stdout",
     "output_type": "stream",
     "text": [
      "(4, 3)\n"
     ]
    }
   ],
   "source": [
    "print(a7.shape)"
   ]
  },
  {
   "cell_type": "code",
   "execution_count": 103,
   "id": "09f84a38",
   "metadata": {},
   "outputs": [
    {
     "name": "stdout",
     "output_type": "stream",
     "text": [
      "[[ 0  1  2]\n",
      " [ 3  4  5]\n",
      " [ 6  7  8]\n",
      " [ 9 10 11]]\n"
     ]
    }
   ],
   "source": [
    "a7 = np.arange(12).reshape(4, -1)\n",
    "print(a7)"
   ]
  },
  {
   "cell_type": "code",
   "execution_count": 104,
   "id": "767e53ef",
   "metadata": {},
   "outputs": [
    {
     "name": "stdout",
     "output_type": "stream",
     "text": [
      "[[ 0  1  2]\n",
      " [ 3  4  5]\n",
      " [ 6  7  8]\n",
      " [ 9 10 11]]\n"
     ]
    }
   ],
   "source": [
    "a7 = np.arange(12).reshape(-1, 3)\n",
    "print(a7)"
   ]
  },
  {
   "cell_type": "code",
   "execution_count": 106,
   "id": "6be8407c",
   "metadata": {},
   "outputs": [
    {
     "ename": "ValueError",
     "evalue": "cannot reshape array of size 11 into shape (4,3)",
     "output_type": "error",
     "traceback": [
      "\u001b[1;31m---------------------------------------------------------------------------\u001b[0m",
      "\u001b[1;31mValueError\u001b[0m                                Traceback (most recent call last)",
      "\u001b[1;32m<ipython-input-106-45b9cf9c4929>\u001b[0m in \u001b[0;36m<module>\u001b[1;34m\u001b[0m\n\u001b[1;32m----> 1\u001b[1;33m \u001b[0ma8\u001b[0m \u001b[1;33m=\u001b[0m \u001b[0mnp\u001b[0m\u001b[1;33m.\u001b[0m\u001b[0marange\u001b[0m\u001b[1;33m(\u001b[0m\u001b[1;36m11\u001b[0m\u001b[1;33m)\u001b[0m\u001b[1;33m.\u001b[0m\u001b[0mreshape\u001b[0m\u001b[1;33m(\u001b[0m\u001b[1;36m4\u001b[0m\u001b[1;33m,\u001b[0m \u001b[1;36m3\u001b[0m\u001b[1;33m)\u001b[0m  \u001b[1;31m# 항목이 11개인데 4,3은 안된다 -> 갯수 모자라면 에러남\u001b[0m\u001b[1;33m\u001b[0m\u001b[1;33m\u001b[0m\u001b[0m\n\u001b[0m",
      "\u001b[1;31mValueError\u001b[0m: cannot reshape array of size 11 into shape (4,3)"
     ]
    }
   ],
   "source": [
    "a8 = np.arange(11).reshape(4, 3)  # 항목이 11개인데 4,3은 안된다 -> 갯수 모자라면 에러남"
   ]
  },
  {
   "cell_type": "code",
   "execution_count": 107,
   "id": "4a5e04ca",
   "metadata": {},
   "outputs": [
    {
     "name": "stdout",
     "output_type": "stream",
     "text": [
      "[ 1.  2.  3.  4.  5.  6.  7.  8.  9. 10.]\n"
     ]
    }
   ],
   "source": [
    "a1 = np.linspace(1, 10, 10)\n",
    "print(a1)"
   ]
  },
  {
   "cell_type": "code",
   "execution_count": 108,
   "id": "393f4837",
   "metadata": {},
   "outputs": [
    {
     "name": "stdout",
     "output_type": "stream",
     "text": [
      "[ 1.          2.28571429  3.57142857  4.85714286  6.14285714  7.42857143\n",
      "  8.71428571 10.        ]\n"
     ]
    }
   ],
   "source": [
    "a2 = np.linspace(1, 10, 8)\n",
    "print(a2)"
   ]
  },
  {
   "cell_type": "code",
   "execution_count": 109,
   "id": "a5628932",
   "metadata": {},
   "outputs": [
    {
     "name": "stdout",
     "output_type": "stream",
     "text": [
      "[0.         0.16534698 0.33069396 0.49604095 0.66138793 0.82673491\n",
      " 0.99208189 1.15742887 1.32277585 1.48812284 1.65346982 1.8188168\n",
      " 1.98416378 2.14951076 2.31485774 2.48020473 2.64555171 2.81089869\n",
      " 2.97624567 3.14159265]\n"
     ]
    }
   ],
   "source": [
    "a3 = np.linspace(0, np.pi, 20)\n",
    "print(a3)"
   ]
  },
  {
   "cell_type": "code",
   "execution_count": 110,
   "id": "e20d8fe9",
   "metadata": {},
   "outputs": [
    {
     "name": "stdout",
     "output_type": "stream",
     "text": [
      "[0 0 0 0 0 0 0 0 0 0]\n"
     ]
    }
   ],
   "source": [
    "a1 = np.zeros(10, int)  # 10개를 정수로\n",
    "print(a1)"
   ]
  },
  {
   "cell_type": "code",
   "execution_count": 111,
   "id": "ce97cbf6",
   "metadata": {},
   "outputs": [
    {
     "name": "stdout",
     "output_type": "stream",
     "text": [
      "[[0 0 0 0]\n",
      " [0 0 0 0]\n",
      " [0 0 0 0]]\n"
     ]
    }
   ],
   "source": [
    "a2 = np.zeros((3, 4), int)\n",
    "print(a2)"
   ]
  },
  {
   "cell_type": "code",
   "execution_count": 112,
   "id": "60cc27e7",
   "metadata": {},
   "outputs": [
    {
     "name": "stdout",
     "output_type": "stream",
     "text": [
      "[1. 1. 1. 1. 1.]\n"
     ]
    }
   ],
   "source": [
    "a3 = np.ones(5)\n",
    "print(a3)"
   ]
  },
  {
   "cell_type": "code",
   "execution_count": 113,
   "id": "73d541a8",
   "metadata": {},
   "outputs": [
    {
     "name": "stdout",
     "output_type": "stream",
     "text": [
      "[[1. 1. 1. 1. 1.]\n",
      " [1. 1. 1. 1. 1.]\n",
      " [1. 1. 1. 1. 1.]]\n"
     ]
    }
   ],
   "source": [
    "a4 = np.ones((3, 5))\n",
    "print(a4)"
   ]
  },
  {
   "cell_type": "code",
   "execution_count": 114,
   "id": "eedb4f83",
   "metadata": {},
   "outputs": [
    {
     "name": "stdout",
     "output_type": "stream",
     "text": [
      "[[1. 0. 0.]\n",
      " [0. 1. 0.]\n",
      " [0. 0. 1.]]\n"
     ]
    }
   ],
   "source": [
    "a5 = np.eye(3)\n",
    "print(a5)"
   ]
  },
  {
   "cell_type": "code",
   "execution_count": 115,
   "id": "e2b3d1bc",
   "metadata": {},
   "outputs": [
    {
     "name": "stdout",
     "output_type": "stream",
     "text": [
      "int32\n"
     ]
    }
   ],
   "source": [
    "print(a2.dtype)  # 각 항목들의 타입"
   ]
  },
  {
   "cell_type": "code",
   "execution_count": 116,
   "id": "08ffeffb",
   "metadata": {},
   "outputs": [
    {
     "name": "stdout",
     "output_type": "stream",
     "text": [
      "<class 'numpy.ndarray'>\n"
     ]
    }
   ],
   "source": [
    "print(type(a2))  # 파이썬에서 제공하는 타입 확인 -> 넘파이의 배열객체다 라고 알려줌"
   ]
  },
  {
   "cell_type": "code",
   "execution_count": 117,
   "id": "2c4e6c6c",
   "metadata": {},
   "outputs": [
    {
     "name": "stdout",
     "output_type": "stream",
     "text": [
      "float64\n"
     ]
    }
   ],
   "source": [
    "print(a5.dtype)  # 위 2개 햇갈리지 말것"
   ]
  },
  {
   "cell_type": "code",
   "execution_count": 118,
   "id": "f16bd569",
   "metadata": {},
   "outputs": [
    {
     "name": "stdout",
     "output_type": "stream",
     "text": [
      "['abc' 'whoami' 'chemistry']\n"
     ]
    }
   ],
   "source": [
    "a1 = np.array(['abc', 'whoami', 'chemistry'])\n",
    "print(a1)"
   ]
  },
  {
   "cell_type": "code",
   "execution_count": 119,
   "id": "b3acd420",
   "metadata": {},
   "outputs": [
    {
     "name": "stdout",
     "output_type": "stream",
     "text": [
      "<U9\n"
     ]
    }
   ],
   "source": [
    "print(a1.dtype)  # 제일 긴게 9개다 라는 뜻"
   ]
  },
  {
   "cell_type": "code",
   "execution_count": 120,
   "id": "909a5894",
   "metadata": {},
   "outputs": [
    {
     "name": "stdout",
     "output_type": "stream",
     "text": [
      "<U5\n"
     ]
    }
   ],
   "source": [
    "a1 = np.array(['1.567', '0.123', '5.232', '5', '8'])\n",
    "print(a1.dtype)"
   ]
  },
  {
   "cell_type": "code",
   "execution_count": 121,
   "id": "29922b93",
   "metadata": {},
   "outputs": [
    {
     "name": "stdout",
     "output_type": "stream",
     "text": [
      "float64\n"
     ]
    }
   ],
   "source": [
    "a2 = a1.astype(float)\n",
    "print(a2.dtype)"
   ]
  },
  {
   "cell_type": "code",
   "execution_count": 122,
   "id": "0394c35a",
   "metadata": {},
   "outputs": [
    {
     "name": "stdout",
     "output_type": "stream",
     "text": [
      "[1.567 0.123 5.232 5.    8.   ]\n"
     ]
    }
   ],
   "source": [
    "print(a2)"
   ]
  },
  {
   "cell_type": "code",
   "execution_count": 124,
   "id": "63a92b7a",
   "metadata": {},
   "outputs": [
    {
     "name": "stdout",
     "output_type": "stream",
     "text": [
      "[10.    20.     0.345  5.87   9.12 ]\n",
      "float64\n"
     ]
    }
   ],
   "source": [
    "a1_f = np.array([10, 20, 0.345, 5.87, 9.12])\n",
    "print(a1_f)\n",
    "print(a1_f.dtype)   # float 타입 -> 얘를 int 로 바꿔보면"
   ]
  },
  {
   "cell_type": "code",
   "execution_count": 125,
   "id": "ec870135",
   "metadata": {},
   "outputs": [
    {
     "name": "stdout",
     "output_type": "stream",
     "text": [
      "[10 20  0  5  9]\n",
      "int32\n"
     ]
    }
   ],
   "source": [
    "a1_i = a1_f.astype(int)\n",
    "print(a1_i)     # 반올림을 안하고 잘라버림\n",
    "print(a1_i.dtype)"
   ]
  },
  {
   "cell_type": "code",
   "execution_count": 126,
   "id": "f4c62f23",
   "metadata": {},
   "outputs": [
    {
     "name": "stdout",
     "output_type": "stream",
     "text": [
      "0.5181331396586725\n"
     ]
    }
   ],
   "source": [
    "a1 = np.random.rand()  # 0~1 사이의 난수\n",
    "print(a1)"
   ]
  },
  {
   "cell_type": "code",
   "execution_count": 127,
   "id": "38052218",
   "metadata": {},
   "outputs": [
    {
     "name": "stdout",
     "output_type": "stream",
     "text": [
      "[[0.2152128  0.79622251 0.05508869]\n",
      " [0.35773509 0.30180244 0.52698998]]\n"
     ]
    }
   ],
   "source": [
    "a2 = np.random.rand(2, 3)  # 2~3 사이의 난수가 아니라,  2 by 3 으로 난수를 만드를 것\n",
    "print(a2)"
   ]
  },
  {
   "cell_type": "code",
   "execution_count": 128,
   "id": "de47c98d",
   "metadata": {},
   "outputs": [
    {
     "name": "stdout",
     "output_type": "stream",
     "text": [
      "[[[0.06635605 0.04161842 0.68871548 0.26691714]\n",
      "  [0.09901662 0.33003127 0.14658662 0.54920078]\n",
      "  [0.95435637 0.60171838 0.58104998 0.74556497]]\n",
      "\n",
      " [[0.09778679 0.78761662 0.27144834 0.20793555]\n",
      "  [0.56198394 0.44126512 0.33618902 0.95895015]\n",
      "  [0.94216731 0.91499067 0.90220822 0.86824293]]]\n"
     ]
    }
   ],
   "source": [
    "a3 = np.random.rand(2, 3, 4)  # 3 by 4 를 2개\n",
    "print(a3)"
   ]
  },
  {
   "cell_type": "code",
   "execution_count": 129,
   "id": "49923bec",
   "metadata": {},
   "outputs": [
    {
     "name": "stdout",
     "output_type": "stream",
     "text": [
      "[[3 7 2 4]\n",
      " [5 5 1 8]\n",
      " [3 8 8 8]]\n"
     ]
    }
   ],
   "source": [
    "a1 = np.random.randint(10, size=(3, 4))    # (3, 4) size  의 int 0~10의 값 (난수*10 을 int로 뽑은듯)\n",
    "print(a1)"
   ]
  },
  {
   "cell_type": "code",
   "execution_count": 130,
   "id": "498ac17e",
   "metadata": {},
   "outputs": [
    {
     "name": "stdout",
     "output_type": "stream",
     "text": [
      "13\n"
     ]
    }
   ],
   "source": [
    "a2 = np.random.randint(1, 30)  # 1~29 사이의 값\n",
    "print(a2)   # 사이즈를 안줬으니 1개만 나옴"
   ]
  },
  {
   "cell_type": "code",
   "execution_count": 131,
   "id": "530cb39c",
   "metadata": {},
   "outputs": [
    {
     "name": "stdout",
     "output_type": "stream",
     "text": [
      "[[ 0 19  6 17]\n",
      " [16 13  7  3]\n",
      " [14 18 17  8]]\n"
     ]
    }
   ],
   "source": [
    "a1 = np.random.randint(20, size=(3, 4))\n",
    "print(a1)"
   ]
  },
  {
   "cell_type": "code",
   "execution_count": 132,
   "id": "96b9f359",
   "metadata": {},
   "outputs": [
    {
     "name": "stdout",
     "output_type": "stream",
     "text": [
      "13\n"
     ]
    }
   ],
   "source": [
    "a2 = np.random.randint(1, 30)\n",
    "print(a2)"
   ]
  },
  {
   "cell_type": "code",
   "execution_count": 133,
   "id": "ed74a852",
   "metadata": {},
   "outputs": [
    {
     "name": "stdout",
     "output_type": "stream",
     "text": [
      "[10, 20, 30, 40, 1, 2, 3, 4]\n"
     ]
    }
   ],
   "source": [
    "l1 = [10, 20, 30, 40]\n",
    "l2 = [1, 2, 3, 4]\n",
    "print(l1 + l2)  # 파이썬에서 배열끼리 더하면 그냥 합쳐버림"
   ]
  },
  {
   "cell_type": "code",
   "execution_count": 134,
   "id": "a7ada798",
   "metadata": {},
   "outputs": [
    {
     "name": "stdout",
     "output_type": "stream",
     "text": [
      "[11 22 33 44]\n"
     ]
    }
   ],
   "source": [
    "a1 = np.array([10, 20, 30, 40])\n",
    "a2 = np.array([1, 2, 3, 4])\n",
    "print(a1 + a2)  # numpy는 더하면 값을 더해줌"
   ]
  },
  {
   "cell_type": "code",
   "execution_count": 135,
   "id": "4a02a85b",
   "metadata": {},
   "outputs": [
    {
     "name": "stdout",
     "output_type": "stream",
     "text": [
      "[20 40 60 80]\n"
     ]
    }
   ],
   "source": [
    "print(a1 * 2)"
   ]
  },
  {
   "cell_type": "code",
   "execution_count": 136,
   "id": "5e0a21db",
   "metadata": {},
   "outputs": [
    {
     "name": "stdout",
     "output_type": "stream",
     "text": [
      "[ 100  400  900 1600]\n"
     ]
    }
   ],
   "source": [
    "print(a1 ** 2)  # numpy는 모든 산술연산을 해줌"
   ]
  },
  {
   "cell_type": "code",
   "execution_count": 137,
   "id": "9392e5c0",
   "metadata": {},
   "outputs": [
    {
     "name": "stdout",
     "output_type": "stream",
     "text": [
      "[10. 10. 10. 10.]\n"
     ]
    }
   ],
   "source": [
    "print(a1 / a2)"
   ]
  },
  {
   "cell_type": "code",
   "execution_count": 138,
   "id": "4b32093c",
   "metadata": {},
   "outputs": [
    {
     "name": "stdout",
     "output_type": "stream",
     "text": [
      "[False False  True  True]\n"
     ]
    }
   ],
   "source": [
    "print(a1 > 20)   # 항목별로 계산해줌"
   ]
  },
  {
   "cell_type": "code",
   "execution_count": 139,
   "id": "126b3f2f",
   "metadata": {},
   "outputs": [
    {
     "ename": "TypeError",
     "evalue": "'>' not supported between instances of 'list' and 'int'",
     "output_type": "error",
     "traceback": [
      "\u001b[1;31m---------------------------------------------------------------------------\u001b[0m",
      "\u001b[1;31mTypeError\u001b[0m                                 Traceback (most recent call last)",
      "\u001b[1;32m<ipython-input-139-8a7137c5e0b2>\u001b[0m in \u001b[0;36m<module>\u001b[1;34m\u001b[0m\n\u001b[1;32m----> 1\u001b[1;33m \u001b[0mprint\u001b[0m\u001b[1;33m(\u001b[0m\u001b[0ml1\u001b[0m \u001b[1;33m>\u001b[0m \u001b[1;36m20\u001b[0m\u001b[1;33m)\u001b[0m\u001b[1;33m\u001b[0m\u001b[1;33m\u001b[0m\u001b[0m\n\u001b[0m",
      "\u001b[1;31mTypeError\u001b[0m: '>' not supported between instances of 'list' and 'int'"
     ]
    }
   ],
   "source": [
    "print(l1 > 20)"
   ]
  },
  {
   "cell_type": "code",
   "execution_count": 140,
   "id": "f80953bf",
   "metadata": {},
   "outputs": [
    {
     "name": "stdout",
     "output_type": "stream",
     "text": [
      "[1 2 3 4 5]\n"
     ]
    }
   ],
   "source": [
    "a1 = np.arange(1, 6)\n",
    "print(a1)"
   ]
  },
  {
   "cell_type": "code",
   "execution_count": 141,
   "id": "3c9fca43",
   "metadata": {},
   "outputs": [
    {
     "name": "stdout",
     "output_type": "stream",
     "text": [
      "15\n"
     ]
    }
   ],
   "source": [
    "print(a1.sum())  # 넘파이 안에 있는 값을 싸그리 더해줌"
   ]
  },
  {
   "cell_type": "code",
   "execution_count": 142,
   "id": "df3e0986",
   "metadata": {},
   "outputs": [
    {
     "name": "stdout",
     "output_type": "stream",
     "text": [
      "3.0\n"
     ]
    }
   ],
   "source": [
    "print(a1.mean())  # 평균값"
   ]
  },
  {
   "cell_type": "code",
   "execution_count": 143,
   "id": "6a497b11",
   "metadata": {},
   "outputs": [
    {
     "name": "stdout",
     "output_type": "stream",
     "text": [
      "1.4142135623730951\n"
     ]
    }
   ],
   "source": [
    "print(a1.std())\n",
    "\n",
    "# 옛날엔 이런거 하려면 R이 필요했는데, 요즘은 왠만한건 파이썬에서 다 지원함"
   ]
  },
  {
   "cell_type": "code",
   "execution_count": 144,
   "id": "cba195c9",
   "metadata": {},
   "outputs": [
    {
     "name": "stdout",
     "output_type": "stream",
     "text": [
      "2.0\n"
     ]
    }
   ],
   "source": [
    "print(a1.var())"
   ]
  },
  {
   "cell_type": "code",
   "execution_count": 145,
   "id": "835720d6",
   "metadata": {},
   "outputs": [
    {
     "name": "stdout",
     "output_type": "stream",
     "text": [
      "1\n"
     ]
    }
   ],
   "source": [
    "print(a1.min())"
   ]
  },
  {
   "cell_type": "code",
   "execution_count": 146,
   "id": "1f818296",
   "metadata": {},
   "outputs": [
    {
     "name": "stdout",
     "output_type": "stream",
     "text": [
      "5\n"
     ]
    }
   ],
   "source": [
    "print(a1.max())"
   ]
  },
  {
   "cell_type": "code",
   "execution_count": 147,
   "id": "70c90e46",
   "metadata": {},
   "outputs": [
    {
     "name": "stdout",
     "output_type": "stream",
     "text": [
      "[ 1  3  6 10 15]\n"
     ]
    }
   ],
   "source": [
    "print(a1.cumsum())    #  1, 1+2, 1+2+3, 1+2+3+4, 1+2+3+4+5  -> 누적 합"
   ]
  },
  {
   "cell_type": "code",
   "execution_count": 148,
   "id": "4771e7a9",
   "metadata": {},
   "outputs": [
    {
     "name": "stdout",
     "output_type": "stream",
     "text": [
      "[1 2 3 4 5]\n"
     ]
    }
   ],
   "source": [
    "print(a1)"
   ]
  },
  {
   "cell_type": "code",
   "execution_count": 149,
   "id": "46ad9646",
   "metadata": {},
   "outputs": [
    {
     "name": "stdout",
     "output_type": "stream",
     "text": [
      "[  1   2   6  24 120]\n"
     ]
    }
   ],
   "source": [
    "print(a1.cumprod())"
   ]
  },
  {
   "cell_type": "code",
   "execution_count": 151,
   "id": "354ae46f",
   "metadata": {},
   "outputs": [
    {
     "name": "stdout",
     "output_type": "stream",
     "text": [
      "[[1 2 3]\n",
      " [4 5 6]]\n"
     ]
    }
   ],
   "source": [
    "n = np.arange(1, 7).reshape(2, 3)\n",
    "print(n)"
   ]
  },
  {
   "cell_type": "code",
   "execution_count": 152,
   "id": "e81e3c22",
   "metadata": {},
   "outputs": [
    {
     "name": "stdout",
     "output_type": "stream",
     "text": [
      "21\n"
     ]
    }
   ],
   "source": [
    "print(n.sum())"
   ]
  },
  {
   "cell_type": "code",
   "execution_count": 153,
   "id": "00e2270c",
   "metadata": {},
   "outputs": [
    {
     "name": "stdout",
     "output_type": "stream",
     "text": [
      "[5 7 9]\n"
     ]
    }
   ],
   "source": [
    "print(n.sum(axis=0))"
   ]
  },
  {
   "cell_type": "code",
   "execution_count": 154,
   "id": "b673dba8",
   "metadata": {},
   "outputs": [
    {
     "name": "stdout",
     "output_type": "stream",
     "text": [
      "[ 6 15]\n"
     ]
    }
   ],
   "source": [
    "print(n.sum(axis=1))"
   ]
  },
  {
   "cell_type": "code",
   "execution_count": 157,
   "id": "6b864e7a",
   "metadata": {},
   "outputs": [
    {
     "name": "stdout",
     "output_type": "stream",
     "text": [
      "[[0 1]\n",
      " [2 3]]\n"
     ]
    }
   ],
   "source": [
    "a = np.array([0, 1, 2, 3]).reshape(2, 2)\n",
    "print(a)"
   ]
  },
  {
   "cell_type": "code",
   "execution_count": 158,
   "id": "dff895b6",
   "metadata": {},
   "outputs": [
    {
     "name": "stdout",
     "output_type": "stream",
     "text": [
      "[[3 2]\n",
      " [0 1]]\n"
     ]
    }
   ],
   "source": [
    "b = np.array([3, 2, 0, 1]).reshape(2, 2)\n",
    "print(b)"
   ]
  },
  {
   "cell_type": "code",
   "execution_count": 159,
   "id": "49deb8ac",
   "metadata": {},
   "outputs": [
    {
     "name": "stdout",
     "output_type": "stream",
     "text": [
      "[[0 1]\n",
      " [6 7]]\n"
     ]
    }
   ],
   "source": [
    "print(a.dot(b))"
   ]
  },
  {
   "cell_type": "code",
   "execution_count": 160,
   "id": "a270960c",
   "metadata": {},
   "outputs": [
    {
     "name": "stdout",
     "output_type": "stream",
     "text": [
      "[[0 1]\n",
      " [6 7]]\n"
     ]
    }
   ],
   "source": [
    "print(np.dot(a, b))"
   ]
  },
  {
   "cell_type": "code",
   "execution_count": 161,
   "id": "39296ec9",
   "metadata": {},
   "outputs": [
    {
     "name": "stdout",
     "output_type": "stream",
     "text": [
      "[[0 2]\n",
      " [1 3]]\n"
     ]
    }
   ],
   "source": [
    "print(a.transpose())"
   ]
  },
  {
   "cell_type": "code",
   "execution_count": 162,
   "id": "2004a90b",
   "metadata": {},
   "outputs": [
    {
     "name": "stdout",
     "output_type": "stream",
     "text": [
      "[[0 2]\n",
      " [1 3]]\n"
     ]
    }
   ],
   "source": [
    "print(np.transpose(a))"
   ]
  },
  {
   "cell_type": "code",
   "execution_count": 163,
   "id": "f6fe308b",
   "metadata": {},
   "outputs": [
    {
     "name": "stdout",
     "output_type": "stream",
     "text": [
      "[[0 2]\n",
      " [1 3]]\n"
     ]
    }
   ],
   "source": [
    "print(a.T)"
   ]
  },
  {
   "cell_type": "code",
   "execution_count": 165,
   "id": "5f5d9930",
   "metadata": {},
   "outputs": [
    {
     "name": "stdout",
     "output_type": "stream",
     "text": [
      "[[0 1 2]\n",
      " [3 4 5]\n",
      " [6 7 8]]\n",
      "[[0 3 6]\n",
      " [1 4 7]\n",
      " [2 5 8]]\n"
     ]
    }
   ],
   "source": [
    "b = np.array([0, 1, 2, 3, 4, 5, 6, 7, 8]).reshape(3, 3)\n",
    "print(b)\n",
    "print(b.T)"
   ]
  },
  {
   "cell_type": "code",
   "execution_count": 169,
   "id": "356ddfa5",
   "metadata": {},
   "outputs": [
    {
     "name": "stdout",
     "output_type": "stream",
     "text": [
      "[[-1.5  0.5]\n",
      " [ 1.   0. ]]\n"
     ]
    }
   ],
   "source": [
    "print(np.linalg.inv(a))"
   ]
  },
  {
   "cell_type": "code",
   "execution_count": 171,
   "id": "a16c1f0b",
   "metadata": {},
   "outputs": [
    {
     "name": "stdout",
     "output_type": "stream",
     "text": [
      "-2.0\n"
     ]
    }
   ],
   "source": [
    "print(np.linalg.det(a))"
   ]
  },
  {
   "cell_type": "code",
   "execution_count": 172,
   "id": "b5449c71",
   "metadata": {},
   "outputs": [
    {
     "name": "stdout",
     "output_type": "stream",
     "text": [
      "[ 0 10 20 30 40 50]\n"
     ]
    }
   ],
   "source": [
    "# 이건 중요, 앞으로 데이터 처리할때 많이 쓰는 것\n",
    "a = np.array([0, 10, 20, 30, 40, 50])\n",
    "print(a)"
   ]
  },
  {
   "cell_type": "code",
   "execution_count": 173,
   "id": "137e48bb",
   "metadata": {},
   "outputs": [
    {
     "name": "stdout",
     "output_type": "stream",
     "text": [
      "0\n",
      "40\n"
     ]
    }
   ],
   "source": [
    "print(a[0])\n",
    "print(a[4])"
   ]
  },
  {
   "cell_type": "code",
   "execution_count": 174,
   "id": "9005b699",
   "metadata": {},
   "outputs": [
    {
     "name": "stdout",
     "output_type": "stream",
     "text": [
      "[ 0 10 20 30 40 90]\n"
     ]
    }
   ],
   "source": [
    "a[5] = 90\n",
    "print(a)"
   ]
  },
  {
   "cell_type": "code",
   "execution_count": 175,
   "id": "a24fc3d4",
   "metadata": {},
   "outputs": [
    {
     "name": "stdout",
     "output_type": "stream",
     "text": [
      "[ 0 10 20 30 40 50]\n"
     ]
    }
   ],
   "source": [
    "a = np.array([0, 10, 20, 30, 40, 50])\n",
    "print(a)"
   ]
  },
  {
   "cell_type": "code",
   "execution_count": 176,
   "id": "0457ee40",
   "metadata": {},
   "outputs": [
    {
     "name": "stdout",
     "output_type": "stream",
     "text": [
      "[10 30 40]\n"
     ]
    }
   ],
   "source": [
    "print(a[[1, 3, 4]])"
   ]
  },
  {
   "cell_type": "code",
   "execution_count": 177,
   "id": "826b2f3b",
   "metadata": {},
   "outputs": [
    {
     "name": "stdout",
     "output_type": "stream",
     "text": [
      "[[10 20 30]\n",
      " [40 50 60]\n",
      " [70 80 90]]\n"
     ]
    }
   ],
   "source": [
    "b = np.arange(10, 100, 10).reshape(3, 3)\n",
    "print(b)"
   ]
  },
  {
   "cell_type": "code",
   "execution_count": 178,
   "id": "bd17232f",
   "metadata": {},
   "outputs": [
    {
     "name": "stdout",
     "output_type": "stream",
     "text": [
      "30\n"
     ]
    }
   ],
   "source": [
    "print(b[0, 2])  # b[row, column]"
   ]
  },
  {
   "cell_type": "code",
   "execution_count": 179,
   "id": "0165c693",
   "metadata": {},
   "outputs": [
    {
     "name": "stdout",
     "output_type": "stream",
     "text": [
      "[40 50 60]\n"
     ]
    }
   ],
   "source": [
    "print(b[1])"
   ]
  },
  {
   "cell_type": "code",
   "execution_count": 181,
   "id": "d8c38305",
   "metadata": {},
   "outputs": [
    {
     "name": "stdout",
     "output_type": "stream",
     "text": [
      "[[10 20 30]\n",
      " [45 55 65]\n",
      " [70 80 90]]\n"
     ]
    }
   ],
   "source": [
    "b[1] = np.array([45, 55, 65])\n",
    "print(b)"
   ]
  },
  {
   "cell_type": "code",
   "execution_count": 182,
   "id": "7108058c",
   "metadata": {},
   "outputs": [
    {
     "name": "stdout",
     "output_type": "stream",
     "text": [
      "[10 80]\n"
     ]
    }
   ],
   "source": [
    "print(b[[0, 2], [0, 1]])   # row:0, column:0   /  row:2, column:1"
   ]
  },
  {
   "cell_type": "code",
   "execution_count": 183,
   "id": "0878c239",
   "metadata": {},
   "outputs": [
    {
     "name": "stdout",
     "output_type": "stream",
     "text": [
      "[1 2 3 4 5 6]\n"
     ]
    }
   ],
   "source": [
    "a = np.array([1, 2, 3, 4, 5, 6])\n",
    "print(a)"
   ]
  },
  {
   "cell_type": "code",
   "execution_count": 184,
   "id": "4ffcd0c0",
   "metadata": {},
   "outputs": [
    {
     "name": "stdout",
     "output_type": "stream",
     "text": [
      "[4 5 6]\n"
     ]
    }
   ],
   "source": [
    "print(a[a > 3])"
   ]
  },
  {
   "cell_type": "code",
   "execution_count": 188,
   "id": "ffa55b2b",
   "metadata": {},
   "outputs": [
    {
     "name": "stdout",
     "output_type": "stream",
     "text": [
      "[2 4 6]\n"
     ]
    }
   ],
   "source": [
    "print(a[if a % 2 == 0])\n",
    "# print(a[if a % 2 == 0])  -> Error  (X)\n",
    "# print(a[a if a % 2 == 0])  -> Error  (X)"
   ]
  },
  {
   "cell_type": "code",
   "execution_count": 189,
   "id": "3e0a1247",
   "metadata": {},
   "outputs": [
    {
     "name": "stdout",
     "output_type": "stream",
     "text": [
      "[ 0 10 20 30 40 50]\n"
     ]
    }
   ],
   "source": [
    "a = np.array([0, 10, 20, 30, 40, 50])\n",
    "print(a)"
   ]
  },
  {
   "cell_type": "code",
   "execution_count": 190,
   "id": "7ef099ac",
   "metadata": {},
   "outputs": [
    {
     "name": "stdout",
     "output_type": "stream",
     "text": [
      "[10 20 30]\n"
     ]
    }
   ],
   "source": [
    "print(a[1:4])"
   ]
  },
  {
   "cell_type": "code",
   "execution_count": 191,
   "id": "f29f9301",
   "metadata": {},
   "outputs": [
    {
     "name": "stdout",
     "output_type": "stream",
     "text": [
      "[ 0 10 20]\n"
     ]
    }
   ],
   "source": [
    "print(a[:3])"
   ]
  },
  {
   "cell_type": "code",
   "execution_count": 192,
   "id": "7bc7fa24",
   "metadata": {},
   "outputs": [
    {
     "name": "stdout",
     "output_type": "stream",
     "text": [
      "[20 30 40 50]\n"
     ]
    }
   ],
   "source": [
    "print(a[2:])"
   ]
  },
  {
   "cell_type": "code",
   "execution_count": 194,
   "id": "5a0ad1a5",
   "metadata": {},
   "outputs": [
    {
     "name": "stdout",
     "output_type": "stream",
     "text": [
      "[[10 20 30]\n",
      " [40 50 60]\n",
      " [70 80 90]]\n"
     ]
    }
   ],
   "source": [
    "a = np.arange(10, 100, 10).reshape(3, 3)   # step 10\n",
    "print(a)"
   ]
  },
  {
   "cell_type": "code",
   "execution_count": 195,
   "id": "16180e11",
   "metadata": {},
   "outputs": [
    {
     "name": "stdout",
     "output_type": "stream",
     "text": [
      "[[50 60]\n",
      " [80 90]]\n"
     ]
    }
   ],
   "source": [
    "print(a[1:3, 1:3])"
   ]
  },
  {
   "cell_type": "code",
   "execution_count": 196,
   "id": "07bc757d",
   "metadata": {},
   "outputs": [
    {
     "name": "stdout",
     "output_type": "stream",
     "text": [
      "[[20 30]\n",
      " [50 60]\n",
      " [80 90]]\n"
     ]
    }
   ],
   "source": [
    "print(a[:3, 1:])   #  첫번째가 줄 수, 2반째가 칸 수  /  0,1,2-> 3줄 , 1,2-> 2칸(0x 1o 2o)"
   ]
  },
  {
   "cell_type": "code",
   "execution_count": 197,
   "id": "977e9bb1",
   "metadata": {},
   "outputs": [
    {
     "name": "stdout",
     "output_type": "stream",
     "text": [
      "[40 50]\n"
     ]
    }
   ],
   "source": [
    "print(a[1][0:2])"
   ]
  },
  {
   "cell_type": "code",
   "execution_count": 198,
   "id": "144c3b48",
   "metadata": {},
   "outputs": [
    {
     "name": "stdout",
     "output_type": "stream",
     "text": [
      "[[40 50 60]]\n"
     ]
    }
   ],
   "source": [
    "print(a[1:2][0:2])  #  [1:2]에서 처음(1)은 포함, 끝(2)은 미포함=바로전(1)"
   ]
  },
  {
   "cell_type": "code",
   "execution_count": 199,
   "id": "de83b241",
   "metadata": {},
   "outputs": [
    {
     "name": "stdout",
     "output_type": "stream",
     "text": [
      "[[40 50]]\n"
     ]
    }
   ],
   "source": [
    "print(a[1:2, 0:2])   #  시작은 1, 끝은 2 바로 전=1 -> 둘이 같은 수를 나타냄"
   ]
  },
  {
   "cell_type": "code",
   "execution_count": 200,
   "id": "3fbebe46",
   "metadata": {},
   "outputs": [
    {
     "name": "stdout",
     "output_type": "stream",
     "text": [
      "[[40 50 60]]\n"
     ]
    }
   ],
   "source": [
    "print(a[1:2])"
   ]
  },
  {
   "cell_type": "code",
   "execution_count": 201,
   "id": "02c31e6c",
   "metadata": {},
   "outputs": [
    {
     "name": "stdout",
     "output_type": "stream",
     "text": [
      "[40 50]\n"
     ]
    }
   ],
   "source": [
    "print(a[1, 0:2])"
   ]
  },
  {
   "cell_type": "code",
   "execution_count": 202,
   "id": "efdd1cff",
   "metadata": {},
   "outputs": [],
   "source": [
    "# pandas 설치\n",
    "# conda install pandas\n",
    "# 데이터 처리할때 pandas 없는건 생각을 못할 정도로 많이 쓰임"
   ]
  },
  {
   "cell_type": "code",
   "execution_count": 203,
   "id": "03430673",
   "metadata": {},
   "outputs": [],
   "source": [
    "import pandas as pd"
   ]
  },
  {
   "cell_type": "code",
   "execution_count": 204,
   "id": "0f671d82",
   "metadata": {},
   "outputs": [
    {
     "name": "stdout",
     "output_type": "stream",
     "text": [
      "0    10\n",
      "1    20\n",
      "2    30\n",
      "3    40\n",
      "4    50\n",
      "dtype: int64\n"
     ]
    }
   ],
   "source": [
    "s1 = pd.Series([10, 20, 30, 40, 50])\n",
    "print(s1)  # pandas 의 series 객체\n",
    "\n",
    "# pandas.Series 객체의 특징 :  index를 자동으로 붙여줌"
   ]
  },
  {
   "cell_type": "code",
   "execution_count": 205,
   "id": "2439d7c1",
   "metadata": {},
   "outputs": [
    {
     "name": "stdout",
     "output_type": "stream",
     "text": [
      "RangeIndex(start=0, stop=5, step=1)\n"
     ]
    }
   ],
   "source": [
    "# index만 출력 가능\n",
    "print(s1.index)"
   ]
  },
  {
   "cell_type": "code",
   "execution_count": 206,
   "id": "d5ab9a38",
   "metadata": {},
   "outputs": [
    {
     "name": "stdout",
     "output_type": "stream",
     "text": [
      "[10 20 30 40 50]\n"
     ]
    }
   ],
   "source": [
    "print(s1.values)  # 근데 얘는 list가 아님"
   ]
  },
  {
   "cell_type": "code",
   "execution_count": 207,
   "id": "8fb0f9c4",
   "metadata": {},
   "outputs": [
    {
     "name": "stdout",
     "output_type": "stream",
     "text": [
      "<class 'numpy.ndarray'>\n"
     ]
    }
   ],
   "source": [
    "print(type(s1.values))"
   ]
  },
  {
   "cell_type": "code",
   "execution_count": 209,
   "id": "2e33b3bf",
   "metadata": {},
   "outputs": [
    {
     "name": "stdout",
     "output_type": "stream",
     "text": [
      "0    a\n",
      "1    b\n",
      "2    c\n",
      "3    1\n",
      "4    2\n",
      "5    3\n",
      "dtype: object\n"
     ]
    }
   ],
   "source": [
    "# pandas.series 의 특징은 numpy 배열과 다름  :  pandas.Series는 타입이 섞여도 됨(다 수용함)  -> 다 수용해야하므로object로 type이 나옴\n",
    "s2 = pd.Series(['a', 'b', 'c', 1, 2, 3])\n",
    "print(s2)"
   ]
  },
  {
   "cell_type": "code",
   "execution_count": 211,
   "id": "fd72d636",
   "metadata": {},
   "outputs": [
    {
     "name": "stdout",
     "output_type": "stream",
     "text": [
      "0    NaN\n",
      "1    1.0\n",
      "2    2.0\n",
      "dtype: float64\n"
     ]
    }
   ],
   "source": [
    "s3 = pd.Series([np.nan, 1, 2])   # nan ( Not A Number)  -> 넘버거 아니다 -> 아무것도 없을때, nan으로 비워줄 수 있다.\n",
    "print(s3)\n",
    "\n",
    "# 중간에 자리는 차지하지만 값은 없을때 사용 가능"
   ]
  },
  {
   "cell_type": "code",
   "execution_count": 212,
   "id": "08927022",
   "metadata": {},
   "outputs": [
    {
     "name": "stdout",
     "output_type": "stream",
     "text": [
      "0    200.0\n",
      "1    187.0\n",
      "2      NaN\n",
      "3    210.0\n",
      "dtype: float64\n"
     ]
    }
   ],
   "source": [
    "index_date = ['2021-03-20', '2021-03-22', '2021-03-23']  # 이렇게 미리 만들어 놓고\n",
    "s4 = pd.Series([200, 187, np.nan, 210])  # 일단 data를 넣어주고, 여기에다가 index args에다가  <- 저렇게 넣어주고 출력하면\n",
    "print(s4)"
   ]
  },
  {
   "cell_type": "code",
   "execution_count": 215,
   "id": "0bf1f447",
   "metadata": {},
   "outputs": [
    {
     "name": "stdout",
     "output_type": "stream",
     "text": [
      "2021-03-20    200.0\n",
      "2021-03-21    187.0\n",
      "2021-03-22      NaN\n",
      "2021-03-23    210.0\n",
      "dtype: float64\n"
     ]
    }
   ],
   "source": [
    "index_date = ['2021-03-20', '2021-03-21', \\\n",
    "              '2021-03-22', '2021-03-23']  # 이렇게 미리 만들어 놓고\n",
    "s4 = pd.Series([200, 187, np.nan, 210], index = index_date)  # 일단 data를 넣어주고, 여기에다가 index args에다가  <- 저렇게 넣어주고 출력하면\n",
    "print(s4)"
   ]
  },
  {
   "cell_type": "code",
   "execution_count": 216,
   "id": "47eb7ff6",
   "metadata": {},
   "outputs": [
    {
     "name": "stdout",
     "output_type": "stream",
     "text": [
      "국어    100\n",
      "영어     95\n",
      "수학    100\n",
      "dtype: int64\n"
     ]
    }
   ],
   "source": [
    "# dict를 이용하면, index, value값 동시에 넣어줄 수 있음 (pd.Series에)\n",
    "s5 = pd.Series({'국어':100, '영어':95, '수학':100})\n",
    "print(s5)"
   ]
  },
  {
   "cell_type": "code",
   "execution_count": 217,
   "id": "9cb50eff",
   "metadata": {},
   "outputs": [
    {
     "name": "stdout",
     "output_type": "stream",
     "text": [
      "DatetimeIndex(['2021-08-01', '2021-08-02', '2021-08-03', '2021-08-04',\n",
      "               '2021-08-05', '2021-08-06', '2021-08-07', '2021-08-08',\n",
      "               '2021-08-09', '2021-08-10', '2021-08-11', '2021-08-12',\n",
      "               '2021-08-13', '2021-08-14', '2021-08-15', '2021-08-16',\n",
      "               '2021-08-17', '2021-08-18', '2021-08-19', '2021-08-20',\n",
      "               '2021-08-21', '2021-08-22', '2021-08-23', '2021-08-24',\n",
      "               '2021-08-25', '2021-08-26', '2021-08-27', '2021-08-28',\n",
      "               '2021-08-29', '2021-08-30', '2021-08-31'],\n",
      "              dtype='datetime64[ns]', freq='D')\n"
     ]
    }
   ],
   "source": [
    "# 이렇게 수동이 아니라, 판다스에 날짜를 자동으로 만들어주는 기능이 있음. -> 많이 쓰임\n",
    "p = pd.date_range(start='2021-08-01', end='2021-08-31')   #  8월 1일 부터 8월 31일까지 -> DatetimeIndex값을 자동으로 생성해줌\n",
    "print(p)"
   ]
  },
  {
   "cell_type": "code",
   "execution_count": 219,
   "id": "93ebe0a6",
   "metadata": {},
   "outputs": [
    {
     "name": "stdout",
     "output_type": "stream",
     "text": [
      "DatetimeIndex(['2021-08-01', '2021-08-02', '2021-08-03', '2021-08-04',\n",
      "               '2021-08-05', '2021-08-06', '2021-08-07', '2021-08-08',\n",
      "               '2021-08-09', '2021-08-10', '2021-08-11', '2021-08-12',\n",
      "               '2021-08-13', '2021-08-14', '2021-08-15', '2021-08-16',\n",
      "               '2021-08-17', '2021-08-18', '2021-08-19', '2021-08-20',\n",
      "               '2021-08-21', '2021-08-22', '2021-08-23', '2021-08-24',\n",
      "               '2021-08-25', '2021-08-26', '2021-08-27', '2021-08-28',\n",
      "               '2021-08-29', '2021-08-30', '2021-08-31'],\n",
      "              dtype='datetime64[ns]', freq='D')\n"
     ]
    }
   ],
   "source": [
    "p = pd.date_range(start='2021/08/01', end='2021.08.31')  # 날짜를 꼭 짝대기가 아니라, 슬레시/ 나 점. 으로도 입력 할 수 있지만\n",
    "print(p)   # 출력은 항상 짝대기 ( - ) 로 나옴"
   ]
  },
  {
   "cell_type": "code",
   "execution_count": 220,
   "id": "9b2161ac",
   "metadata": {},
   "outputs": [
    {
     "name": "stdout",
     "output_type": "stream",
     "text": [
      "DatetimeIndex(['2021-01-08', '2021-01-09', '2021-01-10', '2021-01-11',\n",
      "               '2021-01-12', '2021-01-13', '2021-01-14', '2021-01-15',\n",
      "               '2021-01-16', '2021-01-17',\n",
      "               ...\n",
      "               '2021-08-22', '2021-08-23', '2021-08-24', '2021-08-25',\n",
      "               '2021-08-26', '2021-08-27', '2021-08-28', '2021-08-29',\n",
      "               '2021-08-30', '2021-08-31'],\n",
      "              dtype='datetime64[ns]', length=236, freq='D')\n"
     ]
    }
   ],
   "source": [
    "# 넣을때 day-month-year 로 넣어줘도 알아서 판단함\n",
    "p = pd.date_range(start='01-08-2021', end='31.08.2021')\n",
    "print(p)"
   ]
  },
  {
   "cell_type": "code",
   "execution_count": 221,
   "id": "523fbaca",
   "metadata": {},
   "outputs": [
    {
     "name": "stdout",
     "output_type": "stream",
     "text": [
      "DatetimeIndex(['2021-08-10', '2021-08-11', '2021-08-12', '2021-08-13',\n",
      "               '2021-08-14', '2021-08-15', '2021-08-16'],\n",
      "              dtype='datetime64[ns]', freq='D')\n"
     ]
    }
   ],
   "source": [
    "p = pd.date_range(start='2021-08-10', periods=7) # periods argument를 이용해서 7일, 이렇게도 가능 -> end= <-안넣고도 가ㅡㅇ\n",
    "print(p)\n",
    "\n",
    "# pandas만 잘써도, exel 데이터 같은거 pandas에 넣기 편해짐\n",
    "\n",
    "# freq='D' -> day 옵션.  -> 전부 뒤에 이게 오는데 -> 하루 하루 나오는 것.\n",
    "\n",
    "# pandas의 공식 옵션\n",
    "# https://pandas.pydata.org/pandas-docs/stable/user_guide/timeseries.html#offset-aliases\n",
    "# 굉장히 많음.  몇가지만 실습,."
   ]
  },
  {
   "cell_type": "code",
   "execution_count": 222,
   "id": "c978c64c",
   "metadata": {},
   "outputs": [
    {
     "name": "stdout",
     "output_type": "stream",
     "text": [
      "DatetimeIndex(['2021-08-01', '2021-08-03', '2021-08-05', '2021-08-07'], dtype='datetime64[ns]', freq='2D')\n"
     ]
    }
   ],
   "source": [
    "p = pd.date_range(start='2021-08-01', periods=4, freq='2D')  #  freq='2D'   옵션 - > 이러면 2일씩 나옴(1, 3, 5, 7)\n",
    "print(p)"
   ]
  },
  {
   "cell_type": "code",
   "execution_count": 223,
   "id": "04256638",
   "metadata": {},
   "outputs": [
    {
     "name": "stdout",
     "output_type": "stream",
     "text": [
      "DatetimeIndex(['2021-08-22', '2021-08-29', '2021-09-05', '2021-09-12',\n",
      "               '2021-09-19'],\n",
      "              dtype='datetime64[ns]', freq='W-SUN')\n"
     ]
    }
   ],
   "source": [
    "p = pd.date_range(start='2021-08-18', periods=5, freq='W')   #  W -> week\n",
    "print(p)  # 8월 18일 기준으로 W(week) 7일씩 5개 찍는데, freq='W-SUN'  이라 일요일만 찍음"
   ]
  },
  {
   "cell_type": "code",
   "execution_count": 224,
   "id": "d919b652",
   "metadata": {},
   "outputs": [
    {
     "name": "stdout",
     "output_type": "stream",
     "text": [
      "DatetimeIndex(['2021-08-23', '2021-08-30', '2021-09-06', '2021-09-13',\n",
      "               '2021-09-20'],\n",
      "              dtype='datetime64[ns]', freq='W-MON')\n"
     ]
    }
   ],
   "source": [
    "p = pd.date_range(start='2021-08-18', periods=5, freq='W-Mon')  # freq='W-Mon' ->  월요일만 출력\n",
    "print(p)"
   ]
  },
  {
   "cell_type": "code",
   "execution_count": 225,
   "id": "9842639e",
   "metadata": {},
   "outputs": [
    {
     "name": "stdout",
     "output_type": "stream",
     "text": [
      "DatetimeIndex(['2021-07-30', '2021-09-30', '2021-11-30', '2022-01-31',\n",
      "               '2022-03-31', '2022-05-31', '2022-07-29', '2022-09-30',\n",
      "               '2022-11-30', '2023-01-31', '2023-03-31', '2023-05-31'],\n",
      "              dtype='datetime64[ns]', freq='2BM')\n"
     ]
    }
   ],
   "source": [
    "p = pd.date_range(start='2021-07-23', periods=12, freq='2BM')   # 2개월씩 맨 마지막 -> 토, 일요일 빠짐\n",
    "print(p)"
   ]
  },
  {
   "cell_type": "code",
   "execution_count": 228,
   "id": "11ea0ed8",
   "metadata": {},
   "outputs": [
    {
     "name": "stdout",
     "output_type": "stream",
     "text": [
      "DatetimeIndex(['2021-04-01', '2021-07-01', '2021-10-01', '2022-01-01'], dtype='datetime64[ns]', freq='QS-JAN')\n"
     ]
    }
   ],
   "source": [
    "p = pd.date_range(start='2021-01-04', periods=4, freq='QS')  #  2021-01-04를 기준으로 분기의 시작일 출력\n",
    "print(p)"
   ]
  },
  {
   "cell_type": "code",
   "execution_count": 229,
   "id": "65065252",
   "metadata": {},
   "outputs": [
    {
     "name": "stdout",
     "output_type": "stream",
     "text": [
      "DatetimeIndex(['2022-01-01', '2023-01-01', '2024-01-01'], dtype='datetime64[ns]', freq='AS-JAN')\n"
     ]
    }
   ],
   "source": [
    "p = pd.date_range(start='2021-02-01', periods=3, freq='AS')  # AS = Annual Start = 매년 시작일\n",
    "print(p)"
   ]
  },
  {
   "cell_type": "code",
   "execution_count": 230,
   "id": "6e10bbe8",
   "metadata": {},
   "outputs": [
    {
     "name": "stdout",
     "output_type": "stream",
     "text": [
      "DatetimeIndex(['2021-01-01 08:00:00', '2021-01-01 09:00:00',\n",
      "               '2021-01-01 10:00:00', '2021-01-01 11:00:00',\n",
      "               '2021-01-01 12:00:00', '2021-01-01 13:00:00',\n",
      "               '2021-01-01 14:00:00', '2021-01-01 15:00:00',\n",
      "               '2021-01-01 16:00:00', '2021-01-01 17:00:00'],\n",
      "              dtype='datetime64[ns]', freq='H')\n"
     ]
    }
   ],
   "source": [
    "# 날짜 말고 시간도 만듭니다 얘가.\n",
    "p = pd.date_range(start='2021-01-01 08:00', periods=10, freq='H')   # freq='H' -> Hour = 시간(1시간) 기준 10개 출력\n",
    "print(p)"
   ]
  },
  {
   "cell_type": "code",
   "execution_count": 231,
   "id": "694a1c90",
   "metadata": {},
   "outputs": [
    {
     "name": "stdout",
     "output_type": "stream",
     "text": [
      "DatetimeIndex(['2021-01-01 09:00:00', '2021-01-01 10:00:00',\n",
      "               '2021-01-01 11:00:00', '2021-01-01 12:00:00',\n",
      "               '2021-01-01 13:00:00', '2021-01-01 14:00:00',\n",
      "               '2021-01-01 15:00:00', '2021-01-01 16:00:00',\n",
      "               '2021-01-04 09:00:00', '2021-01-04 10:00:00'],\n",
      "              dtype='datetime64[ns]', freq='BH')\n"
     ]
    }
   ],
   "source": [
    "p = pd.date_range(start='2021-01-01 08:00', periods=10, freq='BH')   #  얘들은 17시에 퇴근하나봐. 17시 안나오고\n",
    "print(p)   # 17:00 빼고 총 10개"
   ]
  },
  {
   "cell_type": "code",
   "execution_count": 232,
   "id": "810d00c7",
   "metadata": {},
   "outputs": [
    {
     "name": "stdout",
     "output_type": "stream",
     "text": [
      "<CustomBusinessHour: CBH=09:00-18:00>\n"
     ]
    }
   ],
   "source": [
    "# 우리나라에 맞게 고침\n",
    "cbh = pd.offsets.CustomBusinessHour(start='09:00'\n",
    "                                   , end='18:00'\n",
    "                                ,weekmask='Mon Tue Wed Thu Fri')\n",
    "print(cbh)\n",
    "\n",
    "# 이러면 CustomBusinessHour 객체가 만들어짐"
   ]
  },
  {
   "cell_type": "code",
   "execution_count": 234,
   "id": "57cfec29",
   "metadata": {},
   "outputs": [
    {
     "name": "stdout",
     "output_type": "stream",
     "text": [
      "DatetimeIndex(['2021-01-01 09:00:00', '2021-01-01 10:00:00',\n",
      "               '2021-01-01 11:00:00', '2021-01-01 12:00:00',\n",
      "               '2021-01-01 13:00:00', '2021-01-01 14:00:00',\n",
      "               '2021-01-01 15:00:00', '2021-01-01 16:00:00',\n",
      "               '2021-01-01 17:00:00', '2021-01-04 09:00:00'],\n",
      "              dtype='datetime64[ns]', freq='CBH')\n"
     ]
    }
   ],
   "source": [
    "p = pd.date_range(start='2021-01-01 08:00', periods=10, freq=cbh)   # freq에 우리가 만든 chh 객체를 넣어줌\n",
    "print(p)  # 이러면 17시까지 나옴"
   ]
  },
  {
   "cell_type": "code",
   "execution_count": 235,
   "id": "e9f41479",
   "metadata": {},
   "outputs": [
    {
     "name": "stdout",
     "output_type": "stream",
     "text": [
      "DatetimeIndex(['2021-01-01 00:00:00', '2021-01-01 00:30:00',\n",
      "               '2021-01-01 01:00:00', '2021-01-01 01:30:00'],\n",
      "              dtype='datetime64[ns]', freq='30T')\n"
     ]
    }
   ],
   "source": [
    "p = pd.date_range(start='2021-01-01', periods=4, freq='30min')\n",
    "print(p)"
   ]
  },
  {
   "cell_type": "code",
   "execution_count": 236,
   "id": "951b7463",
   "metadata": {},
   "outputs": [
    {
     "name": "stdout",
     "output_type": "stream",
     "text": [
      "DatetimeIndex(['2021-01-01 00:00:00', '2021-01-01 00:00:10',\n",
      "               '2021-01-01 00:00:20', '2021-01-01 00:00:30'],\n",
      "              dtype='datetime64[ns]', freq='10S')\n"
     ]
    }
   ],
   "source": [
    "p = pd.date_range(start='2021-01-01', periods=4, freq='10S')\n",
    "print(p)"
   ]
  },
  {
   "cell_type": "code",
   "execution_count": 239,
   "id": "ee74e8c5",
   "metadata": {},
   "outputs": [
    {
     "name": "stdout",
     "output_type": "stream",
     "text": [
      "2021-08-01    51\n",
      "2021-08-02    63\n",
      "2021-08-03    59\n",
      "2021-08-04    48\n",
      "2021-08-05    60\n",
      "Freq: D, dtype: int64\n"
     ]
    }
   ],
   "source": [
    "# 이제 직접 넣어보자\n",
    "index_date = pd.date_range(start='2021-08-01', periods=5,\\\n",
    "                          freq='D')\n",
    "p = pd.Series([51, 63, 59, 48, 60], index=index_date)\n",
    "print(p)\n",
    "\n",
    "# pd.Series는 여기까지 하고 이제 dataframe 들어감(pd.DataFrame -> 중요)"
   ]
  },
  {
   "cell_type": "code",
   "execution_count": 240,
   "id": "d48ad12b",
   "metadata": {},
   "outputs": [
    {
     "name": "stdout",
     "output_type": "stream",
     "text": [
      "   0  1  2\n",
      "0  1  2  3\n",
      "1  4  5  6\n",
      "2  7  8  9\n"
     ]
    }
   ],
   "source": [
    "df = pd.DataFrame([[1, 2, 3], [4, 5, 6], [7, 8, 9]])\n",
    "print(df)\n",
    "\n",
    "# 왼쪽에 있는건(0 1 2) index, 위쪽에 있는건 컬럼=Column(0 1 2)"
   ]
  },
  {
   "cell_type": "code",
   "execution_count": 242,
   "id": "0c3b9812",
   "metadata": {},
   "outputs": [
    {
     "name": "stdout",
     "output_type": "stream",
     "text": [
      "   0  1  2\n",
      "0  1  2  3\n",
      "1  4  5  6\n",
      "2  7  8  9\n"
     ]
    }
   ],
   "source": [
    "data_list = np.array([[1, 2, 3], [4, 5, 6], [7, 8, 9]])\n",
    "df = pd.DataFrame(data_list)\n",
    "print(df)\n",
    "\n",
    "# numpy data를 만들어 놓고, 그걸 pandas에 대입.  자주 쓰임"
   ]
  },
  {
   "cell_type": "code",
   "execution_count": 243,
   "id": "48565757",
   "metadata": {},
   "outputs": [
    {
     "name": "stdout",
     "output_type": "stream",
     "text": [
      "             A   B   C\n",
      "2021-08-01   1   2   3\n",
      "2021-08-02   4   5   6\n",
      "2021-08-03   7   8   9\n",
      "2021-08-04  10  11  12\n"
     ]
    }
   ],
   "source": [
    "data = np.array([[1, 2, 3], [4, 5, 6], [7, 8, 9], [10, 11, 12]])\n",
    "index_date = pd.date_range('2021-08-01', periods=4)\n",
    "columns_list = ['A', 'B', 'C']\n",
    "df = pd.DataFrame(data, index=index_date, columns=columns_list)\n",
    "print(df)"
   ]
  },
  {
   "cell_type": "code",
   "execution_count": 244,
   "id": "0ab18498",
   "metadata": {},
   "outputs": [
    {
     "name": "stdout",
     "output_type": "stream",
     "text": [
      "     연도  지사  고객 수\n",
      "0  2015  서울   200\n",
      "1  2016  서울   250\n",
      "2  2016  부산   150\n",
      "3  2017  서울   300\n",
      "4  2017  부산   200\n"
     ]
    }
   ],
   "source": [
    "data = {'연도':[2015, 2016, 2016, 2017, 2017], \\\n",
    "       '지사':['서울', '서울', '부산', '서울', '부산'], \\\n",
    "       '고객 수': [200, 250, 150, 300, 200]}\n",
    "df = pd.DataFrame(data)\n",
    "print(df)"
   ]
  },
  {
   "cell_type": "code",
   "execution_count": 245,
   "id": "d2b79775",
   "metadata": {},
   "outputs": [
    {
     "name": "stdout",
     "output_type": "stream",
     "text": [
      "   지사    연도  고객 수\n",
      "0  서울  2015   200\n",
      "1  서울  2016   250\n",
      "2  부산  2016   150\n",
      "3  서울  2017   300\n",
      "4  부산  2017   200\n"
     ]
    }
   ],
   "source": [
    "data = {'연도':[2015, 2016, 2016, 2017, 2017], \\\n",
    "       '지사':['서울', '서울', '부산', '서울', '부산'], \\\n",
    "       '고객 수': [200, 250, 150, 300, 200]}\n",
    "df = pd.DataFrame(data, columns=['지사', '연도', '고객 수'])  #  columns에서 순서를 바꿀 수 있음\n",
    "print(df)"
   ]
  },
  {
   "cell_type": "code",
   "execution_count": 246,
   "id": "8e202908",
   "metadata": {},
   "outputs": [
    {
     "name": "stdout",
     "output_type": "stream",
     "text": [
      "RangeIndex(start=0, stop=5, step=1)\n",
      "Index(['지사', '연도', '고객 수'], dtype='object')\n",
      "[['서울' 2015 200]\n",
      " ['서울' 2016 250]\n",
      " ['부산' 2016 150]\n",
      " ['서울' 2017 300]\n",
      " ['부산' 2017 200]]\n"
     ]
    }
   ],
   "source": [
    "# 각각을 따로 따로 볼 수 도 있다\n",
    "print(df.index)\n",
    "print(df.columns)\n",
    "print(df.values)"
   ]
  },
  {
   "cell_type": "code",
   "execution_count": 247,
   "id": "446db5e1",
   "metadata": {},
   "outputs": [
    {
     "name": "stdout",
     "output_type": "stream",
     "text": [
      "0    11\n",
      "1    22\n",
      "2    33\n",
      "3    44\n",
      "4    55\n",
      "dtype: int64\n",
      "0    10.0\n",
      "1    10.0\n",
      "2    10.0\n",
      "3    10.0\n",
      "4    10.0\n",
      "dtype: float64\n"
     ]
    }
   ],
   "source": [
    "s1 = pd.Series([1, 2, 3, 4, 5])\n",
    "s2 = pd.Series([10, 20, 30, 40, 50])\n",
    "print(s1 + s2)\n",
    "print(s2 / s1)"
   ]
  },
  {
   "cell_type": "code",
   "execution_count": 248,
   "id": "f21677f3",
   "metadata": {},
   "outputs": [
    {
     "name": "stdout",
     "output_type": "stream",
     "text": [
      "0    11.0\n",
      "1    22.0\n",
      "2    33.0\n",
      "3    44.0\n",
      "4     NaN\n",
      "dtype: float64\n"
     ]
    }
   ],
   "source": [
    "# 항목의 개수가 다르면\n",
    "s3 = pd.Series([1, 2, 3, 4])\n",
    "s4 = pd.Series([10, 20, 30, 40, 50])\n",
    "print(s3 + s4)\n",
    "\n",
    "# 에러는 안뽑고 최대한 할 수 있는대까진 해줌. 그러나 마지막은 갯수가 모자라서 NaN으로 출력함."
   ]
  },
  {
   "cell_type": "code",
   "execution_count": 249,
   "id": "5a77ca31",
   "metadata": {},
   "outputs": [
    {
     "name": "stdout",
     "output_type": "stream",
     "text": [
      "   A   B    C\n",
      "0  1  10  100\n",
      "1  2  20  200\n",
      "2  3  30  300\n",
      "3  4  40  400\n",
      "4  5  50  500\n"
     ]
    }
   ],
   "source": [
    "# dataframe 으로 연산\n",
    "data1 = {'A':[1, 2, 3, 4, 5], 'B':[10, 20, 30, 40, 50], \\\n",
    "        'C':[100, 200, 300, 400, 500]}\n",
    "df1 = pd.DataFrame(data1)\n",
    "print(df1)"
   ]
  },
  {
   "cell_type": "code",
   "execution_count": 250,
   "id": "598a0ae4",
   "metadata": {},
   "outputs": [
    {
     "name": "stdout",
     "output_type": "stream",
     "text": [
      "   A   B    C\n",
      "0  6  60  600\n",
      "1  7  70  700\n",
      "2  8  80  800\n"
     ]
    }
   ],
   "source": [
    "data2 = {'A':[6, 7, 8], 'B':[60, 70, 80], 'C':[600, 700, 800]}\n",
    "df2 = pd.DataFrame(data2)\n",
    "print(df2)"
   ]
  },
  {
   "cell_type": "code",
   "execution_count": 251,
   "id": "c44d19b3",
   "metadata": {},
   "outputs": [
    {
     "name": "stdout",
     "output_type": "stream",
     "text": [
      "      A      B       C\n",
      "0   7.0   70.0   700.0\n",
      "1   9.0   90.0   900.0\n",
      "2  11.0  110.0  1100.0\n",
      "3   NaN    NaN     NaN\n",
      "4   NaN    NaN     NaN\n"
     ]
    }
   ],
   "source": [
    "# df1은 row3 column5,  df2는 row3 column3 인데 계산을 해줌, 안맞는 부분은 NaN으로 처리\n",
    "print(df1 + df2)"
   ]
  },
  {
   "cell_type": "code",
   "execution_count": 252,
   "id": "9e66e56d",
   "metadata": {},
   "outputs": [],
   "source": [
    "# 우리나라 기상청 실제 통계\n",
    "\n",
    "table_data3 = {'봄':  [256.5, 264.3, 215.9, 223.2, 312.8],\n",
    "              '여름': [770.6, 567.5, 599.8, 387.1, 446.2],\n",
    "              '가을': [363.5, 231.2, 293.1, 247.7, 381.6],\n",
    "              '겨울': [139.3, 59.9, 76.9, 109.1, 108.1]}\n",
    "columns_list = ['봄', '여름', '가을', '겨울']\n",
    "index_list = ['2012', '2013', '2014', '2015', '2016']"
   ]
  },
  {
   "cell_type": "code",
   "execution_count": 254,
   "id": "24702f17",
   "metadata": {},
   "outputs": [
    {
     "name": "stdout",
     "output_type": "stream",
     "text": [
      "          봄     여름     가을     겨울\n",
      "2012  256.5  770.6  363.5  139.3\n",
      "2013  264.3  567.5  231.2   59.9\n",
      "2014  215.9  599.8  293.1   76.9\n",
      "2015  223.2  387.1  247.7  109.1\n",
      "2016  312.8  446.2  381.6  108.1\n"
     ]
    }
   ],
   "source": [
    "df3 = pd.DataFrame(table_data3, columns=columns_list, \\\n",
    "                  index=index_list)\n",
    "print(df3)  # 2012~2016 강수량 측계"
   ]
  },
  {
   "cell_type": "code",
   "execution_count": 255,
   "id": "1d16f583",
   "metadata": {},
   "outputs": [
    {
     "name": "stdout",
     "output_type": "stream",
     "text": [
      "봄     254.54\n",
      "여름    554.24\n",
      "가을    303.42\n",
      "겨울     98.66\n",
      "dtype: float64\n"
     ]
    }
   ],
   "source": [
    "print(df3.mean())   # 평균 (Axis 0 으로 평균)"
   ]
  },
  {
   "cell_type": "code",
   "execution_count": 256,
   "id": "8512a91d",
   "metadata": {},
   "outputs": [
    {
     "name": "stdout",
     "output_type": "stream",
     "text": [
      "2012    382.475\n",
      "2013    280.725\n",
      "2014    296.425\n",
      "2015    241.775\n",
      "2016    312.175\n",
      "dtype: float64\n"
     ]
    }
   ],
   "source": [
    "# 연도별 평균\n",
    "print(df3.mean(axis=1))"
   ]
  },
  {
   "cell_type": "code",
   "execution_count": 258,
   "id": "1944ce67",
   "metadata": {},
   "outputs": [
    {
     "name": "stdout",
     "output_type": "stream",
     "text": [
      "봄      38.628267\n",
      "여름    148.888895\n",
      "가을     67.358496\n",
      "겨울     30.925523\n",
      "dtype: float64\n"
     ]
    }
   ],
   "source": [
    "print(df3.std())   # Axis 0 -> 계절별 평균"
   ]
  },
  {
   "cell_type": "code",
   "execution_count": 259,
   "id": "cde66571",
   "metadata": {},
   "outputs": [
    {
     "name": "stdout",
     "output_type": "stream",
     "text": [
      "2012    274.472128\n",
      "2013    211.128782\n",
      "2014    221.150739\n",
      "2015    114.166760\n",
      "2016    146.548658\n",
      "dtype: float64\n"
     ]
    }
   ],
   "source": [
    "print(df3.std(axis=1))"
   ]
  },
  {
   "cell_type": "code",
   "execution_count": 260,
   "id": "5e14e1b3",
   "metadata": {},
   "outputs": [
    {
     "name": "stdout",
     "output_type": "stream",
     "text": [
      "                봄          여름          가을          겨울\n",
      "count    5.000000    5.000000    5.000000    5.000000\n",
      "mean   254.540000  554.240000  303.420000   98.660000\n",
      "std     38.628267  148.888895   67.358496   30.925523\n",
      "min    215.900000  387.100000  231.200000   59.900000\n",
      "25%    223.200000  446.200000  247.700000   76.900000\n",
      "50%    256.500000  567.500000  293.100000  108.100000\n",
      "75%    264.300000  599.800000  363.500000  109.100000\n",
      "max    312.800000  770.600000  381.600000  139.300000\n"
     ]
    }
   ],
   "source": [
    "print(df3.describe())"
   ]
  },
  {
   "cell_type": "code",
   "execution_count": 261,
   "id": "d4cf03f8",
   "metadata": {},
   "outputs": [],
   "source": [
    "# 코레일, KTX 이용자 수(2011~2017)\n",
    "KTX_data = {'경부선 KTX': [39060, 39896, 42005, 43621, 41702, 41266, 32427],\n",
    "            '호남선 KTX': [7313, 6967, 6873, 6626, 8675, 10622, 9228],\n",
    "            '경전선 KTX': [3627, 4168, 4088, 4424, 4606, 4984, 5570],\n",
    "            '전라선 KTX': [309, 1771, 1954, 2244, 3146, 3945, 5766],\n",
    "            '동해선 KTX': [np.nan,np.nan, np.nan, np.nan, 2395, 3786, 6667]}\n",
    "col_list = ['경부선 KTX','호남선 KTX','경전선 KTX','전라선 KTX','동해선 KTX']\n",
    "index_list = ['2011', '2012', '2013', '2014', '2015', '2016', '2017']"
   ]
  },
  {
   "cell_type": "code",
   "execution_count": 262,
   "id": "3ca103f3",
   "metadata": {},
   "outputs": [
    {
     "name": "stdout",
     "output_type": "stream",
     "text": [
      "      경부선 KTX  호남선 KTX  경전선 KTX  전라선 KTX  동해선 KTX\n",
      "2011    39060     7313     3627      309      NaN\n",
      "2012    39896     6967     4168     1771      NaN\n",
      "2013    42005     6873     4088     1954      NaN\n",
      "2014    43621     6626     4424     2244      NaN\n",
      "2015    41702     8675     4606     3146   2395.0\n",
      "2016    41266    10622     4984     3945   3786.0\n",
      "2017    32427     9228     5570     5766   6667.0\n"
     ]
    }
   ],
   "source": [
    "df_KTX = pd.DataFrame(KTX_data, columns=col_list, index=index_list)\n",
    "print(df_KTX)"
   ]
  },
  {
   "cell_type": "code",
   "execution_count": 263,
   "id": "5b30125c",
   "metadata": {},
   "outputs": [
    {
     "name": "stdout",
     "output_type": "stream",
     "text": [
      "      경부선 KTX  호남선 KTX  경전선 KTX  전라선 KTX  동해선 KTX\n",
      "2011    39060     7313     3627      309      NaN\n",
      "2012    39896     6967     4168     1771      NaN\n",
      "2013    42005     6873     4088     1954      NaN\n",
      "2014    43621     6626     4424     2244      NaN\n",
      "2015    41702     8675     4606     3146   2395.0\n"
     ]
    }
   ],
   "source": [
    "# head() -> data의 앞의 5줄을 보여줌 -> 데이터의 일부를 보고싶을때 사용\n",
    "print(df_KTX.head())"
   ]
  },
  {
   "cell_type": "code",
   "execution_count": 265,
   "id": "ecf63b62",
   "metadata": {},
   "outputs": [
    {
     "name": "stdout",
     "output_type": "stream",
     "text": [
      "      경부선 KTX  호남선 KTX  경전선 KTX  전라선 KTX  동해선 KTX\n",
      "2011    39060     7313     3627      309      NaN\n",
      "2012    39896     6967     4168     1771      NaN\n",
      "2013    42005     6873     4088     1954      NaN\n",
      "2014    43621     6626     4424     2244      NaN\n",
      "2015    41702     8675     4606     3146   2395.0\n",
      "2016    41266    10622     4984     3945   3786.0\n",
      "2017    32427     9228     5570     5766   6667.0\n"
     ]
    }
   ],
   "source": [
    "print(df_KTX.head(7))  # head의 default는 5줄이지만, 7줄과 같이 원하는 숫자로 사용 가능"
   ]
  },
  {
   "cell_type": "code",
   "execution_count": 266,
   "id": "5782cd18",
   "metadata": {},
   "outputs": [
    {
     "name": "stdout",
     "output_type": "stream",
     "text": [
      "<class 'pandas.core.frame.DataFrame'>\n",
      "Index: 7 entries, 2011 to 2017\n",
      "Data columns (total 5 columns):\n",
      " #   Column   Non-Null Count  Dtype  \n",
      "---  ------   --------------  -----  \n",
      " 0   경부선 KTX  7 non-null      int64  \n",
      " 1   호남선 KTX  7 non-null      int64  \n",
      " 2   경전선 KTX  7 non-null      int64  \n",
      " 3   전라선 KTX  7 non-null      int64  \n",
      " 4   동해선 KTX  3 non-null      float64\n",
      "dtypes: float64(1), int64(4)\n",
      "memory usage: 336.0+ bytes\n",
      "None\n"
     ]
    }
   ],
   "source": [
    "print(df_KTX.info())   # 총괄적인 정보가 나오는 것 = info()"
   ]
  },
  {
   "cell_type": "code",
   "execution_count": 267,
   "id": "e87f5eac",
   "metadata": {},
   "outputs": [
    {
     "name": "stdout",
     "output_type": "stream",
     "text": [
      "      경부선 KTX  호남선 KTX  경전선 KTX  전라선 KTX  동해선 KTX\n",
      "2013    42005     6873     4088     1954      NaN\n",
      "2014    43621     6626     4424     2244      NaN\n",
      "2015    41702     8675     4606     3146   2395.0\n",
      "2016    41266    10622     4984     3945   3786.0\n",
      "2017    32427     9228     5570     5766   6667.0\n"
     ]
    }
   ],
   "source": [
    "print(df_KTX.tail())"
   ]
  },
  {
   "cell_type": "code",
   "execution_count": 268,
   "id": "167caa51",
   "metadata": {},
   "outputs": [
    {
     "name": "stdout",
     "output_type": "stream",
     "text": [
      "      경부선 KTX  호남선 KTX  경전선 KTX  전라선 KTX  동해선 KTX\n",
      "2012    39896     6967     4168     1771      NaN\n"
     ]
    }
   ],
   "source": [
    "print(df_KTX[1:2])"
   ]
  },
  {
   "cell_type": "code",
   "execution_count": 269,
   "id": "5fd3ef63",
   "metadata": {},
   "outputs": [
    {
     "name": "stdout",
     "output_type": "stream",
     "text": [
      "      경부선 KTX  호남선 KTX  경전선 KTX  전라선 KTX  동해선 KTX\n",
      "2013    42005     6873     4088     1954      NaN\n",
      "2014    43621     6626     4424     2244      NaN\n",
      "2015    41702     8675     4606     3146   2395.0\n"
     ]
    }
   ],
   "source": [
    "print(df_KTX[2:5])"
   ]
  },
  {
   "cell_type": "code",
   "execution_count": 274,
   "id": "6a4cf849",
   "metadata": {},
   "outputs": [
    {
     "name": "stdout",
     "output_type": "stream",
     "text": [
      "경부선 KTX    39060.0\n",
      "호남선 KTX     7313.0\n",
      "경전선 KTX     3627.0\n",
      "전라선 KTX      309.0\n",
      "동해선 KTX        NaN\n",
      "Name: 2011, dtype: float64\n"
     ]
    }
   ],
   "source": [
    "# 실제 인덱스 이름으로 지정할 수 있음\n",
    "print(df_KTX.loc['2011'])   # 실제 index 이름을 쓸 때는 loc 을 사용"
   ]
  },
  {
   "cell_type": "code",
   "execution_count": 276,
   "id": "e8cbb8cf",
   "metadata": {},
   "outputs": [
    {
     "name": "stdout",
     "output_type": "stream",
     "text": [
      "      경부선 KTX  호남선 KTX  경전선 KTX  전라선 KTX  동해선 KTX\n",
      "2013    42005     6873     4088     1954      NaN\n",
      "2014    43621     6626     4424     2244      NaN\n",
      "2015    41702     8675     4606     3146   2395.0\n",
      "2016    41266    10622     4984     3945   3786.0\n"
     ]
    }
   ],
   "source": [
    "# 슬라이스 할 때도 마찬가지\n",
    "print(df_KTX.loc['2013':'2016'])"
   ]
  },
  {
   "cell_type": "code",
   "execution_count": 277,
   "id": "350fbfdc",
   "metadata": {},
   "outputs": [
    {
     "name": "stdout",
     "output_type": "stream",
     "text": [
      "2011    39060\n",
      "2012    39896\n",
      "2013    42005\n",
      "2014    43621\n",
      "2015    41702\n",
      "2016    41266\n",
      "2017    32427\n",
      "Name: 경부선 KTX, dtype: int64\n"
     ]
    }
   ],
   "source": [
    "print(df_KTX['경부선 KTX'])"
   ]
  },
  {
   "cell_type": "code",
   "execution_count": 281,
   "id": "11c32bb6",
   "metadata": {},
   "outputs": [
    {
     "name": "stdout",
     "output_type": "stream",
     "text": [
      "2012    39896\n",
      "2013    42005\n",
      "2014    43621\n",
      "Name: 경부선 KTX, dtype: int64\n"
     ]
    }
   ],
   "source": [
    "print(df_KTX['경부선 KTX']['2012':'2014'])"
   ]
  },
  {
   "cell_type": "code",
   "execution_count": 282,
   "id": "3f1437ad",
   "metadata": {},
   "outputs": [
    {
     "name": "stdout",
     "output_type": "stream",
     "text": [
      "2012    39896\n",
      "2013    42005\n",
      "2014    43621\n",
      "Name: 경부선 KTX, dtype: int64\n"
     ]
    }
   ],
   "source": [
    "print(df_KTX['경부선 KTX'][1:4])"
   ]
  },
  {
   "cell_type": "code",
   "execution_count": 284,
   "id": "242f239f",
   "metadata": {},
   "outputs": [
    {
     "name": "stdout",
     "output_type": "stream",
     "text": [
      "10622.0\n"
     ]
    }
   ],
   "source": [
    "print(df_KTX.loc['2016']['호남선 KTX'])  # 2016년 호남선 KTX 이용 고객 수"
   ]
  },
  {
   "cell_type": "code",
   "execution_count": 285,
   "id": "26d51a05",
   "metadata": {},
   "outputs": [
    {
     "name": "stdout",
     "output_type": "stream",
     "text": [
      "10622\n"
     ]
    }
   ],
   "source": [
    "print(df_KTX.loc['2016', '호남선 KTX'])"
   ]
  },
  {
   "cell_type": "code",
   "execution_count": 286,
   "id": "06a7ad05",
   "metadata": {},
   "outputs": [
    {
     "name": "stdout",
     "output_type": "stream",
     "text": [
      "10622\n"
     ]
    }
   ],
   "source": [
    "print(df_KTX['호남선 KTX']['2016'])"
   ]
  },
  {
   "cell_type": "code",
   "execution_count": 288,
   "id": "0e1c0914",
   "metadata": {},
   "outputs": [
    {
     "name": "stdout",
     "output_type": "stream",
     "text": [
      "10622\n"
     ]
    }
   ],
   "source": [
    "print(df_KTX['호남선 KTX'][5])"
   ]
  },
  {
   "cell_type": "code",
   "execution_count": 289,
   "id": "ff7e9187",
   "metadata": {},
   "outputs": [
    {
     "name": "stdout",
     "output_type": "stream",
     "text": [
      "10622\n"
     ]
    }
   ],
   "source": [
    "print(df_KTX['호남선 KTX'].loc['2016'])"
   ]
  },
  {
   "cell_type": "code",
   "execution_count": 290,
   "id": "390ab036",
   "metadata": {},
   "outputs": [
    {
     "name": "stdout",
     "output_type": "stream",
     "text": [
      "            2011     2012     2013     2014     2015     2016     2017\n",
      "경부선 KTX  39060.0  39896.0  42005.0  43621.0  41702.0  41266.0  32427.0\n",
      "호남선 KTX   7313.0   6967.0   6873.0   6626.0   8675.0  10622.0   9228.0\n",
      "경전선 KTX   3627.0   4168.0   4088.0   4424.0   4606.0   4984.0   5570.0\n",
      "전라선 KTX    309.0   1771.0   1954.0   2244.0   3146.0   3945.0   5766.0\n",
      "동해선 KTX      NaN      NaN      NaN      NaN   2395.0   3786.0   6667.0\n"
     ]
    }
   ],
   "source": [
    "print(df_KTX.T)"
   ]
  },
  {
   "cell_type": "code",
   "execution_count": 293,
   "id": "43731c41",
   "metadata": {},
   "outputs": [
    {
     "name": "stdout",
     "output_type": "stream",
     "text": [
      "      동해선 KTX  전라선 KTX  경전선 KTX  호남선 KTX  경부선 KTX\n",
      "2011      NaN      309     3627     7313    39060\n",
      "2012      NaN     1771     4168     6967    39896\n",
      "2013      NaN     1954     4088     6873    42005\n",
      "2014      NaN     2244     4424     6626    43621\n",
      "2015   2395.0     3146     4606     8675    41702\n",
      "2016   3786.0     3945     4984    10622    41266\n",
      "2017   6667.0     5766     5570     9228    32427\n"
     ]
    }
   ],
   "source": [
    "print(df_KTX[['동해선 KTX', '전라선 KTX', '경전선 KTX', \\\n",
    "            '호남선 KTX', '경부선 KTX']])  #  column이 list로 들어감 -> 괄호 2개 [[,, , ]]"
   ]
  },
  {
   "cell_type": "code",
   "execution_count": 294,
   "id": "475d4130",
   "metadata": {},
   "outputs": [
    {
     "name": "stdout",
     "output_type": "stream",
     "text": [
      "   Class1  Class2\n",
      "0      95      91\n",
      "1      92      93\n",
      "2      98      97\n",
      "3     100      99\n"
     ]
    }
   ],
   "source": [
    "# log데이터라던지,  데이터 2개를 가져와서 붙일 경우\n",
    "# 다 많이 쓰인다는데 사실 다 많이 쓰임\n",
    "\n",
    "df1 = pd.DataFrame({'Class1':[95, 92, 98, 100], \n",
    "                   'Class2':[91, 93, 97, 99]})\n",
    "print(df1)"
   ]
  },
  {
   "cell_type": "code",
   "execution_count": 295,
   "id": "3291b84d",
   "metadata": {},
   "outputs": [
    {
     "name": "stdout",
     "output_type": "stream",
     "text": [
      "   Class1  Class2\n",
      "0      87      85\n",
      "1      89      90\n"
     ]
    }
   ],
   "source": [
    "df2 = pd.DataFrame({'Class1':[87, 89], 'Class2':[85, 90]})\n",
    "print(df2)"
   ]
  },
  {
   "cell_type": "code",
   "execution_count": 296,
   "id": "67b4d4d8",
   "metadata": {},
   "outputs": [
    {
     "name": "stdout",
     "output_type": "stream",
     "text": [
      "   Class1  Class2\n",
      "0      95      91\n",
      "1      92      93\n",
      "2      98      97\n",
      "3     100      99\n",
      "0      87      85\n",
      "1      89      90\n"
     ]
    }
   ],
   "source": [
    "print(df1.append(df2))"
   ]
  },
  {
   "cell_type": "code",
   "execution_count": 297,
   "id": "e2fd7fc0",
   "metadata": {},
   "outputs": [
    {
     "name": "stdout",
     "output_type": "stream",
     "text": [
      "   Class1  Class2\n",
      "0      95      91\n",
      "1      92      93\n",
      "2      98      97\n",
      "3     100      99\n",
      "4      87      85\n",
      "5      89      90\n"
     ]
    }
   ],
   "source": [
    "print(df1.append(df2, ignore_index=True))  # True -> 얘가 index 새로 구성함"
   ]
  },
  {
   "cell_type": "code",
   "execution_count": 298,
   "id": "2a26a617",
   "metadata": {},
   "outputs": [
    {
     "name": "stdout",
     "output_type": "stream",
     "text": [
      "   Class1\n",
      "0      96\n",
      "1      83\n"
     ]
    }
   ],
   "source": [
    "df3 = pd.DataFrame({'Class1':[96, 83]})\n",
    "print(df3)"
   ]
  },
  {
   "cell_type": "code",
   "execution_count": 299,
   "id": "a4956bcc",
   "metadata": {},
   "outputs": [
    {
     "name": "stdout",
     "output_type": "stream",
     "text": [
      "   Class1  Class2\n",
      "0      87    85.0\n",
      "1      89    90.0\n",
      "2      96     NaN\n",
      "3      83     NaN\n"
     ]
    }
   ],
   "source": [
    "print(df2.append(df3, ignore_index=True))"
   ]
  },
  {
   "cell_type": "code",
   "execution_count": 301,
   "id": "506406fe",
   "metadata": {},
   "outputs": [
    {
     "name": "stdout",
     "output_type": "stream",
     "text": [
      "   Class3\n",
      "0      93\n",
      "1      91\n",
      "2      95\n",
      "3      98\n"
     ]
    }
   ],
   "source": [
    "df4 = pd.DataFrame({'Class3':[93, 91, 95, 98]})   # dataFrame 등 소문자 쓰면(대문자 안맞추면) Error 발생\n",
    "print(df4)"
   ]
  },
  {
   "cell_type": "code",
   "execution_count": 302,
   "id": "25f8626e",
   "metadata": {},
   "outputs": [
    {
     "name": "stdout",
     "output_type": "stream",
     "text": [
      "   Class1  Class2\n",
      "0      95      91\n",
      "1      92      93\n",
      "2      98      97\n",
      "3     100      99\n"
     ]
    }
   ],
   "source": [
    "print(df1)"
   ]
  },
  {
   "cell_type": "code",
   "execution_count": 303,
   "id": "c2614095",
   "metadata": {},
   "outputs": [
    {
     "name": "stdout",
     "output_type": "stream",
     "text": [
      "   Class1  Class2  Class3\n",
      "0      95      91      93\n",
      "1      92      93      91\n",
      "2      98      97      95\n",
      "3     100      99      98\n"
     ]
    }
   ],
   "source": [
    "# df1에다가 df4를 옆으로 붙일 것\n",
    "print(df1.join(df4))   # 동인한 index 넘버를 기준으로 옆으로 갖다 붙임\n",
    "\n",
    "# append는 아래로 붙이는거, join은 옆으로 붙이는거 (단, index 기준)"
   ]
  },
  {
   "cell_type": "code",
   "execution_count": 305,
   "id": "f1e5e109",
   "metadata": {},
   "outputs": [
    {
     "name": "stdout",
     "output_type": "stream",
     "text": [
      "   Class1  Class2\n",
      "a      95      91\n",
      "b      92      93\n",
      "c      98      97\n",
      "d     100      99\n"
     ]
    }
   ],
   "source": [
    "index_label = ['a', 'b', 'c', 'd']\n",
    "df1a = pd.DataFrame({'Class1':[95, 92, 98, 100],\n",
    "                   'Class2':[91, 93, 97, 99]}, index=index_label)\n",
    "df4a = pd.DataFrame({'Class3':[93, 91, 95, 98]}, index=index_label)\n",
    "print(df1a)"
   ]
  },
  {
   "cell_type": "code",
   "execution_count": 306,
   "id": "82affb07",
   "metadata": {},
   "outputs": [
    {
     "name": "stdout",
     "output_type": "stream",
     "text": [
      "   Class3\n",
      "a      93\n",
      "b      91\n",
      "c      95\n",
      "d      98\n"
     ]
    }
   ],
   "source": [
    "print(df4a)"
   ]
  },
  {
   "cell_type": "code",
   "execution_count": 307,
   "id": "aec6cc8e",
   "metadata": {},
   "outputs": [
    {
     "name": "stdout",
     "output_type": "stream",
     "text": [
      "   Class1  Class2  Class3\n",
      "a      95      91      93\n",
      "b      92      93      91\n",
      "c      98      97      95\n",
      "d     100      99      98\n"
     ]
    }
   ],
   "source": [
    "print(df1a.join(df4a))   # index 이름만 동일하면 됨"
   ]
  },
  {
   "cell_type": "code",
   "execution_count": 309,
   "id": "54cd9bda",
   "metadata": {},
   "outputs": [
    {
     "name": "stdout",
     "output_type": "stream",
     "text": [
      "   Class4\n",
      "0      82\n",
      "1      92\n"
     ]
    }
   ],
   "source": [
    "# index 번호가 다를때 join\n",
    "df5 = pd.DataFrame({'Class4':[82, 92]})\n",
    "print(df5)"
   ]
  },
  {
   "cell_type": "code",
   "execution_count": 310,
   "id": "203aef1c",
   "metadata": {},
   "outputs": [
    {
     "name": "stdout",
     "output_type": "stream",
     "text": [
      "   Class1  Class2\n",
      "0      95      91\n",
      "1      92      93\n",
      "2      98      97\n",
      "3     100      99\n"
     ]
    }
   ],
   "source": [
    "print(df1)"
   ]
  },
  {
   "cell_type": "code",
   "execution_count": 311,
   "id": "6d30440b",
   "metadata": {},
   "outputs": [
    {
     "name": "stdout",
     "output_type": "stream",
     "text": [
      "   Class1  Class2  Class4\n",
      "0      95      91    82.0\n",
      "1      92      93    92.0\n",
      "2      98      97     NaN\n",
      "3     100      99     NaN\n"
     ]
    }
   ],
   "source": [
    "print(df1.join(df5))   # 부족한 부분은 NaN으로 채워줌"
   ]
  },
  {
   "cell_type": "code",
   "execution_count": 312,
   "id": "24ca15f8",
   "metadata": {},
   "outputs": [
    {
     "name": "stdout",
     "output_type": "stream",
     "text": [
      "  판매월  청소기  세탁기\n",
      "0  1월  100   90\n",
      "1  2월  150  110\n",
      "2  3월  200  140\n",
      "3  4월  130  170\n"
     ]
    }
   ],
   "source": [
    "df_A_B = pd.DataFrame({'판매월':['1월', '2월', '3월', '4월'], \\\n",
    "                      '청소기':[100, 150, 200, 130], \\\n",
    "                      '세탁기':[90, 110, 140, 170]})\n",
    "print(df_A_B)"
   ]
  },
  {
   "cell_type": "code",
   "execution_count": 313,
   "id": "cc0bd2a0",
   "metadata": {},
   "outputs": [
    {
     "name": "stdout",
     "output_type": "stream",
     "text": [
      "  판매월  냉장고  에어컨\n",
      "0  1월  112   90\n",
      "1  2월  141  110\n",
      "2  3월  203  150\n",
      "3  4월  134  160\n"
     ]
    }
   ],
   "source": [
    "df_C_D = pd.DataFrame({'판매월':['1월', '2월', '3월', '4월'], \\\n",
    "                      '냉장고':[112, 141, 203, 134], \\\n",
    "                      '에어컨':[90, 110, 150, 160]})\n",
    "print(df_C_D)"
   ]
  },
  {
   "cell_type": "code",
   "execution_count": 314,
   "id": "67d23e53",
   "metadata": {},
   "outputs": [
    {
     "name": "stdout",
     "output_type": "stream",
     "text": [
      "  판매월  청소기  세탁기  냉장고  에어컨\n",
      "0  1월  100   90  112   90\n",
      "1  2월  150  110  141  110\n",
      "2  3월  200  140  203  150\n",
      "3  4월  130  170  134  160\n"
     ]
    }
   ],
   "source": [
    "# 공통된 요소 = 판매월 -> 이걸로 붙임\n",
    "# 공통된 column이 있을 경우는 merge 사용    <->   없을 경우는 join\n",
    "print(df_A_B.merge(df_C_D))"
   ]
  },
  {
   "cell_type": "code",
   "execution_count": 316,
   "id": "14f88f94",
   "metadata": {},
   "outputs": [
    {
     "name": "stdout",
     "output_type": "stream",
     "text": [
      "  key  left\n",
      "0   A     1\n",
      "1   B     2\n",
      "2   C     3\n"
     ]
    }
   ],
   "source": [
    "df_left = pd.DataFrame({'key':['A', 'B', 'C'], \\\n",
    "                       'left':[1, 2, 3]})\n",
    "print(df_left)"
   ]
  },
  {
   "cell_type": "code",
   "execution_count": 317,
   "id": "e3bfad22",
   "metadata": {},
   "outputs": [
    {
     "name": "stdout",
     "output_type": "stream",
     "text": [
      "  key  right\n",
      "0   A      4\n",
      "1   B      5\n",
      "2   D      6\n"
     ]
    }
   ],
   "source": [
    "df_right = pd.DataFrame({'key':['A', 'B', 'D'], \\\n",
    "                        'right':[4, 5, 6]})\n",
    "print(df_right)\n",
    "\n",
    "# 공통된 column인 'key'가 존재하지만, 데이터가 상이함"
   ]
  },
  {
   "cell_type": "code",
   "execution_count": 318,
   "id": "1f855224",
   "metadata": {},
   "outputs": [
    {
     "name": "stdout",
     "output_type": "stream",
     "text": [
      "  key  left  right\n",
      "0   A     1      4\n",
      "1   B     2      5\n"
     ]
    }
   ],
   "source": [
    "print(df_left.merge(df_right))  # 공통된 데이터일 경우만 merge해서 출력"
   ]
  },
  {
   "cell_type": "code",
   "execution_count": 319,
   "id": "8fa3ae7b",
   "metadata": {},
   "outputs": [
    {
     "name": "stdout",
     "output_type": "stream",
     "text": [
      "  key  left  right\n",
      "0   A     1    4.0\n",
      "1   B     2    5.0\n",
      "2   C     3    NaN\n"
     ]
    }
   ],
   "source": [
    "print(df_left.merge(df_right, how='left', on='key'))  # 기존거는 출력, 붙이는쪽은 NaN 으로 출력"
   ]
  },
  {
   "cell_type": "code",
   "execution_count": 320,
   "id": "ffced64a",
   "metadata": {},
   "outputs": [
    {
     "name": "stdout",
     "output_type": "stream",
     "text": [
      "  key  left  right\n",
      "0   A   1.0      4\n",
      "1   B   2.0      5\n",
      "2   D   NaN      6\n"
     ]
    }
   ],
   "source": [
    "print(df_left.merge(df_right, how='right', on='key'))  # how -> left, right로 어느쪽의 데이터를 출력할건지 정함.\n",
    "                                                        # ( on=key <- 얘가 기준column값)"
   ]
  },
  {
   "cell_type": "code",
   "execution_count": 327,
   "id": "947df2cf",
   "metadata": {},
   "outputs": [
    {
     "name": "stdout",
     "output_type": "stream",
     "text": [
      "  key  left  right\n",
      "0   A   1.0    4.0\n",
      "1   B   2.0    5.0\n",
      "2   C   3.0    NaN\n",
      "3   D   NaN    6.0\n"
     ]
    }
   ],
   "source": [
    "# 그럼 양쪽 다 기준은?  ->  how='outer'\n",
    "print(df_left.merge(df_right, how='outer', on='key'))"
   ]
  },
  {
   "cell_type": "code",
   "execution_count": 328,
   "id": "f36fde8a",
   "metadata": {},
   "outputs": [
    {
     "name": "stdout",
     "output_type": "stream",
     "text": [
      "  key  left  right\n",
      "0   A     1      4\n",
      "1   B     2      5\n"
     ]
    }
   ],
   "source": [
    "print(df_left.merge(df_right, how='inner', on='key'))   # 양쪽에서 공통으로 있는 것만"
   ]
  },
  {
   "cell_type": "code",
   "execution_count": 329,
   "id": "cda2f8f3",
   "metadata": {},
   "outputs": [
    {
     "name": "stdout",
     "output_type": "stream",
     "text": [
      "   지사    연도  고객 수\n",
      "0  서울  2015   200\n",
      "1  서울  2016   250\n",
      "2  부산  2016   150\n",
      "3  서울  2017   300\n",
      "4  부산  2017   200\n"
     ]
    }
   ],
   "source": [
    "data = {'연도': [2015, 2016, 2016, 2017, 2017], \n",
    "        '지사': ['서울', '서울', '부산', '서울', '부산'],\n",
    "        '고객 수': [200, 250, 150, 300, 200]}\n",
    "df = pd.DataFrame(data, columns=['지사','연도', '고객 수'])\n",
    "print(df)"
   ]
  },
  {
   "cell_type": "code",
   "execution_count": 330,
   "id": "285010f2",
   "metadata": {},
   "outputs": [],
   "source": [
    "row = ['대전', 2018, 500]"
   ]
  },
  {
   "cell_type": "code",
   "execution_count": 331,
   "id": "cf569819",
   "metadata": {},
   "outputs": [
    {
     "name": "stdout",
     "output_type": "stream",
     "text": [
      "   지사    연도  고객 수\n",
      "0  서울  2015   200\n",
      "1  서울  2016   250\n",
      "2  부산  2016   150\n",
      "3  서울  2017   300\n",
      "4  부산  2017   200\n",
      "5  대전  2018   500\n"
     ]
    }
   ],
   "source": [
    "df = df.append(pd.Series(row, index=df.columns), \\\n",
    "              ignore_index=True)\n",
    "print(df)"
   ]
  },
  {
   "cell_type": "code",
   "execution_count": null,
   "id": "d3a511a4",
   "metadata": {},
   "outputs": [],
   "source": []
  }
 ],
 "metadata": {
  "kernelspec": {
   "display_name": "Python 3",
   "language": "python",
   "name": "python3"
  },
  "language_info": {
   "codemirror_mode": {
    "name": "ipython",
    "version": 3
   },
   "file_extension": ".py",
   "mimetype": "text/x-python",
   "name": "python",
   "nbconvert_exporter": "python",
   "pygments_lexer": "ipython3",
   "version": "3.8.11"
  }
 },
 "nbformat": 4,
 "nbformat_minor": 5
}
