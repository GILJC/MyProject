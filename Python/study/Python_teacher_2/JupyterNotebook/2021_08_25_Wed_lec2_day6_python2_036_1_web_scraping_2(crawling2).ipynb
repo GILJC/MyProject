{
 "cells": [
  {
   "cell_type": "code",
   "execution_count": 1,
   "id": "ba0edc61",
   "metadata": {},
   "outputs": [],
   "source": [
    "# 네이버 바이브 -> 왼쪽 차트 -> 오늘의 Top 100 -> 노래 제목, 아티스트 뽑을 것"
   ]
  },
  {
   "cell_type": "code",
   "execution_count": 1,
   "id": "6e3ca1c0",
   "metadata": {},
   "outputs": [],
   "source": [
    "from bs4 import BeautifulSoup\n",
    "import requests"
   ]
  },
  {
   "cell_type": "code",
   "execution_count": 2,
   "id": "7185e378",
   "metadata": {},
   "outputs": [],
   "source": [
    "# 우클릭 검사 -> 왼쪽위 마우스모양 클릭 -> 찾을 부분 클릭 -> <a> 안에 class=link_text로 제목 있음"
   ]
  },
  {
   "cell_type": "code",
   "execution_count": 3,
   "id": "b3839329",
   "metadata": {},
   "outputs": [],
   "source": [
    "url = 'https://vibe.naver.com/chart/total'\n",
    "html_music = requests.get(url).text\n",
    "soup_music = BeautifulSoup(html_music, 'lxml')"
   ]
  },
  {
   "cell_type": "code",
   "execution_count": 4,
   "id": "ee6e6405",
   "metadata": {},
   "outputs": [
    {
     "name": "stdout",
     "output_type": "stream",
     "text": [
      "0\n"
     ]
    }
   ],
   "source": [
    "titles = soup_music.select('span.inner_cell a.link_text')\n",
    "print(len(titles))  # len이 0이 나옴 -> 뭔가 잘못됨"
   ]
  },
  {
   "cell_type": "code",
   "execution_count": 5,
   "id": "2a2e0fa5",
   "metadata": {},
   "outputs": [
    {
     "name": "stdout",
     "output_type": "stream",
     "text": [
      "<!DOCTYPE html>\n",
      "<html lang=\"ko\"><head><meta charset=\"utf-8\"/><meta content=\"IE=edge\" http-equiv=\"X-UA-Compatible\"/><meta content=\"width=device-width,initial-scale=1,user-scalable=no\" name=\"viewport\"/><meta content=\"telephone=no\" name=\"format-detection\"/><meta content=\"좋아하는 음악은 물론, 좋아할 음악까지 들려주는 취향 저격 뮤직 서비스\" name=\"description\"/><meta content=\"app-id=1338631589\" name=\"apple-itunes-app\"/><meta content=\"website\" property=\"og:type\"/><meta content=\"https://music-phinf.pstatic.net/20201019_118/16031004163365Jexk_JPEG/about.jpg\" property=\"og:image\"/><meta content=\"NAVER VIBE(바이브)\" property=\"og:title\"/><meta content=\"#나만을 위한 음악이 듣고 싶을 땐 #내돈내듣 VIBE.\" property=\"og:description\"/><meta content=\"https://vibe.naver.com\" property=\"og:url\"/><meta content=\"summary_large_image\" name=\"twitter:card\"/><meta content=\"https://music-phinf.pstatic.net/20201019_118/16031004163365Jexk_JPEG/about.jpg\" name=\"twitter:image\"/><meta content=\"NAVER VIBE(바이브)\" name=\"twitter:title\"/><meta content=\"NAVER VIBE(바이브)\" name=\"twitter:site\"/><meta content=\"VIBE\" name=\"twitter:creator\"/><meta content=\"#나만을 위한 음악이 듣고 싶을 땐 #내돈내듣 VIBE.\" name=\"twitter:description\"/><meta content=\"bd4b0v5vmt0svjpl26q5rtwbved1mp\" name=\"facebook-domain-verification\"/><link href=\"/favicon.ico\" rel=\"shortcut icon\" type=\"image/x-icon\"/><link href=\"/favicon.ico\" rel=\"icon\" type=\"image/x-icon\"/><link href=\"/images/icon/icon_120x120.png\" rel=\"apple-touch-icon\"/><link href=\"/images/icon/icon_120x120.png\" rel=\"apple-touch-icon\" sizes=\"120x120\"/><link href=\"/images/icon/icon_152x152.png\" rel=\"apple-touch-icon\" sizes=\"152x152\"/><link href=\"/images/icon/icon_167x167.png\" rel=\"apple-touch-icon\" sizes=\"167x167\"/><link href=\"/images/icon/icon_180x180.png\" rel=\"apple-touch-icon\" sizes=\"180x180\"/><title>VIBE (바이브)</title><link href=\"/20210823154233_resources/css/common.d51bedd8.css\" rel=\"prefetch\"/><link href=\"/20210823154233_resources/js/common.c879fed5.js\" rel=\"prefetch\"/><link as=\"style\" href=\"/20210823154233_resources/css/app.8bf3f898.css\" rel=\"preload\"/><link as=\"style\" href=\"/20210823154233_resources/css/chunk-vendors.598bb52f.css\" rel=\"preload\"/><link as=\"script\" href=\"/20210823154233_resources/js/app.f88f10bb.js\" rel=\"preload\"/><link as=\"script\" href=\"/20210823154233_resources/js/chunk-vendors.b833ef5d.js\" rel=\"preload\"/><link href=\"/20210823154233_resources/css/chunk-vendors.598bb52f.css\" rel=\"stylesheet\"/><link href=\"/20210823154233_resources/css/app.8bf3f898.css\" rel=\"stylesheet\"/></head><body><noscript><strong>자바스크립트가 비활성화 되어있어 화면을 표시할 수 없습니다. 브라우저 설정에서 자바스크립트를 활성화 후 다시 시도해 주세요.</strong></noscript><div class=\"app\" id=\"app\"></div><script src=\"/20210823154233_resources/js/chunk-vendors.b833ef5d.js\"></script><script src=\"/20210823154233_resources/js/app.f88f10bb.js\"></script></body></html>\n"
     ]
    }
   ],
   "source": [
    "print(soup_music)  # 확인해보니 구글 검사로 본거랑 좀 다름 -> 우리가 원하던게 아님\n",
    "# url을 확인했지만 이상은 없어보임 -> microsoft edge로 확인하면 팝업이 뜸. -> 팝업을 죽여야 원하는게 뜸"
   ]
  },
  {
   "cell_type": "code",
   "execution_count": 6,
   "id": "2a25f9fb",
   "metadata": {},
   "outputs": [],
   "source": [
    "# conda install selenium  -> 사람손 대신 클릭해주는거(?)\n",
    "# 크롬 드라이버 다운(ChromeDriver) -> 자기 크롬 버전에 맞는걸로 받아야 함. -> 도움말->크롬 정보에서 확인(92.0.4515.XXX)\n",
    "# chromedriver.exe 가 나오는데 -> (그냥두면 더러우니 정리하려고) JupyterNotebook폴더에 driver 폴더 생성후 거기에 놓기\n",
    "from selenium import webdriver\n",
    "driver = webdriver.Chrome('driver/chromedriver') # 드라이버 위치 줘야 함, .exe는 빼야함\n",
    "driver.get('https://vibe.naver.com/chart/total')  # 찾을 사이트 주소 넣기 -> 방화벽뜨는거 해제\n",
    "# -> 그리고 이러면 창이 하나 더 뜨는데 -> 이건 selenium 이 띄운 것\n",
    "# 그 창에서 다시 우클릭->검사->원하는부분 클릭(여기선 팝업의 창끄기용 X버튼)\n",
    "# 원하는 부분 나왔으면, 오른쪽 검사부분에 우클릭 -> copy -> copy Xpath"
   ]
  },
  {
   "cell_type": "code",
   "execution_count": 7,
   "id": "2c49ee48",
   "metadata": {},
   "outputs": [],
   "source": [
    "xpath = \"\"\"//*[@id=\"app\"]/div[2]/div/div/a[2]\"\"\"\n",
    "# driver.find_element_by_xpath(xpath)   # -> 이러면 크롬드라이버가 찾아감\n",
    "driver.find_element_by_xpath(xpath).click()   # -> 찾아간 다음 .click()으로 클릭시킴 ->그러면 클릭해서 (팝업)꺼짐 \n",
    "                        # ->(새로 열린 크롬창에서 확인해보면 켜져있던 팝업창이 꺼진걸 확인 가능) "
   ]
  },
  {
   "cell_type": "code",
   "execution_count": 10,
   "id": "0532fc9e",
   "metadata": {},
   "outputs": [],
   "source": [
    "# html_music = requests.get(url).text   #  -> 아래로 변경\n",
    "html_music = driver.page_source\n",
    "soup_music = BeautifulSoup(html_music, 'lxml')"
   ]
  },
  {
   "cell_type": "code",
   "execution_count": 11,
   "id": "7e3979ad",
   "metadata": {},
   "outputs": [
    {
     "name": "stdout",
     "output_type": "stream",
     "text": [
      "100\n"
     ]
    }
   ],
   "source": [
    "titles = soup_music.select('span.inner_cell a.link_text')\n",
    "print(len(titles))  # 이제 잘 나옴"
   ]
  },
  {
   "cell_type": "code",
   "execution_count": 12,
   "id": "d0346bd0",
   "metadata": {},
   "outputs": [
    {
     "name": "stdout",
     "output_type": "stream",
     "text": [
      "[<a class=\"link_text\" href=\"/track/50071944\" title=\"낙하 (with 아이유)\">낙하 (with 아이유)</a>, <a class=\"link_text\" href=\"/track/48124900\" title=\"신호등\">신호등</a>]\n"
     ]
    }
   ],
   "source": [
    "print(titles[:2])"
   ]
  },
  {
   "cell_type": "code",
   "execution_count": 13,
   "id": "b1db1ef7",
   "metadata": {},
   "outputs": [
    {
     "name": "stdout",
     "output_type": "stream",
     "text": [
      "['낙하 (with 아이유)', '신호등', 'Next Level', 'Permission to Dance', 'Weekend', 'Stay', 'Butter', '바라만 본다', 'Queendom', 'DUMB DUMB']\n"
     ]
    }
   ],
   "source": [
    "music_titles = [title.get_text() for title in titles]\n",
    "print(music_titles[:10])"
   ]
  },
  {
   "cell_type": "code",
   "execution_count": 14,
   "id": "dbb3b324",
   "metadata": {},
   "outputs": [
    {
     "name": "stdout",
     "output_type": "stream",
     "text": [
      "0\n"
     ]
    }
   ],
   "source": [
    "# 이번엔 아티스트 뽑아봅시다\n",
    "# class=artist 라는  td 안에 있는 <a>text\n",
    "artists = soup_music.select('td.artist a.link_artists span.text')  # -> 이러면 안됨\n",
    "print(len(artists))"
   ]
  },
  {
   "cell_type": "code",
   "execution_count": 30,
   "id": "72ed7d3e",
   "metadata": {},
   "outputs": [
    {
     "ename": "AttributeError",
     "evalue": "ResultSet object has no attribute 'get'. You're probably treating a list of elements like a single element. Did you call find_all() when you meant to call find()?",
     "output_type": "error",
     "traceback": [
      "\u001b[1;31m---------------------------------------------------------------------------\u001b[0m",
      "\u001b[1;31mAttributeError\u001b[0m                            Traceback (most recent call last)",
      "\u001b[1;32m<ipython-input-30-efd2b7228207>\u001b[0m in \u001b[0;36m<module>\u001b[1;34m\u001b[0m\n\u001b[1;32m----> 1\u001b[1;33m \u001b[0msrtists\u001b[0m \u001b[1;33m=\u001b[0m \u001b[0msoup_music\u001b[0m\u001b[1;33m.\u001b[0m\u001b[0mselect\u001b[0m\u001b[1;33m(\u001b[0m\u001b[1;34m'td.artist'\u001b[0m\u001b[1;33m)\u001b[0m\u001b[1;33m.\u001b[0m\u001b[0mget\u001b[0m\u001b[1;33m(\u001b[0m\u001b[1;34m'title'\u001b[0m\u001b[1;33m)\u001b[0m\u001b[1;33m\u001b[0m\u001b[1;33m\u001b[0m\u001b[0m\n\u001b[0m\u001b[0;32m      2\u001b[0m \u001b[0mprint\u001b[0m\u001b[1;33m(\u001b[0m\u001b[0mlen\u001b[0m\u001b[1;33m(\u001b[0m\u001b[0martists\u001b[0m\u001b[1;33m)\u001b[0m\u001b[1;33m)\u001b[0m\u001b[1;33m\u001b[0m\u001b[1;33m\u001b[0m\u001b[0m\n",
      "\u001b[1;32m~\\anaconda3\\envs\\python-env\\lib\\site-packages\\bs4\\element.py\u001b[0m in \u001b[0;36m__getattr__\u001b[1;34m(self, key)\u001b[0m\n\u001b[0;32m   2171\u001b[0m     \u001b[1;32mdef\u001b[0m \u001b[0m__getattr__\u001b[0m\u001b[1;33m(\u001b[0m\u001b[0mself\u001b[0m\u001b[1;33m,\u001b[0m \u001b[0mkey\u001b[0m\u001b[1;33m)\u001b[0m\u001b[1;33m:\u001b[0m\u001b[1;33m\u001b[0m\u001b[1;33m\u001b[0m\u001b[0m\n\u001b[0;32m   2172\u001b[0m         \u001b[1;34m\"\"\"Raise a helpful exception to explain a common code fix.\"\"\"\u001b[0m\u001b[1;33m\u001b[0m\u001b[1;33m\u001b[0m\u001b[0m\n\u001b[1;32m-> 2173\u001b[1;33m         raise AttributeError(\n\u001b[0m\u001b[0;32m   2174\u001b[0m             \u001b[1;34m\"ResultSet object has no attribute '%s'. You're probably treating a list of elements like a single element. Did you call find_all() when you meant to call find()?\"\u001b[0m \u001b[1;33m%\u001b[0m \u001b[0mkey\u001b[0m\u001b[1;33m\u001b[0m\u001b[1;33m\u001b[0m\u001b[0m\n\u001b[0;32m   2175\u001b[0m         )\n",
      "\u001b[1;31mAttributeError\u001b[0m: ResultSet object has no attribute 'get'. You're probably treating a list of elements like a single element. Did you call find_all() when you meant to call find()?"
     ]
    }
   ],
   "source": [
    "srtists = soup_music.select('td.artist').get('title')  #  이것도 안됨\n",
    "print(len(artists))"
   ]
  },
  {
   "cell_type": "code",
   "execution_count": 15,
   "id": "1d3557ff",
   "metadata": {},
   "outputs": [
    {
     "name": "stdout",
     "output_type": "stream",
     "text": [
      "100\n"
     ]
    }
   ],
   "source": [
    "artists = soup_music.select('td.artist')  # 이렇게 해야 함\n",
    "print(len(artists))"
   ]
  },
  {
   "cell_type": "code",
   "execution_count": 16,
   "id": "c44336fb",
   "metadata": {},
   "outputs": [
    {
     "name": "stdout",
     "output_type": "stream",
     "text": [
      "[<td class=\"artist\" title=\"AKMU(악뮤)\"><span class=\"inner\"><span><span><a class=\"link_artist\" href=\"/artist/243100\"><span class=\"text\">AKMU(악뮤)</span></a><!-- --></span></span></span></td>, <td class=\"artist\" title=\"이무진\"><span class=\"inner\"><span><span><a class=\"link_artist\" href=\"/artist/2389293\"><span class=\"text\">이무진</span></a><!-- --></span></span></span></td>]\n"
     ]
    }
   ],
   "source": [
    "print(artists[:2])  #  td안에있는 span까지 다 갖고 나옴. -> 여기서 원하는건 title 속성만 갖고 오는 것"
   ]
  },
  {
   "cell_type": "code",
   "execution_count": 17,
   "id": "2f88f0c9",
   "metadata": {},
   "outputs": [],
   "source": [
    "artists = [artist['title'] for artist in artists]  #  여기서 artists를 꺼내서 -> title 속성만 하나씩 꺼내 오는 것"
   ]
  },
  {
   "cell_type": "code",
   "execution_count": 18,
   "id": "1f2d43f4",
   "metadata": {},
   "outputs": [
    {
     "name": "stdout",
     "output_type": "stream",
     "text": [
      "100\n"
     ]
    }
   ],
   "source": [
    "print(len(artists))"
   ]
  },
  {
   "cell_type": "code",
   "execution_count": 19,
   "id": "3a70dd2f",
   "metadata": {},
   "outputs": [
    {
     "name": "stdout",
     "output_type": "stream",
     "text": [
      "['AKMU(악뮤)', '이무진', 'aespa', '방탄소년단', '태연 (TAEYEON)', 'The Kid LAROI, Justin Bieber', '방탄소년단', 'MSG워너비(M.O.M)', 'Red Velvet (레드벨벳)', '전소미']\n"
     ]
    }
   ],
   "source": [
    "print(artists[:10])"
   ]
  },
  {
   "cell_type": "code",
   "execution_count": 20,
   "id": "4ea99310",
   "metadata": {},
   "outputs": [],
   "source": [
    "driver.close()"
   ]
  },
  {
   "cell_type": "code",
   "execution_count": 22,
   "id": "6cba5a66",
   "metadata": {},
   "outputs": [],
   "source": [
    "# 지금까지 있던걸 함수로 만들어 봄  .  위에서부터 하나씩 조립해보자\n",
    "def get_vibe_top100(url):\n",
    "    driver = webdriver.Chrome('driver/chromedriver')\n",
    "    driver.get(url)\n",
    "    xpath = \"\"\"//*[@id=\"app\"]/div[2]/div/div/a[2]\"\"\"\n",
    "    driver.find_element_by_xpath(xpath).click()\n",
    "    html_music = driver.page_source\n",
    "    soup_music = BeautifulSoup(html_music, 'lxml')\n",
    "    \n",
    "    titles = soup_music.select('span.inner_cell a.link_text')\n",
    "    music_titles = [title.get_text() for title in titles]\n",
    "    \n",
    "    artists = soup_music.select('td.artist') # 아티스트부분 가져오고\n",
    "    music_artists = [artist['title'] for artist in artists]  # 변수 통일함 music_\n",
    "    \n",
    "    for k in range(len(music_titles)):\n",
    "        print(\"{0}: {1} / {2}\\n\".format(k+1, \\\n",
    "                                       music_titles[k], music_artists[k]))\n",
    "    \n",
    "    driver.close()"
   ]
  },
  {
   "cell_type": "code",
   "execution_count": 23,
   "id": "2b4379cd",
   "metadata": {},
   "outputs": [
    {
     "name": "stdout",
     "output_type": "stream",
     "text": [
      "1: 낙하 (with 아이유) / AKMU(악뮤)\n",
      "\n",
      "2: 신호등 / 이무진\n",
      "\n",
      "3: Next Level / aespa\n",
      "\n",
      "4: Permission to Dance / 방탄소년단\n",
      "\n",
      "5: Weekend / 태연 (TAEYEON)\n",
      "\n",
      "6: Stay / The Kid LAROI, Justin Bieber\n",
      "\n",
      "7: Butter / 방탄소년단\n",
      "\n",
      "8: 바라만 본다 / MSG워너비(M.O.M)\n",
      "\n",
      "9: Queendom / Red Velvet (레드벨벳)\n",
      "\n",
      "10: DUMB DUMB / 전소미\n",
      "\n",
      "11: Bad Habits / Ed Sheeran\n",
      "\n",
      "12: Dun Dun Dance / 오마이걸(OH MY GIRL)\n",
      "\n",
      "13: 좋아좋아 / 조정석\n",
      "\n",
      "14: 헤픈 우연 / 헤이즈 (Heize)\n",
      "\n",
      "15: Alcohol-Free / TWICE(트와이스)\n",
      "\n",
      "16: Peaches (Feat. Daniel Caesar, Giveon) / Justin Bieber\n",
      "\n",
      "17: 라일락 / 아이유(IU)\n",
      "\n",
      "18: 비와 당신 / 이무진\n",
      "\n",
      "19: Dynamite / 방탄소년단\n",
      "\n",
      "20: 롤린 (Rollin') / 브레이브걸스(Brave Girls)\n",
      "\n",
      "21: ASAP / STAYC(스테이씨)\n",
      "\n",
      "22: OHAYO MY NIGHT / 디핵(D-Hack), PATEKO(파테코)\n",
      "\n",
      "23: Celebrity / 아이유(IU)\n",
      "\n",
      "24: 여전히 아름다운지 / 세븐틴\n",
      "\n",
      "25: 안녕 (Hello) / 조이 (JOY)\n",
      "\n",
      "26: Kiss Me More (Feat. SZA) / Doja Cat\n",
      "\n",
      "27: 비 오는 날 듣기 좋은 노래 (Feat. Colde) / 에픽하이 (EPIK HIGH)\n",
      "\n",
      "28: 치맛바람 (Chi Mat Ba Ram) / 브레이브걸스(Brave Girls)\n",
      "\n",
      "29: 나를 아는 사람 / MSG워너비(정상동기)\n",
      "\n",
      "30: 슈퍼스타 / 미도와 파라솔\n",
      "\n",
      "31: 추적이는 여름 비가 되어 / 장범준\n",
      "\n",
      "32: 하루만 더 / 빅마마\n",
      "\n",
      "33: 가을 우체국 앞에서 / 김대명\n",
      "\n",
      "34: 어떻게 이별까지 사랑하겠어, 널 사랑하는 거지 / AKMU(악뮤)\n",
      "\n",
      "35: 상상더하기 / 라붐(LABOUM)\n",
      "\n",
      "36: 비가 오는 날엔 (2021) / 헤이즈 (Heize)\n",
      "\n",
      "37: 운전만해 (We Ride) / 브레이브걸스(Brave Girls)\n",
      "\n",
      "38: 이젠 잊기로 해요 (Drama Ver.) / 미도와 파라솔\n",
      "\n",
      "39: 전쟁터 (with 이선희) / AKMU(악뮤)\n",
      "\n",
      "40: 회상 / 정경호\n",
      "\n",
      "41: Timeless / SG워너비\n",
      "\n",
      "42: 상상더하기 / MSG워너비 TOP 8(별루지, 김정수, 강창모, 정기석, 이동휘, 이상이, 박재정, 원슈타인)\n",
      "\n",
      "43: 밤하늘의 별을 (2020) / 경서\n",
      "\n",
      "44: Leave The Door Open / Bruno Mars, Anderson .Paak, Silk Sonic\n",
      "\n",
      "45: Lovesick Girls / BLACKPINK\n",
      "\n",
      "46: Levitating (Feat. DaBaby) / Dua Lipa\n",
      "\n",
      "47: 고백 / 장범준\n",
      "\n",
      "48: 내 손을 잡아 / 아이유(IU)\n",
      "\n",
      "49: 벌써 일년 (Drama Ver.) / 미도와 파라솔\n",
      "\n",
      "50: 고칠게 / 죠지\n",
      "\n",
      "51: 고백 / 10CM\n",
      "\n",
      "52: You can't sit with us / 선미\n",
      "\n",
      "53: 어푸 (Ah puh) / 아이유(IU)\n",
      "\n",
      "54: Dolphin / 오마이걸(OH MY GIRL)\n",
      "\n",
      "55: 잠이 오질 않네요 / 장범준\n",
      "\n",
      "56: 밤편지 / 아이유(IU)\n",
      "\n",
      "57: 나는 너 좋아 / 장범준\n",
      "\n",
      "58: 아로하 / 조정석\n",
      "\n",
      "59: 에잇(Prod.&Feat. SUGA of BTS) / 아이유(IU)\n",
      "\n",
      "60: 취기를 빌려 (취향저격 그녀 X 산들) / 산들\n",
      "\n",
      "61: 째깍 째깍 째깍 (with Beenzino) / AKMU(악뮤)\n",
      "\n",
      "62: 너에게 / 유연석\n",
      "\n",
      "63: good 4 u / Olivia Rodrigo\n",
      "\n",
      "64: 넌 좋은 사람 / SG워너비\n",
      "\n",
      "65: Save Your Tears (Remix) / The Weeknd, Ariana Grande\n",
      "\n",
      "66: 봄날 / 방탄소년단\n",
      "\n",
      "67: 흔들리는 꽃들 속에서 네 샴푸향이 느껴진거야 / 장범준\n",
      "\n",
      "68: Black Mamba / aespa\n",
      "\n",
      "69: On The Ground / 로제 (ROSÉ)\n",
      "\n",
      "70: 마.피.아. In the morning / ITZY(있지)\n",
      "\n",
      "71: Life Goes On / 방탄소년단\n",
      "\n",
      "72: Blueming / 아이유(IU)\n",
      "\n",
      "73: Savage Love (Laxed - Siren Beat) (BTS Remix) / Jawsh 685, Jason Derulo, 방탄소년단\n",
      "\n",
      "74: 비도 오고 그래서 (Feat. 신용재) / 헤이즈 (Heize)\n",
      "\n",
      "75: Pose / Red Velvet (레드벨벳)\n",
      "\n",
      "76: 서울의 잠 못 이루는 밤 (Feat. 이수현) / 10CM\n",
      "\n",
      "77: Love poem / 아이유(IU)\n",
      "\n",
      "78: Off My Face / Justin Bieber\n",
      "\n",
      "79: INDUSTRY BABY / Lil Nas X, Jack Harlow\n",
      "\n",
      "80: 너의 모든 순간 / 성시경\n",
      "\n",
      "81: 밤이 되니까 / 원슈타인\n",
      "\n",
      "82: 2002 / Anne-Marie\n",
      "\n",
      "83: 주저하는 연인들을 위해 / 잔나비\n",
      "\n",
      "84: Coin / 아이유(IU)\n",
      "\n",
      "85: How You Like That / BLACKPINK\n",
      "\n",
      "86: 내 입술 따뜻한 커피처럼 / 청하, Colde(콜드)\n",
      "\n",
      "87: 내사람 (Partner For Life) / SG워너비\n",
      "\n",
      "88: Stupid love song (with Crush) / AKMU(악뮤)\n",
      "\n",
      "89: 난 너를 사랑해 / MSG워너비\n",
      "\n",
      "90: WE GO / 프로미스나인\n",
      "\n",
      "91: BENCH (with Zion.T) / AKMU(악뮤)\n",
      "\n",
      "92: 한여름밤의 꿀 : 다시 여름 / 산이(San E), 레이나\n",
      "\n",
      "93: 외딴섬 로맨틱 / 잔나비\n",
      "\n",
      "94: I'm Gonna Love You (Feat. 원슈타인) / 디오 (D.O.)\n",
      "\n",
      "95: 삠삠 (BEAM BEAM) / 전소연\n",
      "\n",
      "96: 살짝 설렜어 (Nonstop) / 오마이걸(OH MY GIRL)\n",
      "\n",
      "97: LO$ER=LO♡ER / 투모로우바이투게더\n",
      "\n",
      "98: 바다가 들린다 (Prod. NIve) / 양다일\n",
      "\n",
      "99: Rumors (Feat. Cardi B) / Lizzo\n",
      "\n",
      "100: Way Back Home (2021) / 런치\n",
      "\n"
     ]
    }
   ],
   "source": [
    "get_vibe_top100('https://vibe.naver.com/chart/total')"
   ]
  },
  {
   "cell_type": "code",
   "execution_count": null,
   "id": "78fc307d",
   "metadata": {},
   "outputs": [],
   "source": []
  }
 ],
 "metadata": {
  "kernelspec": {
   "display_name": "Python 3",
   "language": "python",
   "name": "python3"
  },
  "language_info": {
   "codemirror_mode": {
    "name": "ipython",
    "version": 3
   },
   "file_extension": ".py",
   "mimetype": "text/x-python",
   "name": "python",
   "nbconvert_exporter": "python",
   "pygments_lexer": "ipython3",
   "version": "3.8.11"
  }
 },
 "nbformat": 4,
 "nbformat_minor": 5
}
