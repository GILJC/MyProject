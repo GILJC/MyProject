{
 "cells": [
  {
   "cell_type": "code",
   "execution_count": 1,
   "id": "e3f55d78",
   "metadata": {},
   "outputs": [
    {
     "name": "stdout",
     "output_type": "stream",
     "text": [
      "4\n"
     ]
    }
   ],
   "source": [
    "print( -1 % 5 )"
   ]
  },
  {
   "cell_type": "code",
   "execution_count": 2,
   "id": "9f9cd4f3",
   "metadata": {},
   "outputs": [
    {
     "name": "stdout",
     "output_type": "stream",
     "text": [
      "['부산', '인천']\n"
     ]
    }
   ],
   "source": [
    "cities = ['서울', '부산', '인천', '대구', '대전', '광주', '울산', '수원']\n",
    "print(cities[-7:3])\n"
   ]
  },
  {
   "cell_type": "code",
   "execution_count": 5,
   "id": "714783cf",
   "metadata": {},
   "outputs": [
    {
     "name": "stdout",
     "output_type": "stream",
     "text": [
      "[10, 7, 6, 5, 1]\n"
     ]
    }
   ],
   "source": [
    "my_list = [1, 10, 5, 7, 6]\n",
    "my_list.sort(reverse=True)\n",
    "print(my_list) "
   ]
  },
  {
   "cell_type": "code",
   "execution_count": 10,
   "id": "e419c7ee",
   "metadata": {},
   "outputs": [],
   "source": [
    "a=4"
   ]
  },
  {
   "cell_type": "code",
   "execution_count": 11,
   "id": "26ea6cc8",
   "metadata": {},
   "outputs": [],
   "source": [
    "b = a * 10 if a % 2 == 0 else a + 10\n",
    "\n",
    "#a = 10 일 때 변수 b의 값은, a가 짝수일 경우 a*10, 홀수일 경우 a+10으로 할당하고자 한다.\n",
    "# 이를 one line if 문으로 바르게 표현한 것"
   ]
  },
  {
   "cell_type": "code",
   "execution_count": 12,
   "id": "4d9ab6b4",
   "metadata": {},
   "outputs": [
    {
     "name": "stdout",
     "output_type": "stream",
     "text": [
      "4\n"
     ]
    }
   ],
   "source": [
    "print(a)"
   ]
  },
  {
   "cell_type": "code",
   "execution_count": 27,
   "id": "b6cd9aad",
   "metadata": {},
   "outputs": [
    {
     "name": "stdout",
     "output_type": "stream",
     "text": [
      "I love Doosan!\n",
      "I love Hanhwa!\n"
     ]
    }
   ],
   "source": [
    "s = \"I love Hanhwa!\"\n",
    "def f(*s):\n",
    "   (       )\n",
    "   s = \"I love Doosan!\"\n",
    "   print(s)\n",
    "\n",
    "f(*s)\n",
    "print(s)\n",
    "\n",
    "# 다음 코드를 실행하면 “I love Doosan!” 이 출려된다. \n",
    "# f = ?\n",
    "# "
   ]
  },
  {
   "cell_type": "code",
   "execution_count": 20,
   "id": "38beb8fd",
   "metadata": {},
   "outputs": [
    {
     "name": "stdout",
     "output_type": "stream",
     "text": [
      "1\n"
     ]
    }
   ],
   "source": [
    "from collections import Counter\n",
    "c = Counter('scientist')\n",
    "print(c['n'])"
   ]
  },
  {
   "cell_type": "code",
   "execution_count": 29,
   "id": "c86cb0f1",
   "metadata": {},
   "outputs": [
    {
     "name": "stdout",
     "output_type": "stream",
     "text": [
      "[0, 2, 4, 6, 8]\n"
     ]
    }
   ],
   "source": [
    "result = []\n",
    "for i in range(10):\n",
    "   if i % 2 == 0:\n",
    "       result.append(i)\n",
    "print(result)"
   ]
  },
  {
   "cell_type": "code",
   "execution_count": 30,
   "id": "78dd6be3",
   "metadata": {},
   "outputs": [
    {
     "name": "stdout",
     "output_type": "stream",
     "text": [
      "[0, 2, 4, 6, 8]\n"
     ]
    }
   ],
   "source": [
    "result = [i for i in range(10) if i % 2 == 0]\n",
    "print(result)"
   ]
  },
  {
   "cell_type": "code",
   "execution_count": 31,
   "id": "fe6a8802",
   "metadata": {},
   "outputs": [
    {
     "name": "stdout",
     "output_type": "stream",
     "text": [
      "[['AD', 'BD'], ['AE', 'BE']]\n"
     ]
    }
   ],
   "source": [
    "case1 = ['A', 'B']\n",
    "case2 = ['D', 'E']\n",
    "result = [[i + j for i in case1] for j in case2]\n",
    "print(result)"
   ]
  },
  {
   "cell_type": "code",
   "execution_count": 36,
   "id": "52409e44",
   "metadata": {},
   "outputs": [
    {
     "name": "stdout",
     "output_type": "stream",
     "text": [
      "2\n"
     ]
    }
   ],
   "source": [
    "f = lambda n, m: n if n%2 == 0 else m\n",
    "print(f(2, 3))\n"
   ]
  },
  {
   "cell_type": "code",
   "execution_count": null,
   "id": "2aea2d50",
   "metadata": {},
   "outputs": [],
   "source": []
  }
 ],
 "metadata": {
  "kernelspec": {
   "display_name": "Python 3",
   "language": "python",
   "name": "python3"
  },
  "language_info": {
   "codemirror_mode": {
    "name": "ipython",
    "version": 3
   },
   "file_extension": ".py",
   "mimetype": "text/x-python",
   "name": "python",
   "nbconvert_exporter": "python",
   "pygments_lexer": "ipython3",
   "version": "3.8.11"
  }
 },
 "nbformat": 4,
 "nbformat_minor": 5
}
