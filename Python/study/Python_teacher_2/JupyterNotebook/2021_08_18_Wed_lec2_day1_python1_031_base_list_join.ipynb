{
 "cells": [
  {
   "cell_type": "code",
   "execution_count": 2,
   "id": "65bf6f7f",
   "metadata": {},
   "outputs": [
    {
     "name": "stdout",
     "output_type": "stream",
     "text": [
      "The hunt for red October\n"
     ]
    }
   ],
   "source": [
    "book = 'The hunt for red October'\n",
    "print(book)"
   ]
  },
  {
   "cell_type": "code",
   "execution_count": 3,
   "id": "d51902f8",
   "metadata": {},
   "outputs": [
    {
     "name": "stdout",
     "output_type": "stream",
     "text": [
      "12\n"
     ]
    }
   ],
   "source": [
    "a=7\n",
    "b=5\n",
    "print(a+b)"
   ]
  },
  {
   "cell_type": "code",
   "execution_count": 4,
   "id": "4eec1499",
   "metadata": {},
   "outputs": [
    {
     "name": "stdout",
     "output_type": "stream",
     "text": [
      "ab\n"
     ]
    }
   ],
   "source": [
    "print('a' + 'b')"
   ]
  },
  {
   "cell_type": "markdown",
   "id": "1572c834",
   "metadata": {},
   "source": [
    "### 정수형, 실수형, 문자형, Boolean"
   ]
  },
  {
   "cell_type": "code",
   "execution_count": 5,
   "id": "5192956c",
   "metadata": {},
   "outputs": [
    {
     "name": "stdout",
     "output_type": "stream",
     "text": [
      "5.0\n"
     ]
    }
   ],
   "source": [
    "a = 1.5\n",
    "b= 3.5\n",
    "print(a+b)"
   ]
  },
  {
   "cell_type": "code",
   "execution_count": 6,
   "id": "b815ed54",
   "metadata": {},
   "outputs": [],
   "source": [
    "a = \"이것은 문자열\"\n",
    "b = '이것은 문자열'\n",
    "c = \"\"\"이것은 문자열\"\"\"\n",
    "d = '''이것은 문자열'''"
   ]
  },
  {
   "cell_type": "code",
   "execution_count": 7,
   "id": "d78090e4",
   "metadata": {},
   "outputs": [],
   "source": [
    "a = \"I'm a student\"\n",
    "b= 'My name is \"Tom\"'"
   ]
  },
  {
   "cell_type": "code",
   "execution_count": 8,
   "id": "e03eaa45",
   "metadata": {},
   "outputs": [],
   "source": [
    "c = \"\"\"sfsfffsfsd\n",
    "sfsfsfsfsdf\n",
    "sfsfsdfs\n",
    "sfsfs\"\"\""
   ]
  },
  {
   "cell_type": "code",
   "execution_count": 9,
   "id": "0654e900",
   "metadata": {},
   "outputs": [
    {
     "name": "stdout",
     "output_type": "stream",
     "text": [
      "I'm a student\n",
      "My name is \"Tom\"\n",
      "sfsfffsfsd\n",
      "sfsfsfsfsdf\n",
      "sfsfsdfs\n",
      "sfsfs\n"
     ]
    }
   ],
   "source": [
    "print(a)\n",
    "print(b)\n",
    "print(c)"
   ]
  },
  {
   "cell_type": "code",
   "execution_count": 10,
   "id": "7fa6964d",
   "metadata": {},
   "outputs": [
    {
     "name": "stdout",
     "output_type": "stream",
     "text": [
      "True False\n"
     ]
    }
   ],
   "source": [
    "a = True\n",
    "b = False\n",
    "print( a, b)"
   ]
  },
  {
   "cell_type": "code",
   "execution_count": 11,
   "id": "6432275a",
   "metadata": {},
   "outputs": [
    {
     "name": "stdout",
     "output_type": "stream",
     "text": [
      "3.5\n"
     ]
    }
   ],
   "source": [
    "print(7 / 2)"
   ]
  },
  {
   "cell_type": "code",
   "execution_count": 12,
   "id": "4b8b67ec",
   "metadata": {},
   "outputs": [
    {
     "name": "stdout",
     "output_type": "stream",
     "text": [
      "3\n"
     ]
    }
   ],
   "source": [
    "print(7//2)"
   ]
  },
  {
   "cell_type": "code",
   "execution_count": 13,
   "id": "55a7db7e",
   "metadata": {},
   "outputs": [
    {
     "name": "stdout",
     "output_type": "stream",
     "text": [
      "1\n"
     ]
    }
   ],
   "source": [
    "print(7 % 2)"
   ]
  },
  {
   "cell_type": "code",
   "execution_count": 14,
   "id": "080eec4f",
   "metadata": {},
   "outputs": [
    {
     "name": "stdout",
     "output_type": "stream",
     "text": [
      "1\n"
     ]
    }
   ],
   "source": [
    "print(1 % 5)"
   ]
  },
  {
   "cell_type": "code",
   "execution_count": 15,
   "id": "e0586aea",
   "metadata": {},
   "outputs": [
    {
     "name": "stdout",
     "output_type": "stream",
     "text": [
      "4\n"
     ]
    }
   ],
   "source": [
    "print( -1 % 5)"
   ]
  },
  {
   "cell_type": "code",
   "execution_count": 16,
   "id": "b88ad797",
   "metadata": {},
   "outputs": [
    {
     "name": "stdout",
     "output_type": "stream",
     "text": [
      "-4\n"
     ]
    }
   ],
   "source": [
    "print(1 % -5)"
   ]
  },
  {
   "cell_type": "markdown",
   "id": "0093b760",
   "metadata": {},
   "source": [
    "### Modular 연산자(%)\n",
    "- a % b = {a + (b * n)} % b , n = 정수( -2, -1, 0, 1, 2, ... 다 들어갈 수 있음)\n",
    "- 4 % 5 = 9 % 5 = 14 % 5 = -1 % 5 = -6 % 5\n",
    "- 1 % -5 = -4 % -5(n=1)"
   ]
  },
  {
   "cell_type": "code",
   "execution_count": 17,
   "id": "93522833",
   "metadata": {},
   "outputs": [
    {
     "name": "stdout",
     "output_type": "stream",
     "text": [
      "10 10.0\n"
     ]
    }
   ],
   "source": [
    "a = 10\n",
    "b = float(a)\n",
    "print(a, b)"
   ]
  },
  {
   "cell_type": "code",
   "execution_count": 19,
   "id": "69858158",
   "metadata": {},
   "outputs": [
    {
     "name": "stdout",
     "output_type": "stream",
     "text": [
      "9.7 9\n"
     ]
    }
   ],
   "source": [
    "a = 9.7\n",
    "b = int(a)\n",
    "print(a, b)"
   ]
  },
  {
   "cell_type": "code",
   "execution_count": 20,
   "id": "a1399eb9",
   "metadata": {},
   "outputs": [
    {
     "name": "stdout",
     "output_type": "stream",
     "text": [
      "76.2 76.2\n"
     ]
    }
   ],
   "source": [
    "a = \"76.2\"\n",
    "b = float(a)\n",
    "print(a, b)"
   ]
  },
  {
   "cell_type": "code",
   "execution_count": 21,
   "id": "49d6cd9a",
   "metadata": {},
   "outputs": [
    {
     "name": "stdout",
     "output_type": "stream",
     "text": [
      "32.0 10.221.8\n"
     ]
    }
   ],
   "source": [
    "a = 10.2\n",
    "b = 21.8\n",
    "c = str(a)\n",
    "d = str(b)\n",
    "print(a + b, c + d)"
   ]
  },
  {
   "cell_type": "code",
   "execution_count": 22,
   "id": "453594c3",
   "metadata": {},
   "outputs": [
    {
     "name": "stdout",
     "output_type": "stream",
     "text": [
      "10.3\n"
     ]
    }
   ],
   "source": [
    "a = 10.3\n",
    "print(a)"
   ]
  },
  {
   "cell_type": "code",
   "execution_count": 23,
   "id": "e1f04801",
   "metadata": {},
   "outputs": [
    {
     "name": "stdout",
     "output_type": "stream",
     "text": [
      "<class 'float'>\n"
     ]
    }
   ],
   "source": [
    "print(type(a))"
   ]
  },
  {
   "cell_type": "code",
   "execution_count": 24,
   "id": "b52da358",
   "metadata": {},
   "outputs": [
    {
     "name": "stdout",
     "output_type": "stream",
     "text": [
      "<class 'str'>\n"
     ]
    }
   ],
   "source": [
    "b = str(a)\n",
    "print(type(b))"
   ]
  },
  {
   "cell_type": "code",
   "execution_count": 25,
   "id": "15688892",
   "metadata": {},
   "outputs": [
    {
     "name": "stdout",
     "output_type": "stream",
     "text": [
      "<class 'bool'>\n"
     ]
    }
   ],
   "source": [
    "c = True\n",
    "print(type(c))"
   ]
  },
  {
   "cell_type": "code",
   "execution_count": 26,
   "id": "9333ec6a",
   "metadata": {},
   "outputs": [
    {
     "name": "stdout",
     "output_type": "stream",
     "text": [
      "Enter name:\n",
      "Tom\n",
      "Good morning! Tom\n"
     ]
    }
   ],
   "source": [
    "print(\"Enter name:\")\n",
    "name = input()\n",
    "print('Good morning!', name)"
   ]
  },
  {
   "cell_type": "code",
   "execution_count": 27,
   "id": "3e3a3c04",
   "metadata": {},
   "outputs": [
    {
     "name": "stdout",
     "output_type": "stream",
     "text": [
      "Enter name:Tom\n",
      "Good morning! Tom\n"
     ]
    }
   ],
   "source": [
    "name = input(\"Enter name:\")\n",
    "print('Good morning!', name)"
   ]
  },
  {
   "cell_type": "code",
   "execution_count": 28,
   "id": "09784c09",
   "metadata": {},
   "outputs": [
    {
     "name": "stdout",
     "output_type": "stream",
     "text": [
      "\n",
      "Hi Jhon\n",
      "Hi Jhon\n"
     ]
    }
   ],
   "source": [
    "print()\n",
    "print('Hi', 'Jhon')\n",
    "print(\"Hi\" + ' ' + 'Jhon')"
   ]
  },
  {
   "cell_type": "code",
   "execution_count": 29,
   "id": "541e925a",
   "metadata": {},
   "outputs": [
    {
     "name": "stdout",
     "output_type": "stream",
     "text": [
      "red\n",
      "green\n",
      "3\n",
      "['red', 'blue', 'green']\n"
     ]
    }
   ],
   "source": [
    "colors = ['red', 'blue', 'green']\n",
    "print(colors[0])\n",
    "print(colors[2])\n",
    "print(len(colors))\n",
    "print(colors)"
   ]
  },
  {
   "cell_type": "code",
   "execution_count": 30,
   "id": "13dd8405",
   "metadata": {},
   "outputs": [
    {
     "name": "stdout",
     "output_type": "stream",
     "text": [
      "[1, 2, 'Three', True]\n"
     ]
    }
   ],
   "source": [
    "mix_list = [1, 2, 'Three', True]\n",
    "print(mix_list)"
   ]
  },
  {
   "cell_type": "code",
   "execution_count": 31,
   "id": "25c98808",
   "metadata": {},
   "outputs": [],
   "source": [
    "cities = ['서울', '부산', '인천', '대구', '대전', '광주', \\\n",
    "         '울산', '수원']"
   ]
  },
  {
   "cell_type": "code",
   "execution_count": 32,
   "id": "af471dcf",
   "metadata": {},
   "outputs": [
    {
     "name": "stdout",
     "output_type": "stream",
     "text": [
      "['서울', '부산', '인천', '대구', '대전', '광주']\n"
     ]
    }
   ],
   "source": [
    "print(cities[0:6])   #  (0:6]"
   ]
  },
  {
   "cell_type": "code",
   "execution_count": 33,
   "id": "d2f82ef3",
   "metadata": {},
   "outputs": [
    {
     "name": "stdout",
     "output_type": "stream",
     "text": [
      "['서울', '부산', '인천', '대구', '대전', '광주']\n"
     ]
    }
   ],
   "source": [
    "print(cities[:6])"
   ]
  },
  {
   "cell_type": "code",
   "execution_count": 34,
   "id": "3cd50b4d",
   "metadata": {},
   "outputs": [
    {
     "name": "stdout",
     "output_type": "stream",
     "text": [
      "['인천', '대구', '대전', '광주', '울산', '수원']\n"
     ]
    }
   ],
   "source": [
    "print(cities[2:])"
   ]
  },
  {
   "cell_type": "code",
   "execution_count": 35,
   "id": "5b0f87c5",
   "metadata": {},
   "outputs": [
    {
     "name": "stdout",
     "output_type": "stream",
     "text": [
      "['부산', '인천', '대구', '대전', '광주', '울산', '수원']\n"
     ]
    }
   ],
   "source": [
    "print(cities[-7:])"
   ]
  },
  {
   "cell_type": "code",
   "execution_count": 36,
   "id": "79c9d955",
   "metadata": {},
   "outputs": [
    {
     "name": "stdout",
     "output_type": "stream",
     "text": [
      "['서울', '부산', '인천', '대구', '대전', '광주']\n"
     ]
    }
   ],
   "source": [
    "print(cities[:-2])"
   ]
  },
  {
   "cell_type": "code",
   "execution_count": 37,
   "id": "0436941e",
   "metadata": {},
   "outputs": [
    {
     "name": "stdout",
     "output_type": "stream",
     "text": [
      "['서울', '부산', '인천', '대구', '대전', '광주', '울산', '수원']\n"
     ]
    }
   ],
   "source": [
    "print(cities[:])"
   ]
  },
  {
   "cell_type": "code",
   "execution_count": 38,
   "id": "7c63ce09",
   "metadata": {},
   "outputs": [
    {
     "name": "stdout",
     "output_type": "stream",
     "text": [
      "['서울', '부산', '인천', '대구', '대전', '광주', '울산', '수원']\n"
     ]
    }
   ],
   "source": [
    "print(cities)"
   ]
  },
  {
   "cell_type": "code",
   "execution_count": 39,
   "id": "e251b3e5",
   "metadata": {},
   "outputs": [
    {
     "name": "stdout",
     "output_type": "stream",
     "text": [
      "['부산', '대구', '광주']\n"
     ]
    }
   ],
   "source": [
    "print(cities[1:7:2])"
   ]
  },
  {
   "cell_type": "code",
   "execution_count": 40,
   "id": "5471286f",
   "metadata": {},
   "outputs": [
    {
     "name": "stdout",
     "output_type": "stream",
     "text": [
      "['수원', '울산', '광주', '대전', '대구', '인천', '부산', '서울']\n"
     ]
    }
   ],
   "source": [
    "print(cities[::-1])"
   ]
  },
  {
   "cell_type": "code",
   "execution_count": 41,
   "id": "7c9fe85e",
   "metadata": {},
   "outputs": [
    {
     "name": "stdout",
     "output_type": "stream",
     "text": [
      "['서울', '인천', '대전', '울산']\n"
     ]
    }
   ],
   "source": [
    "print(cities[::2])"
   ]
  },
  {
   "cell_type": "code",
   "execution_count": 42,
   "id": "348bcc0f",
   "metadata": {},
   "outputs": [
    {
     "name": "stdout",
     "output_type": "stream",
     "text": [
      "6\n",
      "['red', 'blue', 'green', 'orange', 'black', 'white']\n"
     ]
    }
   ],
   "source": [
    "color1 = ['red', 'blue', 'green']\n",
    "color2 = ['orange', 'black', 'white']\n",
    "add_color = color1 + color2\n",
    "print(len(add_color))\n",
    "print(add_color)"
   ]
  },
  {
   "cell_type": "code",
   "execution_count": 43,
   "id": "1c32a164",
   "metadata": {},
   "outputs": [
    {
     "name": "stdout",
     "output_type": "stream",
     "text": [
      "6\n",
      "['red', 'blue', 'green', 'red', 'blue', 'green']\n"
     ]
    }
   ],
   "source": [
    "mun_color = color1 *2\n",
    "print(len(mun_color))\n",
    "print(mun_color)"
   ]
  },
  {
   "cell_type": "code",
   "execution_count": 45,
   "id": "f2bcfde3",
   "metadata": {},
   "outputs": [
    {
     "name": "stdout",
     "output_type": "stream",
     "text": [
      "False\n"
     ]
    }
   ],
   "source": [
    "print('blue' in color2)"
   ]
  },
  {
   "cell_type": "code",
   "execution_count": 46,
   "id": "7a984f53",
   "metadata": {},
   "outputs": [
    {
     "name": "stdout",
     "output_type": "stream",
     "text": [
      "['red', 'blue', 'green', 'orange']\n"
     ]
    }
   ],
   "source": [
    "color1.append('orange')\n",
    "print(color1)"
   ]
  },
  {
   "cell_type": "code",
   "execution_count": 47,
   "id": "06542e46",
   "metadata": {},
   "outputs": [
    {
     "name": "stdout",
     "output_type": "stream",
     "text": [
      "['red', 'blue', 'green', 'orange', 'black', 'white']\n"
     ]
    }
   ],
   "source": [
    "color1.extend(['black', 'white'])\n",
    "print(color1)"
   ]
  },
  {
   "cell_type": "code",
   "execution_count": 48,
   "id": "28b90993",
   "metadata": {},
   "outputs": [
    {
     "name": "stdout",
     "output_type": "stream",
     "text": [
      "['orange', 'black', 'white']\n"
     ]
    }
   ],
   "source": [
    "print(color2)"
   ]
  },
  {
   "cell_type": "code",
   "execution_count": 49,
   "id": "951dbfa7",
   "metadata": {},
   "outputs": [
    {
     "name": "stdout",
     "output_type": "stream",
     "text": [
      "['orange', 'red', 'black', 'white']\n"
     ]
    }
   ],
   "source": [
    "color2.insert(1, 'red')\n",
    "print(color2)"
   ]
  },
  {
   "cell_type": "code",
   "execution_count": 50,
   "id": "f29dee5e",
   "metadata": {},
   "outputs": [
    {
     "name": "stdout",
     "output_type": "stream",
     "text": [
      "['orange', 'red', 'purple', 'black', 'white']\n"
     ]
    }
   ],
   "source": [
    "color2.insert(2, 'purple')\n",
    "print(color2)"
   ]
  },
  {
   "cell_type": "code",
   "execution_count": 51,
   "id": "4a9ef619",
   "metadata": {},
   "outputs": [
    {
     "name": "stdout",
     "output_type": "stream",
     "text": [
      "['orange', 'red', 'black', 'white']\n"
     ]
    }
   ],
   "source": [
    "color2.remove('purple')\n",
    "print(color2)"
   ]
  },
  {
   "cell_type": "code",
   "execution_count": 52,
   "id": "9db14bc8",
   "metadata": {},
   "outputs": [
    {
     "name": "stdout",
     "output_type": "stream",
     "text": [
      "10.3\n"
     ]
    }
   ],
   "source": [
    "print(a)"
   ]
  },
  {
   "cell_type": "code",
   "execution_count": 53,
   "id": "fa9d1448",
   "metadata": {},
   "outputs": [],
   "source": [
    "del a"
   ]
  },
  {
   "cell_type": "code",
   "execution_count": 54,
   "id": "08133f64",
   "metadata": {},
   "outputs": [
    {
     "ename": "NameError",
     "evalue": "name 'a' is not defined",
     "output_type": "error",
     "traceback": [
      "\u001b[1;31m---------------------------------------------------------------------------\u001b[0m",
      "\u001b[1;31mNameError\u001b[0m                                 Traceback (most recent call last)",
      "\u001b[1;32m<ipython-input-54-bca0e2660b9f>\u001b[0m in \u001b[0;36m<module>\u001b[1;34m\u001b[0m\n\u001b[1;32m----> 1\u001b[1;33m \u001b[0mprint\u001b[0m\u001b[1;33m(\u001b[0m\u001b[0ma\u001b[0m\u001b[1;33m)\u001b[0m\u001b[1;33m\u001b[0m\u001b[1;33m\u001b[0m\u001b[0m\n\u001b[0m",
      "\u001b[1;31mNameError\u001b[0m: name 'a' is not defined"
     ]
    }
   ],
   "source": [
    "print(a)"
   ]
  },
  {
   "cell_type": "code",
   "execution_count": 56,
   "id": "ab77b9a0",
   "metadata": {},
   "outputs": [
    {
     "name": "stdout",
     "output_type": "stream",
     "text": [
      "['black', 'white']\n"
     ]
    }
   ],
   "source": [
    "del color2[0]\n",
    "print(color2)"
   ]
  },
  {
   "cell_type": "code",
   "execution_count": 62,
   "id": "41440b50",
   "metadata": {},
   "outputs": [
    {
     "name": "stdout",
     "output_type": "stream",
     "text": [
      "['red', 'black', 'purple']\n"
     ]
    }
   ],
   "source": [
    "color2[2] = 'purple'\n",
    "print(color2)"
   ]
  },
  {
   "cell_type": "code",
   "execution_count": 63,
   "id": "4e14b692",
   "metadata": {},
   "outputs": [],
   "source": [
    "color = ['red', 'blue', 'green'] # Packing"
   ]
  },
  {
   "cell_type": "code",
   "execution_count": 64,
   "id": "f5625a50",
   "metadata": {},
   "outputs": [
    {
     "name": "stdout",
     "output_type": "stream",
     "text": [
      "red blue green\n"
     ]
    }
   ],
   "source": [
    "a, b, c = color\n",
    "print(a, b, c)"
   ]
  },
  {
   "cell_type": "code",
   "execution_count": 65,
   "id": "d0951961",
   "metadata": {},
   "outputs": [
    {
     "name": "stdout",
     "output_type": "stream",
     "text": [
      "red green\n"
     ]
    }
   ],
   "source": [
    "a, _, c = color\n",
    "print(a, c)"
   ]
  },
  {
   "cell_type": "code",
   "execution_count": 66,
   "id": "c0c209d4",
   "metadata": {},
   "outputs": [
    {
     "name": "stdout",
     "output_type": "stream",
     "text": [
      "[[60, 65, 85, 100, 90], [75, 80, 90, 85, 100], [100, 90, 70, 90, 85]]\n"
     ]
    }
   ],
   "source": [
    "kor_score = [60, 65, 85, 100, 90]\n",
    "eng_score = [75, 80, 90, 85, 100]\n",
    "math_score = [100, 90, 70, 90, 85]\n",
    "term_score = [kor_score, eng_score, math_score]\n",
    "print(term_score)"
   ]
  },
  {
   "cell_type": "code",
   "execution_count": 67,
   "id": "22e4291d",
   "metadata": {},
   "outputs": [
    {
     "name": "stdout",
     "output_type": "stream",
     "text": [
      "[60, 65, 85, 100, 90]\n"
     ]
    }
   ],
   "source": [
    "print(term_score[0])"
   ]
  },
  {
   "cell_type": "code",
   "execution_count": 68,
   "id": "b3987267",
   "metadata": {},
   "outputs": [
    {
     "name": "stdout",
     "output_type": "stream",
     "text": [
      "85\n"
     ]
    }
   ],
   "source": [
    "print(term_score[0][2])"
   ]
  },
  {
   "cell_type": "code",
   "execution_count": 70,
   "id": "d5b4711b",
   "metadata": {},
   "outputs": [
    {
     "name": "stdout",
     "output_type": "stream",
     "text": [
      "[0, 90, 70, 90, 85]\n"
     ]
    }
   ],
   "source": [
    "math_backup_score = math_score\n",
    "math_score[0] = 0\n",
    "print(math_score)"
   ]
  },
  {
   "cell_type": "code",
   "execution_count": 71,
   "id": "0e5ab934",
   "metadata": {},
   "outputs": [
    {
     "name": "stdout",
     "output_type": "stream",
     "text": [
      "[[60, 65, 85, 100, 90], [75, 80, 90, 85, 100], [0, 90, 70, 90, 85]]\n"
     ]
    }
   ],
   "source": [
    "print(term_score)"
   ]
  },
  {
   "cell_type": "code",
   "execution_count": 72,
   "id": "166a8b77",
   "metadata": {},
   "outputs": [
    {
     "name": "stdout",
     "output_type": "stream",
     "text": [
      "[0, 90, 70, 90, 85]\n"
     ]
    }
   ],
   "source": [
    "print(math_backup_score)"
   ]
  },
  {
   "cell_type": "code",
   "execution_count": 73,
   "id": "4a24c5e4",
   "metadata": {},
   "outputs": [
    {
     "name": "stdout",
     "output_type": "stream",
     "text": [
      "[6, 7, 5, 10, 1]\n"
     ]
    }
   ],
   "source": [
    "a = [1, 10, 5, 7, 6]\n",
    "a.reverse()\n",
    "print(a)"
   ]
  },
  {
   "cell_type": "code",
   "execution_count": 74,
   "id": "d464e193",
   "metadata": {},
   "outputs": [
    {
     "name": "stdout",
     "output_type": "stream",
     "text": [
      "[1, 5, 6, 7, 10]\n"
     ]
    }
   ],
   "source": [
    "a.sort()\n",
    "print(a)"
   ]
  },
  {
   "cell_type": "code",
   "execution_count": 75,
   "id": "5130e8fa",
   "metadata": {},
   "outputs": [],
   "source": [
    "a.sort(reverse=True)"
   ]
  },
  {
   "cell_type": "code",
   "execution_count": 76,
   "id": "465fb1a5",
   "metadata": {},
   "outputs": [
    {
     "name": "stdout",
     "output_type": "stream",
     "text": [
      "[10, 7, 6, 5, 1]\n"
     ]
    }
   ],
   "source": [
    "print(a)"
   ]
  },
  {
   "cell_type": "code",
   "execution_count": 77,
   "id": "06c8f988",
   "metadata": {},
   "outputs": [
    {
     "name": "stdout",
     "output_type": "stream",
     "text": [
      "[10, 7, 6, 5, 1]\n",
      "[1, 5, 6, 7, 10]\n"
     ]
    }
   ],
   "source": [
    "b = sorted(a)\n",
    "print(a)\n",
    "print(b)"
   ]
  },
  {
   "cell_type": "code",
   "execution_count": 78,
   "id": "f1e0ed06",
   "metadata": {},
   "outputs": [
    {
     "name": "stdout",
     "output_type": "stream",
     "text": [
      "[10, 7, 6, 5, 1]\n"
     ]
    }
   ],
   "source": [
    "c = sorted(a, reverse=True)\n",
    "print(c)"
   ]
  },
  {
   "cell_type": "code",
   "execution_count": 79,
   "id": "648e099b",
   "metadata": {},
   "outputs": [
    {
     "name": "stdout",
     "output_type": "stream",
     "text": [
      "2\n"
     ]
    }
   ],
   "source": [
    "a = [5, 10, 5, 7, 6]\n",
    "print(a.count(5))"
   ]
  },
  {
   "cell_type": "code",
   "execution_count": 80,
   "id": "f56b50d1",
   "metadata": {},
   "outputs": [],
   "source": [
    "appetizer = ['egg', 'salad', 'bread', 'soup', 'canape']\n",
    "main_dish = ['fish', 'lamb', 'pork', 'beef', 'chicken']\n",
    "dessert = ['apple', 'ice cream', 'pudding', 'cookied', 'cake']\n",
    "\n",
    "order = [appetizer, main_dish, dessert]\n",
    "jane = [order[0][:-2], main_dish[1::3], dessert[1]]\n",
    "del jane[2]\n",
    "jane.extend([order[2][0:1]])"
   ]
  },
  {
   "cell_type": "code",
   "execution_count": 81,
   "id": "5e984057",
   "metadata": {},
   "outputs": [
    {
     "name": "stdout",
     "output_type": "stream",
     "text": [
      "[['egg', 'salad', 'bread'], ['lamb', 'chicken'], ['apple']]\n"
     ]
    }
   ],
   "source": [
    "print(jane)"
   ]
  },
  {
   "cell_type": "code",
   "execution_count": 82,
   "id": "a9ae11e9",
   "metadata": {},
   "outputs": [
    {
     "name": "stdout",
     "output_type": "stream",
     "text": [
      "Tell me your age?40\n",
      "Oh! No. You are not accepted.\n"
     ]
    }
   ],
   "source": [
    "my_age = int(input('Tell me your age?'))\n",
    "if my_age < 30:\n",
    "    print('Welcome to the club.')\n",
    "else:\n",
    "    print(\"Oh! No. You are not accepted.\")"
   ]
  },
  {
   "cell_type": "code",
   "execution_count": 83,
   "id": "13e09046",
   "metadata": {},
   "outputs": [
    {
     "name": "stdout",
     "output_type": "stream",
     "text": [
      "Enter your score:75\n",
      "C\n"
     ]
    }
   ],
   "source": [
    "score = int(input('Enter your score:'))\n",
    "if score >= 90:\n",
    "    grade = 'A'\n",
    "elif score >= 80:\n",
    "    grade = 'B'\n",
    "elif score >= 70:\n",
    "    grade = 'C'\n",
    "elif score >= 60:\n",
    "    grade = 'D'\n",
    "else:\n",
    "    grade = 'F'\n",
    "    \n",
    "print(grade)    "
   ]
  },
  {
   "cell_type": "markdown",
   "id": "e775305e",
   "metadata": {},
   "source": [
    "### one line if"
   ]
  },
  {
   "cell_type": "code",
   "execution_count": 84,
   "id": "610ed996",
   "metadata": {},
   "outputs": [
    {
     "name": "stdout",
     "output_type": "stream",
     "text": [
      "100\n"
     ]
    }
   ],
   "source": [
    "a = 10\n",
    "b = a * 10 if a % 2 == 0 else a + 10\n",
    "print(b)"
   ]
  },
  {
   "cell_type": "code",
   "execution_count": 85,
   "id": "d1419121",
   "metadata": {},
   "outputs": [
    {
     "name": "stdout",
     "output_type": "stream",
     "text": [
      "No. 1\n",
      "No. 2\n",
      "No. 3\n",
      "No. 4\n",
      "No. 5\n"
     ]
    }
   ],
   "source": [
    "for n in [1, 2, 3, 4, 5]:\n",
    "    print('No.', n)"
   ]
  },
  {
   "cell_type": "code",
   "execution_count": 86,
   "id": "f8c5c9cd",
   "metadata": {},
   "outputs": [
    {
     "name": "stdout",
     "output_type": "stream",
     "text": [
      "No. 0\n",
      "No. 1\n",
      "No. 2\n",
      "No. 3\n",
      "No. 4\n"
     ]
    }
   ],
   "source": [
    "for n in range(5):\n",
    "    print('No.', n)"
   ]
  },
  {
   "cell_type": "code",
   "execution_count": 87,
   "id": "b3880bc6",
   "metadata": {},
   "outputs": [
    {
     "name": "stdout",
     "output_type": "stream",
     "text": [
      "No. 1\n",
      "No. 2\n",
      "No. 3\n",
      "No. 4\n",
      "No. 5\n"
     ]
    }
   ],
   "source": [
    "for n in range(1, 6):\n",
    "    print('No.', n)"
   ]
  },
  {
   "cell_type": "code",
   "execution_count": 88,
   "id": "10e69ec3",
   "metadata": {},
   "outputs": [
    {
     "name": "stdout",
     "output_type": "stream",
     "text": [
      "No. 1\n",
      "No. 3\n",
      "No. 5\n"
     ]
    }
   ],
   "source": [
    "for n in range(1, 6, 2):\n",
    "    print('No.', n)"
   ]
  },
  {
   "cell_type": "code",
   "execution_count": 89,
   "id": "ea3d5d4b",
   "metadata": {},
   "outputs": [
    {
     "name": "stdout",
     "output_type": "stream",
     "text": [
      "a\n",
      "b\n",
      "c\n",
      "d\n",
      "e\n",
      "f\n",
      "g\n"
     ]
    }
   ],
   "source": [
    "for n in 'abcdefg':\n",
    "    print(n)"
   ]
  },
  {
   "cell_type": "code",
   "execution_count": 90,
   "id": "32c039a6",
   "metadata": {},
   "outputs": [
    {
     "name": "stdout",
     "output_type": "stream",
     "text": [
      "banana\n",
      "pineapple\n",
      "mango\n"
     ]
    }
   ],
   "source": [
    "for n in ['banana', 'pineapple', 'mango']:\n",
    "    print(n)"
   ]
  },
  {
   "cell_type": "code",
   "execution_count": 92,
   "id": "8e29f8fd",
   "metadata": {},
   "outputs": [
    {
     "name": "stdout",
     "output_type": "stream",
     "text": [
      "b\n",
      "a\n",
      "n\n",
      "a\n",
      "n\n",
      "a\n",
      "p\n",
      "i\n",
      "n\n",
      "e\n",
      "a\n",
      "p\n",
      "p\n",
      "l\n",
      "e\n",
      "m\n",
      "a\n",
      "n\n",
      "g\n",
      "o\n"
     ]
    }
   ],
   "source": [
    "for n in ['banana', 'pineapple', 'mango']:\n",
    "    for k in n:\n",
    "        print(k)"
   ]
  },
  {
   "cell_type": "code",
   "execution_count": 94,
   "id": "c6eda440",
   "metadata": {},
   "outputs": [
    {
     "name": "stdout",
     "output_type": "stream",
     "text": [
      "b\n",
      "a\n",
      "n\n",
      "a\n",
      "n\n",
      "a\n",
      "\n",
      "p\n",
      "i\n",
      "n\n",
      "e\n",
      "a\n",
      "p\n",
      "p\n",
      "l\n",
      "e\n",
      "\n",
      "m\n",
      "a\n",
      "n\n",
      "g\n",
      "o\n",
      "\n"
     ]
    }
   ],
   "source": [
    "for n in ['banana', 'pineapple', 'mango']:\n",
    "    for k in n:\n",
    "        print(k)\n",
    "    print()"
   ]
  },
  {
   "cell_type": "code",
   "execution_count": 97,
   "id": "3abc1d60",
   "metadata": {},
   "outputs": [
    {
     "name": "stdout",
     "output_type": "stream",
     "text": [
      "banana\n",
      "pineapple\n",
      "mango\n"
     ]
    }
   ],
   "source": [
    "for n in ['banana', 'pineapple', 'mango']:\n",
    "    for k in n:\n",
    "        print(k, end='')\n",
    "    print()"
   ]
  },
  {
   "cell_type": "code",
   "execution_count": 98,
   "id": "07d085f4",
   "metadata": {},
   "outputs": [
    {
     "name": "stdout",
     "output_type": "stream",
     "text": [
      "1\n",
      "2\n",
      "3\n",
      "4\n",
      "5\n",
      "6\n",
      "7\n",
      "8\n",
      "9\n"
     ]
    }
   ],
   "source": [
    "i = 1\n",
    "while i < 10:\n",
    "    print(i)\n",
    "    i += 1"
   ]
  },
  {
   "cell_type": "code",
   "execution_count": 99,
   "id": "64f19d7c",
   "metadata": {},
   "outputs": [
    {
     "name": "stdout",
     "output_type": "stream",
     "text": [
      "0\n",
      "1\n",
      "2\n",
      "3\n",
      "4\n",
      "End of program\n"
     ]
    }
   ],
   "source": [
    "for i in range(10):\n",
    "    if i == 5:\n",
    "        break\n",
    "    print(i)\n",
    "    \n",
    "print('End of program')"
   ]
  },
  {
   "cell_type": "code",
   "execution_count": 100,
   "id": "49c563c2",
   "metadata": {},
   "outputs": [
    {
     "name": "stdout",
     "output_type": "stream",
     "text": [
      "0\n",
      "1\n",
      "2\n",
      "3\n",
      "4\n",
      "6\n",
      "7\n",
      "8\n",
      "9\n",
      "End of program\n"
     ]
    }
   ],
   "source": [
    "for i in range(10):\n",
    "    if i == 5:\n",
    "        continue\n",
    "    print(i)\n",
    "    \n",
    "print('End of program')"
   ]
  },
  {
   "cell_type": "code",
   "execution_count": 101,
   "id": "4a5670fa",
   "metadata": {},
   "outputs": [
    {
     "name": "stdout",
     "output_type": "stream",
     "text": [
      "0\n",
      "1\n",
      "2\n",
      "3\n",
      "4\n",
      "5\n",
      "6\n",
      "7\n",
      "8\n",
      "9\n",
      "End of program\n"
     ]
    }
   ],
   "source": [
    "for i in range(10):\n",
    "    print(i)\n",
    "else:\n",
    "    print('End of program')"
   ]
  },
  {
   "cell_type": "code",
   "execution_count": 102,
   "id": "826a6ff6",
   "metadata": {},
   "outputs": [
    {
     "name": "stdout",
     "output_type": "stream",
     "text": [
      "0\n",
      "1\n",
      "2\n",
      "3\n",
      "4\n"
     ]
    }
   ],
   "source": [
    "for i in range(10):\n",
    "    if i == 5: break\n",
    "    print(i)\n",
    "else:\n",
    "    print('End of program')"
   ]
  },
  {
   "cell_type": "code",
   "execution_count": 110,
   "id": "29df75e0",
   "metadata": {},
   "outputs": [
    {
     "name": "stdout",
     "output_type": "stream",
     "text": [
      "몇단?\n",
      "3\n",
      "구구단 Tom단 계산\n"
     ]
    },
    {
     "ename": "ValueError",
     "evalue": "invalid literal for int() with base 10: 'Tom'",
     "output_type": "error",
     "traceback": [
      "\u001b[1;31m---------------------------------------------------------------------------\u001b[0m",
      "\u001b[1;31mValueError\u001b[0m                                Traceback (most recent call last)",
      "\u001b[1;32m<ipython-input-110-1e0502173442>\u001b[0m in \u001b[0;36m<module>\u001b[1;34m\u001b[0m\n\u001b[0;32m      6\u001b[0m \u001b[1;33m\u001b[0m\u001b[0m\n\u001b[0;32m      7\u001b[0m \u001b[1;32mfor\u001b[0m \u001b[0mi\u001b[0m \u001b[1;32min\u001b[0m \u001b[0mrange\u001b[0m\u001b[1;33m(\u001b[0m\u001b[1;36m9\u001b[0m\u001b[1;33m)\u001b[0m\u001b[1;33m:\u001b[0m\u001b[1;33m\u001b[0m\u001b[1;33m\u001b[0m\u001b[0m\n\u001b[1;32m----> 8\u001b[1;33m     \u001b[0mprint\u001b[0m\u001b[1;33m(\u001b[0m\u001b[0mint\u001b[0m\u001b[1;33m(\u001b[0m\u001b[0mname\u001b[0m\u001b[1;33m)\u001b[0m \u001b[1;33m+\u001b[0m \u001b[1;34m' X '\u001b[0m \u001b[1;33m+\u001b[0m \u001b[0mint\u001b[0m\u001b[1;33m(\u001b[0m\u001b[0mi\u001b[0m\u001b[1;33m)\u001b[0m \u001b[1;33m+\u001b[0m \u001b[1;34m' = '\u001b[0m \u001b[1;33m+\u001b[0m \u001b[1;33m(\u001b[0m\u001b[0mnum\u001b[0m\u001b[1;33m*\u001b[0m\u001b[0mi\u001b[0m\u001b[1;33m)\u001b[0m\u001b[1;33m)\u001b[0m\u001b[1;33m\u001b[0m\u001b[1;33m\u001b[0m\u001b[0m\n\u001b[0m",
      "\u001b[1;31mValueError\u001b[0m: invalid literal for int() with base 10: 'Tom'"
     ]
    }
   ],
   "source": [
    "print('몇단?')\n",
    "num = input()\n",
    "int(num)\n",
    "\n",
    "print('구구단 ' + name + '단 계산')\n",
    "\n",
    "for i in range(9):\n",
    "    print(int(name) + ' X ' + int(i) + ' = ' + (num*i))"
   ]
  },
  {
   "cell_type": "code",
   "execution_count": 109,
   "id": "60ffcd55",
   "metadata": {},
   "outputs": [
    {
     "name": "stdout",
     "output_type": "stream",
     "text": [
      "몇단? \n",
      "4\n",
      "구구단 4 단 계산\n",
      "4 X 1 = 4\n",
      "4 X 2 = 8\n",
      "4 X 3 = 12\n",
      "4 X 4 = 16\n",
      "4 X 5 = 20\n",
      "4 X 6 = 24\n",
      "4 X 7 = 28\n",
      "4 X 8 = 32\n",
      "4 X 9 = 36\n"
     ]
    }
   ],
   "source": [
    "print(\"몇단? \")\n",
    "dan = input()\n",
    "print(\"구구단\", dan, \"단 계산\")\n",
    "int_dan = int(dan)\n",
    "for i in range(1, 10):\n",
    "    result = int_dan * i\n",
    "    print(dan, 'X', i, '=', result)"
   ]
  },
  {
   "cell_type": "code",
   "execution_count": 116,
   "id": "fc2452ad",
   "metadata": {},
   "outputs": [
    {
     "name": "stdout",
     "output_type": "stream",
     "text": [
      "uoy evol I\n"
     ]
    }
   ],
   "source": [
    "# reverse 쓰지 말고 for문으로 거꾸로 나오게\n",
    "\n",
    "sentence = 'I love you'\n",
    "reverse_sentence = ''\n",
    "for c in sentence:\n",
    "    reverse_sentence = c + reverse_sentence\n",
    "print(reverse_sentence)"
   ]
  },
  {
   "cell_type": "code",
   "execution_count": 123,
   "id": "d7ad75a7",
   "metadata": {},
   "outputs": [
    {
     "name": "stdout",
     "output_type": "stream",
     "text": [
      "I\n",
      " \n",
      "l\n",
      "o\n",
      "v\n",
      "e\n",
      " \n",
      "y\n",
      "o\n",
      "u\n",
      "\n"
     ]
    }
   ],
   "source": [
    "sentence = 'I love you'\n",
    "reverse_sentence = ''\n",
    "for c in sentence:\n",
    "    print(c)\n",
    "print(reverse_sentence)"
   ]
  },
  {
   "cell_type": "code",
   "execution_count": 127,
   "id": "69ae2d3e",
   "metadata": {},
   "outputs": [
    {
     "name": "stdout",
     "output_type": "stream",
     "text": [
      "I\n",
      " I\n",
      "l I\n",
      "ol I\n",
      "vol I\n",
      "evol I\n",
      " evol I\n",
      "y evol I\n",
      "oy evol I\n",
      "uoy evol I\n",
      "uoy evol I\n"
     ]
    }
   ],
   "source": [
    "sentence = 'I love you'\n",
    "reverse_sentence = ''\n",
    "for c in sentence:\n",
    "    reverse_sentence = c + reverse_sentence\n",
    "    print(reverse_sentence)\n",
    "print(reverse_sentence)"
   ]
  },
  {
   "cell_type": "code",
   "execution_count": 129,
   "id": "69e5eb64",
   "metadata": {},
   "outputs": [
    {
     "name": "stdout",
     "output_type": "stream",
     "text": [
      "I\n",
      "I \n",
      "I l\n",
      "I lo\n",
      "I lov\n",
      "I love\n",
      "I love \n",
      "I love y\n",
      "I love yo\n",
      "I love you\n",
      "I love you\n"
     ]
    }
   ],
   "source": [
    "sentence = 'I love you'\n",
    "reverse_sentence = ''\n",
    "for c in sentence:\n",
    "    reverse_sentence = reverse_sentence + c\n",
    "    print(reverse_sentence)\n",
    "print(reverse_sentence)"
   ]
  },
  {
   "cell_type": "code",
   "execution_count": 130,
   "id": "8c13574c",
   "metadata": {},
   "outputs": [],
   "source": [
    "# 파이썬의 함수\n",
    "# def 함수 이름 (인자1, 인자2, ...옵션):\n",
    "# -> 실행문1\n",
    "# -> 실행문2\n",
    "# -> return 반환값(옵션)"
   ]
  },
  {
   "cell_type": "code",
   "execution_count": 131,
   "id": "2655ec60",
   "metadata": {},
   "outputs": [],
   "source": [
    "def calculate_rectangle_are(x, y):\n",
    "    return x * y"
   ]
  },
  {
   "cell_type": "code",
   "execution_count": 132,
   "id": "e962ecf9",
   "metadata": {},
   "outputs": [
    {
     "name": "stdout",
     "output_type": "stream",
     "text": [
      "10\n",
      "20\n",
      "사각형 넓이: 200\n"
     ]
    }
   ],
   "source": [
    "rectangle_x = 10\n",
    "rectangle_y = 20\n",
    "print(rectangle_x)\n",
    "print(rectangle_y)\n",
    "print('사각형 넓이:', \\\n",
    "      calculate_rectangle_are(rectangle_x, rectangle_y))"
   ]
  },
  {
   "cell_type": "code",
   "execution_count": 133,
   "id": "cefe40f3",
   "metadata": {},
   "outputs": [
    {
     "name": "stdout",
     "output_type": "stream",
     "text": [
      "5 6\n"
     ]
    }
   ],
   "source": [
    "x = 5\n",
    "y = x\n",
    "y += 1\n",
    "print(x, y) # call-by-value"
   ]
  },
  {
   "cell_type": "code",
   "execution_count": 134,
   "id": "52f932da",
   "metadata": {},
   "outputs": [],
   "source": [
    "def func1(x):\n",
    "    x += 1\n",
    "    print(\"func1의 x:\", x)"
   ]
  },
  {
   "cell_type": "code",
   "execution_count": 135,
   "id": "9901931f",
   "metadata": {},
   "outputs": [
    {
     "name": "stdout",
     "output_type": "stream",
     "text": [
      "func1의 x: 11\n",
      "메인의 x: 10\n"
     ]
    }
   ],
   "source": [
    "x = 10\n",
    "func1(x)\n",
    "print(\"메인의 x:\", x)"
   ]
  },
  {
   "cell_type": "code",
   "execution_count": 136,
   "id": "56abe33b",
   "metadata": {},
   "outputs": [
    {
     "name": "stdout",
     "output_type": "stream",
     "text": [
      "['melon', 'apple', 'banana']\n"
     ]
    }
   ],
   "source": [
    "# call-by-reference\n",
    "fruits = ['melon', 'apple', 'banana']\n",
    "my_bag = fruits\n",
    "print(fruits)"
   ]
  },
  {
   "cell_type": "code",
   "execution_count": 137,
   "id": "47ed3429",
   "metadata": {},
   "outputs": [
    {
     "name": "stdout",
     "output_type": "stream",
     "text": [
      "['melon', 'apple', 'banana']\n"
     ]
    }
   ],
   "source": [
    "print(my_bag)"
   ]
  },
  {
   "cell_type": "code",
   "execution_count": 139,
   "id": "8e887e2b",
   "metadata": {},
   "outputs": [
    {
     "name": "stdout",
     "output_type": "stream",
     "text": [
      "['apple', 'banana', 'melon']\n",
      "['apple', 'banana', 'melon']\n"
     ]
    }
   ],
   "source": [
    "my_bag.sort()\n",
    "print(fruits)\n",
    "print(my_bag)"
   ]
  },
  {
   "cell_type": "code",
   "execution_count": 140,
   "id": "807b8d20",
   "metadata": {},
   "outputs": [],
   "source": [
    "def shopping_cart(goods):\n",
    "    goods.append('coupon')\n",
    "    goods = [1, 2]\n",
    "    print('In shopping_cart:', goods)"
   ]
  },
  {
   "cell_type": "code",
   "execution_count": 142,
   "id": "8d9a7441",
   "metadata": {},
   "outputs": [
    {
     "name": "stdout",
     "output_type": "stream",
     "text": [
      "In shopping_cart: [1, 2]\n",
      "Goods I bought: ['bean', 'salt', 'beef', 'coupon']\n"
     ]
    }
   ],
   "source": [
    "shopping_list = ['bean', 'salt', 'beef']\n",
    "shopping_cart(shopping_list)\n",
    "print('Goods I bought:', shopping_list)"
   ]
  },
  {
   "cell_type": "code",
   "execution_count": 143,
   "id": "0043277d",
   "metadata": {},
   "outputs": [],
   "source": [
    "def test(x):\n",
    "    print(x)\n",
    "    t = 20\n",
    "    print(\"In test t, a:\", t, a)"
   ]
  },
  {
   "cell_type": "code",
   "execution_count": 144,
   "id": "c8a9a5ec",
   "metadata": {},
   "outputs": [
    {
     "name": "stdout",
     "output_type": "stream",
     "text": [
      "10\n",
      "In test t, a: 20 10\n",
      "In main a: 10\n"
     ]
    }
   ],
   "source": [
    "a = 10\n",
    "test(a)\n",
    "print(\"In main a:\", a)"
   ]
  },
  {
   "cell_type": "code",
   "execution_count": 145,
   "id": "955f0a36",
   "metadata": {},
   "outputs": [],
   "source": [
    "def test(x):\n",
    "    print(x)\n",
    "    t = 20\n",
    "    a = 300\n",
    "    print(\"In test t, a:\", t, a)"
   ]
  },
  {
   "cell_type": "code",
   "execution_count": 146,
   "id": "1c0bbf13",
   "metadata": {},
   "outputs": [
    {
     "name": "stdout",
     "output_type": "stream",
     "text": [
      "10\n",
      "In test t, a: 20 300\n",
      "In main a: 10\n"
     ]
    },
    {
     "ename": "NameError",
     "evalue": "name 't' is not defined",
     "output_type": "error",
     "traceback": [
      "\u001b[1;31m---------------------------------------------------------------------------\u001b[0m",
      "\u001b[1;31mNameError\u001b[0m                                 Traceback (most recent call last)",
      "\u001b[1;32m<ipython-input-146-1ba7558d7de0>\u001b[0m in \u001b[0;36m<module>\u001b[1;34m\u001b[0m\n\u001b[0;32m      2\u001b[0m \u001b[0mtest\u001b[0m\u001b[1;33m(\u001b[0m\u001b[0ma\u001b[0m\u001b[1;33m)\u001b[0m\u001b[1;33m\u001b[0m\u001b[1;33m\u001b[0m\u001b[0m\n\u001b[0;32m      3\u001b[0m \u001b[0mprint\u001b[0m\u001b[1;33m(\u001b[0m\u001b[1;34m\"In main a:\"\u001b[0m\u001b[1;33m,\u001b[0m \u001b[0ma\u001b[0m\u001b[1;33m)\u001b[0m\u001b[1;33m\u001b[0m\u001b[1;33m\u001b[0m\u001b[0m\n\u001b[1;32m----> 4\u001b[1;33m \u001b[0mprint\u001b[0m\u001b[1;33m(\u001b[0m\u001b[1;34m\"In main t:\"\u001b[0m\u001b[1;33m,\u001b[0m \u001b[0mt\u001b[0m\u001b[1;33m)\u001b[0m\u001b[1;33m\u001b[0m\u001b[1;33m\u001b[0m\u001b[0m\n\u001b[0m",
      "\u001b[1;31mNameError\u001b[0m: name 't' is not defined"
     ]
    }
   ],
   "source": [
    "a = 10\n",
    "test(a)\n",
    "print(\"In main a:\", a)\n",
    "print(\"In main t:\", t)"
   ]
  },
  {
   "cell_type": "code",
   "execution_count": 147,
   "id": "2ee86e09",
   "metadata": {},
   "outputs": [],
   "source": [
    "def f():\n",
    "    print(s)"
   ]
  },
  {
   "cell_type": "code",
   "execution_count": 148,
   "id": "0eabdc21",
   "metadata": {},
   "outputs": [
    {
     "name": "stdout",
     "output_type": "stream",
     "text": [
      "I love Hanhwa!\n",
      "I love Hanhwa!\n"
     ]
    }
   ],
   "source": [
    "s = 'I love Hanhwa!'\n",
    "f()\n",
    "print(s)"
   ]
  },
  {
   "cell_type": "code",
   "execution_count": 149,
   "id": "90b1f639",
   "metadata": {},
   "outputs": [],
   "source": [
    "def f():\n",
    "    s = 'I love Doosan!'\n",
    "    print(s)"
   ]
  },
  {
   "cell_type": "code",
   "execution_count": 150,
   "id": "697314ae",
   "metadata": {},
   "outputs": [
    {
     "name": "stdout",
     "output_type": "stream",
     "text": [
      "I love Doosan!\n",
      "I love Hanhwa!\n"
     ]
    }
   ],
   "source": [
    "s = 'I love Hanhwa!'\n",
    "f()\n",
    "print(s)"
   ]
  },
  {
   "cell_type": "code",
   "execution_count": 151,
   "id": "5101dc15",
   "metadata": {},
   "outputs": [],
   "source": [
    "def f():\n",
    "    global s\n",
    "    s = 'Ilova Doosan!'\n",
    "    print(s)"
   ]
  },
  {
   "cell_type": "code",
   "execution_count": 152,
   "id": "ded7bc0a",
   "metadata": {},
   "outputs": [
    {
     "name": "stdout",
     "output_type": "stream",
     "text": [
      "Ilova Doosan!\n",
      "Ilova Doosan!\n"
     ]
    }
   ],
   "source": [
    "s = 'I love Hanhwa!'\n",
    "f()\n",
    "print(s)"
   ]
  },
  {
   "cell_type": "code",
   "execution_count": 155,
   "id": "e8e84784",
   "metadata": {},
   "outputs": [],
   "source": [
    "def print_name(my_name, your_name):\n",
    "    print(\"Hello {0}, My name is {1}\".format(your_name, my_name))"
   ]
  },
  {
   "cell_type": "code",
   "execution_count": 156,
   "id": "23983d78",
   "metadata": {},
   "outputs": [
    {
     "name": "stdout",
     "output_type": "stream",
     "text": [
      "Hello jane, My name is Tom\n"
     ]
    }
   ],
   "source": [
    "print_name(\"Tom\", \"jane\")"
   ]
  },
  {
   "cell_type": "code",
   "execution_count": 158,
   "id": "522198d9",
   "metadata": {},
   "outputs": [
    {
     "name": "stdout",
     "output_type": "stream",
     "text": [
      "Hello jane, My name is Tom\n"
     ]
    }
   ],
   "source": [
    "print_name(your_name=\"jane\", my_name=\"Tom\")"
   ]
  },
  {
   "cell_type": "code",
   "execution_count": 159,
   "id": "72eed333",
   "metadata": {},
   "outputs": [],
   "source": [
    "def print_name(my_name, your_name='Jane'):\n",
    "    print(\"Hello {0}, My name is {1}\".format(your_name, my_name))"
   ]
  },
  {
   "cell_type": "code",
   "execution_count": 160,
   "id": "aa3128e2",
   "metadata": {},
   "outputs": [
    {
     "name": "stdout",
     "output_type": "stream",
     "text": [
      "Hello jane, My name is Tom\n"
     ]
    }
   ],
   "source": [
    "print_name(\"Tom\", \"jane\")"
   ]
  },
  {
   "cell_type": "code",
   "execution_count": 161,
   "id": "e0e19c3b",
   "metadata": {},
   "outputs": [
    {
     "name": "stdout",
     "output_type": "stream",
     "text": [
      "Hello Jane, My name is Tom\n"
     ]
    }
   ],
   "source": [
    "print_name(\"Tom\")"
   ]
  },
  {
   "cell_type": "code",
   "execution_count": 162,
   "id": "28666fdd",
   "metadata": {},
   "outputs": [
    {
     "name": "stdout",
     "output_type": "stream",
     "text": [
      "a b c\n"
     ]
    }
   ],
   "source": [
    "print(\"a\", \"b\", \"c\")"
   ]
  },
  {
   "cell_type": "code",
   "execution_count": 166,
   "id": "4666bdb6",
   "metadata": {},
   "outputs": [],
   "source": [
    "def variable_length(a, b, *args):   # * -> packing변수 . 패킹해서 받아라\n",
    "    print(a)\n",
    "    print(b)\n",
    "    print(args)"
   ]
  },
  {
   "cell_type": "code",
   "execution_count": 167,
   "id": "1feef9ee",
   "metadata": {},
   "outputs": [
    {
     "name": "stdout",
     "output_type": "stream",
     "text": [
      "1\n",
      "2\n",
      "(3, 4, 5)\n"
     ]
    }
   ],
   "source": [
    "variable_length(1, 2, 3, 4, 5)"
   ]
  },
  {
   "cell_type": "code",
   "execution_count": 168,
   "id": "ef092e99",
   "metadata": {},
   "outputs": [],
   "source": [
    "def variable_length(a, b, *args):\n",
    "    print(a)\n",
    "    print(b)\n",
    "    c, d, e = args   # 다시 unpacking 도 가능\n",
    "    print(c, d, e)"
   ]
  },
  {
   "cell_type": "code",
   "execution_count": 170,
   "id": "87a308d4",
   "metadata": {},
   "outputs": [
    {
     "name": "stdout",
     "output_type": "stream",
     "text": [
      "1\n",
      "2\n",
      "3 4 5\n"
     ]
    }
   ],
   "source": [
    "variable_length(1, 2, 3, 4, 5)"
   ]
  },
  {
   "cell_type": "code",
   "execution_count": 171,
   "id": "97043809",
   "metadata": {},
   "outputs": [
    {
     "name": "stdout",
     "output_type": "stream",
     "text": [
      "BLACK LIVES MATTER\n",
      "black lives matter\n",
      "Black Lives Matter\n",
      "Black lives matter\n",
      "2\n",
      "True\n",
      "True\n"
     ]
    }
   ],
   "source": [
    "s = \"BLACK LIVES MATTER\"\n",
    "print(s.upper())\n",
    "print(s.lower())\n",
    "print(s.title())\n",
    "print(s.capitalize())\n",
    "print(s.count(\"T\"))\n",
    "print(s.startswith(\"B\"))\n",
    "\n",
    "k = \"123\"\n",
    "print(k.isdigit())"
   ]
  },
  {
   "cell_type": "code",
   "execution_count": 172,
   "id": "1ed8239e",
   "metadata": {},
   "outputs": [
    {
     "name": "stdout",
     "output_type": "stream",
     "text": [
      "1 2 3\n",
      "1 2 3\n",
      "abc--def--ghi\n",
      "abc def ghi\n",
      "def, abc, ghi\n",
      "def abc ghi\n",
      "    python\n",
      "python    \n",
      "    python\n",
      "python    \n"
     ]
    }
   ],
   "source": [
    "print(1, 2, 3)\n",
    "print(\"%d %d %d\" %(1, 2, 3))\n",
    "print(\"%s--%s--%s\" %('abc', 'def', 'ghi'))\n",
    "print(\"{} {} {}\".format('abc', 'def', 'ghi'))\n",
    "print(\"{1}, {0}, {2}\".format('abc', 'def', 'ghi'))\n",
    "print(f\"{'def'} {'abc'} {'ghi'}\")\n",
    "print(\"{0:>10s}\".format('python'))\n",
    "print(\"{0:<10s}\".format('python'))\n",
    "print(f\"{'python':>10s}\")\n",
    "print(f\"{'python':<10s}\")\n",
    "\n",
    "# 쓸때는 편한대로, 손 가는대로. 단, 읽을줄은 알아야함. 남이 써놓은거 읽을 수 있어야 함."
   ]
  },
  {
   "cell_type": "code",
   "execution_count": 173,
   "id": "c2a55f24",
   "metadata": {},
   "outputs": [
    {
     "name": "stdout",
     "output_type": "stream",
     "text": [
      "['zero', 'one', 'two', 'three']\n"
     ]
    }
   ],
   "source": [
    "items = 'zero one two three'.split()\n",
    "print(items)"
   ]
  },
  {
   "cell_type": "code",
   "execution_count": 174,
   "id": "a28c3a88",
   "metadata": {},
   "outputs": [
    {
     "name": "stdout",
     "output_type": "stream",
     "text": [
      "['python', 'javascript', 'sql']\n"
     ]
    }
   ],
   "source": [
    "examples = 'python,javascript,sql'\n",
    "print(examples.split(','))  # split 기본자 설정"
   ]
  },
  {
   "cell_type": "code",
   "execution_count": 175,
   "id": "8514aedf",
   "metadata": {},
   "outputs": [
    {
     "name": "stdout",
     "output_type": "stream",
     "text": [
      "python javascript sql\n"
     ]
    }
   ],
   "source": [
    "a, b, c = examples.split(',')  # unpacking\n",
    "print(a, b, c)"
   ]
  },
  {
   "cell_type": "code",
   "execution_count": 176,
   "id": "dfa81132",
   "metadata": {},
   "outputs": [
    {
     "name": "stdout",
     "output_type": "stream",
     "text": [
      "red blue green yellow\n"
     ]
    }
   ],
   "source": [
    "colors = ['red', 'blue', 'green', 'yellow']\n",
    "result = ' '.join(colors)\n",
    "print(result)"
   ]
  },
  {
   "cell_type": "code",
   "execution_count": 177,
   "id": "03e52630",
   "metadata": {},
   "outputs": [
    {
     "name": "stdout",
     "output_type": "stream",
     "text": [
      "red, blue, green, yellow\n"
     ]
    }
   ],
   "source": [
    "colors = ['red', 'blue', 'green', 'yellow']\n",
    "result = ', '.join(colors)\n",
    "print(result)"
   ]
  },
  {
   "cell_type": "code",
   "execution_count": 178,
   "id": "e1b82646",
   "metadata": {},
   "outputs": [
    {
     "name": "stdout",
     "output_type": "stream",
     "text": [
      "red-blue-green-yellow\n"
     ]
    }
   ],
   "source": [
    "colors = ['red', 'blue', 'green', 'yellow']\n",
    "result = '-'.join(colors)\n",
    "print(result)"
   ]
  },
  {
   "cell_type": "code",
   "execution_count": 179,
   "id": "7abd72b5",
   "metadata": {},
   "outputs": [
    {
     "name": "stdout",
     "output_type": "stream",
     "text": [
      "[1, 2, 3, 4, 5, 10]\n"
     ]
    }
   ],
   "source": [
    "a = [1, 2, 3, 4, 5]\n",
    "a.append(10)   # 얘를 push 연산으로 봄 -> push는 append로 대체함\n",
    "print(a)"
   ]
  },
  {
   "cell_type": "code",
   "execution_count": 180,
   "id": "603ceadf",
   "metadata": {},
   "outputs": [
    {
     "name": "stdout",
     "output_type": "stream",
     "text": [
      "10\n"
     ]
    }
   ],
   "source": [
    "print(a.pop())  # pop은 그냥 쓰임"
   ]
  },
  {
   "cell_type": "code",
   "execution_count": 181,
   "id": "d4cbe0ff",
   "metadata": {},
   "outputs": [
    {
     "name": "stdout",
     "output_type": "stream",
     "text": [
      "5\n"
     ]
    }
   ],
   "source": [
    "print(a.pop())"
   ]
  },
  {
   "cell_type": "code",
   "execution_count": 182,
   "id": "799d1b43",
   "metadata": {},
   "outputs": [
    {
     "name": "stdout",
     "output_type": "stream",
     "text": [
      "[1, 2, 3, 4]\n"
     ]
    }
   ],
   "source": [
    "print(a)"
   ]
  },
  {
   "cell_type": "code",
   "execution_count": 183,
   "id": "83ba0251",
   "metadata": {},
   "outputs": [
    {
     "name": "stdout",
     "output_type": "stream",
     "text": [
      "uoy evol I\n"
     ]
    }
   ],
   "source": [
    "sentence = 'I love you'\n",
    "reverse_sentence = ''\n",
    "for char in sentence:\n",
    "    reverse_sentence = char + reverse_sentence\n",
    "print(reverse_sentence)"
   ]
  },
  {
   "cell_type": "code",
   "execution_count": 186,
   "id": "362f09d9",
   "metadata": {},
   "outputs": [],
   "source": [
    "sentence = list('I love you')\n",
    "reverse_sentence = []\n",
    "for _ in range(len(sentence)):\n",
    "    reverse_sentence.append(sentence.pop())"
   ]
  },
  {
   "cell_type": "code",
   "execution_count": 187,
   "id": "5e09fd5a",
   "metadata": {},
   "outputs": [
    {
     "name": "stdout",
     "output_type": "stream",
     "text": [
      "['u', 'o', 'y', ' ', 'e', 'v', 'o', 'l', ' ', 'I']\n"
     ]
    }
   ],
   "source": [
    "print(reverse_sentence)  # stack을 이용함"
   ]
  },
  {
   "cell_type": "code",
   "execution_count": 188,
   "id": "7644a643",
   "metadata": {},
   "outputs": [
    {
     "name": "stdout",
     "output_type": "stream",
     "text": [
      "uoy evol I\n"
     ]
    }
   ],
   "source": [
    "print(''.join(reverse_sentence))"
   ]
  },
  {
   "cell_type": "code",
   "execution_count": 190,
   "id": "e43f2e6f",
   "metadata": {},
   "outputs": [
    {
     "name": "stdout",
     "output_type": "stream",
     "text": [
      " 0  0  0  0  0 \n",
      " 0  0  0  0  0 \n",
      " 0  0  0  0  0 \n",
      " 0  0  0  0  0 \n",
      " 0  0  0  0  0 \n"
     ]
    },
    {
     "ename": "NameError",
     "evalue": "name 'mabangjin' is not defined",
     "output_type": "error",
     "traceback": [
      "\u001b[1;31m---------------------------------------------------------------------------\u001b[0m",
      "\u001b[1;31mNameError\u001b[0m                                 Traceback (most recent call last)",
      "\u001b[1;32m<ipython-input-190-c18d75037d26>\u001b[0m in \u001b[0;36m<module>\u001b[1;34m\u001b[0m\n\u001b[0;32m      7\u001b[0m     \u001b[0mprint\u001b[0m\u001b[1;33m(\u001b[0m\u001b[1;33m)\u001b[0m\u001b[1;33m\u001b[0m\u001b[1;33m\u001b[0m\u001b[0m\n\u001b[0;32m      8\u001b[0m \u001b[1;33m\u001b[0m\u001b[0m\n\u001b[1;32m----> 9\u001b[1;33m \u001b[0mmabangjin\u001b[0m\u001b[1;33m(\u001b[0m\u001b[0mmap\u001b[0m\u001b[1;33m)\u001b[0m\u001b[1;33m\u001b[0m\u001b[1;33m\u001b[0m\u001b[0m\n\u001b[0m\u001b[0;32m     10\u001b[0m \u001b[0mprint\u001b[0m\u001b[1;33m(\u001b[0m\u001b[1;33m)\u001b[0m\u001b[1;33m\u001b[0m\u001b[1;33m\u001b[0m\u001b[0m\n\u001b[0;32m     11\u001b[0m \u001b[1;32mfor\u001b[0m \u001b[0mi\u001b[0m \u001b[1;32min\u001b[0m \u001b[0mrange\u001b[0m\u001b[1;33m(\u001b[0m\u001b[1;36m5\u001b[0m\u001b[1;33m)\u001b[0m\u001b[1;33m:\u001b[0m\u001b[1;33m\u001b[0m\u001b[1;33m\u001b[0m\u001b[0m\n",
      "\u001b[1;31mNameError\u001b[0m: name 'mabangjin' is not defined"
     ]
    }
   ],
   "source": [
    "map = []\n",
    "for i in range(5):\n",
    "    map.append(list())\n",
    "    for k in range(5):\n",
    "        map[i].append(0)\n",
    "        print(f\"{map[i][k]:2d} \", end='')\n",
    "    print()\n",
    "\n",
    "mabangjin(map)\n",
    "print()\n",
    "for i in range(5):\n",
    "    for k in range(5):\n",
    "        print(f\"{map[i][k]:2d} \", end='')\n",
    "    print()"
   ]
  },
  {
   "cell_type": "code",
   "execution_count": null,
   "id": "a49f042d",
   "metadata": {},
   "outputs": [],
   "source": []
  }
 ],
 "metadata": {
  "kernelspec": {
   "display_name": "Python 3",
   "language": "python",
   "name": "python3"
  },
  "language_info": {
   "codemirror_mode": {
    "name": "ipython",
    "version": 3
   },
   "file_extension": ".py",
   "mimetype": "text/x-python",
   "name": "python",
   "nbconvert_exporter": "python",
   "pygments_lexer": "ipython3",
   "version": "3.8.11"
  }
 },
 "nbformat": 4,
 "nbformat_minor": 5
}
