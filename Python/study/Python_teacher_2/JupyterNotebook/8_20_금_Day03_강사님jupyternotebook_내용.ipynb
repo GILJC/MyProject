{
 "cells": [
  {
   "cell_type": "code",
   "execution_count": 7,
   "id": "6f33f30f",
   "metadata": {},
   "outputs": [],
   "source": [
    "class SoccerPlayer:\n",
    "    def __init__(self, name, position, back_number):\n",
    "        self.name = name\n",
    "        self.position = position\n",
    "        self.back_number = back_number\n",
    "        \n",
    "    \n",
    "    def change_back_number(self, back_number):\n",
    "        print(\"선수 등번호 변경:From %d to %d\" % \\\n",
    "              (self.back_number, back_number))\n",
    "        self.back_number = back_number\n",
    "        \n",
    "        \n",
    "    def __str__(self):\n",
    "        return f\"Hello, My name is {self.name}. I play in \\\n",
    "{self.position} in center.\""
   ]
  },
  {
   "cell_type": "code",
   "execution_count": 8,
   "id": "8c986e6e",
   "metadata": {},
   "outputs": [],
   "source": [
    "chaboom = SoccerPlayer(\"Chaboom\", \"CF\", 11)"
   ]
  },
  {
   "cell_type": "code",
   "execution_count": 9,
   "id": "7055d374",
   "metadata": {},
   "outputs": [
    {
     "name": "stdout",
     "output_type": "stream",
     "text": [
      "현재 선수의 등번호: 11\n"
     ]
    }
   ],
   "source": [
    "print('현재 선수의 등번호:', chaboom.back_number)"
   ]
  },
  {
   "cell_type": "code",
   "execution_count": 10,
   "id": "f3a0738f",
   "metadata": {},
   "outputs": [
    {
     "name": "stdout",
     "output_type": "stream",
     "text": [
      "선수 등버호 변경:From 11 to 9\n"
     ]
    }
   ],
   "source": [
    "chaboom.change_back_number(9)"
   ]
  },
  {
   "cell_type": "code",
   "execution_count": 11,
   "id": "25c85d8b",
   "metadata": {},
   "outputs": [
    {
     "name": "stdout",
     "output_type": "stream",
     "text": [
      "현재 선수의 등번호: 9\n"
     ]
    }
   ],
   "source": [
    "print('현재 선수의 등번호:', chaboom.back_number)"
   ]
  },
  {
   "cell_type": "code",
   "execution_count": 12,
   "id": "a7b49f0d",
   "metadata": {},
   "outputs": [
    {
     "name": "stdout",
     "output_type": "stream",
     "text": [
      "Hello, My name is Chaboom. I play in CF in center.\n"
     ]
    }
   ],
   "source": [
    "print(chaboom)"
   ]
  },
  {
   "cell_type": "code",
   "execution_count": 14,
   "id": "fc44b2ab",
   "metadata": {},
   "outputs": [],
   "source": [
    "class Car:\n",
    "    instance_count = 0\n",
    "    \n",
    "    def __init__(self, size, color):\n",
    "        self.size = size\n",
    "        self.color = color\n",
    "        Car.instance_count += 1\n",
    "        print(f\"자동차 객체의 수: {Car.instance_count}\")\n",
    "        \n",
    "    def move(self):\n",
    "        print(f\"자동차({self.size} & {self.color})가 움직입니다.\")"
   ]
  },
  {
   "cell_type": "code",
   "execution_count": 15,
   "id": "4174174c",
   "metadata": {},
   "outputs": [
    {
     "name": "stdout",
     "output_type": "stream",
     "text": [
      "자동차 객체의 수: 1\n",
      "자동차 객체의 수: 2\n"
     ]
    }
   ],
   "source": [
    "car1 = Car(\"small\", \"white\")\n",
    "car2 = Car(\"big\", \"black\")"
   ]
  },
  {
   "cell_type": "code",
   "execution_count": 16,
   "id": "24f8451b",
   "metadata": {},
   "outputs": [
    {
     "name": "stdout",
     "output_type": "stream",
     "text": [
      "Car 클래스의 총 인스턴스 수: 2\n"
     ]
    }
   ],
   "source": [
    "print(f\"Car 클래스의 총 인스턴스 수: {Car.instance_count}\")"
   ]
  },
  {
   "cell_type": "code",
   "execution_count": 17,
   "id": "71892d3a",
   "metadata": {},
   "outputs": [
    {
     "name": "stdout",
     "output_type": "stream",
     "text": [
      "자동차(small & white)가 움직입니다.\n",
      "자동차(big & black)가 움직입니다.\n"
     ]
    }
   ],
   "source": [
    "car1.move()\n",
    "car2.move()"
   ]
  },
  {
   "cell_type": "code",
   "execution_count": 25,
   "id": "075646ed",
   "metadata": {},
   "outputs": [],
   "source": [
    "class Car:\n",
    "    instance_count = 0\n",
    "    \n",
    "    def __init__(self, size, color):\n",
    "        self.size = size\n",
    "        self.color = color\n",
    "        self.speed = 0\n",
    "        Car.instance_count += 1\n",
    "        print(f\"자동차 객체의 수: {Car.instance_count}\")\n",
    "        \n",
    "    def move(self, speed):\n",
    "        self.speed = speed\n",
    "        print(f\"자동차({self.size} & {self.color})가\", end='')\n",
    "        print(f\"시속 {self.speed}킬로미터로 전진\")\n",
    "        \n",
    "    def auto_cruise(self):\n",
    "        print(\"자율 주행 모드\")\n",
    "        self.move(self.speed)\n",
    "        \n",
    "    @staticmethod\n",
    "    def check_type(model_code):\n",
    "        if model_code >= 20:\n",
    "            print(\"이 자동차는 전기차입니다.\")\n",
    "        elif 10 <= model_code < 20:\n",
    "            print(\"이 자동차는 가솔린차입니다.\")\n",
    "        else:\n",
    "            print(\"이 자동차는 디젤차입니다.\")"
   ]
  },
  {
   "cell_type": "code",
   "execution_count": 23,
   "id": "4f682ed7",
   "metadata": {},
   "outputs": [
    {
     "name": "stdout",
     "output_type": "stream",
     "text": [
      "자동차 객체의 수: 1\n",
      "자동차(small & red)가시속 80킬로미터로 전진\n",
      "자율 주행 모드\n",
      "자동차(small & red)가시속 80킬로미터로 전진\n"
     ]
    }
   ],
   "source": [
    "car = Car(\"small\", \"red\")\n",
    "car.move(80)\n",
    "car.auto_cruise()"
   ]
  },
  {
   "cell_type": "code",
   "execution_count": 26,
   "id": "07b6c8a5",
   "metadata": {},
   "outputs": [
    {
     "name": "stdout",
     "output_type": "stream",
     "text": [
      "이 자동차는 전기차입니다.\n"
     ]
    }
   ],
   "source": [
    "Car.check_type(25)"
   ]
  },
  {
   "cell_type": "code",
   "execution_count": 27,
   "id": "68404153",
   "metadata": {},
   "outputs": [],
   "source": [
    "class Bicycle:\n",
    "    def __init__(self, wheel_size, color):\n",
    "        self.wheel_size = wheel_size\n",
    "        self.color = color\n",
    "        \n",
    "    def move(self, speed):\n",
    "        print(f\"자전거 시속 {speed} 킬로미터로 전진\")\n",
    "        \n",
    "    def turn(self, direction):\n",
    "        print(f\"자전거: {direction} 회전\")\n",
    "        \n",
    "    def stop(self):\n",
    "        print(f\"자전거({self.wheel_size}, {self.color}): 정지\")"
   ]
  },
  {
   "cell_type": "code",
   "execution_count": 28,
   "id": "5a23e272",
   "metadata": {},
   "outputs": [],
   "source": [
    "class FoldingBicycle(Bicycle):\n",
    "    def __init__(self, wheel_size, color, state):\n",
    "        super().__init__(wheel_size, color)\n",
    "        self.state = state\n",
    "        \n",
    "    def fold(self):\n",
    "        self.state = \"folding\"\n",
    "        print(f\"자전거: 접기, state = {self.state}\")\n",
    "        \n",
    "    def unfold(self):\n",
    "        self.state = \"unfolding\"\n",
    "        print(f\"자전거: 펴기, state = {self.state}\")"
   ]
  },
  {
   "cell_type": "code",
   "execution_count": 29,
   "id": "8d59c93a",
   "metadata": {},
   "outputs": [
    {
     "name": "stdout",
     "output_type": "stream",
     "text": [
      "자전거 시속 20 킬로미터로 전진\n",
      "자전거: right 회전\n",
      "자전거(27, white): 정지\n",
      "자전거: 접기, state = folding\n",
      "자전거: 펴기, state = unfolding\n"
     ]
    }
   ],
   "source": [
    "folding_bicycle = FoldingBicycle(27, 'white', 'unfolding')\n",
    "folding_bicycle.move(20)\n",
    "folding_bicycle.turn('right')\n",
    "folding_bicycle.stop()\n",
    "folding_bicycle.fold()\n",
    "folding_bicycle.unfold()"
   ]
  },
  {
   "cell_type": "code",
   "execution_count": 30,
   "id": "f63d430c",
   "metadata": {},
   "outputs": [],
   "source": [
    "class Person:\n",
    "    def __init__(self, name, age, gender):\n",
    "        self.name = name\n",
    "        self.age = age\n",
    "        self.gender = gender\n",
    "        \n",
    "    def about_me(self):\n",
    "        print(\"제 이름은\", self.name, end='')\n",
    "        print(f\" ({self.gender}) 이고요, 제 나이는\", str(self.age),\\\n",
    "              \"살 입니다\")"
   ]
  },
  {
   "cell_type": "code",
   "execution_count": 31,
   "id": "fa5d7ef6",
   "metadata": {},
   "outputs": [],
   "source": [
    "class Employee(Person):\n",
    "    def __init__(self, name, age, gender, salary, hire_date):\n",
    "        super().__init__(name, age, gender)\n",
    "        self.salary = salary\n",
    "        self.hire_date = hire_date\n",
    "        \n",
    "    def do_work(self):\n",
    "        print(\"열심히 일을 한다.\")\n",
    "        \n",
    "    def about_me(self):\n",
    "        super().about_me()\n",
    "        print(\"제 급여는\", self.salary, \"원 이고, 제 입사일은\", \\\n",
    "             self.hire_date, \"입니다.\")"
   ]
  },
  {
   "cell_type": "code",
   "execution_count": 32,
   "id": "80ebe8b8",
   "metadata": {},
   "outputs": [
    {
     "name": "stdout",
     "output_type": "stream",
     "text": [
      "열심히 일을 한다.\n",
      "제 이름은 Tom (남성) 이고요, 제 나이는 25 살 입니다\n",
      "제 급여는 350 원 이고, 제 입사일은 2021/08/20 입니다.\n"
     ]
    }
   ],
   "source": [
    "emp = Employee('Tom', 25, '남성', 350, '2021/08/20')\n",
    "emp.do_work()\n",
    "emp.about_me()"
   ]
  },
  {
   "cell_type": "code",
   "execution_count": 33,
   "id": "bfdbc395",
   "metadata": {},
   "outputs": [],
   "source": [
    "class Product:\n",
    "    pass"
   ]
  },
  {
   "cell_type": "code",
   "execution_count": 34,
   "id": "1c264480",
   "metadata": {},
   "outputs": [],
   "source": [
    "class Inventory:\n",
    "    def __init__(self):\n",
    "        self.__items = []\n",
    "        \n",
    "    def add_new_item(self, product):\n",
    "        if type(product) == Product:\n",
    "            self.__items.append(product)\n",
    "            print(\"new item added\")\n",
    "        else:\n",
    "            raise ValueError(\"Invalid item\")\n",
    "            \n",
    "    def get_number_of_items(self):\n",
    "        return len(self.__items)"
   ]
  },
  {
   "cell_type": "code",
   "execution_count": 35,
   "id": "f6d31453",
   "metadata": {},
   "outputs": [
    {
     "name": "stdout",
     "output_type": "stream",
     "text": [
      "new item added\n",
      "new item added\n"
     ]
    }
   ],
   "source": [
    "my_inventory = Inventory()\n",
    "my_inventory.add_new_item(Product())\n",
    "my_inventory.add_new_item(Product())"
   ]
  },
  {
   "cell_type": "code",
   "execution_count": 36,
   "id": "0def5589",
   "metadata": {},
   "outputs": [
    {
     "ename": "AttributeError",
     "evalue": "'Inventory' object has no attribute '__items'",
     "output_type": "error",
     "traceback": [
      "\u001b[1;31m---------------------------------------------------------------------------\u001b[0m",
      "\u001b[1;31mAttributeError\u001b[0m                            Traceback (most recent call last)",
      "\u001b[1;32m<ipython-input-36-d14883466fbe>\u001b[0m in \u001b[0;36m<module>\u001b[1;34m\u001b[0m\n\u001b[1;32m----> 1\u001b[1;33m \u001b[0mprint\u001b[0m\u001b[1;33m(\u001b[0m\u001b[0mmy_inventory\u001b[0m\u001b[1;33m.\u001b[0m\u001b[0m__items\u001b[0m\u001b[1;33m)\u001b[0m\u001b[1;33m\u001b[0m\u001b[1;33m\u001b[0m\u001b[0m\n\u001b[0m",
      "\u001b[1;31mAttributeError\u001b[0m: 'Inventory' object has no attribute '__items'"
     ]
    }
   ],
   "source": [
    "print(my_inventory.__items)"
   ]
  },
  {
   "cell_type": "code",
   "execution_count": 38,
   "id": "460907f5",
   "metadata": {},
   "outputs": [],
   "source": [
    "class Inventory:\n",
    "    def __init__(self):\n",
    "        self.__items = []\n",
    "        \n",
    "    def add_new_item(self, product):\n",
    "        if type(product) == Product:\n",
    "            self.__items.append(product)\n",
    "            print(\"new item added\")\n",
    "        else:\n",
    "            raise ValueError(\"Invalid item\")\n",
    "            \n",
    "    def get_number_of_items(self):\n",
    "        return len(self.__items)\n",
    "    \n",
    "    @property\n",
    "    def items(self):\n",
    "        return self.__items"
   ]
  },
  {
   "cell_type": "code",
   "execution_count": 39,
   "id": "662609d6",
   "metadata": {},
   "outputs": [],
   "source": [
    "inventory = Inventory()"
   ]
  },
  {
   "cell_type": "code",
   "execution_count": 40,
   "id": "145dcfb6",
   "metadata": {},
   "outputs": [],
   "source": [
    "items = inventory.items\n",
    "items.append(Product())"
   ]
  },
  {
   "cell_type": "code",
   "execution_count": 41,
   "id": "fff81b35",
   "metadata": {},
   "outputs": [],
   "source": [
    "import fah_converter"
   ]
  },
  {
   "cell_type": "code",
   "execution_count": 42,
   "id": "d56af996",
   "metadata": {},
   "outputs": [
    {
     "name": "stdout",
     "output_type": "stream",
     "text": [
      "Enter a celsius value:32\n",
      "It's 89.6 degrees Fahrenheit\n"
     ]
    }
   ],
   "source": [
    "celsius = float(input(\"Enter a celsius value:\"))\n",
    "fahrenheit = fah_converter.convert_to_f(celsius)\n",
    "print(\"It's\", fahrenheit, \"degrees Fahrenheit\")"
   ]
  },
  {
   "cell_type": "code",
   "execution_count": 43,
   "id": "2b7de8f8",
   "metadata": {},
   "outputs": [],
   "source": [
    "import fah_converter as fah"
   ]
  },
  {
   "cell_type": "code",
   "execution_count": 44,
   "id": "0369e302",
   "metadata": {},
   "outputs": [
    {
     "name": "stdout",
     "output_type": "stream",
     "text": [
      "80.6\n"
     ]
    }
   ],
   "source": [
    "print(fah.convert_to_f(27))"
   ]
  },
  {
   "cell_type": "code",
   "execution_count": 45,
   "id": "10701155",
   "metadata": {},
   "outputs": [],
   "source": [
    "from fah_converter import convert_to_f"
   ]
  },
  {
   "cell_type": "code",
   "execution_count": 46,
   "id": "7a5a5dde",
   "metadata": {},
   "outputs": [
    {
     "name": "stdout",
     "output_type": "stream",
     "text": [
      "80.6\n"
     ]
    }
   ],
   "source": [
    "print(convert_to_f(27))"
   ]
  },
  {
   "cell_type": "code",
   "execution_count": 47,
   "id": "6c4b6e87",
   "metadata": {},
   "outputs": [],
   "source": [
    "from fah_converter import *"
   ]
  },
  {
   "cell_type": "code",
   "execution_count": 48,
   "id": "40ed9440",
   "metadata": {},
   "outputs": [
    {
     "name": "stdout",
     "output_type": "stream",
     "text": [
      "80.6\n"
     ]
    }
   ],
   "source": [
    "print(convert_to_f(27))"
   ]
  },
  {
   "cell_type": "code",
   "execution_count": 1,
   "id": "248fde15",
   "metadata": {},
   "outputs": [
    {
     "name": "stdout",
     "output_type": "stream",
     "text": [
      "113.0\n"
     ]
    }
   ],
   "source": [
    "from fah_converter import convert_to_f"
   ]
  },
  {
   "cell_type": "code",
   "execution_count": 50,
   "id": "6d8e3fb3",
   "metadata": {},
   "outputs": [
    {
     "name": "stdout",
     "output_type": "stream",
     "text": [
      "80.6\n"
     ]
    }
   ],
   "source": [
    "print(convert_to_f(27))"
   ]
  },
  {
   "cell_type": "code",
   "execution_count": 1,
   "id": "11e77615",
   "metadata": {},
   "outputs": [],
   "source": [
    "import fah_converter as fah"
   ]
  },
  {
   "cell_type": "code",
   "execution_count": 2,
   "id": "a05f2a8d",
   "metadata": {},
   "outputs": [
    {
     "name": "stdout",
     "output_type": "stream",
     "text": [
      "80.6\n"
     ]
    }
   ],
   "source": [
    "print(fah.convert_to_f(27))"
   ]
  },
  {
   "cell_type": "code",
   "execution_count": 3,
   "id": "8671fe7b",
   "metadata": {},
   "outputs": [],
   "source": [
    "import sys"
   ]
  },
  {
   "cell_type": "code",
   "execution_count": 4,
   "id": "8a40cbcf",
   "metadata": {},
   "outputs": [
    {
     "name": "stdout",
     "output_type": "stream",
     "text": [
      "['G:\\\\lec\\\\source\\\\python', 'C:\\\\Users\\\\BIT\\\\anaconda3\\\\envs\\\\python-env\\\\python38.zip', 'C:\\\\Users\\\\BIT\\\\anaconda3\\\\envs\\\\python-env\\\\DLLs', 'C:\\\\Users\\\\BIT\\\\anaconda3\\\\envs\\\\python-env\\\\lib', 'C:\\\\Users\\\\BIT\\\\anaconda3\\\\envs\\\\python-env', '', 'C:\\\\Users\\\\BIT\\\\anaconda3\\\\envs\\\\python-env\\\\lib\\\\site-packages', 'C:\\\\Users\\\\BIT\\\\anaconda3\\\\envs\\\\python-env\\\\lib\\\\site-packages\\\\win32', 'C:\\\\Users\\\\BIT\\\\anaconda3\\\\envs\\\\python-env\\\\lib\\\\site-packages\\\\win32\\\\lib', 'C:\\\\Users\\\\BIT\\\\anaconda3\\\\envs\\\\python-env\\\\lib\\\\site-packages\\\\Pythonwin', 'C:\\\\Users\\\\BIT\\\\anaconda3\\\\envs\\\\python-env\\\\lib\\\\site-packages\\\\IPython\\\\extensions', 'C:\\\\Users\\\\BIT\\\\.ipython']\n"
     ]
    }
   ],
   "source": [
    "print(sys.path)"
   ]
  },
  {
   "cell_type": "code",
   "execution_count": 5,
   "id": "4d1c7af9",
   "metadata": {},
   "outputs": [],
   "source": [
    "sys.path.append(\"G:\\\\Lec\\\\source\\\\python\\\\my_package\")"
   ]
  },
  {
   "cell_type": "code",
   "execution_count": 6,
   "id": "6d3edfdf",
   "metadata": {},
   "outputs": [
    {
     "name": "stdout",
     "output_type": "stream",
     "text": [
      "['G:\\\\lec\\\\source\\\\python', 'C:\\\\Users\\\\BIT\\\\anaconda3\\\\envs\\\\python-env\\\\python38.zip', 'C:\\\\Users\\\\BIT\\\\anaconda3\\\\envs\\\\python-env\\\\DLLs', 'C:\\\\Users\\\\BIT\\\\anaconda3\\\\envs\\\\python-env\\\\lib', 'C:\\\\Users\\\\BIT\\\\anaconda3\\\\envs\\\\python-env', '', 'C:\\\\Users\\\\BIT\\\\anaconda3\\\\envs\\\\python-env\\\\lib\\\\site-packages', 'C:\\\\Users\\\\BIT\\\\anaconda3\\\\envs\\\\python-env\\\\lib\\\\site-packages\\\\win32', 'C:\\\\Users\\\\BIT\\\\anaconda3\\\\envs\\\\python-env\\\\lib\\\\site-packages\\\\win32\\\\lib', 'C:\\\\Users\\\\BIT\\\\anaconda3\\\\envs\\\\python-env\\\\lib\\\\site-packages\\\\Pythonwin', 'C:\\\\Users\\\\BIT\\\\anaconda3\\\\envs\\\\python-env\\\\lib\\\\site-packages\\\\IPython\\\\extensions', 'C:\\\\Users\\\\BIT\\\\.ipython', 'G:\\\\Lec\\\\source\\\\python\\\\my_package']\n"
     ]
    }
   ],
   "source": [
    "print(sys.path)"
   ]
  },
  {
   "cell_type": "code",
   "execution_count": 7,
   "id": "b3d479ca",
   "metadata": {},
   "outputs": [
    {
     "name": "stdout",
     "output_type": "stream",
     "text": [
      "series\n"
     ]
    }
   ],
   "source": [
    "import roboadvisor.analysis.series\n",
    "roboadvisor.analysis.series.series_test()"
   ]
  },
  {
   "cell_type": "code",
   "execution_count": 8,
   "id": "3b3bdb03",
   "metadata": {},
   "outputs": [
    {
     "name": "stdout",
     "output_type": "stream",
     "text": [
      "series\n"
     ]
    }
   ],
   "source": [
    "from roboadvisor.analysis import series\n",
    "series.series_test()"
   ]
  },
  {
   "cell_type": "code",
   "execution_count": 9,
   "id": "11e09a67",
   "metadata": {},
   "outputs": [
    {
     "name": "stdout",
     "output_type": "stream",
     "text": [
      "series\n"
     ]
    }
   ],
   "source": [
    "from roboadvisor.analysis.series import series_test\n",
    "series_test()"
   ]
  },
  {
   "cell_type": "code",
   "execution_count": 1,
   "id": "d8b38051",
   "metadata": {},
   "outputs": [
    {
     "ename": "ModuleNotFoundError",
     "evalue": "No module named 'roboadvisor'",
     "output_type": "error",
     "traceback": [
      "\u001b[1;31m---------------------------------------------------------------------------\u001b[0m",
      "\u001b[1;31mModuleNotFoundError\u001b[0m                       Traceback (most recent call last)",
      "\u001b[1;32m<ipython-input-1-873347f032ba>\u001b[0m in \u001b[0;36m<module>\u001b[1;34m\u001b[0m\n\u001b[1;32m----> 1\u001b[1;33m \u001b[1;32mimport\u001b[0m \u001b[0mroboadvisor\u001b[0m\u001b[1;33m\u001b[0m\u001b[1;33m\u001b[0m\u001b[0m\n\u001b[0m\u001b[0;32m      2\u001b[0m \u001b[0mroboadvisor\u001b[0m\u001b[1;33m.\u001b[0m\u001b[0manalysis\u001b[0m\u001b[1;33m.\u001b[0m\u001b[0mseries\u001b[0m\u001b[1;33m.\u001b[0m\u001b[0mseries_test\u001b[0m\u001b[1;33m(\u001b[0m\u001b[1;33m)\u001b[0m\u001b[1;33m\u001b[0m\u001b[1;33m\u001b[0m\u001b[0m\n",
      "\u001b[1;31mModuleNotFoundError\u001b[0m: No module named 'roboadvisor'"
     ]
    }
   ],
   "source": [
    "import roboadvisor\n",
    "roboadvisor.analysis.series.series_test()"
   ]
  },
  {
   "cell_type": "code",
   "execution_count": 2,
   "id": "0d207f6d",
   "metadata": {},
   "outputs": [
    {
     "ename": "ModuleNotFoundError",
     "evalue": "No module named 'roboadvisor.analysis.series.series_test'; 'roboadvisor.analysis.series' is not a package",
     "output_type": "error",
     "traceback": [
      "\u001b[1;31m---------------------------------------------------------------------------\u001b[0m",
      "\u001b[1;31mModuleNotFoundError\u001b[0m                       Traceback (most recent call last)",
      "\u001b[1;32m<ipython-input-2-d86ca7a27153>\u001b[0m in \u001b[0;36m<module>\u001b[1;34m\u001b[0m\n\u001b[0;32m      1\u001b[0m \u001b[1;32mimport\u001b[0m \u001b[0msys\u001b[0m\u001b[1;33m\u001b[0m\u001b[1;33m\u001b[0m\u001b[0m\n\u001b[0;32m      2\u001b[0m \u001b[0msys\u001b[0m\u001b[1;33m.\u001b[0m\u001b[0mpath\u001b[0m\u001b[1;33m.\u001b[0m\u001b[0mappend\u001b[0m\u001b[1;33m(\u001b[0m\u001b[1;34m\"G:\\\\Lec\\\\source\\\\python\\\\my_package\"\u001b[0m\u001b[1;33m)\u001b[0m\u001b[1;33m\u001b[0m\u001b[1;33m\u001b[0m\u001b[0m\n\u001b[1;32m----> 3\u001b[1;33m \u001b[1;32mimport\u001b[0m \u001b[0mroboadvisor\u001b[0m\u001b[1;33m.\u001b[0m\u001b[0manalysis\u001b[0m\u001b[1;33m.\u001b[0m\u001b[0mseries\u001b[0m\u001b[1;33m.\u001b[0m\u001b[0mseries_test\u001b[0m\u001b[1;33m\u001b[0m\u001b[1;33m\u001b[0m\u001b[0m\n\u001b[0m\u001b[0;32m      4\u001b[0m \u001b[0mseries_test\u001b[0m\u001b[1;33m(\u001b[0m\u001b[1;33m)\u001b[0m\u001b[1;33m\u001b[0m\u001b[1;33m\u001b[0m\u001b[0m\n",
      "\u001b[1;31mModuleNotFoundError\u001b[0m: No module named 'roboadvisor.analysis.series.series_test'; 'roboadvisor.analysis.series' is not a package"
     ]
    }
   ],
   "source": [
    "import sys\n",
    "sys.path.append(\"G:\\\\Lec\\\\source\\\\python\\\\my_package\")\n",
    "import roboadvisor.analysis.series.series_test\n",
    "series_test()"
   ]
  },
  {
   "cell_type": "code",
   "execution_count": 1,
   "id": "a51c7c6a",
   "metadata": {},
   "outputs": [
    {
     "name": "stdout",
     "output_type": "stream",
     "text": [
      "series\n"
     ]
    }
   ],
   "source": [
    "import sys\n",
    "sys.path.append(\"G:\\\\Lec\\\\source\\\\python\\\\my_package\")\n",
    "from roboadvisor.analysis import *\n",
    "series.series_test()"
   ]
  },
  {
   "cell_type": "code",
   "execution_count": 2,
   "id": "9d51ed21",
   "metadata": {},
   "outputs": [
    {
     "name": "stdout",
     "output_type": "stream",
     "text": [
      "series\n"
     ]
    }
   ],
   "source": [
    "import sys\n",
    "sys.path.append(\"G:\\\\Lec\\\\source\\\\python\\\\my_package\")\n",
    "from roboadvisor.analysis.series import *\n",
    "series_test()"
   ]
  },
  {
   "cell_type": "code",
   "execution_count": 1,
   "id": "ba2af982",
   "metadata": {},
   "outputs": [
    {
     "name": "stdout",
     "output_type": "stream",
     "text": [
      "series\n"
     ]
    }
   ],
   "source": [
    "import sys\n",
    "sys.path.append(\"G:\\\\Lec\\\\source\\\\python\\\\my_package\")\n",
    "import roboadvisor\n",
    "roboadvisor.analysis.series.series_test()"
   ]
  },
  {
   "cell_type": "code",
   "execution_count": 1,
   "id": "10138a42",
   "metadata": {},
   "outputs": [
    {
     "name": "stdout",
     "output_type": "stream",
     "text": [
      "scrap\n",
      "connection\n"
     ]
    }
   ],
   "source": [
    "import sys\n",
    "sys.path.append(\"G:\\\\Lec\\\\source\\\\python\\\\my_package\")\n",
    "from roboadvisor.crawling.scrap import scrap_test\n",
    "scrap_test()"
   ]
  },
  {
   "cell_type": "code",
   "execution_count": null,
   "id": "b2780f76",
   "metadata": {},
   "outputs": [],
   "source": []
  }
 ],
 "metadata": {
  "kernelspec": {
   "display_name": "Python 3",
   "language": "python",
   "name": "python3"
  },
  "language_info": {
   "codemirror_mode": {
    "name": "ipython",
    "version": 3
   },
   "file_extension": ".py",
   "mimetype": "text/x-python",
   "name": "python",
   "nbconvert_exporter": "python",
   "pygments_lexer": "ipython3",
   "version": "3.8.11"
  }
 },
 "nbformat": 4,
 "nbformat_minor": 5
}
