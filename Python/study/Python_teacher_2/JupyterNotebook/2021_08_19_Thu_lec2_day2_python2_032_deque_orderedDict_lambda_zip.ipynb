{
 "cells": [
  {
   "cell_type": "code",
   "execution_count": 8,
   "id": "1cfe2b93",
   "metadata": {},
   "outputs": [],
   "source": [
    "a = [1, 2, 5, 7, 10]"
   ]
  },
  {
   "cell_type": "code",
   "execution_count": 9,
   "id": "b19012e1",
   "metadata": {},
   "outputs": [
    {
     "name": "stdout",
     "output_type": "stream",
     "text": [
      "[1, 2, 5, 7, 10]\n"
     ]
    }
   ],
   "source": [
    "print(a)"
   ]
  },
  {
   "cell_type": "code",
   "execution_count": 10,
   "id": "ceb6dbf6",
   "metadata": {},
   "outputs": [
    {
     "name": "stdout",
     "output_type": "stream",
     "text": [
      "1\n"
     ]
    }
   ],
   "source": [
    "print(a.pop(0))"
   ]
  },
  {
   "cell_type": "code",
   "execution_count": 11,
   "id": "88bf9096",
   "metadata": {},
   "outputs": [
    {
     "name": "stdout",
     "output_type": "stream",
     "text": [
      "[2, 5, 7, 10]\n"
     ]
    }
   ],
   "source": [
    "print(a)"
   ]
  },
  {
   "cell_type": "code",
   "execution_count": 14,
   "id": "07ba1a32",
   "metadata": {},
   "outputs": [
    {
     "name": "stdout",
     "output_type": "stream",
     "text": [
      "(1, 2, 3, 1, 2, 3) (1, 2, 3, 1, 2, 3)\n"
     ]
    }
   ],
   "source": [
    "t = (1, 2, 3)\n",
    "print(t + t, t * 2)"
   ]
  },
  {
   "cell_type": "code",
   "execution_count": 16,
   "id": "2437a4f6",
   "metadata": {},
   "outputs": [
    {
     "name": "stdout",
     "output_type": "stream",
     "text": [
      "3\n"
     ]
    }
   ],
   "source": [
    "print(len(t))"
   ]
  },
  {
   "cell_type": "code",
   "execution_count": 17,
   "id": "73523685",
   "metadata": {},
   "outputs": [],
   "source": [
    "t2 = (1)"
   ]
  },
  {
   "cell_type": "code",
   "execution_count": 18,
   "id": "197f83c0",
   "metadata": {},
   "outputs": [
    {
     "name": "stdout",
     "output_type": "stream",
     "text": [
      "<class 'int'>\n"
     ]
    }
   ],
   "source": [
    "print(type(t2))"
   ]
  },
  {
   "cell_type": "code",
   "execution_count": 19,
   "id": "c557fcbc",
   "metadata": {},
   "outputs": [
    {
     "name": "stdout",
     "output_type": "stream",
     "text": [
      "(1, 2, 3)\n"
     ]
    }
   ],
   "source": [
    "print(t)"
   ]
  },
  {
   "cell_type": "code",
   "execution_count": 20,
   "id": "36d012f5",
   "metadata": {},
   "outputs": [
    {
     "name": "stdout",
     "output_type": "stream",
     "text": [
      "2\n"
     ]
    }
   ],
   "source": [
    "print(t[1])"
   ]
  },
  {
   "cell_type": "code",
   "execution_count": 21,
   "id": "ade22873",
   "metadata": {},
   "outputs": [
    {
     "ename": "TypeError",
     "evalue": "'tuple' object does not support item assignment",
     "output_type": "error",
     "traceback": [
      "\u001b[1;31m---------------------------------------------------------------------------\u001b[0m",
      "\u001b[1;31mTypeError\u001b[0m                                 Traceback (most recent call last)",
      "\u001b[1;32m<ipython-input-21-5a9388635924>\u001b[0m in \u001b[0;36m<module>\u001b[1;34m\u001b[0m\n\u001b[1;32m----> 1\u001b[1;33m \u001b[0mt\u001b[0m\u001b[1;33m[\u001b[0m\u001b[1;36m1\u001b[0m\u001b[1;33m]\u001b[0m \u001b[1;33m=\u001b[0m \u001b[1;36m10\u001b[0m\u001b[1;33m\u001b[0m\u001b[1;33m\u001b[0m\u001b[0m\n\u001b[0m",
      "\u001b[1;31mTypeError\u001b[0m: 'tuple' object does not support item assignment"
     ]
    }
   ],
   "source": [
    "t[1] = 10"
   ]
  },
  {
   "cell_type": "code",
   "execution_count": 22,
   "id": "2c8cb098",
   "metadata": {},
   "outputs": [
    {
     "name": "stdout",
     "output_type": "stream",
     "text": [
      "{1, 2, 3}\n"
     ]
    }
   ],
   "source": [
    "s = set([1, 2, 3, 1, 2, 3])\n",
    "print(s)"
   ]
  },
  {
   "cell_type": "code",
   "execution_count": 24,
   "id": "e95a6f1e",
   "metadata": {
    "scrolled": true
   },
   "outputs": [
    {
     "name": "stdout",
     "output_type": "stream",
     "text": [
      "{1, 2, 3, 5}\n"
     ]
    }
   ],
   "source": [
    "s.add(5)\n",
    "print(s)"
   ]
  },
  {
   "cell_type": "code",
   "execution_count": 27,
   "id": "972f3147",
   "metadata": {},
   "outputs": [
    {
     "name": "stdout",
     "output_type": "stream",
     "text": [
      "{1, 2, 3, 5}\n"
     ]
    }
   ],
   "source": [
    "s.add(2)\n",
    "print(s)"
   ]
  },
  {
   "cell_type": "code",
   "execution_count": 28,
   "id": "c6d0e910",
   "metadata": {},
   "outputs": [
    {
     "name": "stdout",
     "output_type": "stream",
     "text": [
      "{1, 2, 3}\n"
     ]
    }
   ],
   "source": [
    "s.remove(5)\n",
    "print(s)"
   ]
  },
  {
   "cell_type": "code",
   "execution_count": 29,
   "id": "63dcb26b",
   "metadata": {},
   "outputs": [
    {
     "ename": "KeyError",
     "evalue": "7",
     "output_type": "error",
     "traceback": [
      "\u001b[1;31m---------------------------------------------------------------------------\u001b[0m",
      "\u001b[1;31mKeyError\u001b[0m                                  Traceback (most recent call last)",
      "\u001b[1;32m<ipython-input-29-9e668cc09c8f>\u001b[0m in \u001b[0;36m<module>\u001b[1;34m\u001b[0m\n\u001b[1;32m----> 1\u001b[1;33m \u001b[0ms\u001b[0m\u001b[1;33m.\u001b[0m\u001b[0mremove\u001b[0m\u001b[1;33m(\u001b[0m\u001b[1;36m7\u001b[0m\u001b[1;33m)\u001b[0m\u001b[1;33m\u001b[0m\u001b[1;33m\u001b[0m\u001b[0m\n\u001b[0m",
      "\u001b[1;31mKeyError\u001b[0m: 7"
     ]
    }
   ],
   "source": [
    "s.remove(7)"
   ]
  },
  {
   "cell_type": "code",
   "execution_count": 30,
   "id": "5b68fd57",
   "metadata": {},
   "outputs": [
    {
     "name": "stdout",
     "output_type": "stream",
     "text": [
      "{1, 2, 3, 4, 5, 6, 7}\n"
     ]
    }
   ],
   "source": [
    "s.update([1, 4, 5, 6, 7])\n",
    "print(s)"
   ]
  },
  {
   "cell_type": "code",
   "execution_count": 31,
   "id": "cbeeadde",
   "metadata": {},
   "outputs": [
    {
     "name": "stdout",
     "output_type": "stream",
     "text": [
      "{1, 2, 3, 4, 5, 6}\n"
     ]
    }
   ],
   "source": [
    "s.discard(7)  # 여기까진 remove랑 똑같음\n",
    "print(s)"
   ]
  },
  {
   "cell_type": "code",
   "execution_count": 32,
   "id": "ed16a897",
   "metadata": {},
   "outputs": [],
   "source": [
    "s.discard(9)  # discard는 없는걸 뺴도 에러가 안남\n",
    "# 없는걸 빼는걸 알려줘야 할 떄는 remove, 없는걸 빼도 상관 없이 계속 돌아가야할 때는, discard 를 써야 함. 잘 골라서 사용"
   ]
  },
  {
   "cell_type": "code",
   "execution_count": 33,
   "id": "8c456261",
   "metadata": {},
   "outputs": [
    {
     "name": "stdout",
     "output_type": "stream",
     "text": [
      "set()\n"
     ]
    }
   ],
   "source": [
    "s.clear()\n",
    "print(s)"
   ]
  },
  {
   "cell_type": "code",
   "execution_count": 34,
   "id": "7e296b7e",
   "metadata": {},
   "outputs": [
    {
     "name": "stdout",
     "output_type": "stream",
     "text": [
      "{1, 2, 3, 4, 5, 6, 7}\n",
      "{1, 2, 3, 4, 5, 6, 7}\n",
      "{3, 4, 5}\n",
      "{3, 4, 5}\n",
      "{1, 2}\n",
      "{1, 2}\n"
     ]
    }
   ],
   "source": [
    "s1 = set([1, 2, 3, 4, 5])\n",
    "s2 = set([3, 4, 5, 6, 7])\n",
    "\n",
    "print(s1.union(s2)) # 교집합\n",
    "print(s1 | s2) # 합집합\n",
    "print(s1.intersection(s2)) # 교집합\n",
    "print(s1 & s2) # 교집합\n",
    "print(s1.difference(s2)) # 차집합\n",
    "print(s1 - s2) # 차집합\n",
    "\n",
    "# 양쪽 표기법 다 쓸 수 있음. 편한걸로 쓰면 됨"
   ]
  },
  {
   "cell_type": "code",
   "execution_count": 35,
   "id": "8bc60824",
   "metadata": {},
   "outputs": [
    {
     "name": "stdout",
     "output_type": "stream",
     "text": [
      "Jane\n"
     ]
    }
   ],
   "source": [
    "student_info = {20190001: 'Tom', 20190002: 'Jane', \\\n",
    "               20190003: 'Mike', 20190004: 'Jessica'}\n",
    "print(student_info[20190002])  # key값을 이용한 출력"
   ]
  },
  {
   "cell_type": "code",
   "execution_count": 36,
   "id": "9afc8f36",
   "metadata": {},
   "outputs": [
    {
     "name": "stdout",
     "output_type": "stream",
     "text": [
      "{20190001: 'Tom', 20190002: 'Kate', 20190003: 'Mike', 20190004: 'Jessica'}\n"
     ]
    }
   ],
   "source": [
    "student_info[20190002] = 'Kate'  # key값으로 수정도 가능\n",
    "print(student_info)"
   ]
  },
  {
   "cell_type": "code",
   "execution_count": 38,
   "id": "6aad972f",
   "metadata": {},
   "outputs": [
    {
     "name": "stdout",
     "output_type": "stream",
     "text": [
      "{'USA': 1, 'Korea': 82, 'China': 86, 'Malaysua': 60}\n"
     ]
    }
   ],
   "source": [
    "country_code = {'USA': 1, 'Korea': 82, 'China': 86, \\\n",
    "               'Malaysua': 60}\n",
    "print(country_code)"
   ]
  },
  {
   "cell_type": "code",
   "execution_count": 39,
   "id": "1663d108",
   "metadata": {},
   "outputs": [
    {
     "name": "stdout",
     "output_type": "stream",
     "text": [
      "dict_keys(['USA', 'Korea', 'China', 'Malaysua'])\n"
     ]
    }
   ],
   "source": [
    "print(country_code.keys())  # key값만 쭉 뽑아줌"
   ]
  },
  {
   "cell_type": "code",
   "execution_count": 40,
   "id": "284c7a50",
   "metadata": {},
   "outputs": [
    {
     "name": "stdout",
     "output_type": "stream",
     "text": [
      "{'USA': 1, 'Korea': 82, 'China': 86, 'Malaysua': 60, 'German': 49}\n"
     ]
    }
   ],
   "source": [
    "country_code['German'] = 49\n",
    "print(country_code)\n",
    "#  key값을 기존에 없는 key를 넣으면 새로운 값을 추가함  / 있는걸 쓰면 새로 갱신함"
   ]
  },
  {
   "cell_type": "code",
   "execution_count": 41,
   "id": "60d34dcf",
   "metadata": {},
   "outputs": [
    {
     "name": "stdout",
     "output_type": "stream",
     "text": [
      "dict_values([1, 82, 86, 60, 49])\n"
     ]
    }
   ],
   "source": [
    "print(country_code.values()) # key값만 뽑았으니 당연히 value값만 뽑는것도 있겠죠. 그게 values()"
   ]
  },
  {
   "cell_type": "code",
   "execution_count": 42,
   "id": "1b8b594d",
   "metadata": {},
   "outputs": [
    {
     "name": "stdout",
     "output_type": "stream",
     "text": [
      "dict_items([('USA', 1), ('Korea', 82), ('China', 86), ('Malaysua', 60), ('German', 49)])\n"
     ]
    }
   ],
   "source": [
    "print(country_code.items())\n",
    "# 때에 따라서는 key와 value를 함께 뽑아와야 할 때도 있음. tuple 형태로 묶어서 뽑는것이 .items()"
   ]
  },
  {
   "cell_type": "code",
   "execution_count": 43,
   "id": "eb525d3c",
   "metadata": {},
   "outputs": [
    {
     "name": "stdout",
     "output_type": "stream",
     "text": [
      "Key: USA\n",
      "Value: 1\n",
      "Key: Korea\n",
      "Value: 82\n",
      "Key: China\n",
      "Value: 86\n",
      "Key: Malaysua\n",
      "Value: 60\n",
      "Key: German\n",
      "Value: 49\n"
     ]
    }
   ],
   "source": [
    "for k, v in country_code.items():\n",
    "    print('Key:', k)\n",
    "    print('Value:', v)\n",
    "# key와 value(k, v)를 unpacking해서 따로 배치\n",
    "# 앞에 있는 변수가 key값, 뒤에 오는 변수가 value값을 저장 / 그대로 출력하면 아래와 같이 나옴"
   ]
  },
  {
   "cell_type": "code",
   "execution_count": 44,
   "id": "b7abdcf0",
   "metadata": {},
   "outputs": [
    {
     "name": "stdout",
     "output_type": "stream",
     "text": [
      "True\n"
     ]
    }
   ],
   "source": [
    "print('Korea' in country_code.keys())  # 해당 키가 있는지 확인  in"
   ]
  },
  {
   "cell_type": "code",
   "execution_count": 45,
   "id": "1feed111",
   "metadata": {},
   "outputs": [
    {
     "name": "stdout",
     "output_type": "stream",
     "text": [
      "False\n"
     ]
    }
   ],
   "source": [
    "print(85 in country_code.values()) # 해당 value가 있는지 확인  in"
   ]
  },
  {
   "cell_type": "markdown",
   "id": "4c1c5493",
   "metadata": {},
   "source": [
    "### deque"
   ]
  },
  {
   "cell_type": "code",
   "execution_count": 46,
   "id": "c0632861",
   "metadata": {},
   "outputs": [],
   "source": [
    "from collections import deque"
   ]
  },
  {
   "cell_type": "code",
   "execution_count": 47,
   "id": "118f7554",
   "metadata": {},
   "outputs": [
    {
     "name": "stdout",
     "output_type": "stream",
     "text": [
      "deque([0, 1, 2, 3, 4])\n"
     ]
    }
   ],
   "source": [
    "deque_list = deque()\n",
    "for i in range(5):\n",
    "    deque_list.append(i)\n",
    "    \n",
    "print(deque_list)\n",
    "# deque (=큐 queue) -> 덱 -> 뒤쪽에서 붙이고"
   ]
  },
  {
   "cell_type": "code",
   "execution_count": 48,
   "id": "326bc71e",
   "metadata": {},
   "outputs": [
    {
     "name": "stdout",
     "output_type": "stream",
     "text": [
      "4\n",
      "3\n",
      "deque([0, 1, 2])\n"
     ]
    }
   ],
   "source": [
    "print(deque_list.pop())\n",
    "print(deque_list.pop())\n",
    "print(deque_list)\n",
    "# 뒤쪽에서 뽑음"
   ]
  },
  {
   "cell_type": "code",
   "execution_count": 49,
   "id": "4a27d5ae",
   "metadata": {},
   "outputs": [
    {
     "name": "stdout",
     "output_type": "stream",
     "text": [
      "deque([6, 5, 0, 1, 2])\n"
     ]
    }
   ],
   "source": [
    "# 이번엔 앞쪽에서 붙이고, 앞쪽에서 뽑음\n",
    "deque_list.appendleft(5)\n",
    "deque_list.appendleft(6)\n",
    "print(deque_list)"
   ]
  },
  {
   "cell_type": "code",
   "execution_count": 50,
   "id": "d8ae0896",
   "metadata": {},
   "outputs": [
    {
     "name": "stdout",
     "output_type": "stream",
     "text": [
      "6\n",
      "5\n",
      "deque([0, 1, 2])\n"
     ]
    }
   ],
   "source": [
    "print(deque_list.popleft())\n",
    "print(deque_list.popleft())\n",
    "print(deque_list)"
   ]
  },
  {
   "cell_type": "code",
   "execution_count": 51,
   "id": "fba05e49",
   "metadata": {},
   "outputs": [
    {
     "name": "stdout",
     "output_type": "stream",
     "text": [
      "deque([0, 1, 2, 3, 4])\n"
     ]
    }
   ],
   "source": [
    "deque_list.append(3)\n",
    "deque_list.append(4)\n",
    "print(deque_list)"
   ]
  },
  {
   "cell_type": "code",
   "execution_count": 52,
   "id": "7f1b9d9b",
   "metadata": {},
   "outputs": [
    {
     "name": "stdout",
     "output_type": "stream",
     "text": [
      "deque([3, 4, 0, 1, 2])\n"
     ]
    }
   ],
   "source": [
    "deque_list.rotate(2)  # rotate -> 전체가 원형이라고 가정하고 2칸을 돌린 것.  -> 오른쪽으로 2칸\n",
    "print(deque_list)"
   ]
  },
  {
   "cell_type": "code",
   "execution_count": 53,
   "id": "7062802c",
   "metadata": {},
   "outputs": [
    {
     "name": "stdout",
     "output_type": "stream",
     "text": [
      "deque([0, 1, 2, 3, 4])\n"
     ]
    }
   ],
   "source": [
    "deque_list.rotate(-2)   # 반대 방향도 가능\n",
    "print(deque_list)"
   ]
  },
  {
   "cell_type": "code",
   "execution_count": 54,
   "id": "280cd0b5",
   "metadata": {},
   "outputs": [
    {
     "name": "stdout",
     "output_type": "stream",
     "text": [
      "deque([0, 1, 2, 3, 4, 5, 6, 7])\n"
     ]
    }
   ],
   "source": [
    "deque_list.extend([5, 6, 7])   #여러개의 data 한꺼번에 붙이기 가능\n",
    "print(deque_list)"
   ]
  },
  {
   "cell_type": "code",
   "execution_count": 56,
   "id": "2efff896",
   "metadata": {},
   "outputs": [
    {
     "name": "stdout",
     "output_type": "stream",
     "text": [
      "deque([10, 9, 7, 6, 5, 0, 1, 2, 3, 4, 5, 6, 7])\n"
     ]
    }
   ],
   "source": [
    "# 물론 앞쪽에도 붙일 수 있음\n",
    "deque_list.extendleft([5, 6, 7])\n",
    "deque_list.extendleft([9, 10])\n",
    "print(deque_list)\n",
    "\n",
    "# 앞쪽에 붙인다고 9, 10 이 되는게 아니라는것 햇갈리지 말것."
   ]
  },
  {
   "cell_type": "markdown",
   "id": "f41eaf58",
   "metadata": {},
   "source": [
    "### OrderdDict\n",
    "- key의 순서를 입력한 순으로 보장하는 Dictionary"
   ]
  },
  {
   "cell_type": "code",
   "execution_count": 57,
   "id": "c3f15cf6",
   "metadata": {},
   "outputs": [],
   "source": [
    "# key 순서를 보장 안하면 문제가 생기는 경우가 있음, -> 일반 dic은 순서를 보장 안함.\n",
    "# 그럴때 쓰는게 OrderdDict"
   ]
  },
  {
   "cell_type": "code",
   "execution_count": 59,
   "id": "0343931f",
   "metadata": {},
   "outputs": [],
   "source": [
    "from collections import OrderedDict"
   ]
  },
  {
   "cell_type": "code",
   "execution_count": 61,
   "id": "103d8446",
   "metadata": {},
   "outputs": [
    {
     "name": "stdout",
     "output_type": "stream",
     "text": [
      "{'x': 100, 'y': 200, 'z': 300, 'a': 400}\n"
     ]
    }
   ],
   "source": [
    "d = dict()\n",
    "d['x'] = 100\n",
    "d['y'] = 200\n",
    "d['z'] = 300\n",
    "d['a'] = 400\n",
    "print(d)"
   ]
  },
  {
   "cell_type": "code",
   "execution_count": 62,
   "id": "8ba8508f",
   "metadata": {},
   "outputs": [],
   "source": [
    "def get_key(x):\n",
    "    return x[0]   # 0 번째 key를 말함. 걔를 정의 해 놓고"
   ]
  },
  {
   "cell_type": "code",
   "execution_count": 64,
   "id": "6aa50368",
   "metadata": {},
   "outputs": [
    {
     "name": "stdout",
     "output_type": "stream",
     "text": [
      "OrderedDict([('a', 400), ('x', 100), ('y', 200), ('z', 300)])\n"
     ]
    }
   ],
   "source": [
    "od = OrderedDict(sorted(d.items(), key=get_key))  # 객체를 만들어 놓고, items를 sorted함. key값은 2개 이상 들어옴-> 어떤값을 sort 할건지 알려줘야 함\n",
    "print(od)\n",
    "# key 값만 들어옴 -> 걔를 sort 하란 것"
   ]
  },
  {
   "cell_type": "markdown",
   "id": "44bf0e64",
   "metadata": {},
   "source": [
    "- ### Ordered는 여기까지 하고 잠시 중단하고, Lambda를 먼저 해야겠다"
   ]
  },
  {
   "cell_type": "markdown",
   "id": "3a819964",
   "metadata": {},
   "source": [
    "### Lambda\n",
    "- 익명 함수를 구현"
   ]
  },
  {
   "cell_type": "markdown",
   "id": "e6bd3933",
   "metadata": {},
   "source": [
    "- java에서 lambda를 하는 목적은, interface의 구현 객체를 만드는데,\n",
    "- 즉석에서 interface의 익명 구현 객체를 만들 수 있는데,\n",
    "- java에선 좀 simple하게, 재빨리 만들기 위해서, lambda를 채용함. 요즘 자바뿐 아니라, 파이썬 C++등에서도 사용.\n",
    "- 파이썬에선 익명 함수를 구현하는데 쓰임. 사용법은 좀 상이함"
   ]
  },
  {
   "cell_type": "code",
   "execution_count": 65,
   "id": "f2ceccc1",
   "metadata": {},
   "outputs": [],
   "source": [
    "def f(x, y):\n",
    "    return x + y"
   ]
  },
  {
   "cell_type": "code",
   "execution_count": 66,
   "id": "c0b8f801",
   "metadata": {},
   "outputs": [
    {
     "name": "stdout",
     "output_type": "stream",
     "text": [
      "5\n"
     ]
    }
   ],
   "source": [
    "print(f(1, 4))"
   ]
  },
  {
   "cell_type": "code",
   "execution_count": 67,
   "id": "9525962d",
   "metadata": {},
   "outputs": [
    {
     "name": "stdout",
     "output_type": "stream",
     "text": [
      "5\n"
     ]
    }
   ],
   "source": [
    "# 위의 얘를 Lambda식으로 표현하면 이렇게 됨   # 파이썬에서 익명함수를 구현하는 람다\n",
    "f = lambda x, y:x + y\n",
    "print(f(1, 4))"
   ]
  },
  {
   "cell_type": "code",
   "execution_count": 68,
   "id": "4ddb76af",
   "metadata": {},
   "outputs": [
    {
     "name": "stdout",
     "output_type": "stream",
     "text": [
      "5\n"
     ]
    }
   ],
   "source": [
    "# 위의 애를 1방에 쓸 수 있음\n",
    "print((lambda x, y:x + y)(1, 4))"
   ]
  },
  {
   "cell_type": "code",
   "execution_count": 69,
   "id": "08740cf4",
   "metadata": {},
   "outputs": [
    {
     "name": "stdout",
     "output_type": "stream",
     "text": [
      "3\n"
     ]
    }
   ],
   "source": [
    "f = lambda n, m: n if n%2 == 0 else m   # 첫번째 놈이 짝수면 앞에놈, 홀수면 뒤에놈\n",
    "print(f(1, 3))"
   ]
  },
  {
   "cell_type": "code",
   "execution_count": 70,
   "id": "06f94753",
   "metadata": {},
   "outputs": [
    {
     "name": "stdout",
     "output_type": "stream",
     "text": [
      "2\n"
     ]
    }
   ],
   "source": [
    "print(f(2, 3))"
   ]
  },
  {
   "cell_type": "code",
   "execution_count": 71,
   "id": "c8d41958",
   "metadata": {},
   "outputs": [],
   "source": [
    "# 람다를 함수로 쓸 수 도 있음\n",
    "def makeFunc(n):\n",
    "    return lambda a: a%n == 1    # 나머지가 1이나 아니냐 확인하는 함수 -> 홀수 확인"
   ]
  },
  {
   "cell_type": "code",
   "execution_count": 72,
   "id": "52ccf6bc",
   "metadata": {},
   "outputs": [
    {
     "name": "stdout",
     "output_type": "stream",
     "text": [
      "True\n"
     ]
    }
   ],
   "source": [
    "isOdd = makeFunc(2)   # makeFunc로, 2로, isODD의 값(a) 3을 나눴을 때, 나머지가 1이냐(홀수)\n",
    "print(isOdd(3))      # isOdd에 makeFunc라는 함수를 넣음."
   ]
  },
  {
   "cell_type": "code",
   "execution_count": 73,
   "id": "6c2c37d7",
   "metadata": {
    "scrolled": true
   },
   "outputs": [
    {
     "name": "stdout",
     "output_type": "stream",
     "text": [
      "False\n"
     ]
    }
   ],
   "source": [
    "print(isOdd(4))"
   ]
  },
  {
   "cell_type": "code",
   "execution_count": 74,
   "id": "eb981d3f",
   "metadata": {},
   "outputs": [],
   "source": [
    "def get_key(x):\n",
    "    return x[0]   # 람다를 사용하면 얘를 안만들어도 됨"
   ]
  },
  {
   "cell_type": "code",
   "execution_count": 75,
   "id": "44fa11dc",
   "metadata": {},
   "outputs": [
    {
     "name": "stdout",
     "output_type": "stream",
     "text": [
      "OrderedDict([('a', 400), ('x', 100), ('y', 200), ('z', 300)])\n"
     ]
    }
   ],
   "source": [
    "od = OrderedDict(sorted(d.items(), key=get_key))\n",
    "print(od)"
   ]
  },
  {
   "cell_type": "code",
   "execution_count": 76,
   "id": "bea763da",
   "metadata": {},
   "outputs": [
    {
     "name": "stdout",
     "output_type": "stream",
     "text": [
      "OrderedDict([('a', 400), ('x', 100), ('y', 200), ('z', 300)])\n"
     ]
    }
   ],
   "source": [
    "od = OrderedDict(sorted(d.items(), key=lambda x:x[0]))   # key값 sort\n",
    "print(od)"
   ]
  },
  {
   "cell_type": "code",
   "execution_count": 77,
   "id": "aef7e2b7",
   "metadata": {},
   "outputs": [
    {
     "name": "stdout",
     "output_type": "stream",
     "text": [
      "OrderedDict([('x', 100), ('y', 200), ('z', 300), ('a', 400)])\n"
     ]
    }
   ],
   "source": [
    "od = OrderedDict(sorted(d.items(), key=lambda x:x[1]))   # value값으로 sort\n",
    "print(od)"
   ]
  },
  {
   "cell_type": "code",
   "execution_count": 78,
   "id": "f3360b4a",
   "metadata": {},
   "outputs": [
    {
     "name": "stdout",
     "output_type": "stream",
     "text": [
      "OrderedDict([('a', 400), ('z', 300), ('y', 200), ('x', 100)])\n"
     ]
    }
   ],
   "source": [
    "od = OrderedDict(sorted(d.items(), key=lambda x:x[1], reverse=True))   # 디센드? sort로 -> 아무튼 역순\n",
    "print(od)"
   ]
  },
  {
   "cell_type": "code",
   "execution_count": 79,
   "id": "779d4a3a",
   "metadata": {},
   "outputs": [],
   "source": [
    "s = [('yellow', 1), ('blue', 2), ('yellow', 3), ('blue', 4), \\\n",
    "    ('red', 1)]"
   ]
  },
  {
   "cell_type": "markdown",
   "id": "8c84acc6",
   "metadata": {},
   "source": [
    "{'yellow':[1, 3], 'blue':[2, 4]. 'red':[1]}     # 요런 식으로 만들고 싶음"
   ]
  },
  {
   "cell_type": "code",
   "execution_count": 80,
   "id": "51d078be",
   "metadata": {},
   "outputs": [
    {
     "ename": "KeyError",
     "evalue": "'yellow'",
     "output_type": "error",
     "traceback": [
      "\u001b[1;31m---------------------------------------------------------------------------\u001b[0m",
      "\u001b[1;31mKeyError\u001b[0m                                  Traceback (most recent call last)",
      "\u001b[1;32m<ipython-input-80-145ff067151a>\u001b[0m in \u001b[0;36m<module>\u001b[1;34m\u001b[0m\n\u001b[0;32m      1\u001b[0m \u001b[0md\u001b[0m \u001b[1;33m=\u001b[0m \u001b[0mdict\u001b[0m\u001b[1;33m(\u001b[0m\u001b[1;33m)\u001b[0m\u001b[1;33m\u001b[0m\u001b[1;33m\u001b[0m\u001b[0m\n\u001b[0;32m      2\u001b[0m \u001b[1;32mfor\u001b[0m \u001b[0mk\u001b[0m\u001b[1;33m,\u001b[0m \u001b[0mv\u001b[0m \u001b[1;32min\u001b[0m \u001b[0ms\u001b[0m\u001b[1;33m:\u001b[0m\u001b[1;33m\u001b[0m\u001b[1;33m\u001b[0m\u001b[0m\n\u001b[1;32m----> 3\u001b[1;33m     \u001b[0md\u001b[0m\u001b[1;33m[\u001b[0m\u001b[0mk\u001b[0m\u001b[1;33m]\u001b[0m\u001b[1;33m.\u001b[0m\u001b[0mappend\u001b[0m\u001b[1;33m(\u001b[0m\u001b[0mv\u001b[0m\u001b[1;33m)\u001b[0m\u001b[1;33m\u001b[0m\u001b[1;33m\u001b[0m\u001b[0m\n\u001b[0m",
      "\u001b[1;31mKeyError\u001b[0m: 'yellow'"
     ]
    }
   ],
   "source": [
    "d = dict()\n",
    "for k, v in s:\n",
    "    d[k].append(v)    # key 에 대해 append 시키려고 하는데 error가 남 -> key 가 없다는 에러 -> 왜냐면 d는 비어있는 dictionary\n",
    "    # 정확히 말하면, k값에 d[k]=v 로 하면 생성해서 에러 안나지만, \n",
    "    # list로 만들려고 append시키려고 하면 d[k].append(v) -> 에러가 남 -> list가 없기때문"
   ]
  },
  {
   "cell_type": "code",
   "execution_count": 83,
   "id": "2ca8e072",
   "metadata": {},
   "outputs": [],
   "source": [
    "d = dict()\n",
    "for k, v in s:\n",
    "    try:\n",
    "        d[k].append(v)\n",
    "    except KeyError:\n",
    "            d[k] = list()\n",
    "            d[k].append(v)\n",
    "# 아래 default덱이랑 비교. 얼마나 simple 해지는지."
   ]
  },
  {
   "cell_type": "code",
   "execution_count": 84,
   "id": "df02f78e",
   "metadata": {},
   "outputs": [
    {
     "name": "stdout",
     "output_type": "stream",
     "text": [
      "{'yellow': [1, 3], 'blue': [2, 4], 'red': [1]}\n"
     ]
    }
   ],
   "source": [
    "print(d)"
   ]
  },
  {
   "cell_type": "code",
   "execution_count": 85,
   "id": "a3dcc78a",
   "metadata": {},
   "outputs": [],
   "source": [
    "# 얘를 디폴트 덱을 이용해 해결\n",
    "from collections import defaultdict"
   ]
  },
  {
   "cell_type": "code",
   "execution_count": 86,
   "id": "29ddb9ec",
   "metadata": {},
   "outputs": [
    {
     "name": "stdout",
     "output_type": "stream",
     "text": [
      "dict_items([('yellow', [1, 3]), ('blue', [2, 4]), ('red', [1])])\n"
     ]
    }
   ],
   "source": [
    "d2 = defaultdict(list)   # 이 딕셔너리는, 항목이 새로운게 들어올때는, 기본적으로 list를 생성하라 라는 뜻.\n",
    "                    # -> 새로운 key가 추가되었을때, value값은 list로 만들어라. -> 라는 뜻\n",
    "    # list ->  # a = list()  라는 함수라는 뜻(사실) -> 이런 함수를 불러온다는 뜻\n",
    "for k, v in s:\n",
    "    d2[k].append(v)\n",
    "    \n",
    "print(d2.items())"
   ]
  },
  {
   "cell_type": "code",
   "execution_count": 87,
   "id": "b47dfd8c",
   "metadata": {},
   "outputs": [
    {
     "ename": "TypeError",
     "evalue": "first argument must be callable or None",
     "output_type": "error",
     "traceback": [
      "\u001b[1;31m---------------------------------------------------------------------------\u001b[0m",
      "\u001b[1;31mTypeError\u001b[0m                                 Traceback (most recent call last)",
      "\u001b[1;32m<ipython-input-87-d290826bfa52>\u001b[0m in \u001b[0;36m<module>\u001b[1;34m\u001b[0m\n\u001b[0;32m      1\u001b[0m \u001b[1;31m#기본 default를 scala = 상수값을 넣고 싶다.\u001b[0m\u001b[1;33m\u001b[0m\u001b[1;33m\u001b[0m\u001b[1;33m\u001b[0m\u001b[0m\n\u001b[1;32m----> 2\u001b[1;33m \u001b[0md3\u001b[0m \u001b[1;33m=\u001b[0m \u001b[0mdefaultdict\u001b[0m\u001b[1;33m(\u001b[0m\u001b[1;36m100\u001b[0m\u001b[1;33m)\u001b[0m\u001b[1;33m\u001b[0m\u001b[1;33m\u001b[0m\u001b[0m\n\u001b[0m\u001b[0;32m      3\u001b[0m \u001b[0mprint\u001b[0m\u001b[1;33m(\u001b[0m\u001b[0md3\u001b[0m\u001b[1;33m[\u001b[0m\u001b[1;34m'first'\u001b[0m\u001b[1;33m]\u001b[0m\u001b[1;33m)\u001b[0m\u001b[1;33m\u001b[0m\u001b[1;33m\u001b[0m\u001b[0m\n",
      "\u001b[1;31mTypeError\u001b[0m: first argument must be callable or None"
     ]
    }
   ],
   "source": [
    "#기본 default를 scala = 상수값을 넣고 싶다.\n",
    "d3 = defaultdict(100)\n",
    "print(d3['first'])\n",
    "# 100이 나와야 하는데 에러가 나옴\n",
    "# -> 함수여야 한다는얘기.\n",
    "\n",
    "# 100은 함수가 아니어서 에러. -> 위에 list는 사실 함수\n",
    "#이럴때는 lanbda를 이용해서 만들 수 있다."
   ]
  },
  {
   "cell_type": "code",
   "execution_count": 88,
   "id": "639e6812",
   "metadata": {},
   "outputs": [
    {
     "name": "stdout",
     "output_type": "stream",
     "text": [
      "100\n"
     ]
    }
   ],
   "source": [
    "d3 = defaultdict(lambda : 100)\n",
    "print(d3['first'])\n",
    "# 람다를 이용하면 상수값을 default로 갖는 dictionary를 만들 수 있음.\n",
    "# 람다가 이런 것입니다."
   ]
  },
  {
   "cell_type": "code",
   "execution_count": 89,
   "id": "762f1a58",
   "metadata": {},
   "outputs": [],
   "source": [
    "# 다음으로 유용하게 쓸 수 있는게 Counter.  Counter 의 위력을 보자.\n",
    "from collections import Counter"
   ]
  },
  {
   "cell_type": "code",
   "execution_count": 90,
   "id": "e8dad2db",
   "metadata": {},
   "outputs": [
    {
     "name": "stdout",
     "output_type": "stream",
     "text": [
      "Counter({'s': 2, 'i': 2, 't': 2, 'c': 1, 'e': 1, 'n': 1})\n"
     ]
    }
   ],
   "source": [
    "c = Counter('scientist')   # 갯수를 세어 주는 것\n",
    "print(c)  # s : 2개, i : 2개, t: 2개, c: 1개, e: 1개, n: 1개"
   ]
  },
  {
   "cell_type": "code",
   "execution_count": 91,
   "id": "84f760cd",
   "metadata": {},
   "outputs": [
    {
     "name": "stdout",
     "output_type": "stream",
     "text": [
      "Counter({'red': 4, 'blue': 2})\n"
     ]
    }
   ],
   "source": [
    "# Counter 객체를 만드는 방법이 몇가지 더 있음\n",
    "c = Counter({'red':4, 'blue':2})  # dictionary 객체를 이용해서 만들 수도 있음\n",
    "print(c)"
   ]
  },
  {
   "cell_type": "code",
   "execution_count": 92,
   "id": "03990d63",
   "metadata": {},
   "outputs": [
    {
     "data": {
      "text/plain": [
       "<itertools.chain at 0x1e4ee1d5e20>"
      ]
     },
     "execution_count": 92,
     "metadata": {},
     "output_type": "execute_result"
    }
   ],
   "source": [
    "c.elements()"
   ]
  },
  {
   "cell_type": "code",
   "execution_count": 93,
   "id": "7d6333b3",
   "metadata": {},
   "outputs": [
    {
     "name": "stdout",
     "output_type": "stream",
     "text": [
      "['red', 'red', 'red', 'red', 'blue', 'blue']\n"
     ]
    }
   ],
   "source": [
    "# elements에서 나온 객체를 list로 만들 수 있음\n",
    "print(list(c.elements()))"
   ]
  },
  {
   "cell_type": "code",
   "execution_count": 94,
   "id": "2978c886",
   "metadata": {},
   "outputs": [
    {
     "name": "stdout",
     "output_type": "stream",
     "text": [
      "Counter({'dogs': 6, 'cats': 4})\n"
     ]
    }
   ],
   "source": [
    "# 이렇게도 가능.  꼭 dictionary가 아니더라도.\n",
    "c = Counter(cats=4, dogs=6)\n",
    "print(c)"
   ]
  },
  {
   "cell_type": "code",
   "execution_count": 99,
   "id": "2c0f1a98",
   "metadata": {},
   "outputs": [],
   "source": [
    "# Counter 객체는 이렇게 끝.\n",
    "\n",
    "# namedtuple 은 잘 안쓰이지만, 소개는 시켜 드릴게.\n",
    "\n",
    "from collections import namedtuple"
   ]
  },
  {
   "cell_type": "code",
   "execution_count": 100,
   "id": "9f13438e",
   "metadata": {},
   "outputs": [
    {
     "name": "stdout",
     "output_type": "stream",
     "text": [
      "my_point(x=11, y=22)\n"
     ]
    }
   ],
   "source": [
    "# 위에서 import 안하면 에러 나옴\n",
    "\n",
    "Point = namedtuple('my_point', ['x', 'y'])\n",
    "p = Point(11, 22)\n",
    "print(p)"
   ]
  },
  {
   "cell_type": "code",
   "execution_count": 101,
   "id": "ef46f1ac",
   "metadata": {},
   "outputs": [
    {
     "name": "stdout",
     "output_type": "stream",
     "text": [
      "11 22\n"
     ]
    }
   ],
   "source": [
    "print(p.x, p.y)"
   ]
  },
  {
   "cell_type": "code",
   "execution_count": 102,
   "id": "1a222622",
   "metadata": {},
   "outputs": [
    {
     "name": "stdout",
     "output_type": "stream",
     "text": [
      "11 22\n"
     ]
    }
   ],
   "source": [
    "print(p[0], p[1])"
   ]
  },
  {
   "cell_type": "code",
   "execution_count": 111,
   "id": "2d1908b2",
   "metadata": {},
   "outputs": [],
   "source": [
    "# default덱을 이용해서 WordCount를 어떻게 하나, 간단히 보여줌\n",
    "text = \"\"\"A press release is the quickest and easiest way to get free publicity. \n",
    "If well written a press release can result in multiple published articles about your firm and its products. \n",
    "And that can mean new prospects contacting you asking you to sell to them. ... .\"\"\"\n",
    "\n",
    "# 그냥 이렇게 쓰면 -> split()으로 안나누면 -> 단어별이 아니라 알파벳별로 나눠서 출력함\n",
    "\n",
    "# defaultdict(<function <lambda> at 0x000001E4EE81FCA0>, {'A': 2, ' ': 47, 'p': 9, 'r': 13, 'e': 27, 's': 20, 'l': 13, 'a': 17, 'i': 16, 't': 23, 'h': 5, 'q': 2, 'u': 11, 'c': 10, 'k': 3, 'n': 13, 'd': 6, 'w': 5, 'y': 6, 'o': 11, 'g': 4, 'f': 4, 'b': 4, '.': 8, 'm': 5})\n"
   ]
  },
  {
   "cell_type": "code",
   "execution_count": 107,
   "id": "1ccb2b94",
   "metadata": {},
   "outputs": [],
   "source": [
    "word_count = defaultdict(lambda:0)"
   ]
  },
  {
   "cell_type": "code",
   "execution_count": 108,
   "id": "f0e4d342",
   "metadata": {},
   "outputs": [],
   "source": [
    "for word in text:\n",
    "    word_count[word] += 1"
   ]
  },
  {
   "cell_type": "code",
   "execution_count": 110,
   "id": "81265499",
   "metadata": {},
   "outputs": [
    {
     "name": "stdout",
     "output_type": "stream",
     "text": [
      "defaultdict(<function <lambda> at 0x000001E4EE81FCA0>, {'A': 2, ' ': 47, 'p': 9, 'r': 13, 'e': 27, 's': 20, 'l': 13, 'a': 17, 'i': 16, 't': 23, 'h': 5, 'q': 2, 'u': 11, 'c': 10, 'k': 3, 'n': 13, 'd': 6, 'w': 5, 'y': 6, 'o': 11, 'g': 4, 'f': 4, 'b': 4, '.': 8, 'm': 5})\n"
     ]
    }
   ],
   "source": [
    "print(word_count)"
   ]
  },
  {
   "cell_type": "code",
   "execution_count": 112,
   "id": "febda011",
   "metadata": {},
   "outputs": [],
   "source": [
    "text = \"\"\"A press release is the quickest and easiest way to get free publicity. If\n",
    "well written, a press release can result in multiple published articles about your \n",
    "firm and its products. And that can mean new prospects contacting you \n",
    "asking you to sell to them. ….\"\"\".lower().split()"
   ]
  },
  {
   "cell_type": "code",
   "execution_count": 113,
   "id": "0456b874",
   "metadata": {},
   "outputs": [],
   "source": [
    "word_count = defaultdict(lambda:0)"
   ]
  },
  {
   "cell_type": "code",
   "execution_count": 114,
   "id": "6d2ae7de",
   "metadata": {},
   "outputs": [],
   "source": [
    "for word in text:\n",
    "    word_count[word] += 1"
   ]
  },
  {
   "cell_type": "code",
   "execution_count": 115,
   "id": "64fd00e6",
   "metadata": {},
   "outputs": [
    {
     "name": "stdout",
     "output_type": "stream",
     "text": [
      "defaultdict(<function <lambda> at 0x000001E4EE81FDC0>, {'a': 2, 'press': 2, 'release': 2, 'is': 1, 'the': 1, 'quickest': 1, 'and': 3, 'easiest': 1, 'way': 1, 'to': 3, 'get': 1, 'free': 1, 'publicity.': 1, 'if': 1, 'well': 1, 'written,': 1, 'can': 2, 'result': 1, 'in': 1, 'multiple': 1, 'published': 1, 'articles': 1, 'about': 1, 'your': 1, 'firm': 1, 'its': 1, 'products.': 1, 'that': 1, 'mean': 1, 'new': 1, 'prospects': 1, 'contacting': 1, 'you': 2, 'asking': 1, 'sell': 1, 'them.': 1, '….': 1})\n"
     ]
    }
   ],
   "source": [
    "print(word_count)"
   ]
  },
  {
   "cell_type": "markdown",
   "id": "29af6fc9",
   "metadata": {},
   "source": [
    "and 3 \\\n",
    "to 3 \\\n",
    "a 2 \\\n",
    "press 2\\\n",
    "이런식으로 value값이 큰거부터 출력"
   ]
  },
  {
   "cell_type": "code",
   "execution_count": 116,
   "id": "7e52a0a9",
   "metadata": {},
   "outputs": [
    {
     "name": "stdout",
     "output_type": "stream",
     "text": [
      "and 3\n",
      "to 3\n",
      "a 2\n",
      "press 2\n",
      "release 2\n",
      "can 2\n",
      "you 2\n",
      "is 1\n",
      "the 1\n",
      "quickest 1\n",
      "easiest 1\n",
      "way 1\n",
      "get 1\n",
      "free 1\n",
      "publicity. 1\n",
      "if 1\n",
      "well 1\n",
      "written, 1\n",
      "result 1\n",
      "in 1\n",
      "multiple 1\n",
      "published 1\n",
      "articles 1\n",
      "about 1\n",
      "your 1\n",
      "firm 1\n",
      "its 1\n",
      "products. 1\n",
      "that 1\n",
      "mean 1\n",
      "new 1\n",
      "prospects 1\n",
      "contacting 1\n",
      "asking 1\n",
      "sell 1\n",
      "them. 1\n",
      "…. 1\n"
     ]
    }
   ],
   "source": [
    "for k, v in OrderedDict(sorted(word_count.items(), \\\n",
    "                              key=lambda t: t[1], \\\n",
    "                              reverse=True)).items():\n",
    "    print(k, v)"
   ]
  },
  {
   "cell_type": "markdown",
   "id": "10d364aa",
   "metadata": {},
   "source": [
    "### List Comprehension"
   ]
  },
  {
   "cell_type": "code",
   "execution_count": 117,
   "id": "43d0711e",
   "metadata": {},
   "outputs": [
    {
     "name": "stdout",
     "output_type": "stream",
     "text": [
      "[0, 1, 2, 3, 4, 5, 6, 7, 8, 9]\n"
     ]
    }
   ],
   "source": [
    "result = []\n",
    "for i in range(10):\n",
    "    result.append(i)\n",
    "    \n",
    "print(result)"
   ]
  },
  {
   "cell_type": "code",
   "execution_count": 118,
   "id": "8e98eee8",
   "metadata": {},
   "outputs": [
    {
     "name": "stdout",
     "output_type": "stream",
     "text": [
      "[0, 1, 2, 3, 4, 5, 6, 7, 8, 9]\n"
     ]
    }
   ],
   "source": [
    "# 파이썬에서 제공하는 리스트 컴프레헨션을 사용, 위의 3줄을 1줄로 가능  -> 솏도 up  -> 그래서 이것에 익숙해져야..\n",
    "result2 = [i for i in range(10)]\n",
    "print(result2)"
   ]
  },
  {
   "cell_type": "code",
   "execution_count": 119,
   "id": "3f59b0e0",
   "metadata": {},
   "outputs": [
    {
     "name": "stdout",
     "output_type": "stream",
     "text": [
      "[0, 2, 4, 6, 8]\n"
     ]
    }
   ],
   "source": [
    "result = []\n",
    "for i in range(10):\n",
    "    if i % 2 == 0:\n",
    "        result.append(i)\n",
    "        \n",
    "print(result)\n",
    "\n",
    "# 위에걸 아래에 한줄로"
   ]
  },
  {
   "cell_type": "code",
   "execution_count": 120,
   "id": "eacab5e6",
   "metadata": {},
   "outputs": [
    {
     "name": "stdout",
     "output_type": "stream",
     "text": [
      "[0, 2, 4, 6, 8]\n"
     ]
    }
   ],
   "source": [
    "result2 = [i for i in range(10) if i % 2 == 0]\n",
    "print(result2)\n",
    "\n",
    "# [i for i in range(10)] <- 는 그냥 문법. 외우고,  if i % 2 == 0  <- 조건, 맞으면 앞에거 실행"
   ]
  },
  {
   "cell_type": "code",
   "execution_count": 121,
   "id": "d9c8fe9f",
   "metadata": {},
   "outputs": [
    {
     "name": "stdout",
     "output_type": "stream",
     "text": [
      "[0, 99, 2, 99, 4, 99, 6, 99, 8, 99]\n"
     ]
    }
   ],
   "source": [
    "result = []\n",
    "for i in range(10):\n",
    "    if i % 2 == 0:\n",
    "        result.append(i)\n",
    "    else:\n",
    "        result.append(99)\n",
    "        \n",
    "print(result)"
   ]
  },
  {
   "cell_type": "code",
   "execution_count": 122,
   "id": "5fa5d2fb",
   "metadata": {},
   "outputs": [
    {
     "name": "stdout",
     "output_type": "stream",
     "text": [
      "[0, 99, 2, 99, 4, 99, 6, 99, 8, 99]\n"
     ]
    }
   ],
   "source": [
    "result2 = [i if i % 2 == 0 else 99 for i in range(10)]   # if 조건문, 맞으면 앞에거, 틀리면 뒤에거\n",
    "print(result2)"
   ]
  },
  {
   "cell_type": "code",
   "execution_count": 123,
   "id": "5194cd77",
   "metadata": {},
   "outputs": [
    {
     "name": "stdout",
     "output_type": "stream",
     "text": [
      "['HW', 'Ho', 'Hr', 'Hl', 'Hd', 'eW', 'eo', 'er', 'el', 'ed', 'lW', 'lo', 'lr', 'll', 'ld', 'lW', 'lo', 'lr', 'll', 'ld', 'oW', 'oo', 'or', 'ol', 'od']\n"
     ]
    }
   ],
   "source": [
    "result = []\n",
    "word1 = 'Hello'\n",
    "word2 = 'World'\n",
    "for i in word1:\n",
    "    for j in word2:\n",
    "        result.append(i + j)\n",
    "        \n",
    "print(result)"
   ]
  },
  {
   "cell_type": "code",
   "execution_count": 124,
   "id": "a781570d",
   "metadata": {},
   "outputs": [
    {
     "name": "stdout",
     "output_type": "stream",
     "text": [
      "['HW', 'Ho', 'Hr', 'Hl', 'Hd', 'eW', 'eo', 'er', 'el', 'ed', 'lW', 'lo', 'lr', 'll', 'ld', 'lW', 'lo', 'lr', 'll', 'ld', 'oW', 'oo', 'or', 'ol', 'od']\n"
     ]
    }
   ],
   "source": [
    "result2 = [i + j for i in word1 for j in word2]\n",
    "print(result2)"
   ]
  },
  {
   "cell_type": "code",
   "execution_count": 130,
   "id": "54785d2d",
   "metadata": {},
   "outputs": [
    {
     "name": "stdout",
     "output_type": "stream",
     "text": [
      "['AB', 'AC', 'BA', 'BC', 'CA', 'CB']\n"
     ]
    }
   ],
   "source": [
    "# 조건 : case1의 글자 case2의 글자 같지 않은 경우만 리스트에 등록\n",
    "case1 = ['A', 'B', 'C']\n",
    "case2 = ['A', 'B', 'C']\n",
    "for i in case1:\n",
    "    for j in case2:\n",
    "        if i != j:\n",
    "            result.append(i+j)\n",
    "#result = [i + j for i in case1 for j in case2 if i != j]\n",
    "\n",
    "print(result)"
   ]
  },
  {
   "cell_type": "code",
   "execution_count": 131,
   "id": "0bcc59d8",
   "metadata": {},
   "outputs": [
    {
     "name": "stdout",
     "output_type": "stream",
     "text": [
      "['AB', 'AC', 'BA', 'BC', 'CA', 'CB']\n"
     ]
    }
   ],
   "source": [
    "# 조건 : case1의 글자 case2의 글자 같지 않은 경우만 리스트에 등록\n",
    "case1 = ['A', 'B', 'C']\n",
    "case2 = ['A', 'B', 'C']\n",
    "result2 = [i + j for i in case1 for j in case2 if i != j]\n",
    "\n",
    "print(result2)"
   ]
  },
  {
   "cell_type": "code",
   "execution_count": 135,
   "id": "ab1d61f4",
   "metadata": {},
   "outputs": [],
   "source": [
    "case1 = ['A', 'B', 'C']\n",
    "case2 = ['D', 'E', 'F']"
   ]
  },
  {
   "cell_type": "markdown",
   "id": "cb64bac6",
   "metadata": {},
   "source": [
    "[['AD', 'BD', 'CD'], ['AE', 'BE', 'CE'], ['AF', 'BF', 'CF']]   #<- 이렇게 하고 싶다"
   ]
  },
  {
   "cell_type": "code",
   "execution_count": 137,
   "id": "3b3fb44f",
   "metadata": {},
   "outputs": [
    {
     "name": "stdout",
     "output_type": "stream",
     "text": [
      "[['AD', 'BD', 'CD'], ['AE', 'BE', 'CE'], ['AF', 'BF', 'CF']]\n"
     ]
    }
   ],
   "source": [
    "result = [[i + j for i in case1] for j in case2]\n",
    "print(result)"
   ]
  },
  {
   "cell_type": "code",
   "execution_count": 140,
   "id": "40d21a59",
   "metadata": {},
   "outputs": [
    {
     "name": "stdout",
     "output_type": "stream",
     "text": [
      "[['AD', 'BD', 'CD'], ['AE', 'BE', 'CE'], ['AF', 'BF', 'CF']]\n"
     ]
    }
   ],
   "source": [
    "result2 = []\n",
    "for j in case2:\n",
    "    temp = []\n",
    "    for i in case1:\n",
    "        temp.append(i + j)\n",
    "    result2.append(temp)\n",
    "        \n",
    "print(result2)"
   ]
  },
  {
   "cell_type": "code",
   "execution_count": 143,
   "id": "111a9751",
   "metadata": {},
   "outputs": [
    {
     "name": "stdout",
     "output_type": "stream",
     "text": [
      "0 tic\n",
      "1 tac\n",
      "2 toe\n"
     ]
    }
   ],
   "source": [
    "# index도 같이 뽑아내고 싶을 때\n",
    "for i, v in enumerate(['tic', 'tac', 'toe']):\n",
    "    print(i, v)"
   ]
  },
  {
   "cell_type": "code",
   "execution_count": 146,
   "id": "9dbe3d14",
   "metadata": {},
   "outputs": [
    {
     "ename": "NameError",
     "evalue": "name 'ee' is not defined",
     "output_type": "error",
     "traceback": [
      "\u001b[1;31m---------------------------------------------------------------------------\u001b[0m",
      "\u001b[1;31mNameError\u001b[0m                                 Traceback (most recent call last)",
      "\u001b[1;32m<ipython-input-146-f7c9d999079c>\u001b[0m in \u001b[0;36m<module>\u001b[1;34m\u001b[0m\n\u001b[1;32m----> 1\u001b[1;33m \u001b[1;32mfor\u001b[0m \u001b[0mi\u001b[0m\u001b[1;33m,\u001b[0m \u001b[0mv\u001b[0m \u001b[1;32min\u001b[0m \u001b[0mee\u001b[0m\u001b[1;33m(\u001b[0m\u001b[1;33m[\u001b[0m\u001b[1;34m'tic'\u001b[0m\u001b[1;33m,\u001b[0m \u001b[1;34m'tac'\u001b[0m\u001b[1;33m,\u001b[0m \u001b[1;34m'toe'\u001b[0m\u001b[1;33m]\u001b[0m\u001b[1;33m)\u001b[0m\u001b[1;33m:\u001b[0m\u001b[1;33m\u001b[0m\u001b[1;33m\u001b[0m\u001b[0m\n\u001b[0m\u001b[0;32m      2\u001b[0m     \u001b[0mprint\u001b[0m\u001b[1;33m(\u001b[0m\u001b[0mi\u001b[0m\u001b[1;33m,\u001b[0m \u001b[0mv\u001b[0m\u001b[1;33m)\u001b[0m\u001b[1;33m\u001b[0m\u001b[1;33m\u001b[0m\u001b[0m\n",
      "\u001b[1;31mNameError\u001b[0m: name 'ee' is not defined"
     ]
    }
   ],
   "source": [
    "for i, v in ee(['tic', 'tac', 'toe']):   #  enumerate\n",
    "    print(i, v)"
   ]
  },
  {
   "cell_type": "code",
   "execution_count": 147,
   "id": "85a0eeab",
   "metadata": {},
   "outputs": [
    {
     "name": "stdout",
     "output_type": "stream",
     "text": [
      "0\n",
      "1\n",
      "2\n"
     ]
    }
   ],
   "source": [
    "for i, _ in enumerate(['tic', 'tac','toe']):   # index만 뽑을 수 있음\n",
    "    print(i)\n",
    "# 근데 인덱스만 뽑아낼떈 이렇게 안씀"
   ]
  },
  {
   "cell_type": "code",
   "execution_count": 148,
   "id": "7a48294a",
   "metadata": {},
   "outputs": [
    {
     "name": "stdout",
     "output_type": "stream",
     "text": [
      "0\n",
      "1\n",
      "2\n"
     ]
    }
   ],
   "source": [
    "for i in range(len(['tic', 'tac','toe'])):\n",
    "    print(i)"
   ]
  },
  {
   "cell_type": "code",
   "execution_count": 151,
   "id": "0affa46f",
   "metadata": {},
   "outputs": [
    {
     "name": "stdout",
     "output_type": "stream",
     "text": [
      "a1 b1\n",
      "a2 b2\n",
      "a3 b3\n"
     ]
    }
   ],
   "source": [
    "alist = ['a1', 'a2', 'a3']\n",
    "blist = ['b1', 'b2', 'b3', 'b4']\n",
    "for a, b in zip(alist, blist):\n",
    "    print(a, b)"
   ]
  },
  {
   "cell_type": "code",
   "execution_count": 152,
   "id": "e925249d",
   "metadata": {},
   "outputs": [
    {
     "name": "stdout",
     "output_type": "stream",
     "text": [
      "(1, 10, 100) (2, 20, 200) (3, 30, 300)\n"
     ]
    }
   ],
   "source": [
    "a, b, c = zip((1, 2, 3), (10, 20, 30), (100, 200, 300))\n",
    "print(a, b, c)"
   ]
  },
  {
   "cell_type": "code",
   "execution_count": 153,
   "id": "e5ddee8f",
   "metadata": {},
   "outputs": [
    {
     "name": "stdout",
     "output_type": "stream",
     "text": [
      "(1, 10, 100) (2, 20, 200) (3, 30, 300)\n"
     ]
    }
   ],
   "source": [
    "a, b, c = zip([1, 2, 3], [10, 20, 30], [100, 200, 300])\n",
    "print(a, b, c)"
   ]
  },
  {
   "cell_type": "code",
   "execution_count": 154,
   "id": "47248bbd",
   "metadata": {},
   "outputs": [
    {
     "name": "stdout",
     "output_type": "stream",
     "text": [
      "[111, 222, 333]\n"
     ]
    }
   ],
   "source": [
    "result = [sum(x) for x in zip((1, 2, 3), (10, 20, 30), \\\n",
    "                             (100, 200, 300))]\n",
    "print(result)"
   ]
  },
  {
   "cell_type": "code",
   "execution_count": 156,
   "id": "5933a9c8",
   "metadata": {},
   "outputs": [
    {
     "name": "stdout",
     "output_type": "stream",
     "text": [
      "0 a1 b1\n",
      "1 a2 b2\n",
      "2 a3 b3\n"
     ]
    }
   ],
   "source": [
    "alist = ['a1', 'a2', 'a3']\n",
    "blist = ['b1', 'b2', 'b3', 'b4']\n",
    "for i, (a, b) in enumerate(zip(alist, blist)):\n",
    "    print(i, a, b)"
   ]
  },
  {
   "cell_type": "markdown",
   "id": "5d93bea4",
   "metadata": {},
   "source": [
    "a = [a1, a2], b = [b1, b2]  / -> a벡터, b벡터가 있을때,  \\\n",
    "a + b = [a1 + b1, [a2 + b2]  /  a+b 벡터는 이렇게 됨  "
   ]
  },
  {
   "cell_type": "code",
   "execution_count": 158,
   "id": "e05ca5a0",
   "metadata": {},
   "outputs": [],
   "source": [
    "def vec_add(v1, v2):\n",
    "    return [i + j for i, j in zip(v1, v2)]"
   ]
  },
  {
   "cell_type": "code",
   "execution_count": 159,
   "id": "917a031d",
   "metadata": {},
   "outputs": [
    {
     "name": "stdout",
     "output_type": "stream",
     "text": [
      "[5, 7, 9]\n"
     ]
    }
   ],
   "source": [
    "a = [1, 2, 3]\n",
    "b = [4, 5, 6]\n",
    "result = vec_add(a, b)\n",
    "print(result)"
   ]
  },
  {
   "cell_type": "markdown",
   "id": "550fed97",
   "metadata": {},
   "source": [
    "a = [a1, a2] c = n \\\n",
    "a * c = [a1*n, a2*n]"
   ]
  },
  {
   "cell_type": "code",
   "execution_count": 162,
   "id": "026ef16d",
   "metadata": {},
   "outputs": [],
   "source": [
    "def scalar_mul(v, c):\n",
    "    return [c * i for i in v]"
   ]
  },
  {
   "cell_type": "code",
   "execution_count": 163,
   "id": "a9ef68db",
   "metadata": {},
   "outputs": [
    {
     "name": "stdout",
     "output_type": "stream",
     "text": [
      "[3, 6, 9]\n"
     ]
    }
   ],
   "source": [
    "a = [1, 2, 3]\n",
    "num = 3\n",
    "result = scalar_mul(a, num)\n",
    "print(result)"
   ]
  },
  {
   "cell_type": "code",
   "execution_count": 164,
   "id": "2f9d9a9e",
   "metadata": {},
   "outputs": [],
   "source": [
    "import random"
   ]
  },
  {
   "cell_type": "code",
   "execution_count": 165,
   "id": "f1ccf864",
   "metadata": {},
   "outputs": [
    {
     "name": "stdout",
     "output_type": "stream",
     "text": [
      "0.5908493844972853\n"
     ]
    }
   ],
   "source": [
    "print(random.random())   # 0~1 사이의 임의의 값을 렌덤하게 출력"
   ]
  },
  {
   "cell_type": "code",
   "execution_count": 166,
   "id": "6869b94b",
   "metadata": {},
   "outputs": [
    {
     "name": "stdout",
     "output_type": "stream",
     "text": [
      "[0.7973672303324144, 0.8583672497951261, 0.14162047423296686, 0.8541118176392531, 0.25254081706624487]\n"
     ]
    }
   ],
   "source": [
    "randoms = [random.random() for _ in range(5)]   # randoms라는 변수에 삽입, random.random() 으로 랜덤 생성 = 변수 / for _ in range(5) 회.\n",
    "print(randoms)"
   ]
  },
  {
   "cell_type": "code",
   "execution_count": 167,
   "id": "e257dfb6",
   "metadata": {},
   "outputs": [
    {
     "name": "stdout",
     "output_type": "stream",
     "text": [
      "[6, 9, 5, 5, 1]\n"
     ]
    }
   ],
   "source": [
    "result = [random.randint(0, 9) for _ in range(5)]\n",
    "print(result)"
   ]
  },
  {
   "cell_type": "code",
   "execution_count": 1,
   "id": "364ab14e",
   "metadata": {},
   "outputs": [],
   "source": [
    "import random\n",
    "# random.seed(5)"
   ]
  },
  {
   "cell_type": "code",
   "execution_count": 2,
   "id": "7ca964f4",
   "metadata": {},
   "outputs": [
    {
     "name": "stdout",
     "output_type": "stream",
     "text": [
      "[5, 6, 2, 9, 0]\n"
     ]
    }
   ],
   "source": [
    "result = [random.randint(0, 9) for _ in range(5)]\n",
    "print(result)"
   ]
  },
  {
   "cell_type": "code",
   "execution_count": 1,
   "id": "f9975e35",
   "metadata": {},
   "outputs": [],
   "source": [
    "import random\n",
    "# random.seed(5)"
   ]
  },
  {
   "cell_type": "code",
   "execution_count": 2,
   "id": "dc3d9383",
   "metadata": {},
   "outputs": [
    {
     "name": "stdout",
     "output_type": "stream",
     "text": [
      "[8, 4, 9, 2, 9]\n"
     ]
    }
   ],
   "source": [
    "result = [random.randint(0, 9) for _ in range(5)]\n",
    "print(result)"
   ]
  },
  {
   "cell_type": "code",
   "execution_count": 3,
   "id": "143266bd",
   "metadata": {},
   "outputs": [
    {
     "name": "stdout",
     "output_type": "stream",
     "text": [
      "[9, 4, 5, 8, 0]\n"
     ]
    }
   ],
   "source": [
    "import random\n",
    "random.seed(5)\n",
    "\n",
    "result = [random.randint(0, 9) for _ in range(5)]\n",
    "print(result)"
   ]
  },
  {
   "cell_type": "code",
   "execution_count": 4,
   "id": "6cc59051",
   "metadata": {},
   "outputs": [
    {
     "name": "stdout",
     "output_type": "stream",
     "text": [
      "[9, 4, 5, 8, 0]\n"
     ]
    }
   ],
   "source": [
    "import random\n",
    "random.seed(5)   # random.seed()로 돌리면 나오는 숫자는 고정 -> 숫자가 다르게 나오는것 '처럼' 보임\n",
    "                #  ->위 메뉴의 Kernel -> Restart 로 커널 restart하고 다시 실행해도 계속 같은 숫자 나옴. -> 한번 나온 숫자가 고정되는게 아님\n",
    "                                                                                                  #  -> 처음부터 정해진 숫자가 나옴 \n",
    "result = [random.randint(0, 9) for _ in range(5)]                           # 강사님이 돌린 숫자도 똑같이 [9, 4, 5, 8, 0] 으로 나옴\n",
    "print(result)"
   ]
  },
  {
   "cell_type": "code",
   "execution_count": 5,
   "id": "43a458e0",
   "metadata": {},
   "outputs": [
    {
     "name": "stdout",
     "output_type": "stream",
     "text": [
      "[9, 4, 5, 8, 0]\n"
     ]
    }
   ],
   "source": [
    "import random\n",
    "random.seed(5)\n",
    "\n",
    "\n",
    "result = [random.randint(0, 9) for _ in range(5)]\n",
    "print(result)"
   ]
  },
  {
   "cell_type": "code",
   "execution_count": 6,
   "id": "faaaf707",
   "metadata": {},
   "outputs": [
    {
     "name": "stdout",
     "output_type": "stream",
     "text": [
      "7\n"
     ]
    }
   ],
   "source": [
    "print(random.randrange(10))"
   ]
  },
  {
   "cell_type": "code",
   "execution_count": 7,
   "id": "f39424a7",
   "metadata": {},
   "outputs": [
    {
     "name": "stdout",
     "output_type": "stream",
     "text": [
      "3\n"
     ]
    }
   ],
   "source": [
    "print(random.randrange(3, 6))"
   ]
  },
  {
   "cell_type": "code",
   "execution_count": 8,
   "id": "a5736d9b",
   "metadata": {},
   "outputs": [
    {
     "name": "stdout",
     "output_type": "stream",
     "text": [
      "6\n"
     ]
    }
   ],
   "source": [
    "print(random.randrange(1, 7))"
   ]
  },
  {
   "cell_type": "code",
   "execution_count": 9,
   "id": "d24d6472",
   "metadata": {},
   "outputs": [
    {
     "name": "stdout",
     "output_type": "stream",
     "text": [
      "[1, 2, 3, 4, 5, 6, 7, 8, 9, 10]\n"
     ]
    }
   ],
   "source": [
    "a = [1, 2, 3, 4, 5, 6, 7, 8, 9, 10]\n",
    "print(a)"
   ]
  },
  {
   "cell_type": "code",
   "execution_count": 10,
   "id": "1f62ea44",
   "metadata": {},
   "outputs": [
    {
     "name": "stdout",
     "output_type": "stream",
     "text": [
      "[5, 10, 7, 6, 8, 4, 9, 2, 3, 1]\n"
     ]
    }
   ],
   "source": [
    "random.shuffle(a)\n",
    "print(a)"
   ]
  },
  {
   "cell_type": "code",
   "execution_count": 11,
   "id": "82eef502",
   "metadata": {},
   "outputs": [
    {
     "name": "stdout",
     "output_type": "stream",
     "text": [
      "파스타\n"
     ]
    }
   ],
   "source": [
    "# 오늘 뭐먹지\n",
    "today_menu = random.choice(['김밥', '돈가스', '파스타'])\n",
    "print(today_menu)"
   ]
  },
  {
   "cell_type": "code",
   "execution_count": 12,
   "id": "83da7f30",
   "metadata": {},
   "outputs": [
    {
     "name": "stdout",
     "output_type": "stream",
     "text": [
      "[16, 1, 14, 27, 18, 12]\n"
     ]
    }
   ],
   "source": [
    "lotto_numbers = range(1, 46)\n",
    "winning_number = random.sample(lotto_numbers, 6)\n",
    "print(winning_number)"
   ]
  },
  {
   "cell_type": "code",
   "execution_count": 14,
   "id": "b7d63e0f",
   "metadata": {},
   "outputs": [
    {
     "name": "stdout",
     "output_type": "stream",
     "text": [
      "[1, 4, 9, 16, 25]\n"
     ]
    }
   ],
   "source": [
    "ex = [1, 2, 3, 4, 5]\n",
    "f = lambda x: x**2\n",
    "print(list(map(f, ex)))"
   ]
  },
  {
   "cell_type": "code",
   "execution_count": 15,
   "id": "2db98b2b",
   "metadata": {},
   "outputs": [
    {
     "name": "stdout",
     "output_type": "stream",
     "text": [
      "[1, 4, 9, 16, 25]\n"
     ]
    }
   ],
   "source": [
    "print([x**2 for x in ex])"
   ]
  },
  {
   "cell_type": "code",
   "execution_count": 16,
   "id": "9935e115",
   "metadata": {},
   "outputs": [
    {
     "name": "stdout",
     "output_type": "stream",
     "text": [
      "[11, 22, 33, 44, 55]\n"
     ]
    }
   ],
   "source": [
    "a = [1, 2, 3, 4, 5]\n",
    "b = [10, 20, 30, 40, 50]\n",
    "f = lambda x, y: x+ y\n",
    "print(list(map(f, a, b)))"
   ]
  },
  {
   "cell_type": "code",
   "execution_count": 17,
   "id": "57db353b",
   "metadata": {},
   "outputs": [
    {
     "name": "stdout",
     "output_type": "stream",
     "text": [
      "[11, 22, 33, 44, 55]\n"
     ]
    }
   ],
   "source": [
    "print([x + y for x, y in zip(a, b)])"
   ]
  },
  {
   "cell_type": "code",
   "execution_count": 21,
   "id": "667e5ced",
   "metadata": {},
   "outputs": [
    {
     "name": "stdout",
     "output_type": "stream",
     "text": [
      "[1, 4, 3, 16, 5]\n"
     ]
    }
   ],
   "source": [
    "# 홀수일 경우에는 그냥 추가하고, 짝수일 경우에만 제곱을 해서 list를 만들기\n",
    "a = [1, 2, 3, 4, 5]\n",
    "\n",
    "print(list(map(lambda x: x**2 if x % 2 == 0 else x, a)))"
   ]
  },
  {
   "cell_type": "code",
   "execution_count": 22,
   "id": "cb5d5f6e",
   "metadata": {},
   "outputs": [
    {
     "name": "stdout",
     "output_type": "stream",
     "text": [
      "[1, 4, 3, 16, 5]\n"
     ]
    }
   ],
   "source": [
    "print([x**2 if x % 2 == 0 else x for x in a])"
   ]
  },
  {
   "cell_type": "code",
   "execution_count": 23,
   "id": "81ccf92b",
   "metadata": {},
   "outputs": [
    {
     "name": "stdout",
     "output_type": "stream",
     "text": [
      "['SMALL', 'SMALL', 'SMALL', 'SMALL', 'MIDDLE', 'BIG', 'BIG', 'BIG', 'BIG', 'BIG']\n"
     ]
    }
   ],
   "source": [
    "a = [1, 2, 3, 4, 5, 6, 7, 8, 9, 10]\n",
    "# 5보다 크면 'BIG', 5보다 작으면 'SMALL', '도 저도 아니면 'MIDDLE'\n",
    "result = list(map(lambda x: 'BIG' if x > 5 else 'SMALL' \\\n",
    "                 if x < 5 else 'MIDDLE', a))\n",
    "print(result)"
   ]
  },
  {
   "cell_type": "code",
   "execution_count": 24,
   "id": "640e8686",
   "metadata": {},
   "outputs": [
    {
     "name": "stdout",
     "output_type": "stream",
     "text": [
      "['SMALL', 'SMALL', 'SMALL', 'SMALL', 'MIDDLE', 'BIG', 'BIG', 'BIG', 'BIG', 'BIG']\n"
     ]
    }
   ],
   "source": [
    "print(['BIG' if x > 5 else 'SMALL' if x < 5 else 'MIDDLE' \\\n",
    "      for x in a])\n",
    "# if 참이면 앞에거, false면 뒤에서, 반복for 는 맨 뒤에\n",
    "\n",
    "\"\"\"\n",
    "'BIG'   //     if x > 5    //   else 'SMALL'    //   if x < 5    //   else 'MIDDLE'   //  for x in a\n",
    "\n",
    "-> 이렇게 나눠보면 좀 나은듯\n",
    "\n",
    "BIG <- 이부분은 'if x > 5'가 참일 경우에 출력 (앞에 print로 묶었으므로)\n",
    "SMALL <- 이부분은 'if x > 5' 가 거짓일 경우(else) 에 출력\n",
    "\n",
    "다시 뒤에 'if x <5' 가 참인 경우는 -> SMALL ,  / 나머지의 경우는 x =5 뿐.  (=else ) -> MIDDLE\n",
    "맨 뒤는 그냥 몇번 반복할지 조건 적어놓은 것\n",
    "\n",
    "\n",
    "\"\"\""
   ]
  },
  {
   "cell_type": "code",
   "execution_count": 25,
   "id": "6cf80c3b",
   "metadata": {},
   "outputs": [],
   "source": [
    "def f1(a, *args):  # * -> 들어오는 인자를 packing 해주라는 얘기\n",
    "    print(a, args)\n",
    "    print(type(args))\n",
    "    \n",
    "# tuple 로 packing이 된 것. (어제 한 것)"
   ]
  },
  {
   "cell_type": "code",
   "execution_count": 26,
   "id": "a04c854f",
   "metadata": {},
   "outputs": [
    {
     "name": "stdout",
     "output_type": "stream",
     "text": [
      "1 (2, 3, 4, 5)\n",
      "<class 'tuple'>\n"
     ]
    }
   ],
   "source": [
    "f1(1, 2, 3, 4, 5)\n",
    "# 맨 앞에거는 그냥 나오고, 2번째부터 전부 묶음 -> *args -> 이러면 tuple로 묶임"
   ]
  },
  {
   "cell_type": "code",
   "execution_count": 27,
   "id": "a622ba2c",
   "metadata": {},
   "outputs": [],
   "source": [
    "def f2(a, **kargs):\n",
    "    print(a, kargs)\n",
    "    print(type(kargs))\n",
    "    \n",
    "#*args <= tuple 형태로 packing\n",
    "#**kargs <= dictionary 형태로 packing"
   ]
  },
  {
   "cell_type": "code",
   "execution_count": 28,
   "id": "36d433d3",
   "metadata": {},
   "outputs": [
    {
     "name": "stdout",
     "output_type": "stream",
     "text": [
      "1 {'b': 2, 'c': 3, 'd': 4, 'e': 5}\n",
      "<class 'dict'>\n"
     ]
    }
   ],
   "source": [
    "f2(1, b=2, c=3, d=4, e=5)  # -> b=2, c=2 이런식으로 args가 들어오면, 별표 2개(**)짜리로 묶어야 함. -> 그러면 이런식으로 dict로 묶임"
   ]
  },
  {
   "cell_type": "code",
   "execution_count": 29,
   "id": "eb659cb5",
   "metadata": {},
   "outputs": [],
   "source": [
    "# 여기까지는 packing이었고,\n",
    "#이제 unpacking을 해봄\n",
    "\n",
    "def unpacking_f1(a, args):  # -> 얘는 그냥 args임. 그냥 받음\n",
    "    print(a, *args)  # 여기서 * 받으면 unpacking 하라는 얘기  -> 여기서 * 자체가 unpacking의 역할을 함\n",
    "    print(type(args))"
   ]
  },
  {
   "cell_type": "code",
   "execution_count": 30,
   "id": "2f5e93ca",
   "metadata": {},
   "outputs": [
    {
     "name": "stdout",
     "output_type": "stream",
     "text": [
      "1 2 3 4 5 6\n",
      "<class 'tuple'>\n"
     ]
    }
   ],
   "source": [
    "unpacking_f1(1, (2,3, 4, 5, 6))  # *args가 (2,3,4,5,6)을 받음 => *이 unpacking함 -> 1) 출력은 1,2~6 / 2) type은 (atgs) 즉, \n",
    "                                                                                                        #(2,3,4,5)만 봐서 tuple"
   ]
  },
  {
   "cell_type": "code",
   "execution_count": 32,
   "id": "5699d1ef",
   "metadata": {},
   "outputs": [],
   "source": [
    "def un_dict(a,b,c,d):\n",
    "    print(a,b,c,d,)"
   ]
  },
  {
   "cell_type": "code",
   "execution_count": 33,
   "id": "094911b9",
   "metadata": {},
   "outputs": [
    {
     "name": "stdout",
     "output_type": "stream",
     "text": [
      "100 1 2 3\n"
     ]
    }
   ],
   "source": [
    "data = {'b':1, 'c':2, 'd':3}\n",
    "un_dict(100, **data)"
   ]
  },
  {
   "cell_type": "code",
   "execution_count": 31,
   "id": "c3c71ed1",
   "metadata": {},
   "outputs": [
    {
     "name": "stdout",
     "output_type": "stream",
     "text": [
      "90.0 93.33333333333333 93.33333333333333\n"
     ]
    }
   ],
   "source": [
    "tom_score = [95, 85, 90]\n",
    "jane_score = [90, 90, 100]\n",
    "kate_score = [100, 100, 80]\n",
    "students_scores = [tom_score, jane_score, kate_score]\n",
    "tom_total = 0\n",
    "jane_total = 0\n",
    "kate_total = 0\n",
    "for tom, jane, kate in zip(*students_scores):\n",
    "    tom_total += tom\n",
    "    jane_total += jane\n",
    "    kate_total += kate\n",
    "\n",
    "print(tom_total/3, jane_total/3, kate_total/3)"
   ]
  },
  {
   "cell_type": "code",
   "execution_count": 34,
   "id": "88353fb2",
   "metadata": {},
   "outputs": [
    {
     "name": "stdout",
     "output_type": "stream",
     "text": [
      "[0, 9]\n"
     ]
    }
   ],
   "source": [
    "u = [2, 2]\n",
    "v = [1, 2]\n",
    "z = [-3, 5]\n",
    "result = [sum(t) for t in zip(u, v, z)]\n",
    "print(result)"
   ]
  },
  {
   "cell_type": "code",
   "execution_count": 35,
   "id": "3198675e",
   "metadata": {},
   "outputs": [],
   "source": [
    "def vec_add(*args):    # args를 *로 처리를 하면 packing됨  -> def(=함수) 부분에서 별(*)을 쓰면 packing하라는 뜻. -> 아래(unpakcing)와 뜻이 다름\n",
    "    return [sum(t) for t in zip(*args)]    # 근데 여기서 명시적으로 unpacking을 해버림 -> 그걸 zip을 하고 -> sum을 해버림"
   ]
  },
  {
   "cell_type": "code",
   "execution_count": 36,
   "id": "7263422e",
   "metadata": {},
   "outputs": [
    {
     "name": "stdout",
     "output_type": "stream",
     "text": [
      "[0, 9]\n"
     ]
    }
   ],
   "source": [
    "print(vec_add(u, v, z))   # 결과는 똑같음"
   ]
  },
  {
   "cell_type": "code",
   "execution_count": 37,
   "id": "58ab3af3",
   "metadata": {},
   "outputs": [
    {
     "name": "stdout",
     "output_type": "stream",
     "text": [
      "[0, 9]\n"
     ]
    }
   ],
   "source": [
    "vectors = [[2, 2], [1, 2], [-3, 5]]\n",
    "print(vec_add(*vectors))"
   ]
  },
  {
   "cell_type": "code",
   "execution_count": 38,
   "id": "b7a5c642",
   "metadata": {},
   "outputs": [],
   "source": [
    "# zip -> a=(a, b, c)\n",
    "#        b=(1,2,3)\n",
    "#    -> zip(a,b) -> (a,1), (b,2), (c,3) 이런 느낌   -> unzip은 반대 -> unzip(a, b) -> a=(a,b,c) , b=(1,2,3)\n",
    "# packing =* = 1,2,3,4 -> (1,2,3,4)\n",
    "# 대충 이런 느낌. 조금 다를 수 있음"
   ]
  },
  {
   "cell_type": "code",
   "execution_count": 46,
   "id": "bd10e728",
   "metadata": {},
   "outputs": [
    {
     "name": "stdout",
     "output_type": "stream",
     "text": [
      "[[8, 14], [10, 12]]\n"
     ]
    }
   ],
   "source": [
    "matrix_a = [[3, 6], [4, 5]]\n",
    "matrix_b = [[5, 8], [6, 7]]\n",
    "result = [[sum(row) for row in zip(*t)] \\\n",
    "         for t in zip(matrix_a, matrix_b)]\n",
    "print(result)"
   ]
  },
  {
   "cell_type": "code",
   "execution_count": 47,
   "id": "07ce769c",
   "metadata": {},
   "outputs": [
    {
     "name": "stdout",
     "output_type": "stream",
     "text": [
      "([3, 6], [5, 8])\n",
      "([4, 5], [6, 7])\n"
     ]
    }
   ],
   "source": [
    "for t in zip(matrix_a, matrix_b):\n",
    "    print(t)"
   ]
  },
  {
   "cell_type": "code",
   "execution_count": 48,
   "id": "ba038ec5",
   "metadata": {},
   "outputs": [
    {
     "name": "stdout",
     "output_type": "stream",
     "text": [
      "[3, 6] [5, 8]\n",
      "[4, 5] [6, 7]\n"
     ]
    }
   ],
   "source": [
    "for t in zip(matrix_a, matrix_b):\n",
    "    print(*t)"
   ]
  },
  {
   "cell_type": "code",
   "execution_count": 50,
   "id": "f92b4582",
   "metadata": {},
   "outputs": [
    {
     "name": "stdout",
     "output_type": "stream",
     "text": [
      "(3, 5) (6, 8)\n",
      "(4, 6) (5, 7)\n"
     ]
    }
   ],
   "source": [
    "for t in zip(matrix_a, matrix_b):\n",
    "    a, b = zip(*t)\n",
    "    print(a, b)"
   ]
  },
  {
   "cell_type": "code",
   "execution_count": 51,
   "id": "5b58d75c",
   "metadata": {},
   "outputs": [
    {
     "name": "stdout",
     "output_type": "stream",
     "text": [
      "[[1, 4], [2, 5], [3, 6]]\n"
     ]
    }
   ],
   "source": [
    "matrix_a = [[1,2,3,], [4,5,6]]\n",
    "# 전체행렬로 바꾸기 -> 전체 행렬= [[1,2,3],  -> 을 -> [[1, 4],   -> 으로 바꾸는 것\n",
    "#                                 [4,5,6]]            [[2, 5],\n",
    "#                                                    [[3, 6]]\n",
    "\n",
    "result = [[element for element in t] for t in zip(*matrix_a)]\n",
    "print(result)"
   ]
  },
  {
   "cell_type": "code",
   "execution_count": 52,
   "id": "d42fac04",
   "metadata": {},
   "outputs": [
    {
     "name": "stdout",
     "output_type": "stream",
     "text": [
      "[[5, 8], [5, 6]]\n"
     ]
    }
   ],
   "source": [
    "# 행렬 곱셈\n",
    "matrix_a = [[1, 1, 2], [2, 1, 1]]\n",
    "matrix_b = [[1, 1], [2, 1], [1, 3]]\n",
    "result = [[sum(a * b for a, b in zip(row_a, column_b)) \\\n",
    "          for column_b in zip(*matrix_b)] for row_a in matrix_a]\n",
    "print(result)"
   ]
  },
  {
   "cell_type": "code",
   "execution_count": null,
   "id": "f7286fbb",
   "metadata": {},
   "outputs": [],
   "source": []
  }
 ],
 "metadata": {
  "kernelspec": {
   "display_name": "Python 3",
   "language": "python",
   "name": "python3"
  },
  "language_info": {
   "codemirror_mode": {
    "name": "ipython",
    "version": 3
   },
   "file_extension": ".py",
   "mimetype": "text/x-python",
   "name": "python",
   "nbconvert_exporter": "python",
   "pygments_lexer": "ipython3",
   "version": "3.8.11"
  }
 },
 "nbformat": 4,
 "nbformat_minor": 5
}
