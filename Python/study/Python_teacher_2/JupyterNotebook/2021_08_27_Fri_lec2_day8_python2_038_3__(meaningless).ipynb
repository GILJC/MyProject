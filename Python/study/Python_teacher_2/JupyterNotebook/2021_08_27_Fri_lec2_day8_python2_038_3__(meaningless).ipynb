{
 "cells": [
  {
   "cell_type": "code",
   "execution_count": 2,
   "id": "b7f46fef",
   "metadata": {},
   "outputs": [],
   "source": [
    "from sklearn.preprocessing import MinMaxScaler"
   ]
  },
  {
   "cell_type": "code",
   "execution_count": 21,
   "id": "4dbb4320",
   "metadata": {},
   "outputs": [],
   "source": [
    "# score = [[90, 35, 75, 70, 75, 85, 60, 80, 65, 60, 85, 45\n",
    "#         , 65, 85, 70, 45, 85, 60, 70, 80, 90, 85, 55, 75\n",
    "#         , 70, 70]]\n",
    "\n",
    "score = [[90], [35], [75], [70], [75], [85], [60], [80], [65], [60], [85], [45]\n",
    "        , [65], [85], [70], [45], [85], [60], [70], [80], [90], [85], [55], [75]\n",
    "        , [70], [70]]"
   ]
  },
  {
   "cell_type": "code",
   "execution_count": 23,
   "id": "921ca40c",
   "metadata": {},
   "outputs": [],
   "source": [
    "minmax_scaler = MinMaxScaler()"
   ]
  },
  {
   "cell_type": "code",
   "execution_count": 24,
   "id": "364a9c82",
   "metadata": {},
   "outputs": [],
   "source": [
    "import numpy as np\n",
    "\n",
    "score_num = np.array(score)"
   ]
  },
  {
   "cell_type": "code",
   "execution_count": 25,
   "id": "b2967baf",
   "metadata": {},
   "outputs": [],
   "source": [
    "minmax_scaler.fit(score_num)\n",
    "score_scaled = minmax_scaler.transform(score_num)"
   ]
  },
  {
   "cell_type": "code",
   "execution_count": 26,
   "id": "a4ec8866",
   "metadata": {},
   "outputs": [
    {
     "data": {
      "text/plain": [
       "array([[1.        ],\n",
       "       [0.        ],\n",
       "       [0.72727273],\n",
       "       [0.63636364],\n",
       "       [0.72727273],\n",
       "       [0.90909091],\n",
       "       [0.45454545],\n",
       "       [0.81818182],\n",
       "       [0.54545455],\n",
       "       [0.45454545],\n",
       "       [0.90909091],\n",
       "       [0.18181818],\n",
       "       [0.54545455],\n",
       "       [0.90909091],\n",
       "       [0.63636364],\n",
       "       [0.18181818],\n",
       "       [0.90909091],\n",
       "       [0.45454545],\n",
       "       [0.63636364],\n",
       "       [0.81818182],\n",
       "       [1.        ],\n",
       "       [0.90909091],\n",
       "       [0.36363636],\n",
       "       [0.72727273],\n",
       "       [0.63636364],\n",
       "       [0.63636364]])"
      ]
     },
     "execution_count": 26,
     "metadata": {},
     "output_type": "execute_result"
    }
   ],
   "source": [
    "score_scaled"
   ]
  },
  {
   "cell_type": "code",
   "execution_count": 35,
   "id": "f98bef92",
   "metadata": {},
   "outputs": [],
   "source": [
    "score = [90, 35, 75, 70, 75, 85, 60, 80, 65, 60, 85, 45\n",
    "        , 65, 85, 70, 45, 85, 60, 70, 80, 90, 85, 55, 75\n",
    "        , 70, 70]\n",
    "\n",
    "score_num = np.array(score)"
   ]
  },
  {
   "cell_type": "code",
   "execution_count": 36,
   "id": "ec20fe4d",
   "metadata": {},
   "outputs": [
    {
     "name": "stdout",
     "output_type": "stream",
     "text": [
      "[87.  70.5 82.5 81.  82.5 85.5 78.  84.  79.5 78.  85.5 73.5 79.5 85.5\n",
      " 81.  73.5 85.5 78.  81.  84.  87.  85.5 76.5 82.5 81.  81. ]\n"
     ]
    }
   ],
   "source": [
    "score_scaled = 60 + score_num * 0.3\n",
    "print(score_scaled)"
   ]
  },
  {
   "cell_type": "code",
   "execution_count": 37,
   "id": "d7044a4a",
   "metadata": {},
   "outputs": [
    {
     "name": "stdout",
     "output_type": "stream",
     "text": [
      "74.0 96.0\n"
     ]
    }
   ],
   "source": [
    "score_scaled = 60 + score_num * 0.4\n",
    "print(np.min(score_scaled), np.max(score_scaled))"
   ]
  },
  {
   "cell_type": "code",
   "execution_count": 38,
   "id": "b940176e",
   "metadata": {},
   "outputs": [
    {
     "name": "stdout",
     "output_type": "stream",
     "text": [
      "[96. 74. 90. 88. 90. 94. 84. 92. 86. 84. 94. 78. 86. 94. 88. 78. 94. 84.\n",
      " 88. 92. 96. 94. 82. 90. 88. 88.]\n"
     ]
    }
   ],
   "source": [
    "print(score_scaled)"
   ]
  },
  {
   "cell_type": "code",
   "execution_count": 39,
   "id": "e13cdee3",
   "metadata": {},
   "outputs": [
    {
     "name": "stdout",
     "output_type": "stream",
     "text": [
      "26\n"
     ]
    }
   ],
   "source": [
    "print(len(score_scaled))"
   ]
  },
  {
   "cell_type": "code",
   "execution_count": null,
   "id": "be95525c",
   "metadata": {},
   "outputs": [],
   "source": []
  }
 ],
 "metadata": {
  "kernelspec": {
   "display_name": "Python 3",
   "language": "python",
   "name": "python3"
  },
  "language_info": {
   "codemirror_mode": {
    "name": "ipython",
    "version": 3
   },
   "file_extension": ".py",
   "mimetype": "text/x-python",
   "name": "python",
   "nbconvert_exporter": "python",
   "pygments_lexer": "ipython3",
   "version": "3.8.11"
  }
 },
 "nbformat": 4,
 "nbformat_minor": 5
}
